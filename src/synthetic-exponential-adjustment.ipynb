{
 "cells": [
  {
   "cell_type": "markdown",
   "id": "d2d3c2dc-c5e4-4050-9e7d-9e0f67441a3d",
   "metadata": {},
   "source": [
    "# Imports"
   ]
  },
  {
   "cell_type": "code",
   "execution_count": 1,
   "id": "eb026037-f6ec-41bb-9119-0d9bb7b8443f",
   "metadata": {},
   "outputs": [
    {
     "name": "stderr",
     "output_type": "stream",
     "text": [
      "2025-08-01 09:16:05.682764: I tensorflow/core/platform/cpu_feature_guard.cc:210] This TensorFlow binary is optimized to use available CPU instructions in performance-critical operations.\n",
      "To enable the following instructions: AVX2 FMA, in other operations, rebuild TensorFlow with the appropriate compiler flags.\n"
     ]
    }
   ],
   "source": [
    "import numpy as np \n",
    "import pandas as pd \n",
    "import tensorflow as tf \n",
    "import matplotlib.pyplot as plt \n",
    "\n",
    "from lifelines.datasets import load_rossi\n",
    "from sksurv.metrics import concordance_index_censored\n",
    "\n",
    "from utils.data import init_gamma, init_beta\n",
    "from utils.model import Model\n",
    "from utils.client import Client \n",
    "from utils.splines import bspline_design_matrix"
   ]
  },
  {
   "cell_type": "markdown",
   "id": "98de31f2-ab2b-4309-83d2-d66e6360e008",
   "metadata": {},
   "source": [
    "# Configs"
   ]
  },
  {
   "cell_type": "code",
   "execution_count": 2,
   "id": "f5557e91-c7b2-43a5-afae-016205dc581e",
   "metadata": {},
   "outputs": [
    {
     "name": "stdout",
     "output_type": "stream",
     "text": [
      "[7270  860 5390 5191 5734]\n"
     ]
    }
   ],
   "source": [
    "# NOTE: Reducing EPS will improve accuracy. Parameter accuracy is a function of EPS \n",
    "EPS = 1e-5\n",
    "N_ITER_GLOBAL = 10000\n",
    "\n",
    "N_SAMPLES = 500\n",
    "\n",
    "np.random.seed(42)\n",
    "SEEDS = np.random.choice(range(10000), size=5)\n",
    "print(SEEDS)\n",
    "\n",
    "rho = 1"
   ]
  },
  {
   "cell_type": "markdown",
   "id": "ab96b5f9-a64e-4ca5-869d-d6223ef4ec53",
   "metadata": {},
   "source": [
    "# Data"
   ]
  },
  {
   "cell_type": "code",
   "execution_count": 3,
   "id": "c53510a5-d211-4541-8cb6-b9b19d735205",
   "metadata": {},
   "outputs": [],
   "source": [
    "event_col = \"event\"\n",
    "duration_col = \"duration\""
   ]
  },
  {
   "cell_type": "code",
   "execution_count": 4,
   "id": "0593ee34-b7bc-404f-83c9-1742bc864658",
   "metadata": {},
   "outputs": [
    {
     "data": {
      "text/html": [
       "<div>\n",
       "<style scoped>\n",
       "    .dataframe tbody tr th:only-of-type {\n",
       "        vertical-align: middle;\n",
       "    }\n",
       "\n",
       "    .dataframe tbody tr th {\n",
       "        vertical-align: top;\n",
       "    }\n",
       "\n",
       "    .dataframe thead th {\n",
       "        text-align: right;\n",
       "    }\n",
       "</style>\n",
       "<table border=\"1\" class=\"dataframe\">\n",
       "  <thead>\n",
       "    <tr style=\"text-align: right;\">\n",
       "      <th></th>\n",
       "      <th>feature_0</th>\n",
       "      <th>feature_1</th>\n",
       "      <th>feature_2</th>\n",
       "      <th>feature_3</th>\n",
       "      <th>feature_4</th>\n",
       "      <th>duration</th>\n",
       "      <th>event</th>\n",
       "    </tr>\n",
       "  </thead>\n",
       "  <tbody>\n",
       "    <tr>\n",
       "      <th>0</th>\n",
       "      <td>-0.283269</td>\n",
       "      <td>-1.503986</td>\n",
       "      <td>0.584319</td>\n",
       "      <td>1.110368</td>\n",
       "      <td>0.752608</td>\n",
       "      <td>7.851225</td>\n",
       "      <td>1</td>\n",
       "    </tr>\n",
       "    <tr>\n",
       "      <th>1</th>\n",
       "      <td>0.430450</td>\n",
       "      <td>-0.982862</td>\n",
       "      <td>-0.078302</td>\n",
       "      <td>0.474867</td>\n",
       "      <td>0.481233</td>\n",
       "      <td>5.382143</td>\n",
       "      <td>0</td>\n",
       "    </tr>\n",
       "    <tr>\n",
       "      <th>2</th>\n",
       "      <td>-1.700872</td>\n",
       "      <td>-1.174093</td>\n",
       "      <td>1.562304</td>\n",
       "      <td>-3.204284</td>\n",
       "      <td>0.613009</td>\n",
       "      <td>1.009546</td>\n",
       "      <td>0</td>\n",
       "    </tr>\n",
       "    <tr>\n",
       "      <th>3</th>\n",
       "      <td>-0.451474</td>\n",
       "      <td>0.769189</td>\n",
       "      <td>0.146950</td>\n",
       "      <td>-0.108875</td>\n",
       "      <td>-0.374640</td>\n",
       "      <td>1.148273</td>\n",
       "      <td>1</td>\n",
       "    </tr>\n",
       "    <tr>\n",
       "      <th>4</th>\n",
       "      <td>0.278403</td>\n",
       "      <td>-0.567891</td>\n",
       "      <td>-0.067439</td>\n",
       "      <td>-1.028853</td>\n",
       "      <td>0.277542</td>\n",
       "      <td>4.765891</td>\n",
       "      <td>1</td>\n",
       "    </tr>\n",
       "  </tbody>\n",
       "</table>\n",
       "</div>"
      ],
      "text/plain": [
       "   feature_0  feature_1  feature_2  feature_3  feature_4  duration  event\n",
       "0  -0.283269  -1.503986   0.584319   1.110368   0.752608  7.851225      1\n",
       "1   0.430450  -0.982862  -0.078302   0.474867   0.481233  5.382143      0\n",
       "2  -1.700872  -1.174093   1.562304  -3.204284   0.613009  1.009546      0\n",
       "3  -0.451474   0.769189   0.146950  -0.108875  -0.374640  1.148273      1\n",
       "4   0.278403  -0.567891  -0.067439  -1.028853   0.277542  4.765891      1"
      ]
     },
     "execution_count": 4,
     "metadata": {},
     "output_type": "execute_result"
    }
   ],
   "source": [
    "from sklearn.datasets import make_classification\n",
    "\n",
    "\n",
    "def make_data(n_samples, seed):\n",
    "\n",
    "    # Feature matrix and event time \n",
    "    X, y = make_classification(\n",
    "        n_samples=N_SAMPLES, n_features=5, n_informative=2, n_redundant=2, n_repeated=0, \n",
    "        n_classes=2, n_clusters_per_class=2, weights=None, flip_y=0.01, class_sep=1.0, \n",
    "        hypercube=True, shift=0.0, scale=1.0, shuffle=True, random_state=seed\n",
    "    )\n",
    "\n",
    "    rnd = np.random.RandomState(seed=seed)\n",
    "    \n",
    "    # Simulate event times\n",
    "    # Class 1 -> shorter survival time, Class 0 -> longer\n",
    "    baseline_time = rnd.exponential(scale=10, size=y.shape[0])\n",
    "    survival_time = baseline_time * (0.5 + y)  # Class 1 has shorter survival times\n",
    "    \n",
    "    # Simulate random censoring\n",
    "    censoring_time = rnd.exponential(scale=15, size=y.shape[0])\n",
    "    duration = np.minimum(survival_time, censoring_time)\n",
    "    event = survival_time <= censoring_time\n",
    "    \n",
    "    # Create DataFrame for clarity\n",
    "    data = pd.DataFrame(X, columns=[f\"feature_{i}\" for i in range(X.shape[1])])\n",
    "    data[duration_col] = duration\n",
    "    data[event_col] = event.astype(int)\n",
    "\n",
    "    return data, X, event, duration\n",
    "\n",
    "\n",
    "data, X, event, duration = make_data(N_SAMPLES, SEEDS[0])\n",
    "data.head()"
   ]
  },
  {
   "cell_type": "code",
   "execution_count": 5,
   "id": "a7f4e36a-2980-45e7-8c04-f4faa639af74",
   "metadata": {},
   "outputs": [],
   "source": [
    "from sksurv.util import Surv\n",
    "# Create structured arrays\n",
    "y = Surv.from_arrays(event=event, time=duration)"
   ]
  },
  {
   "cell_type": "markdown",
   "id": "f22a1ff6-a62d-4472-ad4c-3877844b3c03",
   "metadata": {},
   "source": [
    "# Pre-processing "
   ]
  },
  {
   "cell_type": "code",
   "execution_count": 6,
   "id": "c0eab75b-0b3c-417c-b9ae-25110a7327e2",
   "metadata": {},
   "outputs": [],
   "source": [
    "from utils.data import feature_scaling\n",
    "# Scale features with Z-score transfrom \n",
    "X_sc = feature_scaling(X)"
   ]
  },
  {
   "cell_type": "code",
   "execution_count": 7,
   "id": "0da62f2c-83a1-4d33-b241-cdcfb36d057d",
   "metadata": {},
   "outputs": [
    {
     "data": {
      "text/plain": [
       "(-3.317493653263726, 3.6080090924908443)"
      ]
     },
     "execution_count": 7,
     "metadata": {},
     "output_type": "execute_result"
    }
   ],
   "source": [
    "from utils.data import init_knots\n",
    "# Set knot locations \n",
    "knots = init_knots(duration, event, n_knots=5)\n",
    "min(knots), max(knots)"
   ]
  },
  {
   "cell_type": "code",
   "execution_count": 8,
   "id": "cbb8bfbf-3eb4-4e28-b085-ac2f31d827aa",
   "metadata": {},
   "outputs": [
    {
     "data": {
      "text/plain": [
       "(0.624, (500, 5))"
      ]
     },
     "execution_count": 8,
     "metadata": {},
     "output_type": "execute_result"
    }
   ],
   "source": [
    "sum(event) / len(event), X.shape"
   ]
  },
  {
   "cell_type": "markdown",
   "id": "99b53061-bd91-4027-8dd2-09bf4ec68772",
   "metadata": {},
   "source": [
    "# Fit reference model "
   ]
  },
  {
   "cell_type": "code",
   "execution_count": 9,
   "id": "bcbf51c9-4145-44dc-a540-5d009f1a0e13",
   "metadata": {},
   "outputs": [
    {
     "name": "stdout",
     "output_type": "stream",
     "text": [
      "Converged after 3398 iterations\n"
     ]
    },
    {
     "data": {
      "text/plain": [
       "[<matplotlib.lines.Line2D at 0x15065e6b0>]"
      ]
     },
     "execution_count": 9,
     "metadata": {},
     "output_type": "execute_result"
    },
    {
     "data": {
      "image/png": "[encoded data removed]",
      "text/plain": [
       "<Figure size 640x480 with 1 Axes>"
      ]
     },
     "metadata": {},
     "output_type": "display_data"
    }
   ],
   "source": [
    "beta = init_beta(X_sc, y)\n",
    "gamma = np.ones((1, 7))\n",
    "\n",
    "ref_model = Model(epochs=N_ITER_GLOBAL, knots=knots, learning_rate=0.001, l2_lambda=1, rho=rho)\n",
    "ref_model.set_params({\"beta\": beta, \"gamma\": gamma}) \n",
    "ref_model.fit(X_sc, y, tol=EPS)\n",
    "\n",
    "plt.figure()\n",
    "plt.plot(ref_model.losses)"
   ]
  },
  {
   "cell_type": "code",
   "execution_count": 10,
   "id": "5280bfd9-c12b-4703-8335-f860c87bf81c",
   "metadata": {},
   "outputs": [],
   "source": [
    "#np.save(\"../data/price-of-federation/rossi_gradients_loss_ref.npy\", ref_model.losses)"
   ]
  },
  {
   "cell_type": "code",
   "execution_count": 11,
   "id": "ed31913d-51be-429c-bebd-bd5849010048",
   "metadata": {},
   "outputs": [],
   "source": [
    "#np.save(\"../data/price-of-federation/rossi_gradients_beta_global_ref.npy\", ref_model.beta)\n",
    "#ref_model.beta"
   ]
  },
  {
   "cell_type": "code",
   "execution_count": 12,
   "id": "240b339e-c76d-4b9e-a75e-078277480ab3",
   "metadata": {},
   "outputs": [],
   "source": [
    "#np.save(\"../data/price-of-federation/rossi_gradients_gamma_global_ref.npy\", ref_model.gamma)\n",
    "#ref_model.gamma"
   ]
  },
  {
   "cell_type": "markdown",
   "id": "ccc767b7-ef02-4081-9708-848e690b1844",
   "metadata": {},
   "source": [
    "# Number of clients "
   ]
  },
  {
   "cell_type": "code",
   "execution_count": 13,
   "id": "c1abee9a-5b3e-4641-8577-fc79ae78d602",
   "metadata": {},
   "outputs": [],
   "source": [
    "def has_converged(params, params_other):\n",
    "    return np.linalg.norm(params_other - params) <= EPS "
   ]
  },
  {
   "cell_type": "code",
   "execution_count": 14,
   "id": "b1772791-f79d-48c2-82de-50d1dbdf26ef",
   "metadata": {
    "scrolled": true
   },
   "outputs": [
    {
     "name": "stdout",
     "output_type": "stream",
     "text": [
      "********************\n",
      "SEED: 7270\n",
      "********************\n",
      "Iter 0: 0.3237978031135686; 2.64537471514991\n",
      "Iter 1000: 4.8876983782975e-05; 3.511619070195593e-06\n",
      "Iter 2000: 9.305601997766644e-05; 4.572884336084826e-06\n",
      "Iter 3000: 9.841436985880136e-05; 5.874611360923154e-06\n",
      "Converged after 3398 iterations\n",
      "--------------------\n",
      "Diff beta: 5.0004633e-08\n",
      "Diff gamma: 0.0\n",
      "\n",
      "\n",
      "Iter 0: 0.3237978031099329; 2.64537471514991\n",
      "Iter 1000: 0.00010841740004252642; 3.87842601412558e-06\n",
      "Iter 2000: 0.00014536311209667474; 4.8770298235467635e-06\n",
      "Converged after 2389 iterations\n",
      "--------------------\n",
      "Diff beta: 0.002459239\n",
      "Diff gamma: 0.00546339\n",
      "\n",
      "\n",
      "Iter 0: 0.3237978031135686; 2.64537471514991\n",
      "Iter 1000: 0.00019845706992782652; 4.584523139783414e-06\n",
      "Converged after 1732 iterations\n",
      "--------------------\n",
      "Diff beta: 0.0018822349\n",
      "Diff gamma: 0.008935282\n",
      "\n",
      "\n",
      "Iter 0: 0.32381959393748744; 2.64537471514991\n",
      "Iter 1000: 0.0002660924510564655; 4.094973519386258e-06\n",
      "Converged after 1419 iterations\n",
      "--------------------\n",
      "Diff beta: 0.0025855065\n",
      "Diff gamma: 0.009202287\n",
      "\n",
      "\n",
      "Iter 0: 0.32381959397004473; 2.64537471514991\n",
      "Iter 1000: 0.000196344408323057; 4.107534095965093e-06\n",
      "Converged after 1185 iterations\n",
      "--------------------\n",
      "Diff beta: 0.0036107702\n",
      "Diff gamma: 0.010602769\n",
      "\n",
      "\n",
      "Iter 0: 0.32381959397655624; 2.64537471514991\n",
      "Iter 1000: 2.4220129489549436e-05; 4.074534444953315e-06\n",
      "Converged after 1043 iterations\n",
      "--------------------\n",
      "Diff beta: 0.0051952447\n",
      "Diff gamma: 0.011001112\n",
      "\n",
      "\n",
      "********************\n",
      "SEED: 860\n",
      "********************\n",
      "Iter 0: 0.3237978031135686; 2.64537471514991\n",
      "Iter 1000: 4.8876980144996196e-05; 3.511619070195593e-06\n",
      "Iter 2000: 9.305601997766644e-05; 4.572884336084826e-06\n",
      "Iter 3000: 9.841498831519857e-05; 5.874611360923154e-06\n",
      "Converged after 3398 iterations\n",
      "--------------------\n",
      "Diff beta: 2.1471656e-08\n",
      "Diff gamma: 0.0\n",
      "\n",
      "\n",
      "Iter 0: 0.3237978031135686; 2.64537471514991\n",
      "Iter 1000: 0.00010700181155698374; 3.876135451719165e-06\n",
      "Iter 2000: 0.00014808693958912045; 5.000044438929763e-06\n",
      "Converged after 2398 iterations\n",
      "--------------------\n",
      "Diff beta: 0.0024508599\n",
      "Diff gamma: 0.004878567\n",
      "\n",
      "\n",
      "Iter 0: 0.3237978031135686; 2.64537471514991\n",
      "Iter 1000: 0.00020978442626073956; 4.491359504754655e-06\n",
      "Converged after 1693 iterations\n",
      "--------------------\n",
      "Diff beta: 0.0026982322\n",
      "Diff gamma: 0.0075876336\n",
      "\n",
      "\n",
      "Iter 0: 0.3237978031099329; 2.64537471514991\n",
      "Iter 1000: 0.00028569778078235686; 4.214263299218146e-06\n",
      "Converged after 1495 iterations\n",
      "--------------------\n",
      "Diff beta: 0.0037804171\n",
      "Diff gamma: 0.012324036\n",
      "\n",
      "\n",
      "Iter 0: 0.3237978031099329; 2.64537471514991\n",
      "Iter 1000: 0.00017296115402132273; 5.121839421917684e-06\n"
     ]
    },
    {
     "ename": "KeyboardInterrupt",
     "evalue": "",
     "output_type": "error",
     "traceback": [
      "\u001b[0;31m---------------------------------------------------------------------------\u001b[0m",
      "\u001b[0;31mKeyboardInterrupt\u001b[0m                         Traceback (most recent call last)",
      "\u001b[0;32m/var/folders/0m/5thh99vx341btv1gx017bb6w0000gn/T/ipykernel_11778/3972426793.py\u001b[0m in \u001b[0;36m?\u001b[0;34m()\u001b[0m\n\u001b[1;32m     36\u001b[0m         \u001b[0;32mfor\u001b[0m \u001b[0mi\u001b[0m \u001b[0;32min\u001b[0m \u001b[0mrange\u001b[0m\u001b[0;34m(\u001b[0m\u001b[0mN_ITER_GLOBAL\u001b[0m\u001b[0;34m)\u001b[0m\u001b[0;34m:\u001b[0m\u001b[0;34m\u001b[0m\u001b[0;34m\u001b[0m\u001b[0m\n\u001b[1;32m     37\u001b[0m             \u001b[0mlosses_i\u001b[0m \u001b[0;34m=\u001b[0m \u001b[0;34m[\u001b[0m\u001b[0;34m]\u001b[0m\u001b[0;34m\u001b[0m\u001b[0;34m\u001b[0m\u001b[0m\n\u001b[1;32m     38\u001b[0m             \u001b[0mgradients_beta\u001b[0m\u001b[0;34m,\u001b[0m \u001b[0mgradients_gamma\u001b[0m \u001b[0;34m=\u001b[0m \u001b[0;36m0\u001b[0m\u001b[0;34m,\u001b[0m \u001b[0;36m0\u001b[0m\u001b[0;34m\u001b[0m\u001b[0;34m\u001b[0m\u001b[0m\n\u001b[1;32m     39\u001b[0m             \u001b[0;32mfor\u001b[0m \u001b[0mclient\u001b[0m \u001b[0;32min\u001b[0m \u001b[0mparticipants\u001b[0m\u001b[0;34m:\u001b[0m\u001b[0;34m\u001b[0m\u001b[0;34m\u001b[0m\u001b[0m\n\u001b[0;32m---> 40\u001b[0;31m                 \u001b[0mgrad_beta\u001b[0m\u001b[0;34m,\u001b[0m \u001b[0mgrad_gamma\u001b[0m \u001b[0;34m=\u001b[0m \u001b[0mclient\u001b[0m\u001b[0;34m.\u001b[0m\u001b[0mgradients_adjusted\u001b[0m\u001b[0;34m(\u001b[0m\u001b[0mbeta_global_tf\u001b[0m\u001b[0;34m,\u001b[0m \u001b[0mgamma_global_tf\u001b[0m\u001b[0;34m,\u001b[0m \u001b[0mq_scale\u001b[0m\u001b[0;34m=\u001b[0m\u001b[0;36m100\u001b[0m\u001b[0;34m)\u001b[0m\u001b[0;34m\u001b[0m\u001b[0;34m\u001b[0m\u001b[0m\n\u001b[0m\u001b[1;32m     41\u001b[0m                 \u001b[0mgradients_beta\u001b[0m \u001b[0;34m+=\u001b[0m \u001b[0mgrad_beta\u001b[0m\u001b[0;34m\u001b[0m\u001b[0;34m\u001b[0m\u001b[0m\n\u001b[1;32m     42\u001b[0m                 \u001b[0mgradients_gamma\u001b[0m \u001b[0;34m+=\u001b[0m \u001b[0mgrad_gamma\u001b[0m\u001b[0;34m\u001b[0m\u001b[0;34m\u001b[0m\u001b[0m\n\u001b[1;32m     43\u001b[0m                 \u001b[0mlosses_i\u001b[0m\u001b[0;34m.\u001b[0m\u001b[0mappend\u001b[0m\u001b[0;34m(\u001b[0m\u001b[0mclient\u001b[0m\u001b[0;34m.\u001b[0m\u001b[0mmodel_loss\u001b[0m\u001b[0;34m(\u001b[0m\u001b[0;34m)\u001b[0m\u001b[0;34m)\u001b[0m\u001b[0;34m\u001b[0m\u001b[0;34m\u001b[0m\u001b[0m\n",
      "\u001b[0;32m~/Desktop/federated-fpm/Examples/utils/client.py\u001b[0m in \u001b[0;36m?\u001b[0;34m(self, z_beta, z_gamma, q_scale)\u001b[0m\n\u001b[1;32m    120\u001b[0m     \u001b[0;32mdef\u001b[0m \u001b[0mgradients_adjusted\u001b[0m\u001b[0;34m(\u001b[0m\u001b[0mself\u001b[0m\u001b[0;34m,\u001b[0m \u001b[0mz_beta\u001b[0m\u001b[0;34m,\u001b[0m \u001b[0mz_gamma\u001b[0m\u001b[0;34m,\u001b[0m \u001b[0mq_scale\u001b[0m\u001b[0;34m)\u001b[0m\u001b[0;34m:\u001b[0m\u001b[0;34m\u001b[0m\u001b[0;34m\u001b[0m\u001b[0m\n\u001b[1;32m    121\u001b[0m         \u001b[0;31m# Update model parameters\u001b[0m\u001b[0;34m\u001b[0m\u001b[0;34m\u001b[0m\u001b[0m\n\u001b[1;32m    122\u001b[0m         \u001b[0mself\u001b[0m\u001b[0;34m.\u001b[0m\u001b[0mmodel\u001b[0m\u001b[0;34m.\u001b[0m\u001b[0mset_params\u001b[0m\u001b[0;34m(\u001b[0m\u001b[0;34m{\u001b[0m\u001b[0;34m\"beta\"\u001b[0m\u001b[0;34m:\u001b[0m \u001b[0mz_beta\u001b[0m\u001b[0;34m,\u001b[0m \u001b[0;34m\"gamma\"\u001b[0m\u001b[0;34m:\u001b[0m \u001b[0mz_gamma\u001b[0m\u001b[0;34m}\u001b[0m\u001b[0;34m)\u001b[0m\u001b[0;34m\u001b[0m\u001b[0;34m\u001b[0m\u001b[0m\n\u001b[1;32m    123\u001b[0m         \u001b[0;31m# Single update step\u001b[0m\u001b[0;34m\u001b[0m\u001b[0;34m\u001b[0m\u001b[0m\n\u001b[0;32m--> 124\u001b[0;31m         \u001b[0mgrads\u001b[0m \u001b[0;34m=\u001b[0m \u001b[0mself\u001b[0m\u001b[0;34m.\u001b[0m\u001b[0mmodel\u001b[0m\u001b[0;34m.\u001b[0m\u001b[0mgradients_adjusted\u001b[0m\u001b[0;34m(\u001b[0m\u001b[0mself\u001b[0m\u001b[0;34m.\u001b[0m\u001b[0mX_train\u001b[0m\u001b[0;34m,\u001b[0m \u001b[0mself\u001b[0m\u001b[0;34m.\u001b[0m\u001b[0my_train\u001b[0m\u001b[0;34m,\u001b[0m \u001b[0mq_scale\u001b[0m\u001b[0;34m)\u001b[0m\u001b[0;34m\u001b[0m\u001b[0;34m\u001b[0m\u001b[0m\n\u001b[0m\u001b[1;32m    125\u001b[0m         \u001b[0;32mreturn\u001b[0m \u001b[0mgrads\u001b[0m\u001b[0;34m\u001b[0m\u001b[0;34m\u001b[0m\u001b[0m\n",
      "\u001b[0;32m~/Desktop/federated-fpm/Examples/utils/model.py\u001b[0m in \u001b[0;36m?\u001b[0;34m(self, X, y, q_scale)\u001b[0m\n\u001b[1;32m    203\u001b[0m             \u001b[0;32mreturn\u001b[0m \u001b[0mnll\u001b[0m \u001b[0;34m+\u001b[0m \u001b[0mreg_gamma\u001b[0m \u001b[0;34m+\u001b[0m \u001b[0mreg_beta\u001b[0m \u001b[0;34m+\u001b[0m \u001b[0mdelta\u001b[0m\u001b[0;34m\u001b[0m\u001b[0;34m\u001b[0m\u001b[0m\n\u001b[1;32m    204\u001b[0m \u001b[0;34m\u001b[0m\u001b[0m\n\u001b[1;32m    205\u001b[0m         \u001b[0;32mwith\u001b[0m \u001b[0mtf\u001b[0m\u001b[0;34m.\u001b[0m\u001b[0mGradientTape\u001b[0m\u001b[0;34m(\u001b[0m\u001b[0;34m)\u001b[0m \u001b[0;32mas\u001b[0m \u001b[0mtape\u001b[0m\u001b[0;34m:\u001b[0m\u001b[0;34m\u001b[0m\u001b[0;34m\u001b[0m\u001b[0m\n\u001b[1;32m    206\u001b[0m             \u001b[0;31m# Negative log-likelihood\u001b[0m\u001b[0;34m\u001b[0m\u001b[0;34m\u001b[0m\u001b[0m\n\u001b[0;32m--> 207\u001b[0;31m             \u001b[0mloss_value\u001b[0m \u001b[0;34m=\u001b[0m \u001b[0m_neg_log_likelihood\u001b[0m\u001b[0;34m(\u001b[0m\u001b[0;34m)\u001b[0m\u001b[0;34m\u001b[0m\u001b[0;34m\u001b[0m\u001b[0m\n\u001b[0m\u001b[1;32m    208\u001b[0m \u001b[0;34m\u001b[0m\u001b[0m\n\u001b[1;32m    209\u001b[0m         \u001b[0;31m# Derive gradients\u001b[0m\u001b[0;34m\u001b[0m\u001b[0;34m\u001b[0m\u001b[0m\n\u001b[1;32m    210\u001b[0m         \u001b[0mgradients\u001b[0m \u001b[0;34m=\u001b[0m \u001b[0mtape\u001b[0m\u001b[0;34m.\u001b[0m\u001b[0mgradient\u001b[0m\u001b[0;34m(\u001b[0m\u001b[0mloss_value\u001b[0m\u001b[0;34m,\u001b[0m \u001b[0;34m[\u001b[0m\u001b[0mbeta\u001b[0m\u001b[0;34m,\u001b[0m \u001b[0mgamma\u001b[0m\u001b[0;34m]\u001b[0m\u001b[0;34m)\u001b[0m\u001b[0;34m\u001b[0m\u001b[0;34m\u001b[0m\u001b[0m\n",
      "\u001b[0;32m~/Desktop/federated-fpm/Examples/utils/model.py\u001b[0m in \u001b[0;36m?\u001b[0;34m()\u001b[0m\n\u001b[1;32m    189\u001b[0m         \u001b[0;32mdef\u001b[0m \u001b[0m_neg_log_likelihood\u001b[0m\u001b[0;34m(\u001b[0m\u001b[0;34m)\u001b[0m\u001b[0;34m:\u001b[0m\u001b[0;34m\u001b[0m\u001b[0;34m\u001b[0m\u001b[0m\n\u001b[1;32m    190\u001b[0m             \u001b[0;31m# Linear terms\u001b[0m\u001b[0;34m\u001b[0m\u001b[0;34m\u001b[0m\u001b[0m\n\u001b[0;32m--> 191\u001b[0;31m             \u001b[0mphi\u001b[0m \u001b[0;34m=\u001b[0m \u001b[0mD\u001b[0m \u001b[0;34m@\u001b[0m \u001b[0mtf\u001b[0m\u001b[0;34m.\u001b[0m\u001b[0mtranspose\u001b[0m\u001b[0;34m(\u001b[0m\u001b[0mgamma\u001b[0m\u001b[0;34m)\u001b[0m \u001b[0;34m+\u001b[0m \u001b[0mX\u001b[0m \u001b[0;34m@\u001b[0m \u001b[0mtf\u001b[0m\u001b[0;34m.\u001b[0m\u001b[0mtranspose\u001b[0m\u001b[0;34m(\u001b[0m\u001b[0mbeta\u001b[0m\u001b[0;34m)\u001b[0m\u001b[0;34m\u001b[0m\u001b[0;34m\u001b[0m\u001b[0m\n\u001b[0m\u001b[1;32m    192\u001b[0m             \u001b[0;31m# Spline derivatives\u001b[0m\u001b[0;34m\u001b[0m\u001b[0;34m\u001b[0m\u001b[0m\n\u001b[1;32m    193\u001b[0m             \u001b[0mds_dt\u001b[0m \u001b[0;34m=\u001b[0m \u001b[0mtf\u001b[0m\u001b[0;34m.\u001b[0m\u001b[0mclip_by_value\u001b[0m\u001b[0;34m(\u001b[0m\u001b[0mD_prime\u001b[0m \u001b[0;34m@\u001b[0m \u001b[0mtf\u001b[0m\u001b[0;34m.\u001b[0m\u001b[0mtranspose\u001b[0m\u001b[0;34m(\u001b[0m\u001b[0mgamma\u001b[0m\u001b[0;34m)\u001b[0m\u001b[0;34m,\u001b[0m \u001b[0;36m1e-8\u001b[0m\u001b[0;34m,\u001b[0m \u001b[0;36m1e8\u001b[0m\u001b[0;34m)\u001b[0m\u001b[0;34m\u001b[0m\u001b[0;34m\u001b[0m\u001b[0m\n\u001b[1;32m    194\u001b[0m             \u001b[0;31m# Log-likelihood for each data sample (N x 1)\u001b[0m\u001b[0;34m\u001b[0m\u001b[0;34m\u001b[0m\u001b[0m\n",
      "\u001b[0;32m/opt/anaconda3/lib/python3.10/site-packages/tensorflow/python/ops/weak_tensor_ops.py\u001b[0m in \u001b[0;36m?\u001b[0;34m(*args, **kwargs)\u001b[0m\n\u001b[1;32m     86\u001b[0m   \u001b[0;32mdef\u001b[0m \u001b[0mwrapper\u001b[0m\u001b[0;34m(\u001b[0m\u001b[0;34m*\u001b[0m\u001b[0margs\u001b[0m\u001b[0;34m,\u001b[0m \u001b[0;34m**\u001b[0m\u001b[0mkwargs\u001b[0m\u001b[0;34m)\u001b[0m\u001b[0;34m:\u001b[0m\u001b[0;34m\u001b[0m\u001b[0;34m\u001b[0m\u001b[0m\n\u001b[1;32m     87\u001b[0m     \u001b[0;32mif\u001b[0m \u001b[0;32mnot\u001b[0m \u001b[0mops\u001b[0m\u001b[0;34m.\u001b[0m\u001b[0mis_auto_dtype_conversion_enabled\u001b[0m\u001b[0;34m(\u001b[0m\u001b[0;34m)\u001b[0m\u001b[0;34m:\u001b[0m\u001b[0;34m\u001b[0m\u001b[0;34m\u001b[0m\u001b[0m\n\u001b[0;32m---> 88\u001b[0;31m       \u001b[0;32mreturn\u001b[0m \u001b[0mop\u001b[0m\u001b[0;34m(\u001b[0m\u001b[0;34m*\u001b[0m\u001b[0margs\u001b[0m\u001b[0;34m,\u001b[0m \u001b[0;34m**\u001b[0m\u001b[0mkwargs\u001b[0m\u001b[0;34m)\u001b[0m\u001b[0;34m\u001b[0m\u001b[0;34m\u001b[0m\u001b[0m\n\u001b[0m\u001b[1;32m     89\u001b[0m     \u001b[0mbound_arguments\u001b[0m \u001b[0;34m=\u001b[0m \u001b[0msignature\u001b[0m\u001b[0;34m.\u001b[0m\u001b[0mbind\u001b[0m\u001b[0;34m(\u001b[0m\u001b[0;34m*\u001b[0m\u001b[0margs\u001b[0m\u001b[0;34m,\u001b[0m \u001b[0;34m**\u001b[0m\u001b[0mkwargs\u001b[0m\u001b[0;34m)\u001b[0m\u001b[0;34m\u001b[0m\u001b[0;34m\u001b[0m\u001b[0m\n\u001b[1;32m     90\u001b[0m     \u001b[0mbound_arguments\u001b[0m\u001b[0;34m.\u001b[0m\u001b[0mapply_defaults\u001b[0m\u001b[0;34m(\u001b[0m\u001b[0;34m)\u001b[0m\u001b[0;34m\u001b[0m\u001b[0;34m\u001b[0m\u001b[0m\n\u001b[1;32m     91\u001b[0m     \u001b[0mbound_kwargs\u001b[0m \u001b[0;34m=\u001b[0m \u001b[0mbound_arguments\u001b[0m\u001b[0;34m.\u001b[0m\u001b[0marguments\u001b[0m\u001b[0;34m\u001b[0m\u001b[0;34m\u001b[0m\u001b[0m\n",
      "\u001b[0;32m/opt/anaconda3/lib/python3.10/site-packages/tensorflow/python/util/traceback_utils.py\u001b[0m in \u001b[0;36m?\u001b[0;34m(*args, **kwargs)\u001b[0m\n\u001b[1;32m    151\u001b[0m     \u001b[0;32mexcept\u001b[0m \u001b[0mException\u001b[0m \u001b[0;32mas\u001b[0m \u001b[0me\u001b[0m\u001b[0;34m:\u001b[0m\u001b[0;34m\u001b[0m\u001b[0;34m\u001b[0m\u001b[0m\n\u001b[1;32m    152\u001b[0m       \u001b[0mfiltered_tb\u001b[0m \u001b[0;34m=\u001b[0m \u001b[0m_process_traceback_frames\u001b[0m\u001b[0;34m(\u001b[0m\u001b[0me\u001b[0m\u001b[0;34m.\u001b[0m\u001b[0m__traceback__\u001b[0m\u001b[0;34m)\u001b[0m\u001b[0;34m\u001b[0m\u001b[0;34m\u001b[0m\u001b[0m\n\u001b[1;32m    153\u001b[0m       \u001b[0;32mraise\u001b[0m \u001b[0me\u001b[0m\u001b[0;34m.\u001b[0m\u001b[0mwith_traceback\u001b[0m\u001b[0;34m(\u001b[0m\u001b[0mfiltered_tb\u001b[0m\u001b[0;34m)\u001b[0m \u001b[0;32mfrom\u001b[0m \u001b[0;32mNone\u001b[0m\u001b[0;34m\u001b[0m\u001b[0;34m\u001b[0m\u001b[0m\n\u001b[1;32m    154\u001b[0m     \u001b[0;32mfinally\u001b[0m\u001b[0;34m:\u001b[0m\u001b[0;34m\u001b[0m\u001b[0;34m\u001b[0m\u001b[0m\n\u001b[0;32m--> 155\u001b[0;31m       \u001b[0;32mdel\u001b[0m \u001b[0mfiltered_tb\u001b[0m\u001b[0;34m\u001b[0m\u001b[0;34m\u001b[0m\u001b[0m\n\u001b[0m",
      "\u001b[0;32m/opt/anaconda3/lib/python3.10/site-packages/tensorflow/python/util/dispatch.py\u001b[0m in \u001b[0;36m?\u001b[0;34m(*args, **kwargs)\u001b[0m\n\u001b[1;32m   1257\u001b[0m \u001b[0;34m\u001b[0m\u001b[0m\n\u001b[1;32m   1258\u001b[0m       \u001b[0;31m# Fallback dispatch system (dispatch v1):\u001b[0m\u001b[0;34m\u001b[0m\u001b[0;34m\u001b[0m\u001b[0m\n\u001b[1;32m   1259\u001b[0m       \u001b[0;32mtry\u001b[0m\u001b[0;34m:\u001b[0m\u001b[0;34m\u001b[0m\u001b[0;34m\u001b[0m\u001b[0m\n\u001b[1;32m   1260\u001b[0m         \u001b[0;32mreturn\u001b[0m \u001b[0mdispatch_target\u001b[0m\u001b[0;34m(\u001b[0m\u001b[0;34m*\u001b[0m\u001b[0margs\u001b[0m\u001b[0;34m,\u001b[0m \u001b[0;34m**\u001b[0m\u001b[0mkwargs\u001b[0m\u001b[0;34m)\u001b[0m\u001b[0;34m\u001b[0m\u001b[0;34m\u001b[0m\u001b[0m\n\u001b[0;32m-> 1261\u001b[0;31m       \u001b[0;32mexcept\u001b[0m \u001b[0;34m(\u001b[0m\u001b[0mTypeError\u001b[0m\u001b[0;34m,\u001b[0m \u001b[0mValueError\u001b[0m\u001b[0;34m)\u001b[0m\u001b[0;34m:\u001b[0m\u001b[0;34m\u001b[0m\u001b[0;34m\u001b[0m\u001b[0m\n\u001b[0m\u001b[1;32m   1262\u001b[0m         \u001b[0;31m# Note: convert_to_eager_tensor currently raises a ValueError, not a\u001b[0m\u001b[0;34m\u001b[0m\u001b[0;34m\u001b[0m\u001b[0m\n\u001b[1;32m   1263\u001b[0m         \u001b[0;31m# TypeError, when given unexpected types.  So we need to catch both.\u001b[0m\u001b[0;34m\u001b[0m\u001b[0;34m\u001b[0m\u001b[0m\n\u001b[1;32m   1264\u001b[0m         \u001b[0mresult\u001b[0m \u001b[0;34m=\u001b[0m \u001b[0mdispatch\u001b[0m\u001b[0;34m(\u001b[0m\u001b[0mop_dispatch_handler\u001b[0m\u001b[0;34m,\u001b[0m \u001b[0margs\u001b[0m\u001b[0;34m,\u001b[0m \u001b[0mkwargs\u001b[0m\u001b[0;34m)\u001b[0m\u001b[0;34m\u001b[0m\u001b[0;34m\u001b[0m\u001b[0m\n",
      "\u001b[0;32m/opt/anaconda3/lib/python3.10/site-packages/tensorflow/python/ops/array_ops.py\u001b[0m in \u001b[0;36m?\u001b[0;34m(a, perm, conjugate, name)\u001b[0m\n\u001b[1;32m   1866\u001b[0m \u001b[0;34m\u001b[0m\u001b[0m\n\u001b[1;32m   1867\u001b[0m   \u001b[0mReturns\u001b[0m\u001b[0;34m:\u001b[0m\u001b[0;34m\u001b[0m\u001b[0;34m\u001b[0m\u001b[0m\n\u001b[1;32m   1868\u001b[0m     \u001b[0mA\u001b[0m \u001b[0mtransposed\u001b[0m\u001b[0;31m \u001b[0m\u001b[0;31m`\u001b[0m\u001b[0mTensor\u001b[0m\u001b[0;31m`\u001b[0m\u001b[0;34m.\u001b[0m\u001b[0;34m\u001b[0m\u001b[0;34m\u001b[0m\u001b[0m\n\u001b[1;32m   1869\u001b[0m   \"\"\"\n\u001b[0;32m-> 1870\u001b[0;31m   \u001b[0;32mreturn\u001b[0m \u001b[0mtranspose\u001b[0m\u001b[0;34m(\u001b[0m\u001b[0ma\u001b[0m\u001b[0;34m=\u001b[0m\u001b[0ma\u001b[0m\u001b[0;34m,\u001b[0m \u001b[0mperm\u001b[0m\u001b[0;34m=\u001b[0m\u001b[0mperm\u001b[0m\u001b[0;34m,\u001b[0m \u001b[0mname\u001b[0m\u001b[0;34m=\u001b[0m\u001b[0mname\u001b[0m\u001b[0;34m,\u001b[0m \u001b[0mconjugate\u001b[0m\u001b[0;34m=\u001b[0m\u001b[0mconjugate\u001b[0m\u001b[0;34m)\u001b[0m\u001b[0;34m\u001b[0m\u001b[0;34m\u001b[0m\u001b[0m\n\u001b[0m",
      "\u001b[0;32m/opt/anaconda3/lib/python3.10/site-packages/tensorflow/python/ops/weak_tensor_ops.py\u001b[0m in \u001b[0;36m?\u001b[0;34m(*args, **kwargs)\u001b[0m\n\u001b[1;32m     86\u001b[0m   \u001b[0;32mdef\u001b[0m \u001b[0mwrapper\u001b[0m\u001b[0;34m(\u001b[0m\u001b[0;34m*\u001b[0m\u001b[0margs\u001b[0m\u001b[0;34m,\u001b[0m \u001b[0;34m**\u001b[0m\u001b[0mkwargs\u001b[0m\u001b[0;34m)\u001b[0m\u001b[0;34m:\u001b[0m\u001b[0;34m\u001b[0m\u001b[0;34m\u001b[0m\u001b[0m\n\u001b[1;32m     87\u001b[0m     \u001b[0;32mif\u001b[0m \u001b[0;32mnot\u001b[0m \u001b[0mops\u001b[0m\u001b[0;34m.\u001b[0m\u001b[0mis_auto_dtype_conversion_enabled\u001b[0m\u001b[0;34m(\u001b[0m\u001b[0;34m)\u001b[0m\u001b[0;34m:\u001b[0m\u001b[0;34m\u001b[0m\u001b[0;34m\u001b[0m\u001b[0m\n\u001b[0;32m---> 88\u001b[0;31m       \u001b[0;32mreturn\u001b[0m \u001b[0mop\u001b[0m\u001b[0;34m(\u001b[0m\u001b[0;34m*\u001b[0m\u001b[0margs\u001b[0m\u001b[0;34m,\u001b[0m \u001b[0;34m**\u001b[0m\u001b[0mkwargs\u001b[0m\u001b[0;34m)\u001b[0m\u001b[0;34m\u001b[0m\u001b[0;34m\u001b[0m\u001b[0m\n\u001b[0m\u001b[1;32m     89\u001b[0m     \u001b[0mbound_arguments\u001b[0m \u001b[0;34m=\u001b[0m \u001b[0msignature\u001b[0m\u001b[0;34m.\u001b[0m\u001b[0mbind\u001b[0m\u001b[0;34m(\u001b[0m\u001b[0;34m*\u001b[0m\u001b[0margs\u001b[0m\u001b[0;34m,\u001b[0m \u001b[0;34m**\u001b[0m\u001b[0mkwargs\u001b[0m\u001b[0;34m)\u001b[0m\u001b[0;34m\u001b[0m\u001b[0;34m\u001b[0m\u001b[0m\n\u001b[1;32m     90\u001b[0m     \u001b[0mbound_arguments\u001b[0m\u001b[0;34m.\u001b[0m\u001b[0mapply_defaults\u001b[0m\u001b[0;34m(\u001b[0m\u001b[0;34m)\u001b[0m\u001b[0;34m\u001b[0m\u001b[0;34m\u001b[0m\u001b[0m\n\u001b[1;32m     91\u001b[0m     \u001b[0mbound_kwargs\u001b[0m \u001b[0;34m=\u001b[0m \u001b[0mbound_arguments\u001b[0m\u001b[0;34m.\u001b[0m\u001b[0marguments\u001b[0m\u001b[0;34m\u001b[0m\u001b[0;34m\u001b[0m\u001b[0m\n",
      "\u001b[0;32m/opt/anaconda3/lib/python3.10/site-packages/tensorflow/python/util/traceback_utils.py\u001b[0m in \u001b[0;36m?\u001b[0;34m(*args, **kwargs)\u001b[0m\n\u001b[1;32m    151\u001b[0m     \u001b[0;32mexcept\u001b[0m \u001b[0mException\u001b[0m \u001b[0;32mas\u001b[0m \u001b[0me\u001b[0m\u001b[0;34m:\u001b[0m\u001b[0;34m\u001b[0m\u001b[0;34m\u001b[0m\u001b[0m\n\u001b[1;32m    152\u001b[0m       \u001b[0mfiltered_tb\u001b[0m \u001b[0;34m=\u001b[0m \u001b[0m_process_traceback_frames\u001b[0m\u001b[0;34m(\u001b[0m\u001b[0me\u001b[0m\u001b[0;34m.\u001b[0m\u001b[0m__traceback__\u001b[0m\u001b[0;34m)\u001b[0m\u001b[0;34m\u001b[0m\u001b[0;34m\u001b[0m\u001b[0m\n\u001b[1;32m    153\u001b[0m       \u001b[0;32mraise\u001b[0m \u001b[0me\u001b[0m\u001b[0;34m.\u001b[0m\u001b[0mwith_traceback\u001b[0m\u001b[0;34m(\u001b[0m\u001b[0mfiltered_tb\u001b[0m\u001b[0;34m)\u001b[0m \u001b[0;32mfrom\u001b[0m \u001b[0;32mNone\u001b[0m\u001b[0;34m\u001b[0m\u001b[0;34m\u001b[0m\u001b[0m\n\u001b[1;32m    154\u001b[0m     \u001b[0;32mfinally\u001b[0m\u001b[0;34m:\u001b[0m\u001b[0;34m\u001b[0m\u001b[0;34m\u001b[0m\u001b[0m\n\u001b[0;32m--> 155\u001b[0;31m       \u001b[0;32mdel\u001b[0m \u001b[0mfiltered_tb\u001b[0m\u001b[0;34m\u001b[0m\u001b[0;34m\u001b[0m\u001b[0m\n\u001b[0m",
      "\u001b[0;32m/opt/anaconda3/lib/python3.10/site-packages/tensorflow/python/util/dispatch.py\u001b[0m in \u001b[0;36m?\u001b[0;34m(*args, **kwargs)\u001b[0m\n\u001b[1;32m   1257\u001b[0m \u001b[0;34m\u001b[0m\u001b[0m\n\u001b[1;32m   1258\u001b[0m       \u001b[0;31m# Fallback dispatch system (dispatch v1):\u001b[0m\u001b[0;34m\u001b[0m\u001b[0;34m\u001b[0m\u001b[0m\n\u001b[1;32m   1259\u001b[0m       \u001b[0;32mtry\u001b[0m\u001b[0;34m:\u001b[0m\u001b[0;34m\u001b[0m\u001b[0;34m\u001b[0m\u001b[0m\n\u001b[1;32m   1260\u001b[0m         \u001b[0;32mreturn\u001b[0m \u001b[0mdispatch_target\u001b[0m\u001b[0;34m(\u001b[0m\u001b[0;34m*\u001b[0m\u001b[0margs\u001b[0m\u001b[0;34m,\u001b[0m \u001b[0;34m**\u001b[0m\u001b[0mkwargs\u001b[0m\u001b[0;34m)\u001b[0m\u001b[0;34m\u001b[0m\u001b[0;34m\u001b[0m\u001b[0m\n\u001b[0;32m-> 1261\u001b[0;31m       \u001b[0;32mexcept\u001b[0m \u001b[0;34m(\u001b[0m\u001b[0mTypeError\u001b[0m\u001b[0;34m,\u001b[0m \u001b[0mValueError\u001b[0m\u001b[0;34m)\u001b[0m\u001b[0;34m:\u001b[0m\u001b[0;34m\u001b[0m\u001b[0;34m\u001b[0m\u001b[0m\n\u001b[0m\u001b[1;32m   1262\u001b[0m         \u001b[0;31m# Note: convert_to_eager_tensor currently raises a ValueError, not a\u001b[0m\u001b[0;34m\u001b[0m\u001b[0;34m\u001b[0m\u001b[0m\n\u001b[1;32m   1263\u001b[0m         \u001b[0;31m# TypeError, when given unexpected types.  So we need to catch both.\u001b[0m\u001b[0;34m\u001b[0m\u001b[0;34m\u001b[0m\u001b[0m\n\u001b[1;32m   1264\u001b[0m         \u001b[0mresult\u001b[0m \u001b[0;34m=\u001b[0m \u001b[0mdispatch\u001b[0m\u001b[0;34m(\u001b[0m\u001b[0mop_dispatch_handler\u001b[0m\u001b[0;34m,\u001b[0m \u001b[0margs\u001b[0m\u001b[0;34m,\u001b[0m \u001b[0mkwargs\u001b[0m\u001b[0;34m)\u001b[0m\u001b[0;34m\u001b[0m\u001b[0;34m\u001b[0m\u001b[0m\n",
      "\u001b[0;32m/opt/anaconda3/lib/python3.10/site-packages/tensorflow/python/ops/array_ops.py\u001b[0m in \u001b[0;36m?\u001b[0;34m(a, perm, name, conjugate)\u001b[0m\n\u001b[1;32m   1954\u001b[0m     \u001b[0;32mif\u001b[0m \u001b[0mrank\u001b[0m \u001b[0;32mis\u001b[0m \u001b[0;32mNone\u001b[0m\u001b[0;34m:\u001b[0m\u001b[0;34m\u001b[0m\u001b[0;34m\u001b[0m\u001b[0m\n\u001b[1;32m   1955\u001b[0m       \u001b[0mperm\u001b[0m \u001b[0;34m=\u001b[0m \u001b[0mgen_math_ops\u001b[0m\u001b[0;34m.\u001b[0m\u001b[0m_range\u001b[0m\u001b[0;34m(\u001b[0m\u001b[0mgen_array_ops\u001b[0m\u001b[0;34m.\u001b[0m\u001b[0mrank\u001b[0m\u001b[0;34m(\u001b[0m\u001b[0ma\u001b[0m\u001b[0;34m)\u001b[0m \u001b[0;34m-\u001b[0m \u001b[0;36m1\u001b[0m\u001b[0;34m,\u001b[0m \u001b[0;34m-\u001b[0m\u001b[0;36m1\u001b[0m\u001b[0;34m,\u001b[0m \u001b[0;34m-\u001b[0m\u001b[0;36m1\u001b[0m\u001b[0;34m)\u001b[0m\u001b[0;34m\u001b[0m\u001b[0;34m\u001b[0m\u001b[0m\n\u001b[1;32m   1956\u001b[0m     \u001b[0;32melse\u001b[0m\u001b[0;34m:\u001b[0m\u001b[0;34m\u001b[0m\u001b[0;34m\u001b[0m\u001b[0m\n\u001b[1;32m   1957\u001b[0m       \u001b[0mperm\u001b[0m \u001b[0;34m=\u001b[0m \u001b[0mnp\u001b[0m\u001b[0;34m.\u001b[0m\u001b[0marange\u001b[0m\u001b[0;34m(\u001b[0m\u001b[0mrank\u001b[0m \u001b[0;34m-\u001b[0m \u001b[0;36m1\u001b[0m\u001b[0;34m,\u001b[0m \u001b[0;34m-\u001b[0m\u001b[0;36m1\u001b[0m\u001b[0;34m,\u001b[0m \u001b[0;34m-\u001b[0m\u001b[0;36m1\u001b[0m\u001b[0;34m,\u001b[0m \u001b[0mdtype\u001b[0m\u001b[0;34m=\u001b[0m\u001b[0mnp\u001b[0m\u001b[0;34m.\u001b[0m\u001b[0mint32\u001b[0m\u001b[0;34m)\u001b[0m\u001b[0;34m\u001b[0m\u001b[0;34m\u001b[0m\u001b[0m\n\u001b[0;32m-> 1958\u001b[0;31m     \u001b[0;32mreturn\u001b[0m \u001b[0mtranspose_fn\u001b[0m\u001b[0;34m(\u001b[0m\u001b[0ma\u001b[0m\u001b[0;34m,\u001b[0m \u001b[0mperm\u001b[0m\u001b[0;34m,\u001b[0m \u001b[0mname\u001b[0m\u001b[0;34m=\u001b[0m\u001b[0mname\u001b[0m\u001b[0;34m)\u001b[0m\u001b[0;34m\u001b[0m\u001b[0;34m\u001b[0m\u001b[0m\n\u001b[0m",
      "\u001b[0;32m/opt/anaconda3/lib/python3.10/site-packages/tensorflow/python/ops/gen_array_ops.py\u001b[0m in \u001b[0;36m?\u001b[0;34m(x, perm, name)\u001b[0m\n\u001b[1;32m  12166\u001b[0m         _ctx, \"Transpose\", name, x, perm)\n\u001b[1;32m  12167\u001b[0m       \u001b[0;32mreturn\u001b[0m \u001b[0m_result\u001b[0m\u001b[0;34m\u001b[0m\u001b[0;34m\u001b[0m\u001b[0m\n\u001b[1;32m  12168\u001b[0m     \u001b[0;32mexcept\u001b[0m \u001b[0m_core\u001b[0m\u001b[0;34m.\u001b[0m\u001b[0m_NotOkStatusException\u001b[0m \u001b[0;32mas\u001b[0m \u001b[0me\u001b[0m\u001b[0;34m:\u001b[0m\u001b[0;34m\u001b[0m\u001b[0;34m\u001b[0m\u001b[0m\n\u001b[1;32m  12169\u001b[0m       \u001b[0m_ops\u001b[0m\u001b[0;34m.\u001b[0m\u001b[0mraise_from_not_ok_status\u001b[0m\u001b[0;34m(\u001b[0m\u001b[0me\u001b[0m\u001b[0;34m,\u001b[0m \u001b[0mname\u001b[0m\u001b[0;34m)\u001b[0m\u001b[0;34m\u001b[0m\u001b[0;34m\u001b[0m\u001b[0m\n\u001b[0;32m> 12170\u001b[0;31m     \u001b[0;32mexcept\u001b[0m \u001b[0m_core\u001b[0m\u001b[0;34m.\u001b[0m\u001b[0m_FallbackException\u001b[0m\u001b[0;34m:\u001b[0m\u001b[0;34m\u001b[0m\u001b[0;34m\u001b[0m\u001b[0m\n\u001b[0m\u001b[1;32m  12171\u001b[0m       \u001b[0;32mpass\u001b[0m\u001b[0;34m\u001b[0m\u001b[0;34m\u001b[0m\u001b[0m\n\u001b[1;32m  12172\u001b[0m     \u001b[0;32mtry\u001b[0m\u001b[0;34m:\u001b[0m\u001b[0;34m\u001b[0m\u001b[0;34m\u001b[0m\u001b[0m\n\u001b[1;32m  12173\u001b[0m       return transpose_eager_fallback(\n",
      "\u001b[0;31mKeyboardInterrupt\u001b[0m: "
     ]
    }
   ],
   "source": [
    "# - Made synthetic data generator \n",
    "# - Critical to have IID data per client to study optimization process \n",
    "# - However, IID data will give only small variance to gradients. Using ADAM, a consequence is \n",
    "#   effectively a larger learning rate. Must scale the learning rate to account for this effect \n",
    "for seed in SEEDS:\n",
    "    print(\"*\" * 20)\n",
    "    print(\"SEED:\", seed)\n",
    "    print(\"*\" * 20)\n",
    "    for N_SPLITS in [1, 2, 4, 6, 8, 10]:\n",
    "        \n",
    "        data_idx = np.arange(data.shape[0])\n",
    "        np.random.seed(seed)\n",
    "        np.random.shuffle(data_idx)\n",
    "        DATA_SPLIT_IDX = np.array_split(data_idx, N_SPLITS)\n",
    "\n",
    "        \n",
    "        participants = []\n",
    "        for idx in range(N_SPLITS):\n",
    "            client = Client(data.iloc[DATA_SPLIT_IDX[idx]], n_knots=5, n_epochs=None, event_col=event_col, duration_col=duration_col, rho=rho)\n",
    "            client.preprocess_data(train_test_split=False)\n",
    "            client.init_model(local_knots=False, knots=knots, learning_rate=0.001)\n",
    "            participants.append(client)\n",
    "        \n",
    "        beta_global = beta.copy()\n",
    "        gamma_global = gamma.copy()\n",
    "        beta_global_tf = tf.Variable(beta_global, dtype=tf.float32)\n",
    "        gamma_global_tf = tf.Variable(gamma_global, dtype=tf.float32)\n",
    "        beta_global_prev = np.zeros_like(beta_global)\n",
    "        gamma_global_prev = np.zeros_like(gamma_global)\n",
    "\n",
    "        \n",
    "        optimiser = tf.keras.optimizers.Adam(learning_rate=0.001)\n",
    "\n",
    "        \n",
    "        losses = []\n",
    "        for i in range(N_ITER_GLOBAL):\n",
    "            losses_i = []\n",
    "            gradients_beta, gradients_gamma = 0, 0 \n",
    "            for client in participants:\n",
    "                grad_beta, grad_gamma = client.gradients_adjusted(beta_global_tf, gamma_global_tf, q_scale=100)\n",
    "                gradients_beta += grad_beta \n",
    "                gradients_gamma += grad_gamma \n",
    "                losses_i.append(client.model_loss())\n",
    "            \n",
    "            losses.append(np.mean(losses_i))\n",
    "            optimiser.apply_gradients(zip([gradients_beta, gradients_gamma], [beta_global_tf, gamma_global_tf]))\n",
    "            \n",
    "            beta_global = beta_global_tf.numpy()\n",
    "            gamma_global = gamma_global_tf.numpy()\n",
    "            \n",
    "            if has_converged(beta_global, beta_global_prev) and has_converged(gamma_global, gamma_global_prev):\n",
    "                print(f\"Converged after {i} iterations\")\n",
    "                break \n",
    "        \n",
    "            if i % (N_ITER_GLOBAL / 10) == 0:\n",
    "                change_beta = np.linalg.norm(beta_global - beta_global_prev) \n",
    "                change_gamma = np.linalg.norm(gamma_global - gamma_global_prev)\n",
    "                print(f\"Iter {i}: {change_beta}; {change_gamma}\")\n",
    "        \n",
    "            beta_global_prev = beta_global\n",
    "            gamma_global_prev = gamma_global\n",
    "        \n",
    "        print(\"-\" * 20)\n",
    "        print(\"Diff beta:\", np.linalg.norm(beta_global - ref_model.beta))\n",
    "        print(\"Diff gamma:\", np.linalg.norm(gamma_global - ref_model.gamma))\n",
    "        print()\n",
    "        print()\n",
    "        \n",
    "        version = f\"seed_{seed}_clients_{N_SPLITS}\"\n",
    "        \n",
    "        np.save(f\"../data/results-price-of-federation-synth-exp-bias-correction/loss_{version}.npy\", losses)\n",
    "        np.save(f\"../data/results-price-of-federation-synth-exp-bias-correction/beta_global_{version}.npy\", beta_global)\n",
    "        np.save(f\"../data/results-price-of-federation-synth-exp-bias-correction/gamma_global_{version}.npy\", gamma_global)"
   ]
  },
  {
   "cell_type": "code",
   "execution_count": 15,
   "id": "21f8856a-4328-4a0d-af2e-c0826a007a05",
   "metadata": {},
   "outputs": [],
   "source": [
    "from collections import defaultdict\n",
    "\n",
    "results = defaultdict(list)\n",
    "for N_SPLITS in [1, 2, 4, 6, 8, 10]:\n",
    "    loss, beta, gamma = [], [], [] \n",
    "    for seed in SEEDS: \n",
    "        version = f\"seed_{seed}_clients_{N_SPLITS}\"\n",
    "\n",
    "        loss_i = np.load(f\"../data/results-price-of-federation-synth-exp-bias-correction/loss_{version}.npy\")\n",
    "        beta_i = np.load(f\"../data/results-price-of-federation-synth-exp-bias-correction/beta_global_{version}.npy\")\n",
    "        gamma_i = np.load(f\"../data/results-price-of-federation-synth-exp-bias-correction/gamma_global_{version}.npy\")\n",
    "        \n",
    "        loss.append(len(loss_i))\n",
    "        beta.append(np.linalg.norm(beta_i - ref_model.beta))\n",
    "        gamma.append(np.linalg.norm(gamma_i - ref_model.gamma))\n",
    "\n",
    "    results[\"clients\"].append(N_SPLITS)\n",
    "    results[\"loss_avg\"].append(np.mean(loss, axis=0))\n",
    "    results[\"loss_std\"].append(np.std(loss, axis=0))\n",
    "    results[\"beta_avg\"].append(np.mean(beta, axis=0))\n",
    "    results[\"beta_std\"].append(np.std(beta, axis=0))\n",
    "    results[\"gamma_avg\"].append(np.mean(gamma, axis=0))\n",
    "    results[\"gamma_std\"].append(np.std(gamma, axis=0))"
   ]
  },
  {
   "cell_type": "code",
   "execution_count": 16,
   "id": "587ed1a5-504c-4501-aeab-bdeb41cfc1f9",
   "metadata": {},
   "outputs": [
    {
     "data": {
      "image/png": "[encoded data removed]",
      "text/plain": [
       "<Figure size 600x400 with 1 Axes>"
      ]
     },
     "metadata": {},
     "output_type": "display_data"
    }
   ],
   "source": [
    "y_coords = results[\"loss_avg\"]\n",
    "x_coords = results[\"clients\"]\n",
    "\n",
    "plt.figure(figsize=(6, 4))\n",
    "plt.errorbar(x_coords, y_coords, yerr=results[\"loss_std\"], marker=\"o\", linestyle=\"\", capsize=3)\n",
    "plt.ylabel(\"Server iterations until convergence\");\n",
    "plt.xlabel(\"Number of clients\"); \n",
    "plt.xticks(x_coords, x_coords);"
   ]
  },
  {
   "cell_type": "code",
   "execution_count": 17,
   "id": "a0d4c328-573c-4f0d-8b4d-c2f5508ba5e7",
   "metadata": {},
   "outputs": [
    {
     "data": {
      "image/png": "[encoded data removed]",
      "text/plain": [
       "<Figure size 600x400 with 1 Axes>"
      ]
     },
     "metadata": {},
     "output_type": "display_data"
    }
   ],
   "source": [
    "x_coords, y_coords, y_err = [], [], []\n",
    "for N_SPLITS in [1, 2, 4, 6, 8, 10]:\n",
    "    \n",
    "    data_idx = np.arange(data.shape[0])\n",
    "    np.random.seed(SEEDS[2])\n",
    "    np.random.shuffle(data_idx)\n",
    "    DATA_SPLIT_IDX = np.array_split(data_idx, N_SPLITS)\n",
    "\n",
    "    durations = []\n",
    "    for idx in range(N_SPLITS):\n",
    "        data_c = data.iloc[DATA_SPLIT_IDX[idx]]\n",
    "        durations.append(np.mean(data_c[\"duration\"]))\n",
    "\n",
    "    x_coords.append(N_SPLITS)\n",
    "    y_coords.append(np.mean(durations))\n",
    "    y_err.append(np.std(durations))\n",
    "\n",
    "# Larger variation in local data distributions as the number of clients increase \n",
    "plt.figure(figsize=(6, 4))\n",
    "#plt.errorbar(x_coords, y_coords, yerr=y_err, marker=\"o\", linestyle=\"-\", capsize=3)\n",
    "#plt.ylabel(\"Event time distribution\");\n",
    "plt.plot(x_coords, y_err, marker=\"o\", linestyle=\"\")\n",
    "plt.ylabel(\"Standard deviation of event times\");\n",
    "plt.xlabel(\"Number of clients\");\n",
    "plt.xticks(x_coords, x_coords);"
   ]
  },
  {
   "cell_type": "code",
   "execution_count": 18,
   "id": "b1cb55a0-0bce-48a5-9e30-74f3aa15dcda",
   "metadata": {},
   "outputs": [
    {
     "data": {
      "image/png": "[encoded data removed]",
      "text/plain": [
       "<Figure size 600x400 with 1 Axes>"
      ]
     },
     "metadata": {},
     "output_type": "display_data"
    }
   ],
   "source": [
    "y_coords = results[\"beta_avg\"]\n",
    "x_coords = results[\"clients\"]\n",
    "\n",
    "plt.figure(figsize=(6, 4))\n",
    "plt.errorbar(x_coords, y_coords, yerr=results[\"beta_std\"], marker=\"o\", linestyle=\"\", capsize=3)\n",
    "plt.ylabel(\"Error beta\");\n",
    "plt.xlabel(\"Number of clients\");\n",
    "plt.xticks(x_coords, x_coords);"
   ]
  },
  {
   "cell_type": "code",
   "execution_count": 19,
   "id": "61099e75-3f43-4b2f-affa-b2bb2a1006dd",
   "metadata": {},
   "outputs": [
    {
     "data": {
      "image/png": "[encoded data removed]",
      "text/plain": [
       "<Figure size 600x400 with 1 Axes>"
      ]
     },
     "metadata": {},
     "output_type": "display_data"
    }
   ],
   "source": [
    "y_coords = results[\"gamma_avg\"]\n",
    "x_coords = results[\"clients\"]\n",
    "\n",
    "plt.figure(figsize=(6, 4))\n",
    "plt.errorbar(x_coords, y_coords, yerr=results[\"gamma_std\"], marker=\"o\", linestyle=\"\", capsize=3)\n",
    "plt.ylabel(\"Error gamma\");\n",
    "plt.xlabel(\"Number of clients\");\n",
    "plt.xticks(x_coords, x_coords);"
   ]
  },
  {
   "cell_type": "code",
   "execution_count": null,
   "id": "43c9a355-f2fd-4cc0-9485-de3a60892c8c",
   "metadata": {},
   "outputs": [],
   "source": []
  }
 ],
 "metadata": {
  "kernelspec": {
   "display_name": "Python 3 (ipykernel)",
   "language": "python",
   "name": "python3"
  },
  "language_info": {
   "codemirror_mode": {
    "name": "ipython",
    "version": 3
   },
   "file_extension": ".py",
   "mimetype": "text/x-python",
   "name": "python",
   "nbconvert_exporter": "python",
   "pygments_lexer": "ipython3",
   "version": "3.10.15"
  }
 },
 "nbformat": 4,
 "nbformat_minor": 5
}
