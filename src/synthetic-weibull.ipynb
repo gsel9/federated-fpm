{
 "cells": [
  {
   "cell_type": "markdown",
   "id": "d2d3c2dc-c5e4-4050-9e7d-9e0f67441a3d",
   "metadata": {},
   "source": [
    "# Imports"
   ]
  },
  {
   "cell_type": "code",
   "execution_count": 1,
   "id": "eb026037-f6ec-41bb-9119-0d9bb7b8443f",
   "metadata": {},
   "outputs": [
    {
     "name": "stderr",
     "output_type": "stream",
     "text": [
      "2025-08-01 09:41:12.726073: I tensorflow/core/platform/cpu_feature_guard.cc:210] This TensorFlow binary is optimized to use available CPU instructions in performance-critical operations.\n",
      "To enable the following instructions: AVX2 FMA, in other operations, rebuild TensorFlow with the appropriate compiler flags.\n"
     ]
    }
   ],
   "source": [
    "import numpy as np \n",
    "import pandas as pd \n",
    "import tensorflow as tf \n",
    "import matplotlib.pyplot as plt \n",
    "\n",
    "from lifelines.datasets import load_rossi\n",
    "from sksurv.metrics import concordance_index_censored\n",
    "\n",
    "from utils.data import init_gamma, init_beta\n",
    "from utils.model import Model\n",
    "from utils.client import Client \n",
    "from utils.splines import bspline_design_matrix"
   ]
  },
  {
   "cell_type": "markdown",
   "id": "98de31f2-ab2b-4309-83d2-d66e6360e008",
   "metadata": {},
   "source": [
    "# Configs"
   ]
  },
  {
   "cell_type": "code",
   "execution_count": 2,
   "id": "f5557e91-c7b2-43a5-afae-016205dc581e",
   "metadata": {},
   "outputs": [
    {
     "name": "stdout",
     "output_type": "stream",
     "text": [
      "[7270  860 5390 5191 5734]\n"
     ]
    }
   ],
   "source": [
    "# NOTE: Reducing EPS will improve accuracy. Parameter accuracy is a function of EPS \n",
    "EPS = 1e-5\n",
    "N_ITER_GLOBAL = 10000\n",
    "\n",
    "N_SAMPLES = 500\n",
    "\n",
    "np.random.seed(42)\n",
    "SEEDS = np.random.choice(range(10000), size=5)\n",
    "print(SEEDS)\n",
    "\n",
    "rho = 1"
   ]
  },
  {
   "cell_type": "markdown",
   "id": "ab96b5f9-a64e-4ca5-869d-d6223ef4ec53",
   "metadata": {},
   "source": [
    "# Data"
   ]
  },
  {
   "cell_type": "code",
   "execution_count": 3,
   "id": "c53510a5-d211-4541-8cb6-b9b19d735205",
   "metadata": {},
   "outputs": [],
   "source": [
    "event_col = \"event\"\n",
    "duration_col = \"duration\""
   ]
  },
  {
   "cell_type": "code",
   "execution_count": 4,
   "id": "0593ee34-b7bc-404f-83c9-1742bc864658",
   "metadata": {},
   "outputs": [
    {
     "data": {
      "text/html": [
       "<div>\n",
       "<style scoped>\n",
       "    .dataframe tbody tr th:only-of-type {\n",
       "        vertical-align: middle;\n",
       "    }\n",
       "\n",
       "    .dataframe tbody tr th {\n",
       "        vertical-align: top;\n",
       "    }\n",
       "\n",
       "    .dataframe thead th {\n",
       "        text-align: right;\n",
       "    }\n",
       "</style>\n",
       "<table border=\"1\" class=\"dataframe\">\n",
       "  <thead>\n",
       "    <tr style=\"text-align: right;\">\n",
       "      <th></th>\n",
       "      <th>feature_0</th>\n",
       "      <th>feature_1</th>\n",
       "      <th>feature_2</th>\n",
       "      <th>feature_3</th>\n",
       "      <th>feature_4</th>\n",
       "      <th>duration</th>\n",
       "      <th>event</th>\n",
       "    </tr>\n",
       "  </thead>\n",
       "  <tbody>\n",
       "    <tr>\n",
       "      <th>0</th>\n",
       "      <td>-0.283269</td>\n",
       "      <td>-1.503986</td>\n",
       "      <td>0.584319</td>\n",
       "      <td>1.110368</td>\n",
       "      <td>0.752608</td>\n",
       "      <td>16.211611</td>\n",
       "      <td>1</td>\n",
       "    </tr>\n",
       "    <tr>\n",
       "      <th>1</th>\n",
       "      <td>0.430450</td>\n",
       "      <td>-0.982862</td>\n",
       "      <td>-0.078302</td>\n",
       "      <td>0.474867</td>\n",
       "      <td>0.481233</td>\n",
       "      <td>5.382143</td>\n",
       "      <td>0</td>\n",
       "    </tr>\n",
       "    <tr>\n",
       "      <th>2</th>\n",
       "      <td>-1.700872</td>\n",
       "      <td>-1.174093</td>\n",
       "      <td>1.562304</td>\n",
       "      <td>-3.204284</td>\n",
       "      <td>0.613009</td>\n",
       "      <td>1.009546</td>\n",
       "      <td>0</td>\n",
       "    </tr>\n",
       "    <tr>\n",
       "      <th>3</th>\n",
       "      <td>-0.451474</td>\n",
       "      <td>0.769189</td>\n",
       "      <td>0.146950</td>\n",
       "      <td>-0.108875</td>\n",
       "      <td>-0.374640</td>\n",
       "      <td>1.081734</td>\n",
       "      <td>1</td>\n",
       "    </tr>\n",
       "    <tr>\n",
       "      <th>4</th>\n",
       "      <td>0.278403</td>\n",
       "      <td>-0.567891</td>\n",
       "      <td>-0.067439</td>\n",
       "      <td>-1.028853</td>\n",
       "      <td>0.277542</td>\n",
       "      <td>11.622440</td>\n",
       "      <td>1</td>\n",
       "    </tr>\n",
       "  </tbody>\n",
       "</table>\n",
       "</div>"
      ],
      "text/plain": [
       "   feature_0  feature_1  feature_2  feature_3  feature_4   duration  event\n",
       "0  -0.283269  -1.503986   0.584319   1.110368   0.752608  16.211611      1\n",
       "1   0.430450  -0.982862  -0.078302   0.474867   0.481233   5.382143      0\n",
       "2  -1.700872  -1.174093   1.562304  -3.204284   0.613009   1.009546      0\n",
       "3  -0.451474   0.769189   0.146950  -0.108875  -0.374640   1.081734      1\n",
       "4   0.278403  -0.567891  -0.067439  -1.028853   0.277542  11.622440      1"
      ]
     },
     "execution_count": 4,
     "metadata": {},
     "output_type": "execute_result"
    }
   ],
   "source": [
    "from sklearn.datasets import make_classification\n",
    "\n",
    "\n",
    "def make_data(n_samples, seed):\n",
    "\n",
    "    # Feature matrix and event time \n",
    "    X, y = make_classification(\n",
    "        n_samples=N_SAMPLES, n_features=5, n_informative=2, n_redundant=2, n_repeated=0, \n",
    "        n_classes=2, n_clusters_per_class=2, weights=None, flip_y=0.01, class_sep=1.0, \n",
    "        hypercube=True, shift=0.0, scale=1.0, shuffle=True, random_state=seed\n",
    "    )\n",
    "\n",
    "    rnd = np.random.RandomState(seed=seed)\n",
    "    \n",
    "    # Simulate event times using Weibull distribution\n",
    "    # shape parameter (k), scale parameter (lambda)\n",
    "    shape_k = 1.5  # adjust as needed\n",
    "    scale_lambda_class0 = 12\n",
    "    scale_lambda_class1 = 6  # shorter survival for class 1\n",
    "\n",
    "    # Assign scale based on class\n",
    "    scale_lambda = np.where(y == 0, scale_lambda_class0, scale_lambda_class1)\n",
    "    survival_time = rnd.weibull(a=shape_k, size=y.shape[0]) * scale_lambda\n",
    "    \n",
    "    # Simulate random censoring\n",
    "    censoring_time = rnd.exponential(scale=15, size=y.shape[0])\n",
    "    duration = np.minimum(survival_time, censoring_time)\n",
    "    event = survival_time <= censoring_time\n",
    "    \n",
    "    # Create DataFrame for clarity\n",
    "    data = pd.DataFrame(X, columns=[f\"feature_{i}\" for i in range(X.shape[1])])\n",
    "    data[duration_col] = duration\n",
    "    data[event_col] = event.astype(int)\n",
    "\n",
    "    return data, X, event, duration\n",
    "\n",
    "\n",
    "data, X, event, duration = make_data(N_SAMPLES, SEEDS[0])\n",
    "data.head()"
   ]
  },
  {
   "cell_type": "code",
   "execution_count": 5,
   "id": "a7f4e36a-2980-45e7-8c04-f4faa639af74",
   "metadata": {},
   "outputs": [],
   "source": [
    "from sksurv.util import Surv\n",
    "# Create structured arrays\n",
    "y = Surv.from_arrays(event=event, time=duration)"
   ]
  },
  {
   "cell_type": "code",
   "execution_count": 6,
   "id": "b343cf75-35c9-4278-b16a-60c3754f0fac",
   "metadata": {},
   "outputs": [
    {
     "data": {
      "text/plain": [
       "0.616"
      ]
     },
     "execution_count": 6,
     "metadata": {},
     "output_type": "execute_result"
    }
   ],
   "source": [
    "sum(event) / len(event)"
   ]
  },
  {
   "cell_type": "markdown",
   "id": "f22a1ff6-a62d-4472-ad4c-3877844b3c03",
   "metadata": {},
   "source": [
    "# Pre-processing "
   ]
  },
  {
   "cell_type": "code",
   "execution_count": 7,
   "id": "c0eab75b-0b3c-417c-b9ae-25110a7327e2",
   "metadata": {},
   "outputs": [],
   "source": [
    "from utils.data import feature_scaling\n",
    "# Scale features with Z-score transfrom \n",
    "X_sc = feature_scaling(X)"
   ]
  },
  {
   "cell_type": "code",
   "execution_count": 8,
   "id": "0da62f2c-83a1-4d33-b241-cdcfb36d057d",
   "metadata": {},
   "outputs": [
    {
     "data": {
      "text/plain": [
       "(-2.1434001850673043, 3.386544702238409)"
      ]
     },
     "execution_count": 8,
     "metadata": {},
     "output_type": "execute_result"
    }
   ],
   "source": [
    "from utils.data import init_knots\n",
    "# Set knot locations \n",
    "knots = init_knots(duration, event, n_knots=5)\n",
    "min(knots), max(knots)"
   ]
  },
  {
   "cell_type": "markdown",
   "id": "99b53061-bd91-4027-8dd2-09bf4ec68772",
   "metadata": {},
   "source": [
    "# Fit reference model "
   ]
  },
  {
   "cell_type": "code",
   "execution_count": 9,
   "id": "bcbf51c9-4145-44dc-a540-5d009f1a0e13",
   "metadata": {},
   "outputs": [
    {
     "name": "stdout",
     "output_type": "stream",
     "text": [
      "Converged after 2764 iterations\n"
     ]
    },
    {
     "data": {
      "text/plain": [
       "[<matplotlib.lines.Line2D at 0x154b414e0>]"
      ]
     },
     "execution_count": 9,
     "metadata": {},
     "output_type": "execute_result"
    },
    {
     "data": {
      "image/png": "[encoded data removed]",
      "text/plain": [
       "<Figure size 640x480 with 1 Axes>"
      ]
     },
     "metadata": {},
     "output_type": "display_data"
    }
   ],
   "source": [
    "beta = init_beta(X_sc, y)\n",
    "gamma = np.ones((1, 7))\n",
    "\n",
    "ref_model = Model(epochs=N_ITER_GLOBAL, knots=knots, learning_rate=0.001, l2_lambda=1, rho=rho)\n",
    "ref_model.set_params({\"beta\": beta, \"gamma\": gamma}) \n",
    "ref_model.fit(X_sc, y, tol=EPS)\n",
    "\n",
    "plt.figure()\n",
    "plt.plot(ref_model.losses)"
   ]
  },
  {
   "cell_type": "code",
   "execution_count": 10,
   "id": "5280bfd9-c12b-4703-8335-f860c87bf81c",
   "metadata": {},
   "outputs": [],
   "source": [
    "#np.save(\"../data/price-of-federation/rossi_gradients_loss_ref.npy\", ref_model.losses)"
   ]
  },
  {
   "cell_type": "code",
   "execution_count": 11,
   "id": "ed31913d-51be-429c-bebd-bd5849010048",
   "metadata": {},
   "outputs": [],
   "source": [
    "#np.save(\"../data/price-of-federation/rossi_gradients_beta_global_ref.npy\", ref_model.beta)\n",
    "#ref_model.beta"
   ]
  },
  {
   "cell_type": "code",
   "execution_count": 12,
   "id": "240b339e-c76d-4b9e-a75e-078277480ab3",
   "metadata": {},
   "outputs": [],
   "source": [
    "#np.save(\"../data/price-of-federation/rossi_gradients_gamma_global_ref.npy\", ref_model.gamma)\n",
    "#ref_model.gamma"
   ]
  },
  {
   "cell_type": "markdown",
   "id": "ccc767b7-ef02-4081-9708-848e690b1844",
   "metadata": {},
   "source": [
    "# Number of clients "
   ]
  },
  {
   "cell_type": "code",
   "execution_count": 13,
   "id": "c1abee9a-5b3e-4641-8577-fc79ae78d602",
   "metadata": {},
   "outputs": [],
   "source": [
    "def has_converged(params, params_other):\n",
    "    return np.linalg.norm(params_other - params) <= EPS "
   ]
  },
  {
   "cell_type": "code",
   "execution_count": 15,
   "id": "b1772791-f79d-48c2-82de-50d1dbdf26ef",
   "metadata": {
    "scrolled": true
   },
   "outputs": [
    {
     "name": "stdout",
     "output_type": "stream",
     "text": [
      "********************\n",
      "SEED: 7270\n",
      "********************\n",
      "Iter 0: 0.2700483158242336; 2.64537471514991\n",
      "Iter 1000: 5.954402877250686e-05; 3.427655883569969e-06\n",
      "Iter 2000: 0.00011062281555496156; 4.53739767181105e-06\n",
      "Converged after 2764 iterations\n",
      "--------------------\n",
      "Diff beta: 3.3342424e-08\n",
      "Diff gamma: 0.0\n",
      "\n",
      "\n",
      "Iter 0: 0.2700483158242336; 2.64537471514991\n",
      "Iter 1000: 0.0001378233719151467; 3.736122607733705e-06\n",
      "Converged after 1846 iterations\n",
      "--------------------\n",
      "Diff beta: 0.0029352733\n",
      "Diff gamma: 0.0042999294\n",
      "\n",
      "\n",
      "Iter 0: 0.2700483158242336; 2.64537471514991\n",
      "Iter 1000: 0.000232217091252096; 3.317575419714558e-06\n",
      "Converged after 1301 iterations\n",
      "--------------------\n",
      "Diff beta: 0.0027523953\n",
      "Diff gamma: 0.0068807323\n",
      "\n",
      "\n",
      "Iter 0: 0.2700483158242336; 2.64537471514991\n",
      "Iter 1000: 1.3857775229553226e-05; 3.7261247598507907e-06\n",
      "Converged after 1014 iterations\n",
      "--------------------\n",
      "Diff beta: 0.0044449316\n",
      "Diff gamma: 0.007731039\n",
      "\n",
      "\n",
      "Iter 0: 0.2700483158242336; 2.64537471514991\n",
      "Converged after 900 iterations\n",
      "--------------------\n",
      "Diff beta: 0.004629904\n",
      "Diff gamma: 0.009400656\n",
      "\n",
      "\n",
      "Iter 0: 0.2700483158242336; 2.64537471514991\n",
      "Converged after 779 iterations\n",
      "--------------------\n",
      "Diff beta: 0.006595424\n",
      "Diff gamma: 0.009138154\n",
      "\n",
      "\n",
      "********************\n",
      "SEED: 860\n",
      "********************\n",
      "Iter 0: 0.2700483158242336; 2.64537471514991\n",
      "Iter 1000: 5.954402877250686e-05; 3.427655883569969e-06\n",
      "Iter 2000: 0.00011062281555496156; 4.53739767181105e-06\n",
      "Converged after 2764 iterations\n",
      "--------------------\n",
      "Diff beta: 3.622369e-08\n",
      "Diff gamma: 0.0\n",
      "\n",
      "\n",
      "Iter 0: 0.2700483158242336; 2.64537471514991\n",
      "Iter 1000: 0.00010201137047261; 3.389088760741288e-06\n",
      "Iter 2000: 3.547645246726461e-05; 4.500841441767989e-06\n",
      "Converged after 2105 iterations\n",
      "--------------------\n",
      "Diff beta: 0.0024653038\n",
      "Diff gamma: 0.0034398057\n",
      "\n",
      "\n",
      "Iter 0: 0.2700483158242336; 2.64537471514991\n",
      "Iter 1000: 0.00020749238319694996; 4.403488674142864e-06\n",
      "Converged after 1421 iterations\n",
      "--------------------\n",
      "Diff beta: 0.0019646026\n",
      "Diff gamma: 0.0058926493\n",
      "\n",
      "\n",
      "Iter 0: 0.2700483158242336; 2.64537471514991\n",
      "Iter 1000: 8.532143692718819e-05; 4.047414222441148e-06\n",
      "Converged after 1101 iterations\n",
      "--------------------\n",
      "Diff beta: 0.0029435111\n",
      "Diff gamma: 0.0075623435\n",
      "\n",
      "\n",
      "Iter 0: 0.2700483158242336; 2.64537471514991\n",
      "Converged after 958 iterations\n",
      "--------------------\n",
      "Diff beta: 0.0035702512\n",
      "Diff gamma: 0.0073782974\n",
      "\n",
      "\n",
      "Iter 0: 0.2700483158242336; 2.64537471514991\n",
      "Converged after 837 iterations\n",
      "--------------------\n",
      "Diff beta: 0.006150587\n",
      "Diff gamma: 0.00887939\n",
      "\n",
      "\n",
      "********************\n",
      "SEED: 5390\n",
      "********************\n",
      "Iter 0: 0.2700483158242336; 2.64537471514991\n",
      "Iter 1000: 5.954403241048567e-05; 3.427655883569969e-06\n",
      "Iter 2000: 0.00011062280827900395; 4.53739767181105e-06\n",
      "Converged after 2764 iterations\n",
      "--------------------\n",
      "Diff beta: 8.4833545e-09\n",
      "Diff gamma: 0.0\n",
      "\n",
      "\n",
      "Iter 0: 0.2700483158242336; 2.64537471514991\n",
      "Iter 1000: 0.00012434467498678714; 4.237383109284565e-06\n",
      "Converged after 1932 iterations\n",
      "--------------------\n",
      "Diff beta: 0.0011332857\n",
      "Diff gamma: 0.0028928278\n",
      "\n",
      "\n",
      "Iter 0: 0.2700483158242336; 2.64537471514991\n",
      "Iter 1000: 0.00021295387705322355; 4.129531134822173e-06\n",
      "Converged after 1393 iterations\n",
      "--------------------\n",
      "Diff beta: 0.0019909532\n",
      "Diff gamma: 0.005429093\n",
      "\n",
      "\n",
      "Iter 0: 0.2700483158242336; 2.64537471514991\n",
      "Iter 1000: 8.256931323558092e-05; 4.232349510857603e-06\n",
      "Converged after 1093 iterations\n",
      "--------------------\n",
      "Diff beta: 0.0042048316\n",
      "Diff gamma: 0.006444277\n",
      "\n",
      "\n",
      "Iter 0: 0.2700483158242336; 2.64537471514991\n",
      "Converged after 940 iterations\n",
      "--------------------\n",
      "Diff beta: 0.0052239792\n",
      "Diff gamma: 0.0073426357\n",
      "\n",
      "\n",
      "Iter 0: 0.2700483158242336; 2.64537471514991\n",
      "Converged after 830 iterations\n",
      "--------------------\n",
      "Diff beta: 0.0058588167\n",
      "Diff gamma: 0.009453791\n",
      "\n",
      "\n",
      "********************\n",
      "SEED: 5191\n",
      "********************\n",
      "Iter 0: 0.2700483158242336; 2.64537471514991\n",
      "Iter 1000: 5.954402877250686e-05; 3.427655883569969e-06\n",
      "Iter 2000: 0.00011062281555496156; 4.53739767181105e-06\n",
      "Converged after 2764 iterations\n",
      "--------------------\n",
      "Diff beta: 2.3250445e-08\n",
      "Diff gamma: 0.0\n",
      "\n",
      "\n",
      "Iter 0: 0.2700483158242336; 2.64537471514991\n",
      "Iter 1000: 0.00010883688082685694; 3.953275609092088e-06\n",
      "Iter 2000: 1.7106720406445675e-05; 4.986526164429961e-06\n",
      "Converged after 2043 iterations\n",
      "--------------------\n",
      "Diff beta: 0.0015877949\n",
      "Diff gamma: 0.0030786484\n",
      "\n",
      "\n",
      "Iter 0: 0.2700483158242336; 2.64537471514991\n",
      "Iter 1000: 0.0002187789505114779; 4.507151516008889e-06\n",
      "Converged after 1374 iterations\n",
      "--------------------\n",
      "Diff beta: 0.0013127363\n",
      "Diff gamma: 0.005187028\n",
      "\n",
      "\n",
      "Iter 0: 0.2700483158242336; 2.64537471514991\n",
      "Iter 1000: 8.611307566752657e-05; 4.795859695150284e-06\n",
      "Converged after 1102 iterations\n",
      "--------------------\n",
      "Diff beta: 0.002687312\n",
      "Diff gamma: 0.0060675004\n",
      "\n",
      "\n",
      "Iter 0: 0.2700483158242336; 2.64537471514991\n",
      "Converged after 929 iterations\n",
      "--------------------\n",
      "Diff beta: 0.004259171\n",
      "Diff gamma: 0.007992775\n",
      "\n",
      "\n",
      "Iter 0: 0.2700483158242336; 2.64537471514991\n",
      "Converged after 818 iterations\n",
      "--------------------\n",
      "Diff beta: 0.006398198\n",
      "Diff gamma: 0.007830498\n",
      "\n",
      "\n",
      "********************\n",
      "SEED: 5734\n",
      "********************\n",
      "Iter 0: 0.2700483158242336; 2.64537471514991\n",
      "Iter 1000: 5.954402877250686e-05; 3.427655883569969e-06\n",
      "Iter 2000: 0.00011062281555496156; 4.53739767181105e-06\n",
      "Converged after 2764 iterations\n",
      "--------------------\n",
      "Diff beta: 2.787752e-08\n",
      "Diff gamma: 0.0\n",
      "\n",
      "\n",
      "Iter 0: 0.2700483158242336; 2.64537471514991\n",
      "Iter 1000: 0.0001292025699513033; 3.840223143924959e-06\n",
      "Converged after 1901 iterations\n",
      "--------------------\n",
      "Diff beta: 0.0017448298\n",
      "Diff gamma: 0.0036469023\n",
      "\n",
      "\n",
      "Iter 0: 0.2700483158242336; 2.64537471514991\n",
      "Iter 1000: 0.0002212396211689338; 4.165081008977722e-06\n",
      "Converged after 1353 iterations\n",
      "--------------------\n",
      "Diff beta: 0.0021245626\n",
      "Diff gamma: 0.0055657304\n",
      "\n",
      "\n",
      "Iter 0: 0.2700483158242336; 2.64537471514991\n",
      "Iter 1000: 3.7472982512554154e-05; 4.510303369897883e-06\n",
      "Converged after 1054 iterations\n",
      "--------------------\n",
      "Diff beta: 0.0049297875\n",
      "Diff gamma: 0.0065069385\n",
      "\n",
      "\n",
      "Iter 0: 0.2700483158242336; 2.64537471514991\n",
      "Converged after 912 iterations\n",
      "--------------------\n",
      "Diff beta: 0.0047253035\n",
      "Diff gamma: 0.0064944755\n",
      "\n",
      "\n",
      "Iter 0: 0.2700483158242336; 2.64537471514991\n",
      "Converged after 834 iterations\n",
      "--------------------\n",
      "Diff beta: 0.005553979\n",
      "Diff gamma: 0.007496122\n",
      "\n",
      "\n"
     ]
    }
   ],
   "source": [
    "for seed in SEEDS:\n",
    "    print(\"*\" * 20)\n",
    "    print(\"SEED:\", seed)\n",
    "    print(\"*\" * 20)\n",
    "    for N_SPLITS in [1, 2, 4, 6, 8, 10]:\n",
    "        \n",
    "        data_idx = np.arange(data.shape[0])\n",
    "        np.random.seed(seed)\n",
    "        np.random.shuffle(data_idx)\n",
    "        DATA_SPLIT_IDX = np.array_split(data_idx, N_SPLITS)\n",
    "\n",
    "        \n",
    "        participants = []\n",
    "        for idx in range(N_SPLITS):\n",
    "            client = Client(data.iloc[DATA_SPLIT_IDX[idx]], n_knots=5, n_epochs=None, event_col=event_col, duration_col=duration_col, rho=rho)\n",
    "            client.preprocess_data(train_test_split=False)\n",
    "            client.init_model(local_knots=False, knots=knots, learning_rate=0.001)\n",
    "            participants.append(client)\n",
    "        \n",
    "        \n",
    "        beta_global = beta.copy()\n",
    "        gamma_global = gamma.copy()\n",
    "        beta_global_tf = tf.Variable(beta_global, dtype=tf.float32)\n",
    "        gamma_global_tf = tf.Variable(gamma_global, dtype=tf.float32)\n",
    "        beta_global_prev = np.zeros_like(beta_global)\n",
    "        gamma_global_prev = np.zeros_like(gamma_global)\n",
    "\n",
    "        \n",
    "        optimiser = tf.keras.optimizers.Adam(learning_rate=0.001)\n",
    "\n",
    "        \n",
    "        losses = []\n",
    "        for i in range(N_ITER_GLOBAL):\n",
    "            losses_i = []\n",
    "            gradients_beta, gradients_gamma = 0, 0 \n",
    "            for client in participants:\n",
    "                grad_beta, grad_gamma = client.gradients(beta_global_tf, gamma_global_tf)\n",
    "                gradients_beta += grad_beta \n",
    "                gradients_gamma += grad_gamma \n",
    "                losses_i.append(client.model_loss())\n",
    "                \n",
    "            losses.append(np.mean(losses_i))\n",
    "            optimiser.apply_gradients(zip([gradients_beta, gradients_gamma], [beta_global_tf, gamma_global_tf]))\n",
    "            \n",
    "            beta_global = beta_global_tf.numpy()\n",
    "            gamma_global = gamma_global_tf.numpy()\n",
    "            \n",
    "            if has_converged(beta_global, beta_global_prev) and has_converged(gamma_global, gamma_global_prev):\n",
    "                print(f\"Converged after {i} iterations\")\n",
    "                break \n",
    "        \n",
    "            if i % (N_ITER_GLOBAL / 10) == 0:\n",
    "                change_beta = np.linalg.norm(beta_global - beta_global_prev) \n",
    "                change_gamma = np.linalg.norm(gamma_global - gamma_global_prev)\n",
    "                print(f\"Iter {i}: {change_beta}; {change_gamma}\")\n",
    "        \n",
    "            beta_global_prev = beta_global\n",
    "            gamma_global_prev = gamma_global\n",
    "        \n",
    "        print(\"-\" * 20)\n",
    "        print(\"Diff beta:\", np.linalg.norm(beta_global - ref_model.beta))\n",
    "        print(\"Diff gamma:\", np.linalg.norm(gamma_global - ref_model.gamma))\n",
    "        print()\n",
    "        print()\n",
    "        \n",
    "        version = f\"seed_{seed}_clients_{N_SPLITS}\"\n",
    "        \n",
    "        np.save(f\"../results/synthetic-weibull/loss_{version}.npy\", losses)\n",
    "        np.save(f\"../results/synthetic-weibull/beta_global_{version}.npy\", beta_global)\n",
    "        np.save(f\"../results/synthetic-weibull/gamma_global_{version}.npy\", gamma_global)"
   ]
  },
  {
   "cell_type": "code",
   "execution_count": 16,
   "id": "21f8856a-4328-4a0d-af2e-c0826a007a05",
   "metadata": {},
   "outputs": [],
   "source": [
    "from collections import defaultdict\n",
    "\n",
    "results = defaultdict(list)\n",
    "for N_SPLITS in [1, 2, 4, 6, 8, 10]:\n",
    "    loss, beta, gamma = [], [], [] \n",
    "    for seed in SEEDS: \n",
    "        version = f\"seed_{seed}_clients_{N_SPLITS}\"\n",
    "\n",
    "        loss_i = np.load(f\"../results/synthetic-weibull/loss_{version}.npy\")\n",
    "        beta_i = np.load(f\"../results/synthetic-weibull/beta_global_{version}.npy\")\n",
    "        gamma_i = np.load(f\"../results/synthetic-weibull/gamma_global_{version}.npy\")\n",
    "        \n",
    "        loss.append(len(loss_i))\n",
    "        beta.append(np.linalg.norm(beta_i - ref_model.beta))\n",
    "        gamma.append(np.linalg.norm(gamma_i - ref_model.gamma))\n",
    "\n",
    "    results[\"clients\"].append(N_SPLITS)\n",
    "    results[\"loss_avg\"].append(np.mean(loss, axis=0))\n",
    "    results[\"loss_std\"].append(np.std(loss, axis=0))\n",
    "    results[\"beta_avg\"].append(np.mean(beta, axis=0))\n",
    "    results[\"beta_std\"].append(np.std(beta, axis=0))\n",
    "    results[\"gamma_avg\"].append(np.mean(gamma, axis=0))\n",
    "    results[\"gamma_std\"].append(np.std(gamma, axis=0))"
   ]
  },
  {
   "cell_type": "code",
   "execution_count": 17,
   "id": "587ed1a5-504c-4501-aeab-bdeb41cfc1f9",
   "metadata": {},
   "outputs": [
    {
     "data": {
      "image/png": "[encoded data removed]",
      "text/plain": [
       "<Figure size 600x400 with 1 Axes>"
      ]
     },
     "metadata": {},
     "output_type": "display_data"
    }
   ],
   "source": [
    "y_coords = results[\"loss_avg\"]\n",
    "x_coords = results[\"clients\"]\n",
    "\n",
    "plt.figure(figsize=(6, 4))\n",
    "plt.errorbar(x_coords, y_coords, yerr=results[\"loss_std\"], marker=\"o\", linestyle=\"\", capsize=3)\n",
    "plt.ylabel(\"Server iterations until convergence\");\n",
    "plt.xlabel(\"Number of clients\"); \n",
    "plt.xticks(x_coords, x_coords);"
   ]
  },
  {
   "cell_type": "code",
   "execution_count": 18,
   "id": "a0d4c328-573c-4f0d-8b4d-c2f5508ba5e7",
   "metadata": {},
   "outputs": [
    {
     "data": {
      "image/png": "[encoded data removed]",
      "text/plain": [
       "<Figure size 600x400 with 1 Axes>"
      ]
     },
     "metadata": {},
     "output_type": "display_data"
    }
   ],
   "source": [
    "x_coords, y_coords, y_err = [], [], []\n",
    "for N_SPLITS in [1, 2, 4, 6, 8, 10]:\n",
    "    \n",
    "    data_idx = np.arange(data.shape[0])\n",
    "    np.random.seed(SEEDS[2])\n",
    "    np.random.shuffle(data_idx)\n",
    "    DATA_SPLIT_IDX = np.array_split(data_idx, N_SPLITS)\n",
    "\n",
    "    durations = []\n",
    "    for idx in range(N_SPLITS):\n",
    "        data_c = data.iloc[DATA_SPLIT_IDX[idx]]\n",
    "        durations.append(np.mean(data_c[\"duration\"]))\n",
    "\n",
    "    x_coords.append(N_SPLITS)\n",
    "    y_coords.append(np.mean(durations))\n",
    "    y_err.append(np.std(durations))\n",
    "\n",
    "# Larger variation in local data distributions as the number of clients increase \n",
    "plt.figure(figsize=(6, 4))\n",
    "#plt.errorbar(x_coords, y_coords, yerr=y_err, marker=\"o\", linestyle=\"-\", capsize=3)\n",
    "#plt.ylabel(\"Event time distribution\");\n",
    "plt.plot(x_coords, y_err, marker=\"o\", linestyle=\"\")\n",
    "plt.ylabel(\"Standard deviation of event times\");\n",
    "plt.xlabel(\"Number of clients\");\n",
    "plt.xticks(x_coords, x_coords);"
   ]
  },
  {
   "cell_type": "code",
   "execution_count": 19,
   "id": "b1cb55a0-0bce-48a5-9e30-74f3aa15dcda",
   "metadata": {},
   "outputs": [
    {
     "data": {
      "image/png": "[encoded data removed]",
      "text/plain": [
       "<Figure size 600x400 with 1 Axes>"
      ]
     },
     "metadata": {},
     "output_type": "display_data"
    }
   ],
   "source": [
    "y_coords = results[\"beta_avg\"]\n",
    "x_coords = results[\"clients\"]\n",
    "\n",
    "plt.figure(figsize=(6, 4))\n",
    "plt.errorbar(x_coords, y_coords, yerr=results[\"beta_std\"], marker=\"o\", linestyle=\"\", capsize=3)\n",
    "plt.ylabel(\"Error beta\");\n",
    "plt.xlabel(\"Number of clients\");\n",
    "plt.xticks(x_coords, x_coords);"
   ]
  },
  {
   "cell_type": "code",
   "execution_count": 20,
   "id": "61099e75-3f43-4b2f-affa-b2bb2a1006dd",
   "metadata": {},
   "outputs": [
    {
     "data": {
      "image/png": "[encoded data removed]",
      "text/plain": [
       "<Figure size 600x400 with 1 Axes>"
      ]
     },
     "metadata": {},
     "output_type": "display_data"
    }
   ],
   "source": [
    "y_coords = results[\"gamma_avg\"]\n",
    "x_coords = results[\"clients\"]\n",
    "\n",
    "plt.figure(figsize=(6, 4))\n",
    "plt.errorbar(x_coords, y_coords, yerr=results[\"gamma_std\"], marker=\"o\", linestyle=\"\", capsize=3)\n",
    "plt.ylabel(\"Error gamma\");\n",
    "plt.xlabel(\"Number of clients\");\n",
    "plt.xticks(x_coords, x_coords);"
   ]
  },
  {
   "cell_type": "code",
   "execution_count": null,
   "id": "43c9a355-f2fd-4cc0-9485-de3a60892c8c",
   "metadata": {},
   "outputs": [],
   "source": []
  }
 ],
 "metadata": {
  "kernelspec": {
   "display_name": "Python 3 (ipykernel)",
   "language": "python",
   "name": "python3"
  },
  "language_info": {
   "codemirror_mode": {
    "name": "ipython",
    "version": 3
   },
   "file_extension": ".py",
   "mimetype": "text/x-python",
   "name": "python",
   "nbconvert_exporter": "python",
   "pygments_lexer": "ipython3",
   "version": "3.10.15"
  }
 },
 "nbformat": 4,
 "nbformat_minor": 5
}
