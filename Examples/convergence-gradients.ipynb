{
 "cells": [
  {
   "cell_type": "markdown",
   "id": "ab96b5f9-a64e-4ca5-869d-d6223ef4ec53",
   "metadata": {},
   "source": [
    "# Data"
   ]
  },
  {
   "cell_type": "code",
   "execution_count": 80,
   "id": "81d74d6b-a16e-4b6e-98d3-d7b889399953",
   "metadata": {},
   "outputs": [
    {
     "name": "stdout",
     "output_type": "stream",
     "text": [
      "(432, 9)\n"
     ]
    },
    {
     "data": {
      "text/html": [
       "<div>\n",
       "<style scoped>\n",
       "    .dataframe tbody tr th:only-of-type {\n",
       "        vertical-align: middle;\n",
       "    }\n",
       "\n",
       "    .dataframe tbody tr th {\n",
       "        vertical-align: top;\n",
       "    }\n",
       "\n",
       "    .dataframe thead th {\n",
       "        text-align: right;\n",
       "    }\n",
       "</style>\n",
       "<table border=\"1\" class=\"dataframe\">\n",
       "  <thead>\n",
       "    <tr style=\"text-align: right;\">\n",
       "      <th></th>\n",
       "      <th>week</th>\n",
       "      <th>arrest</th>\n",
       "      <th>fin</th>\n",
       "      <th>age</th>\n",
       "      <th>race</th>\n",
       "      <th>wexp</th>\n",
       "      <th>mar</th>\n",
       "      <th>paro</th>\n",
       "      <th>prio</th>\n",
       "    </tr>\n",
       "  </thead>\n",
       "  <tbody>\n",
       "    <tr>\n",
       "      <th>0</th>\n",
       "      <td>20</td>\n",
       "      <td>1</td>\n",
       "      <td>0</td>\n",
       "      <td>27</td>\n",
       "      <td>1</td>\n",
       "      <td>0</td>\n",
       "      <td>0</td>\n",
       "      <td>1</td>\n",
       "      <td>3</td>\n",
       "    </tr>\n",
       "    <tr>\n",
       "      <th>1</th>\n",
       "      <td>17</td>\n",
       "      <td>1</td>\n",
       "      <td>0</td>\n",
       "      <td>18</td>\n",
       "      <td>1</td>\n",
       "      <td>0</td>\n",
       "      <td>0</td>\n",
       "      <td>1</td>\n",
       "      <td>8</td>\n",
       "    </tr>\n",
       "    <tr>\n",
       "      <th>2</th>\n",
       "      <td>25</td>\n",
       "      <td>1</td>\n",
       "      <td>0</td>\n",
       "      <td>19</td>\n",
       "      <td>0</td>\n",
       "      <td>1</td>\n",
       "      <td>0</td>\n",
       "      <td>1</td>\n",
       "      <td>13</td>\n",
       "    </tr>\n",
       "    <tr>\n",
       "      <th>3</th>\n",
       "      <td>52</td>\n",
       "      <td>0</td>\n",
       "      <td>1</td>\n",
       "      <td>23</td>\n",
       "      <td>1</td>\n",
       "      <td>1</td>\n",
       "      <td>1</td>\n",
       "      <td>1</td>\n",
       "      <td>1</td>\n",
       "    </tr>\n",
       "    <tr>\n",
       "      <th>4</th>\n",
       "      <td>52</td>\n",
       "      <td>0</td>\n",
       "      <td>0</td>\n",
       "      <td>19</td>\n",
       "      <td>0</td>\n",
       "      <td>1</td>\n",
       "      <td>0</td>\n",
       "      <td>1</td>\n",
       "      <td>3</td>\n",
       "    </tr>\n",
       "  </tbody>\n",
       "</table>\n",
       "</div>"
      ],
      "text/plain": [
       "   week  arrest  fin  age  race  wexp  mar  paro  prio\n",
       "0    20       1    0   27     1     0    0     1     3\n",
       "1    17       1    0   18     1     0    0     1     8\n",
       "2    25       1    0   19     0     1    0     1    13\n",
       "3    52       0    1   23     1     1    1     1     1\n",
       "4    52       0    0   19     0     1    0     1     3"
      ]
     },
     "execution_count": 80,
     "metadata": {},
     "output_type": "execute_result"
    }
   ],
   "source": [
    "import numpy as np \n",
    "import tensorflow as tf \n",
    "import matplotlib.pyplot as plt \n",
    "\n",
    "from lifelines.datasets import load_rossi\n",
    "from sksurv.metrics import concordance_index_censored\n",
    "\n",
    "data = load_rossi()\n",
    "data.dropna(inplace=True)\n",
    "print(data.shape)\n",
    "data.head()"
   ]
  },
  {
   "cell_type": "code",
   "execution_count": 81,
   "id": "e1976584-3613-434e-8c75-821959e4dffa",
   "metadata": {},
   "outputs": [
    {
     "data": {
      "text/plain": [
       "(432, 7)"
      ]
     },
     "execution_count": 81,
     "metadata": {},
     "output_type": "execute_result"
    }
   ],
   "source": [
    "event_col = \"arrest\"\n",
    "duration_col = \"week\"\n",
    "\n",
    "X = data.drop(columns=[event_col, duration_col])\n",
    "X.shape"
   ]
  },
  {
   "cell_type": "code",
   "execution_count": 82,
   "id": "caaacf02-99ff-4633-9457-ec40ee9c1997",
   "metadata": {},
   "outputs": [],
   "source": [
    "duration = data[duration_col].to_numpy().squeeze()\n",
    "event = data[event_col].to_numpy().squeeze()"
   ]
  },
  {
   "cell_type": "code",
   "execution_count": 83,
   "id": "a7f4e36a-2980-45e7-8c04-f4faa639af74",
   "metadata": {},
   "outputs": [],
   "source": [
    "from sksurv.util import Surv\n",
    "# Create structured arrays\n",
    "y = Surv.from_arrays(event=event, time=duration)"
   ]
  },
  {
   "cell_type": "markdown",
   "id": "f22a1ff6-a62d-4472-ad4c-3877844b3c03",
   "metadata": {},
   "source": [
    "# Pre-processing "
   ]
  },
  {
   "cell_type": "code",
   "execution_count": 84,
   "id": "c0eab75b-0b3c-417c-b9ae-25110a7327e2",
   "metadata": {},
   "outputs": [],
   "source": [
    "from utils.data import feature_scaling\n",
    "# Scale features with Z-score transfrom \n",
    "X = feature_scaling(X)"
   ]
  },
  {
   "cell_type": "code",
   "execution_count": 85,
   "id": "0da62f2c-83a1-4d33-b241-cdcfb36d057d",
   "metadata": {},
   "outputs": [
    {
     "data": {
      "text/plain": [
       "(0.0, 3.9512437185814275)"
      ]
     },
     "execution_count": 85,
     "metadata": {},
     "output_type": "execute_result"
    }
   ],
   "source": [
    "from utils.data import init_knots\n",
    "# Set knot locations \n",
    "knots = init_knots(duration, event, n_knots=5)\n",
    "min(knots), max(knots)"
   ]
  },
  {
   "cell_type": "markdown",
   "id": "6396a3bd-c31d-4072-8007-abe0013fa67f",
   "metadata": {},
   "source": [
    "# Initialize clients "
   ]
  },
  {
   "cell_type": "code",
   "execution_count": 86,
   "id": "b4fe0f66-5ef7-477b-9597-c2a285e181f0",
   "metadata": {},
   "outputs": [],
   "source": [
    "# NOTE: Convergence/inference issues can be realted to inter-client data heterogenity \n",
    "N_SPLITS = 3\n",
    "DATA_SPLIT_IDX = [np.arange(data.shape[0])] * N_SPLITS #np.array_split(np.arange(data.shape[0]), N_SPLITS)"
   ]
  },
  {
   "cell_type": "code",
   "execution_count": 87,
   "id": "a7608b04-997e-442e-b630-b008b7e52404",
   "metadata": {},
   "outputs": [],
   "source": [
    "from utils.client import Client \n",
    "\n",
    "participants = [] \n",
    "\n",
    "rho = 1\n",
    "\n",
    "for idx in DATA_SPLIT_IDX:\n",
    "    # Init client objects with mutually exclusive data samples \n",
    "    client = Client(data.iloc[idx], n_knots=5, n_epochs=1, event_col=event_col, duration_col=duration_col, rho=rho)\n",
    "    # Apply data pre-processing steps \n",
    "    client.preprocess_data(train_test_split=False)\n",
    "    # Initialize model and parameters \n",
    "    client.init_model(local_knots=False, knots=knots)\n",
    "\n",
    "    participants.append(client)"
   ]
  },
  {
   "cell_type": "markdown",
   "id": "ba8dbe74-502c-42d0-be37-241380a7f2f9",
   "metadata": {},
   "source": [
    "# Initialize parameters"
   ]
  },
  {
   "cell_type": "code",
   "execution_count": 88,
   "id": "17d2b759-a891-4032-bfc0-0866f67c6e9e",
   "metadata": {},
   "outputs": [],
   "source": [
    "from utils.data import init_gamma, init_beta\n",
    "from utils.splines import bspline_design_matrix\n",
    "\n",
    "# Create one spline equation per time point \n",
    "D = bspline_design_matrix(np.log(duration), knots)\n",
    "\n",
    "# Initialize gamma coefficients\n",
    "gamma = init_gamma(D, duration)\n",
    "\n",
    "# Initialize beta coefficients\n",
    "beta = init_beta(X, y)"
   ]
  },
  {
   "cell_type": "markdown",
   "id": "451c8394-8b85-42e8-82fa-bc74721272b6",
   "metadata": {},
   "source": [
    "# Fit clients "
   ]
  },
  {
   "cell_type": "code",
   "execution_count": 89,
   "id": "19ed4062-fe84-4a55-871a-259ed0b701c6",
   "metadata": {},
   "outputs": [],
   "source": [
    "beta_global = beta.copy()\n",
    "gamma_global = gamma.copy()\n",
    "\n",
    "beta_global_prev = np.zeros_like(beta_global)\n",
    "gamma_global_prev = np.zeros_like(gamma_global)\n",
    "\n",
    "for client in participants:\n",
    "    client.set_params({\"beta\": beta_global_tf, \"gamma\": gamma_global_tf})"
   ]
  },
  {
   "cell_type": "code",
   "execution_count": null,
   "id": "b7247116-5d97-4e69-841a-245189ca919f",
   "metadata": {},
   "outputs": [],
   "source": [
    "EPS = 1e-2\n",
    "N_ITER_GLOBAL = 15000"
   ]
  },
  {
   "cell_type": "code",
   "execution_count": 90,
   "id": "3f97dc53-4930-4fd2-bcd7-26830561403c",
   "metadata": {},
   "outputs": [
    {
     "name": "stdout",
     "output_type": "stream",
     "text": [
      "Iter 0: 0.4929647956063007; 7.72865790729334\n",
      "Iter 800: 8.92559764906764e-05; 0.005125335417687893\n",
      "Iter 1600: 0.00011628673382801935; 0.002714557107537985\n",
      "Iter 2400: 0.00012318193330429494; 0.0015833473298698664\n",
      "Iter 3200: 0.00010622611443977803; 0.0009190269629471004\n",
      "Iter 4000: 6.901956658111885e-05; 0.00046977284364402294\n",
      "Iter 4800: 2.9272548999870196e-05; 0.00017747720994520932\n",
      "Iter 5600: 6.519053840747802e-06; 3.80966484954115e-05\n",
      "Converged after 6080 iterations\n"
     ]
    },
    {
     "data": {
      "text/plain": [
       "[<matplotlib.lines.Line2D at 0x183029c90>]"
      ]
     },
     "execution_count": 90,
     "metadata": {},
     "output_type": "execute_result"
    },
    {
     "data": {
      "image/png": "[encoded data removed]",
      "text/plain": [
       "<Figure size 640x480 with 1 Axes>"
      ]
     },
     "metadata": {},
     "output_type": "display_data"
    }
   ],
   "source": [
    "def has_converged(params, params_other):\n",
    "    return np.linalg.norm(params_other - params) <= EPS \n",
    "\n",
    "\n",
    "# Track training performance         \n",
    "losses = []\n",
    "\n",
    "# Optimization algorithm \n",
    "optimiser = tf.keras.optimizers.Adam(learning_rate=0.01)\n",
    "\n",
    "# Optimization variables\n",
    "beta_global_tf = tf.Variable(beta_global, dtype=tf.float32)\n",
    "gamma_global_tf = tf.Variable(gamma_global, dtype=tf.float32)\n",
    "\n",
    "for i in range(N_ITER_GLOBAL):\n",
    "\n",
    "    losses_i = []\n",
    "    gradients_beta, gradients_gamma = 0, 0 \n",
    "    \n",
    "    for client in participants:\n",
    "        # Estimate gradients     \n",
    "        grad_beta, grad_gamma = client.gradients(beta_global_tf, gamma_global_tf)\n",
    "\n",
    "        losses_i.append(client.model_loss())\n",
    "\n",
    "        gradients_beta += grad_beta\n",
    "        gradients_gamma += grad_gamma\n",
    "\n",
    "    losses.append(np.mean(losses_i))\n",
    "    \n",
    "    # Run optimizer \n",
    "    optimiser.apply_gradients(zip([gradients_beta, gradients_gamma], [beta_global_tf, gamma_global_tf]))\n",
    "    \n",
    "    beta_global = beta_global_tf.numpy()\n",
    "    gamma_global = gamma_global_tf.numpy()\n",
    "    \n",
    "    if has_converged(beta_global, beta_global_prev) and has_converged(gamma_global, gamma_global_prev):\n",
    "        print(f\"Converged after {i} iterations\")\n",
    "        break \n",
    "\n",
    "    if i % (n_iter / 10) == 0:\n",
    "        change_beta = np.linalg.norm(beta_global - beta_global_prev) \n",
    "        change_gamma = np.linalg.norm(gamma_global - gamma_global_prev)\n",
    "        print(f\"Iter {i}: {change_beta}; {change_gamma}\")\n",
    "\n",
    "    beta_global_prev = beta_global\n",
    "    gamma_global_prev = gamma_global\n",
    "\n",
    "\n",
    "plt.figure()\n",
    "plt.plot(losses)"
   ]
  },
  {
   "cell_type": "markdown",
   "id": "99b53061-bd91-4027-8dd2-09bf4ec68772",
   "metadata": {},
   "source": [
    "# Fit reference model "
   ]
  },
  {
   "cell_type": "code",
   "execution_count": 91,
   "id": "bcbf51c9-4145-44dc-a540-5d009f1a0e13",
   "metadata": {},
   "outputs": [
    {
     "name": "stdout",
     "output_type": "stream",
     "text": [
      "Converged after 5714 iterations\n"
     ]
    },
    {
     "data": {
      "text/plain": [
       "[<matplotlib.lines.Line2D at 0x18308b7f0>]"
      ]
     },
     "execution_count": 91,
     "metadata": {},
     "output_type": "execute_result"
    },
    {
     "data": {
      "image/png": "[encoded data removed]",
      "text/plain": [
       "<Figure size 640x480 with 1 Axes>"
      ]
     },
     "metadata": {},
     "output_type": "display_data"
    }
   ],
   "source": [
    "from utils.model import Model\n",
    "\n",
    "ref_model = Model(epochs=N_ITER_GLOBAL, knots=knots, learning_rate=0.01, l2_lambda=1, rho=rho)\n",
    "ref_model.set_params({\"beta\": beta, \"gamma\": gamma}) \n",
    "ref_model.fit(X, y, tol=EPS)\n",
    "\n",
    "plt.figure()\n",
    "plt.plot(ref_model.losses)"
   ]
  },
  {
   "cell_type": "code",
   "execution_count": 92,
   "id": "ed31913d-51be-429c-bebd-bd5849010048",
   "metadata": {},
   "outputs": [
    {
     "data": {
      "text/plain": [
       "array([[-0.1827855 , -0.32915616,  0.09825834, -0.07604485, -0.13582215,\n",
       "        -0.03850739,  0.25675514]], dtype=float32)"
      ]
     },
     "execution_count": 92,
     "metadata": {},
     "output_type": "execute_result"
    }
   ],
   "source": [
    "ref_model.beta"
   ]
  },
  {
   "cell_type": "code",
   "execution_count": 93,
   "id": "28603146-1ce9-465c-9bd7-4f0130668b60",
   "metadata": {},
   "outputs": [
    {
     "data": {
      "text/plain": [
       "array([[-0.18307991, -0.33013824,  0.09841058, -0.0760449 , -0.13610831,\n",
       "        -0.03860049,  0.2570902 ]], dtype=float32)"
      ]
     },
     "execution_count": 93,
     "metadata": {},
     "output_type": "execute_result"
    }
   ],
   "source": [
    "beta_global"
   ]
  },
  {
   "cell_type": "code",
   "execution_count": 94,
   "id": "aa08aa44-7515-4d10-a43a-bcb8b85f2218",
   "metadata": {},
   "outputs": [
    {
     "data": {
      "text/plain": [
       "0.0011301137"
      ]
     },
     "execution_count": 94,
     "metadata": {},
     "output_type": "execute_result"
    }
   ],
   "source": [
    "np.linalg.norm(ref_model.beta - beta_global)"
   ]
  },
  {
   "cell_type": "code",
   "execution_count": 95,
   "id": "240b339e-c76d-4b9e-a75e-078277480ab3",
   "metadata": {},
   "outputs": [
    {
     "data": {
      "text/plain": [
       "array([[-6.27012  , -5.004872 , -3.9073408, -2.0790188, -1.6947267,\n",
       "        -1.3955883, -1.2582062]], dtype=float32)"
      ]
     },
     "execution_count": 95,
     "metadata": {},
     "output_type": "execute_result"
    }
   ],
   "source": [
    "ref_model.gamma"
   ]
  },
  {
   "cell_type": "code",
   "execution_count": 96,
   "id": "2410466b-992a-420a-9cb3-7fd2b03f9431",
   "metadata": {},
   "outputs": [
    {
     "data": {
      "text/plain": [
       "array([[-6.2728357, -5.0074735, -3.9099472, -2.0814219, -1.697102 ,\n",
       "        -1.3979292, -1.2605323]], dtype=float32)"
      ]
     },
     "execution_count": 96,
     "metadata": {},
     "output_type": "execute_result"
    }
   ],
   "source": [
    "gamma_global"
   ]
  },
  {
   "cell_type": "code",
   "execution_count": 97,
   "id": "b8ac5eb2-8624-4522-8206-cfbbbdf981bb",
   "metadata": {},
   "outputs": [
    {
     "data": {
      "text/plain": [
       "0.0065759136"
      ]
     },
     "execution_count": 97,
     "metadata": {},
     "output_type": "execute_result"
    }
   ],
   "source": [
    "np.linalg.norm(ref_model.gamma - gamma_global)  "
   ]
  },
  {
   "cell_type": "code",
   "execution_count": null,
   "id": "a3ea47cd-f848-4756-a340-8d6e7f9f8e27",
   "metadata": {},
   "outputs": [],
   "source": []
  }
 ],
 "metadata": {
  "kernelspec": {
   "display_name": "Python 3 (ipykernel)",
   "language": "python",
   "name": "python3"
  },
  "language_info": {
   "codemirror_mode": {
    "name": "ipython",
    "version": 3
   },
   "file_extension": ".py",
   "mimetype": "text/x-python",
   "name": "python",
   "nbconvert_exporter": "python",
   "pygments_lexer": "ipython3",
   "version": "3.10.15"
  }
 },
 "nbformat": 4,
 "nbformat_minor": 5
}
