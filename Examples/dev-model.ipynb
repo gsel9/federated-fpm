{
 "cells": [
  {
   "cell_type": "code",
   "execution_count": 1,
   "id": "1b6617d2-2952-4ffb-a4b0-5972899444b3",
   "metadata": {},
   "outputs": [],
   "source": [
    "#import tensorflow as tf \n",
    "# https://sci-hub.se/10.1002/sim.1203\n",
    "# https://journals.sagepub.com/doi/pdf/10.1177/1536867x0900900206"
   ]
  },
  {
   "cell_type": "markdown",
   "id": "b209ebbd-e2ec-4270-a1d0-025a51d768ef",
   "metadata": {},
   "source": [
    "# Dataset"
   ]
  },
  {
   "cell_type": "code",
   "execution_count": 2,
   "id": "81bedd8e-9672-4261-8e73-a810cbda2a74",
   "metadata": {},
   "outputs": [
    {
     "name": "stdout",
     "output_type": "stream",
     "text": [
      "(432, 9)\n"
     ]
    },
    {
     "data": {
      "text/html": [
       "<div>\n",
       "<style scoped>\n",
       "    .dataframe tbody tr th:only-of-type {\n",
       "        vertical-align: middle;\n",
       "    }\n",
       "\n",
       "    .dataframe tbody tr th {\n",
       "        vertical-align: top;\n",
       "    }\n",
       "\n",
       "    .dataframe thead th {\n",
       "        text-align: right;\n",
       "    }\n",
       "</style>\n",
       "<table border=\"1\" class=\"dataframe\">\n",
       "  <thead>\n",
       "    <tr style=\"text-align: right;\">\n",
       "      <th></th>\n",
       "      <th>week</th>\n",
       "      <th>arrest</th>\n",
       "      <th>fin</th>\n",
       "      <th>age</th>\n",
       "      <th>race</th>\n",
       "      <th>wexp</th>\n",
       "      <th>mar</th>\n",
       "      <th>paro</th>\n",
       "      <th>prio</th>\n",
       "    </tr>\n",
       "  </thead>\n",
       "  <tbody>\n",
       "    <tr>\n",
       "      <th>0</th>\n",
       "      <td>20</td>\n",
       "      <td>1</td>\n",
       "      <td>0</td>\n",
       "      <td>27</td>\n",
       "      <td>1</td>\n",
       "      <td>0</td>\n",
       "      <td>0</td>\n",
       "      <td>1</td>\n",
       "      <td>3</td>\n",
       "    </tr>\n",
       "    <tr>\n",
       "      <th>1</th>\n",
       "      <td>17</td>\n",
       "      <td>1</td>\n",
       "      <td>0</td>\n",
       "      <td>18</td>\n",
       "      <td>1</td>\n",
       "      <td>0</td>\n",
       "      <td>0</td>\n",
       "      <td>1</td>\n",
       "      <td>8</td>\n",
       "    </tr>\n",
       "    <tr>\n",
       "      <th>2</th>\n",
       "      <td>25</td>\n",
       "      <td>1</td>\n",
       "      <td>0</td>\n",
       "      <td>19</td>\n",
       "      <td>0</td>\n",
       "      <td>1</td>\n",
       "      <td>0</td>\n",
       "      <td>1</td>\n",
       "      <td>13</td>\n",
       "    </tr>\n",
       "    <tr>\n",
       "      <th>3</th>\n",
       "      <td>52</td>\n",
       "      <td>0</td>\n",
       "      <td>1</td>\n",
       "      <td>23</td>\n",
       "      <td>1</td>\n",
       "      <td>1</td>\n",
       "      <td>1</td>\n",
       "      <td>1</td>\n",
       "      <td>1</td>\n",
       "    </tr>\n",
       "    <tr>\n",
       "      <th>4</th>\n",
       "      <td>52</td>\n",
       "      <td>0</td>\n",
       "      <td>0</td>\n",
       "      <td>19</td>\n",
       "      <td>0</td>\n",
       "      <td>1</td>\n",
       "      <td>0</td>\n",
       "      <td>1</td>\n",
       "      <td>3</td>\n",
       "    </tr>\n",
       "  </tbody>\n",
       "</table>\n",
       "</div>"
      ],
      "text/plain": [
       "   week  arrest  fin  age  race  wexp  mar  paro  prio\n",
       "0    20       1    0   27     1     0    0     1     3\n",
       "1    17       1    0   18     1     0    0     1     8\n",
       "2    25       1    0   19     0     1    0     1    13\n",
       "3    52       0    1   23     1     1    1     1     1\n",
       "4    52       0    0   19     0     1    0     1     3"
      ]
     },
     "execution_count": 2,
     "metadata": {},
     "output_type": "execute_result"
    }
   ],
   "source": [
    "import numpy as np \n",
    "import matplotlib.pyplot as plt \n",
    "\n",
    "from sksurv.metrics import concordance_index_censored\n",
    "from lifelines.datasets import load_rossi\n",
    "\n",
    "data = load_rossi()\n",
    "data.dropna(inplace=True)\n",
    "print(data.shape)\n",
    "data.head()"
   ]
  },
  {
   "cell_type": "code",
   "execution_count": 3,
   "id": "5f15f7ff-20c8-4ef0-8489-7ee4882cea41",
   "metadata": {},
   "outputs": [
    {
     "data": {
      "text/plain": [
       "(432, 7)"
      ]
     },
     "execution_count": 3,
     "metadata": {},
     "output_type": "execute_result"
    }
   ],
   "source": [
    "event_col = \"arrest\"\n",
    "duration_col = \"week\"\n",
    "\n",
    "X = data.drop(columns=[event_col, duration_col])\n",
    "X.shape"
   ]
  },
  {
   "cell_type": "markdown",
   "id": "77c893ee-6ac5-4820-8baf-b27c49ece092",
   "metadata": {},
   "source": [
    "# Train-test split"
   ]
  },
  {
   "cell_type": "code",
   "execution_count": 4,
   "id": "70865ad9-3292-4b40-8e28-92ed80c2dc77",
   "metadata": {},
   "outputs": [
    {
     "name": "stdout",
     "output_type": "stream",
     "text": [
      "(367, 9) (65, 9)\n"
     ]
    }
   ],
   "source": [
    "from sklearn.model_selection import train_test_split\n",
    "\n",
    "train_idx, test_idx = train_test_split(\n",
    "    range(data.shape[0]), test_size=0.15, random_state=42, stratify=data[event_col]\n",
    ")\n",
    "# Data splits\n",
    "data_train, data_test = data.iloc[train_idx], data.iloc[test_idx]\n",
    "print(data_train.shape, data_test.shape)\n",
    "\n",
    "# Feature matrix splits \n",
    "X_train, X_test = X.iloc[train_idx].values, X.iloc[test_idx].values"
   ]
  },
  {
   "cell_type": "markdown",
   "id": "0ef3d319-bf6f-4030-9b8b-c7576257b95c",
   "metadata": {},
   "source": [
    "# Pre-processing"
   ]
  },
  {
   "cell_type": "code",
   "execution_count": 5,
   "id": "58396969-a046-48ad-ad8e-f7eec3ff43cb",
   "metadata": {},
   "outputs": [],
   "source": [
    "from sksurv.util import Surv\n",
    "\n",
    "event_test = data_test[event_col].values\n",
    "event_train = data_train[event_col].values\n",
    "\n",
    "duration_test = data_test[duration_col].values\n",
    "duration_train = data_train[duration_col].values\n",
    "\n",
    "y_test = Surv.from_arrays(event=event_test.squeeze(), time=duration_test.squeeze())\n",
    "y_train = Surv.from_arrays(event=event_train.squeeze(), time=duration_train.squeeze())"
   ]
  },
  {
   "cell_type": "code",
   "execution_count": 6,
   "id": "35dbc8f8-c197-4f5f-a68d-461591d1b63d",
   "metadata": {},
   "outputs": [],
   "source": [
    "from sklearn.preprocessing import StandardScaler\n",
    "\n",
    "scaler = StandardScaler()\n",
    "X_train = scaler.fit_transform(X_train)\n",
    "X_test = scaler.transform(X_test)"
   ]
  },
  {
   "cell_type": "markdown",
   "id": "07369801-379e-4015-bba6-abf1bc83fa99",
   "metadata": {},
   "source": [
    "# Model fitting"
   ]
  },
  {
   "cell_type": "code",
   "execution_count": 7,
   "id": "56a726f2-700f-4414-9d15-1bb113b75866",
   "metadata": {},
   "outputs": [
    {
     "name": "stderr",
     "output_type": "stream",
     "text": [
      "2025-04-22 08:01:33.948390: I tensorflow/core/platform/cpu_feature_guard.cc:210] This TensorFlow binary is optimized to use available CPU instructions in performance-critical operations.\n",
      "To enable the following instructions: AVX2 FMA, in other operations, rebuild TensorFlow with the appropriate compiler flags.\n"
     ]
    },
    {
     "name": "stdout",
     "output_type": "stream",
     "text": [
      "(0.6364301271007379, 19561, 11167, 35, 1080)\n",
      "(0.6377497371188223, 606, 344, 1, 0)\n"
     ]
    }
   ],
   "source": [
    "from utils.model import Model\n",
    "\n",
    "model = Model(epochs=1)\n",
    "model.fit(X_train, y_train)\n",
    "\n",
    "# Coefficient at initialization \n",
    "from utils.data import init_params_cox, init_params_random\n",
    "beta, _ = init_params_cox(model.D, X_train, duration_train, event_train)\n",
    "#beta, _ = init_params_random(model.D, X_train, duration_train, event_train)\n",
    "\n",
    "# Baseline \n",
    "print(concordance_index_censored(event_train.astype(bool), duration_train, (X_train @ beta.T).squeeze()))\n",
    "print(concordance_index_censored(event_test.astype(bool), duration_test, (X_test @ beta.T).squeeze()))"
   ]
  },
  {
   "cell_type": "code",
   "execution_count": 8,
   "id": "d4bd563e-edb0-4d18-84d3-ac547196eeec",
   "metadata": {},
   "outputs": [
    {
     "name": "stdout",
     "output_type": "stream",
     "text": [
      "[-1.6385839 -1.3417188  0.6312399  3.0771575]\n",
      "[-0.07851909 -0.06506102  0.04337979 -0.03525626 -0.06878184  0.00143166\n",
      "  0.15083489]\n",
      "(0.6425738712089198, 19750, 10978, 35, 1080)\n",
      "(0.6156677181913774, 585, 365, 1, 0)\n"
     ]
    }
   ],
   "source": [
    "model = Model(epochs=500, learning_rate=0.01, alpha=10, l1_ratio=0)\n",
    "model.fit(X_train, y_train)\n",
    "\n",
    "print(model.gamma.squeeze())\n",
    "print(model.beta.squeeze())\n",
    "\n",
    "# Fitted model \n",
    "print(concordance_index_censored(event_train.astype(bool), duration_train, model.risk_score(X_train).squeeze()))\n",
    "print(concordance_index_censored(event_test.astype(bool), duration_test, model.risk_score(X_test).squeeze()))"
   ]
  },
  {
   "cell_type": "markdown",
   "id": "d2049eda-9050-489b-ab39-1ce1f4aae402",
   "metadata": {},
   "source": [
    "# Estimates "
   ]
  },
  {
   "cell_type": "code",
   "execution_count": 9,
   "id": "e57560b7-d46b-41ac-8492-3fc2ac2f9860",
   "metadata": {},
   "outputs": [
    {
     "data": {
      "text/plain": [
       "[<matplotlib.lines.Line2D at 0x14ac760e0>]"
      ]
     },
     "execution_count": 9,
     "metadata": {},
     "output_type": "execute_result"
    },
    {
     "data": {
      "image/png": "[encoded data removed]",
      "text/plain": [
       "<Figure size 640x480 with 1 Axes>"
      ]
     },
     "metadata": {},
     "output_type": "display_data"
    }
   ],
   "source": [
    "Sb = model.baseline_survival(duration_test)\n",
    "idx = np.argsort(duration_test)\n",
    "plt.figure()\n",
    "plt.plot(duration_test[idx], Sb[idx, 0])"
   ]
  },
  {
   "cell_type": "code",
   "execution_count": 10,
   "id": "15ece8e2-2980-470e-968e-a3cbb407a698",
   "metadata": {},
   "outputs": [
    {
     "data": {
      "text/plain": [
       "[<matplotlib.lines.Line2D at 0x14ad74cd0>]"
      ]
     },
     "execution_count": 10,
     "metadata": {},
     "output_type": "execute_result"
    },
    {
     "data": {
      "image/png": "[encoded data removed]",
      "text/plain": [
       "<Figure size 640x480 with 1 Axes>"
      ]
     },
     "metadata": {},
     "output_type": "display_data"
    }
   ],
   "source": [
    "S0 = model.survival_curve(X_test[0], duration_test)\n",
    "S1 = model.survival_curve(X_test[1], duration_test)\n",
    "\n",
    "plt.figure()\n",
    "idx = np.argsort(duration_test)\n",
    "plt.plot(duration_test[idx], S0[idx, 0])\n",
    "plt.plot(duration_test[idx], S1[idx, 0])"
   ]
  },
  {
   "cell_type": "code",
   "execution_count": null,
   "id": "af15ddd7-f360-46f7-b546-3b16f975ff8d",
   "metadata": {},
   "outputs": [],
   "source": []
  }
 ],
 "metadata": {
  "kernelspec": {
   "display_name": "Python 3 (ipykernel)",
   "language": "python",
   "name": "python3"
  },
  "language_info": {
   "codemirror_mode": {
    "name": "ipython",
    "version": 3
   },
   "file_extension": ".py",
   "mimetype": "text/x-python",
   "name": "python",
   "nbconvert_exporter": "python",
   "pygments_lexer": "ipython3",
   "version": "3.10.15"
  }
 },
 "nbformat": 4,
 "nbformat_minor": 5
}
