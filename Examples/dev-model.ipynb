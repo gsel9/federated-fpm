{
 "cells": [
  {
   "cell_type": "markdown",
   "id": "ac4de7e3-6cb0-4fc0-8e1d-d5787829fa68",
   "metadata": {},
   "source": [
    "# Fitting a single model "
   ]
  },
  {
   "cell_type": "code",
   "execution_count": 16,
   "id": "1b6617d2-2952-4ffb-a4b0-5972899444b3",
   "metadata": {},
   "outputs": [],
   "source": [
    "#import tensorflow as tf \n",
    "# https://sci-hub.se/10.1002/sim.1203\n",
    "# https://journals.sagepub.com/doi/pdf/10.1177/1536867x0900900206"
   ]
  },
  {
   "cell_type": "markdown",
   "id": "b209ebbd-e2ec-4270-a1d0-025a51d768ef",
   "metadata": {},
   "source": [
    "# Dataset"
   ]
  },
  {
   "cell_type": "code",
   "execution_count": 17,
   "id": "81bedd8e-9672-4261-8e73-a810cbda2a74",
   "metadata": {},
   "outputs": [
    {
     "name": "stdout",
     "output_type": "stream",
     "text": [
      "(432, 9)\n"
     ]
    },
    {
     "data": {
      "text/html": [
       "<div>\n",
       "<style scoped>\n",
       "    .dataframe tbody tr th:only-of-type {\n",
       "        vertical-align: middle;\n",
       "    }\n",
       "\n",
       "    .dataframe tbody tr th {\n",
       "        vertical-align: top;\n",
       "    }\n",
       "\n",
       "    .dataframe thead th {\n",
       "        text-align: right;\n",
       "    }\n",
       "</style>\n",
       "<table border=\"1\" class=\"dataframe\">\n",
       "  <thead>\n",
       "    <tr style=\"text-align: right;\">\n",
       "      <th></th>\n",
       "      <th>week</th>\n",
       "      <th>arrest</th>\n",
       "      <th>fin</th>\n",
       "      <th>age</th>\n",
       "      <th>race</th>\n",
       "      <th>wexp</th>\n",
       "      <th>mar</th>\n",
       "      <th>paro</th>\n",
       "      <th>prio</th>\n",
       "    </tr>\n",
       "  </thead>\n",
       "  <tbody>\n",
       "    <tr>\n",
       "      <th>0</th>\n",
       "      <td>20</td>\n",
       "      <td>1</td>\n",
       "      <td>0</td>\n",
       "      <td>27</td>\n",
       "      <td>1</td>\n",
       "      <td>0</td>\n",
       "      <td>0</td>\n",
       "      <td>1</td>\n",
       "      <td>3</td>\n",
       "    </tr>\n",
       "    <tr>\n",
       "      <th>1</th>\n",
       "      <td>17</td>\n",
       "      <td>1</td>\n",
       "      <td>0</td>\n",
       "      <td>18</td>\n",
       "      <td>1</td>\n",
       "      <td>0</td>\n",
       "      <td>0</td>\n",
       "      <td>1</td>\n",
       "      <td>8</td>\n",
       "    </tr>\n",
       "    <tr>\n",
       "      <th>2</th>\n",
       "      <td>25</td>\n",
       "      <td>1</td>\n",
       "      <td>0</td>\n",
       "      <td>19</td>\n",
       "      <td>0</td>\n",
       "      <td>1</td>\n",
       "      <td>0</td>\n",
       "      <td>1</td>\n",
       "      <td>13</td>\n",
       "    </tr>\n",
       "    <tr>\n",
       "      <th>3</th>\n",
       "      <td>52</td>\n",
       "      <td>0</td>\n",
       "      <td>1</td>\n",
       "      <td>23</td>\n",
       "      <td>1</td>\n",
       "      <td>1</td>\n",
       "      <td>1</td>\n",
       "      <td>1</td>\n",
       "      <td>1</td>\n",
       "    </tr>\n",
       "    <tr>\n",
       "      <th>4</th>\n",
       "      <td>52</td>\n",
       "      <td>0</td>\n",
       "      <td>0</td>\n",
       "      <td>19</td>\n",
       "      <td>0</td>\n",
       "      <td>1</td>\n",
       "      <td>0</td>\n",
       "      <td>1</td>\n",
       "      <td>3</td>\n",
       "    </tr>\n",
       "  </tbody>\n",
       "</table>\n",
       "</div>"
      ],
      "text/plain": [
       "   week  arrest  fin  age  race  wexp  mar  paro  prio\n",
       "0    20       1    0   27     1     0    0     1     3\n",
       "1    17       1    0   18     1     0    0     1     8\n",
       "2    25       1    0   19     0     1    0     1    13\n",
       "3    52       0    1   23     1     1    1     1     1\n",
       "4    52       0    0   19     0     1    0     1     3"
      ]
     },
     "execution_count": 17,
     "metadata": {},
     "output_type": "execute_result"
    }
   ],
   "source": [
    "import numpy as np \n",
    "import matplotlib.pyplot as plt \n",
    "\n",
    "from lifelines.datasets import load_rossi\n",
    "from sksurv.metrics import concordance_index_censored\n",
    "\n",
    "from utils.model import Model \n",
    "\n",
    "data = load_rossi()\n",
    "data.dropna(inplace=True)\n",
    "print(data.shape)\n",
    "data.head()"
   ]
  },
  {
   "cell_type": "code",
   "execution_count": 18,
   "id": "5f15f7ff-20c8-4ef0-8489-7ee4882cea41",
   "metadata": {},
   "outputs": [
    {
     "data": {
      "text/plain": [
       "(432, 7)"
      ]
     },
     "execution_count": 18,
     "metadata": {},
     "output_type": "execute_result"
    }
   ],
   "source": [
    "event_col = \"arrest\"\n",
    "duration_col = \"week\"\n",
    "\n",
    "X = data.drop(columns=[event_col, duration_col])\n",
    "X.shape"
   ]
  },
  {
   "cell_type": "markdown",
   "id": "77c893ee-6ac5-4820-8baf-b27c49ece092",
   "metadata": {},
   "source": [
    "# Train-test split"
   ]
  },
  {
   "cell_type": "code",
   "execution_count": 19,
   "id": "218a4f81-2dce-4c51-b537-d9510f66e7a1",
   "metadata": {},
   "outputs": [
    {
     "name": "stdout",
     "output_type": "stream",
     "text": [
      "(345, 9) (87, 9)\n"
     ]
    }
   ],
   "source": [
    "from utils.data import train_test_splitting\n",
    "\n",
    "train_idx, test_idx = train_test_splitting(\n",
    "    np.arange(data.shape[0]), test_size=0.2, stratify=data[event_col].squeeze().astype(int)\n",
    ")\n",
    "# Data splits\n",
    "data_train, data_test = data.iloc[train_idx], data.iloc[test_idx]\n",
    "print(data_train.shape, data_test.shape)"
   ]
  },
  {
   "cell_type": "code",
   "execution_count": 20,
   "id": "f6295240-5d84-4133-9749-772291e98d82",
   "metadata": {},
   "outputs": [],
   "source": [
    "duration_train = data_train[duration_col].to_numpy().squeeze()\n",
    "duration_test = data_test[duration_col].to_numpy().squeeze()\n",
    "\n",
    "event_train = data_train[event_col].to_numpy().squeeze()\n",
    "event_test = data_test[event_col].to_numpy().squeeze()"
   ]
  },
  {
   "cell_type": "code",
   "execution_count": 21,
   "id": "5f7b6795-8c57-4f92-8a1b-dc071c007ecb",
   "metadata": {},
   "outputs": [
    {
     "name": "stdout",
     "output_type": "stream",
     "text": [
      "(345,) (87,)\n"
     ]
    }
   ],
   "source": [
    "from sksurv.util import Surv\n",
    "# Create structured arrays\n",
    "y_train = Surv.from_arrays(event=event_train, time=duration_train)\n",
    "y_test = Surv.from_arrays(event=event_test, time=duration_test)\n",
    "print(y_train.shape, y_test.shape)"
   ]
  },
  {
   "cell_type": "markdown",
   "id": "0ef3d319-bf6f-4030-9b8b-c7576257b95c",
   "metadata": {},
   "source": [
    "# Pre-processing"
   ]
  },
  {
   "cell_type": "code",
   "execution_count": 22,
   "id": "2668a9a9-3e2c-4f39-b6e0-e11ca671c803",
   "metadata": {},
   "outputs": [],
   "source": [
    "from utils.data import feature_scaling\n",
    "# Scale features with Z-score transfrom \n",
    "X_train, X_test = feature_scaling(X.iloc[train_idx].values, X.iloc[test_idx].values)"
   ]
  },
  {
   "cell_type": "code",
   "execution_count": 23,
   "id": "8ad7f58b-8d93-4498-a293-c0f894c3f08c",
   "metadata": {},
   "outputs": [
    {
     "data": {
      "text/plain": [
       "(0.0, 3.9512437185814275)"
      ]
     },
     "execution_count": 23,
     "metadata": {},
     "output_type": "execute_result"
    }
   ],
   "source": [
    "from utils.data import init_knots\n",
    "# Set knot locations \n",
    "knots = init_knots(duration_train, event_train, n_knots=5)\n",
    "min(knots), max(knots)"
   ]
  },
  {
   "cell_type": "markdown",
   "id": "f7c826e1-c02a-4784-9a72-e6372119cb43",
   "metadata": {},
   "source": [
    "# Initialize parameters"
   ]
  },
  {
   "cell_type": "code",
   "execution_count": 24,
   "id": "3b4522a1-5751-475d-9f67-dd7c0881b2fa",
   "metadata": {},
   "outputs": [],
   "source": [
    "from utils.data import init_gamma, init_beta\n",
    "from utils.splines import bspline_design_matrix\n",
    "\n",
    "# Create one spline equation per time point \n",
    "D = bspline_design_matrix(np.log(duration_train), knots)\n",
    "\n",
    "# Initialize gamma coefficients\n",
    "gamma = init_gamma(D, duration_train)\n",
    "\n",
    "# Initialize beta coefficients\n",
    "beta = init_beta(X_train, y_train)"
   ]
  },
  {
   "cell_type": "markdown",
   "id": "4a00773d-0ece-4015-b890-3a82e31d2b5a",
   "metadata": {},
   "source": [
    "# Model fitting"
   ]
  },
  {
   "cell_type": "code",
   "execution_count": 25,
   "id": "51902ebc-8004-496c-ace3-faf75f74cfb0",
   "metadata": {},
   "outputs": [
    {
     "name": "stdout",
     "output_type": "stream",
     "text": [
      "(0.6453319081493495, 17493, 9607, 31, 1016)\n",
      "(0.614335461404527, 1058, 664, 1, 0)\n"
     ]
    }
   ],
   "source": [
    "# Performance *without* training \n",
    "model = Model(epochs=1, knots=knots, learning_rate=0.01, l2_lambda=0)\n",
    "model.set_params({\"beta\": beta, \"gamma\": gamma}) \n",
    "\n",
    "print(concordance_index_censored(event_train.astype(bool), duration_train, model.risk_score(X_train).squeeze()))\n",
    "print(concordance_index_censored(event_test.astype(bool), duration_test, model.risk_score(X_test).squeeze()))"
   ]
  },
  {
   "cell_type": "code",
   "execution_count": 26,
   "id": "ab6fdb80-90e2-47f2-b589-d5fadb60b562",
   "metadata": {},
   "outputs": [
    {
     "name": "stdout",
     "output_type": "stream",
     "text": [
      "(0.6478382661899672, 17561, 9539, 31, 1016)\n",
      "(0.5946024376088218, 1024, 698, 1, 0)\n"
     ]
    },
    {
     "data": {
      "text/plain": [
       "[<matplotlib.lines.Line2D at 0x14ea837f0>]"
      ]
     },
     "execution_count": 26,
     "metadata": {},
     "output_type": "execute_result"
    },
    {
     "data": {
      "image/png": "[encoded data removed]",
      "text/plain": [
       "<Figure size 600x400 with 1 Axes>"
      ]
     },
     "metadata": {},
     "output_type": "display_data"
    }
   ],
   "source": [
    "# Performance *with* training \n",
    "model = Model(epochs=300, knots=knots, learning_rate=0.01, l2_lambda=0)\n",
    "model.set_params({\"beta\": beta, \"gamma\": gamma})\n",
    "model.fit(X_train, y_train)\n",
    "\n",
    "print(concordance_index_censored(event_train.astype(bool), duration_train, model.risk_score(X_train).squeeze()))\n",
    "print(concordance_index_censored(event_test.astype(bool), duration_test, model.risk_score(X_test).squeeze()))\n",
    "\n",
    "plt.figure(figsize=(6, 4))\n",
    "plt.plot(model.losses)"
   ]
  },
  {
   "cell_type": "markdown",
   "id": "d2049eda-9050-489b-ab39-1ce1f4aae402",
   "metadata": {},
   "source": [
    "# Estimates "
   ]
  },
  {
   "cell_type": "code",
   "execution_count": 27,
   "id": "15ece8e2-2980-470e-968e-a3cbb407a698",
   "metadata": {},
   "outputs": [
    {
     "data": {
      "text/plain": [
       "[<matplotlib.lines.Line2D at 0x14eb2c460>]"
      ]
     },
     "execution_count": 27,
     "metadata": {},
     "output_type": "execute_result"
    },
    {
     "data": {
      "image/png": "[encoded data removed]",
      "text/plain": [
       "<Figure size 640x480 with 1 Axes>"
      ]
     },
     "metadata": {},
     "output_type": "display_data"
    }
   ],
   "source": [
    "# NOTE: The model is highly sensitive to the initialization of beta and gamma. \n",
    "# Using least-squares method for to initialize gamma yields inverted survival curves.  \n",
    "\n",
    "S0 = model.survival_curve(X_test[0], duration_test)\n",
    "S1 = model.survival_curve(X_test[1], duration_test)\n",
    "\n",
    "plt.figure()\n",
    "idx = np.argsort(duration_test)\n",
    "plt.plot(duration_test[idx], S0[idx, 0])\n",
    "plt.plot(duration_test[idx], S1[idx, 0])"
   ]
  },
  {
   "cell_type": "code",
   "execution_count": 28,
   "id": "5c9f1ff5-7a61-404d-b62b-2e66a0ff9b9c",
   "metadata": {},
   "outputs": [
    {
     "data": {
      "text/plain": [
       "array([[-2.0446634 , -0.8762957 ,  0.27852935,  1.571357  ,  1.8562931 ,\n",
       "         2.0425303 ,  2.125652  ]], dtype=float32)"
      ]
     },
     "execution_count": 28,
     "metadata": {},
     "output_type": "execute_result"
    }
   ],
   "source": [
    "model.gamma "
   ]
  },
  {
   "cell_type": "code",
   "execution_count": 29,
   "id": "19c5d842-3839-4863-a1be-c6d2013d46ef",
   "metadata": {},
   "outputs": [
    {
     "data": {
      "text/plain": [
       "10.395622639409336"
      ]
     },
     "execution_count": 29,
     "metadata": {},
     "output_type": "execute_result"
    }
   ],
   "source": [
    "other = np.array([[-6.67408752, -5.26711798, -3.89006603, -2.04501569, -1.76995605,\n",
    "        -1.4463976 , -1.27735287]])\n",
    "np.linalg.norm(other - model.gamma )"
   ]
  },
  {
   "cell_type": "code",
   "execution_count": null,
   "id": "a5fb81bc-644f-4e0f-b168-0e5af2437209",
   "metadata": {},
   "outputs": [],
   "source": []
  }
 ],
 "metadata": {
  "kernelspec": {
   "display_name": "Python 3 (ipykernel)",
   "language": "python",
   "name": "python3"
  },
  "language_info": {
   "codemirror_mode": {
    "name": "ipython",
    "version": 3
   },
   "file_extension": ".py",
   "mimetype": "text/x-python",
   "name": "python",
   "nbconvert_exporter": "python",
   "pygments_lexer": "ipython3",
   "version": "3.10.15"
  }
 },
 "nbformat": 4,
 "nbformat_minor": 5
}
