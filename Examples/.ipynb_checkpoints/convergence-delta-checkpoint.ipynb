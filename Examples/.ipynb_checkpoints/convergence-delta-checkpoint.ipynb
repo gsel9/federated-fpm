{
 "cells": [
  {
   "cell_type": "markdown",
   "id": "ab96b5f9-a64e-4ca5-869d-d6223ef4ec53",
   "metadata": {},
   "source": [
    "# Data"
   ]
  },
  {
   "cell_type": "code",
   "execution_count": 1,
   "id": "81d74d6b-a16e-4b6e-98d3-d7b889399953",
   "metadata": {},
   "outputs": [
    {
     "name": "stdout",
     "output_type": "stream",
     "text": [
      "(432, 9)\n"
     ]
    },
    {
     "data": {
      "text/html": [
       "<div>\n",
       "<style scoped>\n",
       "    .dataframe tbody tr th:only-of-type {\n",
       "        vertical-align: middle;\n",
       "    }\n",
       "\n",
       "    .dataframe tbody tr th {\n",
       "        vertical-align: top;\n",
       "    }\n",
       "\n",
       "    .dataframe thead th {\n",
       "        text-align: right;\n",
       "    }\n",
       "</style>\n",
       "<table border=\"1\" class=\"dataframe\">\n",
       "  <thead>\n",
       "    <tr style=\"text-align: right;\">\n",
       "      <th></th>\n",
       "      <th>week</th>\n",
       "      <th>arrest</th>\n",
       "      <th>fin</th>\n",
       "      <th>age</th>\n",
       "      <th>race</th>\n",
       "      <th>wexp</th>\n",
       "      <th>mar</th>\n",
       "      <th>paro</th>\n",
       "      <th>prio</th>\n",
       "    </tr>\n",
       "  </thead>\n",
       "  <tbody>\n",
       "    <tr>\n",
       "      <th>0</th>\n",
       "      <td>20</td>\n",
       "      <td>1</td>\n",
       "      <td>0</td>\n",
       "      <td>27</td>\n",
       "      <td>1</td>\n",
       "      <td>0</td>\n",
       "      <td>0</td>\n",
       "      <td>1</td>\n",
       "      <td>3</td>\n",
       "    </tr>\n",
       "    <tr>\n",
       "      <th>1</th>\n",
       "      <td>17</td>\n",
       "      <td>1</td>\n",
       "      <td>0</td>\n",
       "      <td>18</td>\n",
       "      <td>1</td>\n",
       "      <td>0</td>\n",
       "      <td>0</td>\n",
       "      <td>1</td>\n",
       "      <td>8</td>\n",
       "    </tr>\n",
       "    <tr>\n",
       "      <th>2</th>\n",
       "      <td>25</td>\n",
       "      <td>1</td>\n",
       "      <td>0</td>\n",
       "      <td>19</td>\n",
       "      <td>0</td>\n",
       "      <td>1</td>\n",
       "      <td>0</td>\n",
       "      <td>1</td>\n",
       "      <td>13</td>\n",
       "    </tr>\n",
       "    <tr>\n",
       "      <th>3</th>\n",
       "      <td>52</td>\n",
       "      <td>0</td>\n",
       "      <td>1</td>\n",
       "      <td>23</td>\n",
       "      <td>1</td>\n",
       "      <td>1</td>\n",
       "      <td>1</td>\n",
       "      <td>1</td>\n",
       "      <td>1</td>\n",
       "    </tr>\n",
       "    <tr>\n",
       "      <th>4</th>\n",
       "      <td>52</td>\n",
       "      <td>0</td>\n",
       "      <td>0</td>\n",
       "      <td>19</td>\n",
       "      <td>0</td>\n",
       "      <td>1</td>\n",
       "      <td>0</td>\n",
       "      <td>1</td>\n",
       "      <td>3</td>\n",
       "    </tr>\n",
       "  </tbody>\n",
       "</table>\n",
       "</div>"
      ],
      "text/plain": [
       "   week  arrest  fin  age  race  wexp  mar  paro  prio\n",
       "0    20       1    0   27     1     0    0     1     3\n",
       "1    17       1    0   18     1     0    0     1     8\n",
       "2    25       1    0   19     0     1    0     1    13\n",
       "3    52       0    1   23     1     1    1     1     1\n",
       "4    52       0    0   19     0     1    0     1     3"
      ]
     },
     "execution_count": 1,
     "metadata": {},
     "output_type": "execute_result"
    }
   ],
   "source": [
    "import numpy as np \n",
    "import matplotlib.pyplot as plt \n",
    "\n",
    "from lifelines.datasets import load_rossi\n",
    "from sksurv.metrics import concordance_index_censored\n",
    "\n",
    "data = load_rossi()\n",
    "data.dropna(inplace=True)\n",
    "print(data.shape)\n",
    "data.head()"
   ]
  },
  {
   "cell_type": "code",
   "execution_count": 2,
   "id": "e1976584-3613-434e-8c75-821959e4dffa",
   "metadata": {},
   "outputs": [
    {
     "data": {
      "text/plain": [
       "(432, 7)"
      ]
     },
     "execution_count": 2,
     "metadata": {},
     "output_type": "execute_result"
    }
   ],
   "source": [
    "event_col = \"arrest\"\n",
    "duration_col = \"week\"\n",
    "\n",
    "X = data.drop(columns=[event_col, duration_col])\n",
    "X.shape"
   ]
  },
  {
   "cell_type": "code",
   "execution_count": 3,
   "id": "caaacf02-99ff-4633-9457-ec40ee9c1997",
   "metadata": {},
   "outputs": [],
   "source": [
    "duration = data[duration_col].to_numpy().squeeze()\n",
    "event = data[event_col].to_numpy().squeeze()"
   ]
  },
  {
   "cell_type": "code",
   "execution_count": 4,
   "id": "a7f4e36a-2980-45e7-8c04-f4faa639af74",
   "metadata": {},
   "outputs": [],
   "source": [
    "from sksurv.util import Surv\n",
    "# Create structured arrays\n",
    "y = Surv.from_arrays(event=event, time=duration)"
   ]
  },
  {
   "cell_type": "markdown",
   "id": "f22a1ff6-a62d-4472-ad4c-3877844b3c03",
   "metadata": {},
   "source": [
    "# Pre-processing "
   ]
  },
  {
   "cell_type": "code",
   "execution_count": 5,
   "id": "c0eab75b-0b3c-417c-b9ae-25110a7327e2",
   "metadata": {},
   "outputs": [],
   "source": [
    "from utils.data import feature_scaling\n",
    "# Scale features with Z-score transfrom \n",
    "X = feature_scaling(X)"
   ]
  },
  {
   "cell_type": "code",
   "execution_count": 6,
   "id": "0da62f2c-83a1-4d33-b241-cdcfb36d057d",
   "metadata": {},
   "outputs": [
    {
     "data": {
      "text/plain": [
       "(0.0, 3.9512437185814275)"
      ]
     },
     "execution_count": 6,
     "metadata": {},
     "output_type": "execute_result"
    }
   ],
   "source": [
    "from utils.data import init_knots\n",
    "# Set knot locations \n",
    "knots = init_knots(duration, event, n_knots=5)\n",
    "min(knots), max(knots)"
   ]
  },
  {
   "cell_type": "markdown",
   "id": "6396a3bd-c31d-4072-8007-abe0013fa67f",
   "metadata": {},
   "source": [
    "# Initialize clients "
   ]
  },
  {
   "cell_type": "code",
   "execution_count": 7,
   "id": "b4fe0f66-5ef7-477b-9597-c2a285e181f0",
   "metadata": {},
   "outputs": [],
   "source": [
    "N_SPLITS = 3\n",
    "DATA_SPLIT_IDX = [np.arange(data.shape[0])] * N_SPLITS  #np.array_split(np.arange(data.shape[0]), N_SPLITS)"
   ]
  },
  {
   "cell_type": "code",
   "execution_count": 8,
   "id": "a7608b04-997e-442e-b630-b008b7e52404",
   "metadata": {},
   "outputs": [
    {
     "name": "stderr",
     "output_type": "stream",
     "text": [
      "2025-05-19 14:29:08.252618: I tensorflow/core/platform/cpu_feature_guard.cc:210] This TensorFlow binary is optimized to use available CPU instructions in performance-critical operations.\n",
      "To enable the following instructions: AVX2 FMA, in other operations, rebuild TensorFlow with the appropriate compiler flags.\n"
     ]
    }
   ],
   "source": [
    "from utils.client import Client \n",
    "\n",
    "participants = [] \n",
    "\n",
    "rho = 1\n",
    "\n",
    "for idx in DATA_SPLIT_IDX:\n",
    "    # Init client objects with mutually exclusive data samples \n",
    "    client = Client(data.iloc[idx], n_knots=5, n_epochs=1, event_col=event_col, duration_col=duration_col, rho=rho)\n",
    "    # Apply data pre-processing steps \n",
    "    client.preprocess_data(train_test_split=False)\n",
    "    # Initialize model and parameters \n",
    "    client.init_model(local_knots=False, knots=knots)\n",
    "\n",
    "    participants.append(client)"
   ]
  },
  {
   "cell_type": "markdown",
   "id": "ba8dbe74-502c-42d0-be37-241380a7f2f9",
   "metadata": {},
   "source": [
    "# Initialize parameters"
   ]
  },
  {
   "cell_type": "code",
   "execution_count": 9,
   "id": "17d2b759-a891-4032-bfc0-0866f67c6e9e",
   "metadata": {},
   "outputs": [],
   "source": [
    "from utils.data import init_gamma, init_beta\n",
    "from utils.splines import bspline_design_matrix\n",
    "\n",
    "# Create one spline equation per time point \n",
    "D = bspline_design_matrix(np.log(duration), knots)\n",
    "\n",
    "# Initialize gamma coefficients\n",
    "gamma = init_gamma(D, duration)\n",
    "\n",
    "# Initialize beta coefficients\n",
    "beta = init_beta(X, y)"
   ]
  },
  {
   "cell_type": "code",
   "execution_count": 10,
   "id": "48fe3d01-56b0-41f1-afb6-8590ceb9c72d",
   "metadata": {},
   "outputs": [],
   "source": [
    "for client in participants:\n",
    "    client.set_params({\"beta\": beta, \"gamma\": gamma})"
   ]
  },
  {
   "cell_type": "markdown",
   "id": "451c8394-8b85-42e8-82fa-bc74721272b6",
   "metadata": {},
   "source": [
    "# Fit clients "
   ]
  },
  {
   "cell_type": "code",
   "execution_count": 11,
   "id": "e4105f81-49e6-4dad-96a3-a74049551e37",
   "metadata": {},
   "outputs": [],
   "source": [
    "# Global variables \n",
    "beta_global = np.zeros_like(client.beta)\n",
    "gamma_global = np.zeros_like(client.gamma)"
   ]
  },
  {
   "cell_type": "code",
   "execution_count": 12,
   "id": "3f97dc53-4930-4fd2-bcd7-26830561403c",
   "metadata": {},
   "outputs": [
    {
     "name": "stdout",
     "output_type": "stream",
     "text": [
      "Iter 0: 0.04710008374088796; 0.7705737148079418\n",
      "Iter 800: 0.004071141875071707; 0.004070856596885532\n",
      "Iter 1600: 0.003763880476943141; 0.0037637211842344457\n",
      "Iter 2400: 0.0032898009685620065; 0.003289657311150843\n",
      "Iter 3200: 0.002700067332755695; 0.002699934263177776\n",
      "Iter 4000: 0.0020561024822113604; 0.0020559997234449196\n",
      "Iter 4800: 0.0014221632712796968; 0.0014220664495810857\n",
      "Iter 5600: 0.0008586873332335139; 0.0008585970697777337\n",
      "Iter 6400: 0.0004170726732981358; 0.00041701149114312726\n",
      "Iter 7200: 0.00013608716600773866; 0.00013604093469382286\n"
     ]
    },
    {
     "data": {
      "text/plain": [
       "[<matplotlib.lines.Line2D at 0x146e77f70>]"
      ]
     },
     "execution_count": 12,
     "metadata": {},
     "output_type": "execute_result"
    },
    {
     "data": {
      "image/png": "[encoded data removed]",
      "text/plain": [
       "<Figure size 640x480 with 1 Axes>"
      ]
     },
     "metadata": {},
     "output_type": "display_data"
    }
   ],
   "source": [
    "def has_converged(params, params_other, eps=1e-5):\n",
    "    return np.linalg.norm(params_other - params) <= eps \n",
    "\n",
    "\n",
    "def cosine_annealing_lr(epoch, max_epochs, initial_lr=0.1, min_lr=0.001):\n",
    "    \"\"\"\n",
    "    Cosine annealing learning rate scheduler.\n",
    "    \"\"\"\n",
    "    cos_inner = np.pi * epoch / max_epochs\n",
    "    lr = min_lr + 0.5 * (initial_lr - min_lr) * (1 + np.cos(cos_inner))\n",
    "    return lr\n",
    "\n",
    "\n",
    "# GLobal iterations \n",
    "n_iter = 15000\n",
    "\n",
    "losses = []\n",
    "\n",
    "for i in range(n_iter):\n",
    "\n",
    "    delta_beta, delta_gamma, last_local_losses = [], [], []\n",
    "    \n",
    "    for c, client in enumerate(participants):\n",
    "\n",
    "        # Previous delta estimate \n",
    "        delta_beta_prev = client.beta + client.u_beta / rho\n",
    "        delta_gamma_prev = client.gamma + client.u_gamma / rho\n",
    "\n",
    "        # Update model params \n",
    "        client.fit_model_fedadmm(beta_global, gamma_global)\n",
    "\n",
    "        # Update duals \n",
    "        client.update_duals(beta_global, gamma_global)\n",
    "\n",
    "        # Next delta estimate \n",
    "        delta_beta_next = client.beta + client.u_beta / rho\n",
    "        delta_gamma_next = client.gamma + client.u_gamma / rho\n",
    "\n",
    "        delta_beta.append(delta_beta_next - delta_beta_prev)\n",
    "        delta_gamma.append(delta_gamma_next - delta_gamma_prev)\n",
    "\n",
    "        # Trace training loss \n",
    "        last_local_losses.append(client.loss)\n",
    "\n",
    "    losses.append(np.mean(last_local_losses))\n",
    "\n",
    "    # Update previous parameter estimate \n",
    "    beta_global_prev = beta_global.copy()\n",
    "    gamma_global_prev = gamma_global.copy()\n",
    "\n",
    "    # Global update\n",
    "    lrate = cosine_annealing_lr(i, n_iter)    \n",
    "    beta_global += lrate * np.mean(delta_beta, axis=0)\n",
    "    gamma_global += lrate * np.mean(delta_gamma, axis=0)\n",
    "    \n",
    "    if has_converged(beta_global, beta_global_prev) and has_converged(gamma_global, gamma_global_prev):\n",
    "        print(f\"Converged after {i} iterations\")\n",
    "        break \n",
    "\n",
    "    if i % (n_iter / 10) == 0:\n",
    "        change_beta = np.linalg.norm(beta_global - beta_global_prev) \n",
    "        change_gamma = np.linalg.norm(gamma_global - gamma_global_prev)\n",
    "        print(f\"Iter {i}: {change_beta}; {change_gamma}\")\n",
    "\n",
    "\n",
    "plt.figure()\n",
    "plt.plot(losses)\n",
    "# PROBLEM: The difference between consecutive parameter estimates seem to be converging. \n",
    "# This could mean that consecutive estimates alternative between similar solutions. "
   ]
  },
  {
   "cell_type": "markdown",
   "id": "99b53061-bd91-4027-8dd2-09bf4ec68772",
   "metadata": {},
   "source": [
    "# Fit reference model "
   ]
  },
  {
   "cell_type": "code",
   "execution_count": 13,
   "id": "bcbf51c9-4145-44dc-a540-5d009f1a0e13",
   "metadata": {},
   "outputs": [
    {
     "name": "stdout",
     "output_type": "stream",
     "text": [
      "Converged after 5714 iterations\n"
     ]
    },
    {
     "data": {
      "text/plain": [
       "[<matplotlib.lines.Line2D at 0x139281900>]"
      ]
     },
     "execution_count": 13,
     "metadata": {},
     "output_type": "execute_result"
    },
    {
     "data": {
      "image/png": "[encoded data removed]",
      "text/plain": [
       "<Figure size 640x480 with 1 Axes>"
      ]
     },
     "metadata": {},
     "output_type": "display_data"
    }
   ],
   "source": [
    "from utils.model import Model\n",
    "\n",
    "ref_model = Model(epochs=n_iter, knots=knots, learning_rate=0.01, l2_lambda=1)\n",
    "ref_model.set_params({\"beta\": beta, \"gamma\": gamma}) \n",
    "ref_model.fit(X, y, tol=1e-5)\n",
    "\n",
    "plt.figure()\n",
    "plt.plot(ref_model.losses)"
   ]
  },
  {
   "cell_type": "code",
   "execution_count": 14,
   "id": "ed31913d-51be-429c-bebd-bd5849010048",
   "metadata": {},
   "outputs": [
    {
     "data": {
      "text/plain": [
       "array([[-0.1827855 , -0.32915616,  0.09825834, -0.07604485, -0.13582215,\n",
       "        -0.03850739,  0.25675514]], dtype=float32)"
      ]
     },
     "execution_count": 14,
     "metadata": {},
     "output_type": "execute_result"
    }
   ],
   "source": [
    "ref_model.beta"
   ]
  },
  {
   "cell_type": "code",
   "execution_count": 15,
   "id": "28603146-1ce9-465c-9bd7-4f0130668b60",
   "metadata": {},
   "outputs": [
    {
     "data": {
      "text/plain": [
       "array([[-0.09511655, -0.15444185,  0.05748535, -0.05972062, -0.06698716,\n",
       "        -0.0164962 ,  0.14853828]])"
      ]
     },
     "execution_count": 15,
     "metadata": {},
     "output_type": "execute_result"
    }
   ],
   "source": [
    "beta_global"
   ]
  },
  {
   "cell_type": "code",
   "execution_count": 16,
   "id": "aa08aa44-7515-4d10-a43a-bcb8b85f2218",
   "metadata": {},
   "outputs": [
    {
     "data": {
      "text/plain": [
       "0.23890058825479582"
      ]
     },
     "execution_count": 16,
     "metadata": {},
     "output_type": "execute_result"
    }
   ],
   "source": [
    "np.linalg.norm(ref_model.beta - beta_global)"
   ]
  },
  {
   "cell_type": "code",
   "execution_count": 17,
   "id": "240b339e-c76d-4b9e-a75e-078277480ab3",
   "metadata": {},
   "outputs": [
    {
     "data": {
      "text/plain": [
       "array([[-6.27012  , -5.004872 , -3.9073408, -2.0790188, -1.6947267,\n",
       "        -1.3955883, -1.2582062]], dtype=float32)"
      ]
     },
     "execution_count": 17,
     "metadata": {},
     "output_type": "execute_result"
    }
   ],
   "source": [
    "ref_model.gamma"
   ]
  },
  {
   "cell_type": "code",
   "execution_count": 18,
   "id": "2410466b-992a-420a-9cb3-7fd2b03f9431",
   "metadata": {},
   "outputs": [
    {
     "data": {
      "text/plain": [
       "array([[-2.06428502, -1.85199601, -1.9798786 , -1.19745026, -0.95554532,\n",
       "        -0.76899097, -0.68374934]])"
      ]
     },
     "execution_count": 18,
     "metadata": {},
     "output_type": "execute_result"
    }
   ],
   "source": [
    "gamma_global"
   ]
  },
  {
   "cell_type": "code",
   "execution_count": 19,
   "id": "b8ac5eb2-8624-4522-8206-cfbbbdf981bb",
   "metadata": {},
   "outputs": [
    {
     "data": {
      "text/plain": [
       "5.778491386606992"
      ]
     },
     "execution_count": 19,
     "metadata": {},
     "output_type": "execute_result"
    }
   ],
   "source": [
    "np.linalg.norm(ref_model.gamma - gamma_global)"
   ]
  },
  {
   "cell_type": "code",
   "execution_count": null,
   "id": "a3ea47cd-f848-4756-a340-8d6e7f9f8e27",
   "metadata": {},
   "outputs": [],
   "source": []
  }
 ],
 "metadata": {
  "kernelspec": {
   "display_name": "Python 3 (ipykernel)",
   "language": "python",
   "name": "python3"
  },
  "language_info": {
   "codemirror_mode": {
    "name": "ipython",
    "version": 3
   },
   "file_extension": ".py",
   "mimetype": "text/x-python",
   "name": "python",
   "nbconvert_exporter": "python",
   "pygments_lexer": "ipython3",
   "version": "3.10.15"
  }
 },
 "nbformat": 4,
 "nbformat_minor": 5
}
