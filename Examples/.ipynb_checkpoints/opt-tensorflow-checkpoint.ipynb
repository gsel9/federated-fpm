{
 "cells": [
  {
   "cell_type": "code",
   "execution_count": 6,
   "id": "1b6617d2-2952-4ffb-a4b0-5972899444b3",
   "metadata": {},
   "outputs": [],
   "source": [
    "# https://sci-hub.se/10.1002/sim.1203\n",
    "# https://journals.sagepub.com/doi/pdf/10.1177/1536867x0900900206"
   ]
  },
  {
   "cell_type": "markdown",
   "id": "0de7d576-a457-41f3-8e9d-af92aeb5b046",
   "metadata": {},
   "source": [
    "# Dataset"
   ]
  },
  {
   "cell_type": "code",
   "execution_count": 7,
   "id": "730c43d0-3c00-48d6-abae-c7ed96e55f04",
   "metadata": {},
   "outputs": [
    {
     "name": "stdout",
     "output_type": "stream",
     "text": [
      "(432, 9)\n"
     ]
    },
    {
     "data": {
      "text/html": [
       "<div>\n",
       "<style scoped>\n",
       "    .dataframe tbody tr th:only-of-type {\n",
       "        vertical-align: middle;\n",
       "    }\n",
       "\n",
       "    .dataframe tbody tr th {\n",
       "        vertical-align: top;\n",
       "    }\n",
       "\n",
       "    .dataframe thead th {\n",
       "        text-align: right;\n",
       "    }\n",
       "</style>\n",
       "<table border=\"1\" class=\"dataframe\">\n",
       "  <thead>\n",
       "    <tr style=\"text-align: right;\">\n",
       "      <th></th>\n",
       "      <th>week</th>\n",
       "      <th>arrest</th>\n",
       "      <th>fin</th>\n",
       "      <th>age</th>\n",
       "      <th>race</th>\n",
       "      <th>wexp</th>\n",
       "      <th>mar</th>\n",
       "      <th>paro</th>\n",
       "      <th>prio</th>\n",
       "    </tr>\n",
       "  </thead>\n",
       "  <tbody>\n",
       "    <tr>\n",
       "      <th>0</th>\n",
       "      <td>20</td>\n",
       "      <td>1</td>\n",
       "      <td>0</td>\n",
       "      <td>27</td>\n",
       "      <td>1</td>\n",
       "      <td>0</td>\n",
       "      <td>0</td>\n",
       "      <td>1</td>\n",
       "      <td>3</td>\n",
       "    </tr>\n",
       "    <tr>\n",
       "      <th>1</th>\n",
       "      <td>17</td>\n",
       "      <td>1</td>\n",
       "      <td>0</td>\n",
       "      <td>18</td>\n",
       "      <td>1</td>\n",
       "      <td>0</td>\n",
       "      <td>0</td>\n",
       "      <td>1</td>\n",
       "      <td>8</td>\n",
       "    </tr>\n",
       "    <tr>\n",
       "      <th>2</th>\n",
       "      <td>25</td>\n",
       "      <td>1</td>\n",
       "      <td>0</td>\n",
       "      <td>19</td>\n",
       "      <td>0</td>\n",
       "      <td>1</td>\n",
       "      <td>0</td>\n",
       "      <td>1</td>\n",
       "      <td>13</td>\n",
       "    </tr>\n",
       "    <tr>\n",
       "      <th>3</th>\n",
       "      <td>52</td>\n",
       "      <td>0</td>\n",
       "      <td>1</td>\n",
       "      <td>23</td>\n",
       "      <td>1</td>\n",
       "      <td>1</td>\n",
       "      <td>1</td>\n",
       "      <td>1</td>\n",
       "      <td>1</td>\n",
       "    </tr>\n",
       "    <tr>\n",
       "      <th>4</th>\n",
       "      <td>52</td>\n",
       "      <td>0</td>\n",
       "      <td>0</td>\n",
       "      <td>19</td>\n",
       "      <td>0</td>\n",
       "      <td>1</td>\n",
       "      <td>0</td>\n",
       "      <td>1</td>\n",
       "      <td>3</td>\n",
       "    </tr>\n",
       "  </tbody>\n",
       "</table>\n",
       "</div>"
      ],
      "text/plain": [
       "   week  arrest  fin  age  race  wexp  mar  paro  prio\n",
       "0    20       1    0   27     1     0    0     1     3\n",
       "1    17       1    0   18     1     0    0     1     8\n",
       "2    25       1    0   19     0     1    0     1    13\n",
       "3    52       0    1   23     1     1    1     1     1\n",
       "4    52       0    0   19     0     1    0     1     3"
      ]
     },
     "execution_count": 7,
     "metadata": {},
     "output_type": "execute_result"
    }
   ],
   "source": [
    "from lifelines.datasets import load_rossi\n",
    "\n",
    "data = load_rossi()\n",
    "data.dropna(inplace=True)\n",
    "print(data.shape)\n",
    "data.head()"
   ]
  },
  {
   "cell_type": "code",
   "execution_count": 8,
   "id": "ebd8b753-6634-487c-91fb-95646b080c71",
   "metadata": {},
   "outputs": [
    {
     "data": {
      "text/plain": [
       "(432, 7)"
      ]
     },
     "execution_count": 8,
     "metadata": {},
     "output_type": "execute_result"
    }
   ],
   "source": [
    "event_col = \"arrest\"\n",
    "duration_col = \"week\"\n",
    "\n",
    "X = data.drop(columns=[event_col, duration_col])\n",
    "X.shape"
   ]
  },
  {
   "cell_type": "code",
   "execution_count": 9,
   "id": "389a577a-786d-4071-8de6-8651153901c6",
   "metadata": {},
   "outputs": [
    {
     "data": {
      "text/plain": [
       "((367, 9), (65, 9))"
      ]
     },
     "execution_count": 9,
     "metadata": {},
     "output_type": "execute_result"
    }
   ],
   "source": [
    "from sklearn.model_selection import train_test_split\n",
    "\n",
    "train_idx, test_idx = train_test_split(\n",
    "    range(data.shape[0]), test_size=0.15, random_state=42, stratify=data[event_col]\n",
    ")\n",
    "data_train, data_test = data.iloc[train_idx], data.iloc[test_idx]\n",
    "X_train, X_test = X.iloc[train_idx].values, X.iloc[test_idx].values\n",
    "data_train.shape, data_test.shape"
   ]
  },
  {
   "cell_type": "markdown",
   "id": "bb251d7d-bab9-4bcc-8874-f8704dec1893",
   "metadata": {},
   "source": [
    "# Pre-processing "
   ]
  },
  {
   "cell_type": "code",
   "execution_count": 10,
   "id": "ea860add-bb61-49f9-920d-257fdea50955",
   "metadata": {},
   "outputs": [],
   "source": [
    "from sklearn.preprocessing import StandardScaler\n",
    "\n",
    "scaler = StandardScaler()\n",
    "X_train = scaler.fit_transform(X_train)\n",
    "X_test = scaler.transform(X_test)"
   ]
  },
  {
   "cell_type": "markdown",
   "id": "941e023c-0fff-4c1e-a0fe-9d6a4ff054ef",
   "metadata": {},
   "source": [
    "# Knots"
   ]
  },
  {
   "cell_type": "code",
   "execution_count": 11,
   "id": "db241f68-b569-43dd-98ae-8929554b7440",
   "metadata": {},
   "outputs": [
    {
     "data": {
      "text/plain": [
       "(0.0, 3.9512437185814275)"
      ]
     },
     "execution_count": 11,
     "metadata": {},
     "output_type": "execute_result"
    }
   ],
   "source": [
    "import numpy as np\n",
    "\n",
    "log_t_test = np.log(data_test[duration_col])\n",
    "log_t_train = np.log(data_train[duration_col])\n",
    "min(log_t_train), max(log_t_train)"
   ]
  },
  {
   "cell_type": "code",
   "execution_count": 12,
   "id": "43af3c95-9dc7-4de8-9df6-705c09305103",
   "metadata": {},
   "outputs": [
    {
     "data": {
      "text/plain": [
       "(0.0, 3.9512437185814275)"
      ]
     },
     "execution_count": 12,
     "metadata": {},
     "output_type": "execute_result"
    }
   ],
   "source": [
    "# Knot locations: Centiles of the distribution of **uncensored** log event times\n",
    "# - Boundary knots: placed at the 0th and 100th centiles (min and max values)\n",
    "# - Internal knots: internal knots are placed at the centiles between the min and max   \n",
    "knots = np.percentile(log_t_train[data_train[event_col] == 1], [0, 25, 50, 75, 100])\n",
    "min(knots), max(knots)"
   ]
  },
  {
   "cell_type": "markdown",
   "id": "ee5a5d32-de27-438d-8a9b-f459632966d1",
   "metadata": {},
   "source": [
    "# Splines"
   ]
  },
  {
   "cell_type": "code",
   "execution_count": 13,
   "id": "9e115358-2f05-4cd5-b2ee-08f56a3563df",
   "metadata": {},
   "outputs": [
    {
     "data": {
      "text/plain": [
       "((367, 4), (367, 4))"
      ]
     },
     "execution_count": 13,
     "metadata": {},
     "output_type": "execute_result"
    }
   ],
   "source": [
    "def relu(x):\n",
    "    return max(x, 0)\n",
    "\n",
    "\n",
    "def spline_basis(x, k_j, k_min, k_max, derivative=False):\n",
    "    \"\"\"Computes the basis function S(x; k_j).\"\"\"\n",
    "    # Scaling coefficient \n",
    "    s = (k_max - k_j) / (k_max - k_min)\n",
    "\n",
    "    if derivative:\n",
    "        # Derivative of the spline basis function\n",
    "        return 3 * relu(x - k_j) ** 2 - 3 * s * relu(x - k_min) ** 2 - 3 * (1 - s) * relu(x - k_max) ** 2\n",
    "\n",
    "    # Spline basis function \n",
    "    return relu(x - k_j) ** 3 - s * relu(x - k_min) ** 3 - (1 - s) * relu(x - k_max) ** 3\n",
    "\n",
    "\n",
    "def spline_design_matrix(ln_t, knots):\n",
    "    \"\"\"Computes the spline function s(x; γ, k).\"\"\"\n",
    "    # Boundary knots\n",
    "    k_min, k_max = knots[0], knots[-1]\n",
    "    # Construct basis functions over internal knots \n",
    "    basis = [spline_basis(ln_t, k_j, k_min, k_max) for k_j in knots[1:-1]]\n",
    "    # Design matrix \n",
    "    return np.array([ln_t] + basis)\n",
    "\n",
    "\n",
    "def spline_derivative_design_matrix(ln_t, knots):\n",
    "    \"\"\"Computes the spline function s(x; γ, k).\"\"\"\n",
    "    # Boundary knots\n",
    "    k_min, k_max = knots[0], knots[-1]\n",
    "    # Construct basis functions over internal knots \n",
    "    basis = [spline_basis(ln_t, k_j, k_min, k_max, derivative=True) for k_j in knots[1:-1]]\n",
    "    # Design matrix \n",
    "    return 1 / np.exp(ln_t) * np.array([1] + basis)\n",
    "\n",
    "\n",
    "def create_splines(log_t, knots):\n",
    "\n",
    "    D, dDdt = [], []\n",
    "    for log_time in log_t:\n",
    "        D.append(spline_design_matrix(log_time, knots))\n",
    "        dDdt.append(spline_derivative_design_matrix(log_time, knots))\n",
    "    \n",
    "    # Cast to <numpy.ndarray>\n",
    "    return np.array(D), np.array(dDdt)\n",
    "\n",
    "\n",
    "D, D_prime = create_splines(log_t_train, knots)\n",
    "D.shape, D_prime.shape"
   ]
  },
  {
   "cell_type": "markdown",
   "id": "8413b7db-54fa-4c06-847d-93b1cf4d40f7",
   "metadata": {},
   "source": [
    "# Parameter initialization "
   ]
  },
  {
   "cell_type": "code",
   "execution_count": 14,
   "id": "72bca956-ca91-47d8-a6bc-138e998078fb",
   "metadata": {},
   "outputs": [
    {
     "data": {
      "text/plain": [
       "(367, 1)"
      ]
     },
     "execution_count": 14,
     "metadata": {},
     "output_type": "execute_result"
    }
   ],
   "source": [
    "delta_train = data_train[event_col].values[:, None]\n",
    "delta_test = data_test[event_col].values[:, None]\n",
    "delta_train.shape"
   ]
  },
  {
   "cell_type": "code",
   "execution_count": 15,
   "id": "9d76a113-7a20-4f56-ae95-74b126fab077",
   "metadata": {},
   "outputs": [],
   "source": [
    "np.random.seed(42)\n",
    "beta0 = np.random.random((1, X.shape[1]))\n",
    "gamma0 = np.random.random((1, D.shape[1]))"
   ]
  },
  {
   "cell_type": "markdown",
   "id": "bbbbd412-0e28-4c1b-9a64-61cb2e0e9ed4",
   "metadata": {},
   "source": [
    "# Fitting centralized model"
   ]
  },
  {
   "cell_type": "code",
   "execution_count": 16,
   "id": "7a56ee57-0880-459b-8c37-315dcc4d26be",
   "metadata": {},
   "outputs": [],
   "source": [
    "import tensorflow as tf "
   ]
  },
  {
   "cell_type": "code",
   "execution_count": 87,
   "id": "39f97e08-19fa-4d1d-852d-126b4d00b1dc",
   "metadata": {},
   "outputs": [
    {
     "name": "stdout",
     "output_type": "stream",
     "text": [
      "Loss: 2590.5224609375\n",
      "Loss: 2567.444580078125\n",
      "Loss: 2544.60791015625\n",
      "Loss: 2522.0087890625\n",
      "Loss: 2499.6416015625\n",
      "Loss: 2477.501708984375\n",
      "Loss: 2455.5830078125\n",
      "Loss: 2420.611328125\n",
      "Loss: 2398.0849609375\n",
      "Loss: 2376.2333984375\n"
     ]
    }
   ],
   "source": [
    "# Optimization variables \n",
    "gamma_var = tf.Variable(gamma0, dtype=tf.float32)\n",
    "beta_var = tf.Variable(beta0, dtype=tf.float32)  \n",
    "\n",
    "# Dataset \n",
    "X_tf = tf.cast(X_train, dtype=tf.float32)\n",
    "\n",
    "# Spline design matrices \n",
    "D_tf = tf.cast(D, dtype=tf.float32)\n",
    "D_prime_tf = tf.cast(D_prime, dtype=tf.float32)\n",
    "\n",
    "delta_tf = tf.cast(delta_train, dtype=tf.float32)\n",
    "\n",
    "reg_coef = 0\n",
    "\n",
    "\n",
    "def neg_log_likelihood():\n",
    "    phi = D_tf @ tf.transpose(gamma_var) + X_tf @ tf.transpose(beta_var)\n",
    "    \n",
    "    ds_dt = tf.clip_by_value(D_prime_tf @ tf.transpose(gamma_var), 1e-8, 1e8) \n",
    "\n",
    "    # Log-likelihood function for each data sample (N x 1)\n",
    "    log_likelihood = delta_tf * (phi + tf.math.log(ds_dt)) - tf.math.exp(phi)\n",
    "\n",
    "    # Regularization\n",
    "    reg_gamma = reg_coef * tf.norm(gamma_var)\n",
    "    reg_beta = reg_coef * tf.norm(beta_var)\n",
    "\n",
    "    return -1.0 * tf.reduce_sum(log_likelihood, axis=0) + reg_gamma + reg_beta\n",
    "\n",
    "\n",
    "optimizer = tf.keras.optimizers.Adam(learning_rate=0.01)\n",
    "\n",
    "for epoch in tf.range(10):\n",
    "\n",
    "    with tf.GradientTape() as tape:\n",
    "        loss_value = neg_log_likelihood()\n",
    "\n",
    "    # Compute gradients\n",
    "    gradients = tape.gradient(loss_value, [beta_var, gamma_var])\n",
    "    # Apply gradients to update gamma and beta\n",
    "    optimizer.apply_gradients(zip(gradients, [beta_var, gamma_var]))\n",
    "    \n",
    "    print(\"Loss:\", float(loss_value.numpy()))"
   ]
  },
  {
   "cell_type": "code",
   "execution_count": 88,
   "id": "9e77559a-dfc6-47f2-851e-1929525889ba",
   "metadata": {},
   "outputs": [
    {
     "name": "stdout",
     "output_type": "stream",
     "text": [
      "(0.41476774046744463, 12742, 17986, 35, 1080)\n",
      "(0.2907465825446898, 276, 674, 1, 0)\n",
      "(0.4187985567077333, 12866, 17862, 35, 1080)\n",
      "(0.30651945320715035, 291, 659, 1, 0)\n"
     ]
    }
   ],
   "source": [
    "from sksurv.metrics import concordance_index_censored\n",
    "\n",
    "# Baseline\n",
    "print(concordance_index_censored(delta_train.astype(bool).squeeze(), np.exp(log_t_train), (X_train @ beta0.T).squeeze()))\n",
    "print(concordance_index_censored(delta_test.astype(bool).squeeze(), np.exp(log_t_test), (X_test @ beta0.T).squeeze()))\n",
    "\n",
    "# Fitted model \n",
    "print(concordance_index_censored(delta_train.astype(bool).squeeze(), np.exp(log_t_train), (X_train @ beta_var.numpy().T).squeeze()))\n",
    "print(concordance_index_censored(delta_test.astype(bool).squeeze(), np.exp(log_t_test), (X_test @ beta_var.numpy().T).squeeze()))"
   ]
  },
  {
   "cell_type": "code",
   "execution_count": null,
   "id": "a54df71d-3a89-493b-86ee-7e767bddb7a7",
   "metadata": {},
   "outputs": [],
   "source": []
  }
 ],
 "metadata": {
  "kernelspec": {
   "display_name": "Python 3 (ipykernel)",
   "language": "python",
   "name": "python3"
  },
  "language_info": {
   "codemirror_mode": {
    "name": "ipython",
    "version": 3
   },
   "file_extension": ".py",
   "mimetype": "text/x-python",
   "name": "python",
   "nbconvert_exporter": "python",
   "pygments_lexer": "ipython3",
   "version": "3.10.15"
  }
 },
 "nbformat": 4,
 "nbformat_minor": 5
}
