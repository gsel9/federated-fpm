{
 "cells": [
  {
   "cell_type": "markdown",
   "id": "ab96b5f9-a64e-4ca5-869d-d6223ef4ec53",
   "metadata": {},
   "source": [
    "# Data"
   ]
  },
  {
   "cell_type": "code",
   "execution_count": 1,
   "id": "81d74d6b-a16e-4b6e-98d3-d7b889399953",
   "metadata": {},
   "outputs": [
    {
     "name": "stdout",
     "output_type": "stream",
     "text": [
      "(432, 9)\n"
     ]
    },
    {
     "data": {
      "text/html": [
       "<div>\n",
       "<style scoped>\n",
       "    .dataframe tbody tr th:only-of-type {\n",
       "        vertical-align: middle;\n",
       "    }\n",
       "\n",
       "    .dataframe tbody tr th {\n",
       "        vertical-align: top;\n",
       "    }\n",
       "\n",
       "    .dataframe thead th {\n",
       "        text-align: right;\n",
       "    }\n",
       "</style>\n",
       "<table border=\"1\" class=\"dataframe\">\n",
       "  <thead>\n",
       "    <tr style=\"text-align: right;\">\n",
       "      <th></th>\n",
       "      <th>week</th>\n",
       "      <th>arrest</th>\n",
       "      <th>fin</th>\n",
       "      <th>age</th>\n",
       "      <th>race</th>\n",
       "      <th>wexp</th>\n",
       "      <th>mar</th>\n",
       "      <th>paro</th>\n",
       "      <th>prio</th>\n",
       "    </tr>\n",
       "  </thead>\n",
       "  <tbody>\n",
       "    <tr>\n",
       "      <th>0</th>\n",
       "      <td>20</td>\n",
       "      <td>1</td>\n",
       "      <td>0</td>\n",
       "      <td>27</td>\n",
       "      <td>1</td>\n",
       "      <td>0</td>\n",
       "      <td>0</td>\n",
       "      <td>1</td>\n",
       "      <td>3</td>\n",
       "    </tr>\n",
       "    <tr>\n",
       "      <th>1</th>\n",
       "      <td>17</td>\n",
       "      <td>1</td>\n",
       "      <td>0</td>\n",
       "      <td>18</td>\n",
       "      <td>1</td>\n",
       "      <td>0</td>\n",
       "      <td>0</td>\n",
       "      <td>1</td>\n",
       "      <td>8</td>\n",
       "    </tr>\n",
       "    <tr>\n",
       "      <th>2</th>\n",
       "      <td>25</td>\n",
       "      <td>1</td>\n",
       "      <td>0</td>\n",
       "      <td>19</td>\n",
       "      <td>0</td>\n",
       "      <td>1</td>\n",
       "      <td>0</td>\n",
       "      <td>1</td>\n",
       "      <td>13</td>\n",
       "    </tr>\n",
       "    <tr>\n",
       "      <th>3</th>\n",
       "      <td>52</td>\n",
       "      <td>0</td>\n",
       "      <td>1</td>\n",
       "      <td>23</td>\n",
       "      <td>1</td>\n",
       "      <td>1</td>\n",
       "      <td>1</td>\n",
       "      <td>1</td>\n",
       "      <td>1</td>\n",
       "    </tr>\n",
       "    <tr>\n",
       "      <th>4</th>\n",
       "      <td>52</td>\n",
       "      <td>0</td>\n",
       "      <td>0</td>\n",
       "      <td>19</td>\n",
       "      <td>0</td>\n",
       "      <td>1</td>\n",
       "      <td>0</td>\n",
       "      <td>1</td>\n",
       "      <td>3</td>\n",
       "    </tr>\n",
       "  </tbody>\n",
       "</table>\n",
       "</div>"
      ],
      "text/plain": [
       "   week  arrest  fin  age  race  wexp  mar  paro  prio\n",
       "0    20       1    0   27     1     0    0     1     3\n",
       "1    17       1    0   18     1     0    0     1     8\n",
       "2    25       1    0   19     0     1    0     1    13\n",
       "3    52       0    1   23     1     1    1     1     1\n",
       "4    52       0    0   19     0     1    0     1     3"
      ]
     },
     "execution_count": 1,
     "metadata": {},
     "output_type": "execute_result"
    }
   ],
   "source": [
    "import numpy as np \n",
    "import matplotlib.pyplot as plt \n",
    "\n",
    "from lifelines.datasets import load_rossi\n",
    "from sksurv.metrics import concordance_index_censored\n",
    "\n",
    "data = load_rossi()\n",
    "data.dropna(inplace=True)\n",
    "print(data.shape)\n",
    "data.head()"
   ]
  },
  {
   "cell_type": "code",
   "execution_count": 2,
   "id": "e1976584-3613-434e-8c75-821959e4dffa",
   "metadata": {},
   "outputs": [
    {
     "data": {
      "text/plain": [
       "(432, 7)"
      ]
     },
     "execution_count": 2,
     "metadata": {},
     "output_type": "execute_result"
    }
   ],
   "source": [
    "event_col = \"arrest\"\n",
    "duration_col = \"week\"\n",
    "\n",
    "X = data.drop(columns=[event_col, duration_col])\n",
    "X.shape"
   ]
  },
  {
   "cell_type": "code",
   "execution_count": 3,
   "id": "caaacf02-99ff-4633-9457-ec40ee9c1997",
   "metadata": {},
   "outputs": [],
   "source": [
    "duration = data[duration_col].to_numpy().squeeze()\n",
    "event = data[event_col].to_numpy().squeeze()"
   ]
  },
  {
   "cell_type": "code",
   "execution_count": 4,
   "id": "a7f4e36a-2980-45e7-8c04-f4faa639af74",
   "metadata": {},
   "outputs": [],
   "source": [
    "from sksurv.util import Surv\n",
    "# Create structured arrays\n",
    "y = Surv.from_arrays(event=event, time=duration)"
   ]
  },
  {
   "cell_type": "markdown",
   "id": "f22a1ff6-a62d-4472-ad4c-3877844b3c03",
   "metadata": {},
   "source": [
    "# Pre-processing "
   ]
  },
  {
   "cell_type": "code",
   "execution_count": 5,
   "id": "c0eab75b-0b3c-417c-b9ae-25110a7327e2",
   "metadata": {},
   "outputs": [],
   "source": [
    "from utils.data import feature_scaling\n",
    "# Scale features with Z-score transfrom \n",
    "X = feature_scaling(X)"
   ]
  },
  {
   "cell_type": "code",
   "execution_count": 6,
   "id": "0da62f2c-83a1-4d33-b241-cdcfb36d057d",
   "metadata": {},
   "outputs": [
    {
     "data": {
      "text/plain": [
       "(0.0, 3.9512437185814275)"
      ]
     },
     "execution_count": 6,
     "metadata": {},
     "output_type": "execute_result"
    }
   ],
   "source": [
    "from utils.data import init_knots\n",
    "# Set knot locations \n",
    "knots = init_knots(duration, event, n_knots=5)\n",
    "min(knots), max(knots)"
   ]
  },
  {
   "cell_type": "markdown",
   "id": "6396a3bd-c31d-4072-8007-abe0013fa67f",
   "metadata": {},
   "source": [
    "# Initialize clients "
   ]
  },
  {
   "cell_type": "code",
   "execution_count": 7,
   "id": "b4fe0f66-5ef7-477b-9597-c2a285e181f0",
   "metadata": {},
   "outputs": [],
   "source": [
    "N_SPLITS = 3\n",
    "DATA_SPLIT_IDX = [np.arange(data.shape[0])] * N_SPLITS  #np.array_split(np.arange(data.shape[0]), N_SPLITS)"
   ]
  },
  {
   "cell_type": "code",
   "execution_count": 8,
   "id": "a7608b04-997e-442e-b630-b008b7e52404",
   "metadata": {},
   "outputs": [
    {
     "name": "stderr",
     "output_type": "stream",
     "text": [
      "2025-05-22 17:29:13.074158: I tensorflow/core/platform/cpu_feature_guard.cc:210] This TensorFlow binary is optimized to use available CPU instructions in performance-critical operations.\n",
      "To enable the following instructions: AVX2 FMA, in other operations, rebuild TensorFlow with the appropriate compiler flags.\n"
     ]
    }
   ],
   "source": [
    "from utils.client import Client \n",
    "\n",
    "participants = [] \n",
    "\n",
    "rho = 1\n",
    "\n",
    "for idx in DATA_SPLIT_IDX:\n",
    "    # Init client objects with mutually exclusive data samples \n",
    "    client = Client(data.iloc[idx], n_knots=5, n_epochs=1, event_col=event_col, duration_col=duration_col, rho=rho)\n",
    "    # Apply data pre-processing steps \n",
    "    client.preprocess_data(train_test_split=False)\n",
    "    # Initialize model and parameters \n",
    "    client.init_model(local_knots=False, knots=knots)\n",
    "\n",
    "    participants.append(client)"
   ]
  },
  {
   "cell_type": "markdown",
   "id": "ba8dbe74-502c-42d0-be37-241380a7f2f9",
   "metadata": {},
   "source": [
    "# Initialize parameters"
   ]
  },
  {
   "cell_type": "code",
   "execution_count": 9,
   "id": "506967a8-14a5-4d02-a844-f02c64bbc676",
   "metadata": {},
   "outputs": [],
   "source": [
    "from utils.data import init_gamma, init_beta\n",
    "from utils.splines import bspline_design_matrix\n",
    "\n",
    "# Create one spline equation per time point \n",
    "D = bspline_design_matrix(np.log(duration), knots)\n",
    "\n",
    "# Initialize gamma coefficients\n",
    "gamma = init_gamma(D, duration)\n",
    "\n",
    "# Initialize beta coefficients\n",
    "beta = init_beta(X, y)"
   ]
  },
  {
   "cell_type": "code",
   "execution_count": 10,
   "id": "38e554e8-5319-495e-a480-2cb884d5c3fa",
   "metadata": {},
   "outputs": [],
   "source": [
    "for client in participants:\n",
    "    client.set_params({\"beta\": beta, \"gamma\": gamma})"
   ]
  },
  {
   "cell_type": "markdown",
   "id": "451c8394-8b85-42e8-82fa-bc74721272b6",
   "metadata": {},
   "source": [
    "# Client fitting"
   ]
  },
  {
   "cell_type": "code",
   "execution_count": 11,
   "id": "a559bc3b-6458-4c7c-ab0d-a615ebd3b676",
   "metadata": {},
   "outputs": [],
   "source": [
    "# For convergence\n",
    "# - Initial global parameters\n",
    "z_beta = np.zeros_like(client.beta)\n",
    "z_gamma = np.zeros_like(client.gamma)\n",
    "# - Exponential moving average\n",
    "z_beta_prev = z_beta.copy()\n",
    "z_gamma_prev = z_gamma.copy()"
   ]
  },
  {
   "cell_type": "code",
   "execution_count": null,
   "id": "3f97dc53-4930-4fd2-bcd7-26830561403c",
   "metadata": {},
   "outputs": [],
   "source": [
    "def relative_change(params, params_other):\n",
    "    return np.linalg.norm(params - params_other) \n",
    "    \n",
    "\n",
    "def has_converged(params, params_other, eps=1e-2):\n",
    "    # Scale the difference to adapt the convergence criteria to parameter magnitude. \n",
    "    # This measures the relative difference between estimates, ie, the significane of the change \n",
    "    # relative to the size of the parameters. Useful if parameters can vary in scale.\n",
    "    return relative_change(params, params_other) <= eps \n",
    "\n",
    "\n",
    "# GLobal iterations \n",
    "n_iter = 15000\n",
    "\n",
    "losses = []\n",
    "for i in range(n_iter):\n",
    "\n",
    "    update_beta, update_gamma, last_local_losses = [], [], []\n",
    "    for client in participants:\n",
    "\n",
    "        # Fit client \n",
    "        client.fit_model(z_beta, z_gamma)\n",
    "        # Gather update parameters \n",
    "        update_beta.append(client.beta)\n",
    "        update_gamma.append(client.gamma)\n",
    "\n",
    "        # Trace training loss per client \n",
    "        last_local_losses.append(client.loss)\n",
    "\n",
    "    # Average training loss across clients \n",
    "    losses.append(np.mean(last_local_losses))\n",
    "    \n",
    "    # Global update\n",
    "    z_beta = np.mean(update_beta, axis=0)\n",
    "    z_gamma = np.mean(update_gamma, axis=0)\n",
    "    \n",
    "    if has_converged(z_beta_prev, z_beta) and has_converged(z_gamma_prev, z_gamma):\n",
    "        print(f\"Converged after {i} iterations\")\n",
    "        break \n",
    "\n",
    "    if i % (n_iter / 10) == 0:\n",
    "        change_beta = relative_change(z_beta_prev, z_beta)  \n",
    "        change_gamma = relative_change(z_gamma_prev, z_gamma)  \n",
    "        print(f\"Iter {i}: {change_beta}; {change_gamma}\")\n",
    "\n",
    "    # Update previous parameter estimate \n",
    "    z_beta_prev = z_beta\n",
    "    z_gamma_prev = z_gamma\n",
    "\n",
    "plt.figure()\n",
    "plt.plot(losses)"
   ]
  },
  {
   "cell_type": "markdown",
   "id": "0f16dc21-134f-4de2-8568-cab2893f4b79",
   "metadata": {},
   "source": [
    "# Global model "
   ]
  },
  {
   "cell_type": "code",
   "execution_count": 13,
   "id": "c88e54c7-2683-4698-8c85-4d0cd3bce699",
   "metadata": {},
   "outputs": [
    {
     "data": {
      "text/plain": [
       "array([[-0.17556182, -0.31482871,  0.09797603, -0.07980018, -0.12819564,\n",
       "        -0.03646753,  0.24887696]])"
      ]
     },
     "execution_count": 13,
     "metadata": {},
     "output_type": "execute_result"
    }
   ],
   "source": [
    "z_beta"
   ]
  },
  {
   "cell_type": "code",
   "execution_count": 14,
   "id": "8f14a959-6a0a-4ddc-822e-f9ff9e23af06",
   "metadata": {},
   "outputs": [
    {
     "data": {
      "text/plain": [
       "array([[-6.2461903 , -4.98450125, -3.87976525, -2.05881743, -1.6657439 ,\n",
       "        -1.37899391, -1.23410545]])"
      ]
     },
     "execution_count": 14,
     "metadata": {},
     "output_type": "execute_result"
    }
   ],
   "source": [
    "z_gamma"
   ]
  },
  {
   "cell_type": "markdown",
   "id": "4bf3b720-aaa1-4a1f-bae0-a478a6b19988",
   "metadata": {},
   "source": [
    "# Reference model"
   ]
  },
  {
   "cell_type": "code",
   "execution_count": 15,
   "id": "6d6bfdeb-8dfe-447f-9daf-1402c9e2d103",
   "metadata": {},
   "outputs": [
    {
     "name": "stdout",
     "output_type": "stream",
     "text": [
      "Converged after 5714 iterations\n"
     ]
    },
    {
     "data": {
      "text/plain": [
       "[<matplotlib.lines.Line2D at 0x1403954e0>]"
      ]
     },
     "execution_count": 15,
     "metadata": {},
     "output_type": "execute_result"
    },
    {
     "data": {
      "image/png": "[encoded data removed]",
      "text/plain": [
       "<Figure size 640x480 with 1 Axes>"
      ]
     },
     "metadata": {},
     "output_type": "display_data"
    }
   ],
   "source": [
    "from utils.model import Model\n",
    "\n",
    "ref_model = Model(epochs=N_ITER_GLOBAL, knots=knots, learning_rate=0.01, l2_lambda=1, rho=rho)\n",
    "ref_model.set_params({\"beta\": beta, \"gamma\": gamma}) \n",
    "ref_model.fit(X, y, tol=EPS)\n",
    "\n",
    "plt.figure()\n",
    "plt.plot(ref_model.losses)"
   ]
  },
  {
   "cell_type": "code",
   "execution_count": 16,
   "id": "58cd184a-c3c8-43ce-91b7-22887cda50ee",
   "metadata": {},
   "outputs": [
    {
     "data": {
      "text/plain": [
       "array([[-0.1827855 , -0.32915616,  0.09825834, -0.07604485, -0.13582215,\n",
       "        -0.03850739,  0.25675514]], dtype=float32)"
      ]
     },
     "execution_count": 16,
     "metadata": {},
     "output_type": "execute_result"
    }
   ],
   "source": [
    "ref_model.beta"
   ]
  },
  {
   "cell_type": "code",
   "execution_count": 17,
   "id": "fd37a6d6-b207-4bbd-992f-282d96ca461c",
   "metadata": {},
   "outputs": [
    {
     "data": {
      "text/plain": [
       "array([[-0.17556182, -0.31482871,  0.09797603, -0.07980018, -0.12819564,\n",
       "        -0.03646753,  0.24887696]])"
      ]
     },
     "execution_count": 17,
     "metadata": {},
     "output_type": "execute_result"
    }
   ],
   "source": [
    "z_beta"
   ]
  },
  {
   "cell_type": "code",
   "execution_count": 18,
   "id": "3b88fedf-55d2-43ab-8f49-34d7e8273e8d",
   "metadata": {},
   "outputs": [
    {
     "data": {
      "text/plain": [
       "array([[-6.27012  , -5.004872 , -3.9073408, -2.0790188, -1.6947267,\n",
       "        -1.3955883, -1.2582062]], dtype=float32)"
      ]
     },
     "execution_count": 18,
     "metadata": {},
     "output_type": "execute_result"
    }
   ],
   "source": [
    "ref_model.gamma"
   ]
  },
  {
   "cell_type": "code",
   "execution_count": 19,
   "id": "9fcb6f51-ba18-4673-9854-279de17d584f",
   "metadata": {},
   "outputs": [
    {
     "data": {
      "text/plain": [
       "array([[-6.2461903 , -4.98450125, -3.87976525, -2.05881743, -1.6657439 ,\n",
       "        -1.37899391, -1.23410545]])"
      ]
     },
     "execution_count": 19,
     "metadata": {},
     "output_type": "execute_result"
    }
   ],
   "source": [
    "z_gamma"
   ]
  },
  {
   "cell_type": "code",
   "execution_count": 20,
   "id": "95694bac-fa88-4d4d-95eb-d073a7d823cf",
   "metadata": {},
   "outputs": [
    {
     "data": {
      "text/plain": [
       "0.019900504766799852"
      ]
     },
     "execution_count": 20,
     "metadata": {},
     "output_type": "execute_result"
    }
   ],
   "source": [
    "# Training until 5K epochs: 0.06939954423736899\n",
    "relative_change(z_beta, ref_model.beta)"
   ]
  },
  {
   "cell_type": "code",
   "execution_count": 21,
   "id": "cfa0d541-ffc8-47c2-b1e1-49fffb7e491e",
   "metadata": {},
   "outputs": [
    {
     "data": {
      "text/plain": [
       "0.062067125045071135"
      ]
     },
     "execution_count": 21,
     "metadata": {},
     "output_type": "execute_result"
    }
   ],
   "source": [
    "# Training until 5K epochs: 0.11927933753618518\n",
    "relative_change(z_gamma, ref_model.gamma)"
   ]
  },
  {
   "cell_type": "code",
   "execution_count": null,
   "id": "11900c69-cabe-487f-bbe0-e682bff0f3ba",
   "metadata": {},
   "outputs": [],
   "source": []
  }
 ],
 "metadata": {
  "kernelspec": {
   "display_name": "Python 3 (ipykernel)",
   "language": "python",
   "name": "python3"
  },
  "language_info": {
   "codemirror_mode": {
    "name": "ipython",
    "version": 3
   },
   "file_extension": ".py",
   "mimetype": "text/x-python",
   "name": "python",
   "nbconvert_exporter": "python",
   "pygments_lexer": "ipython3",
   "version": "3.10.15"
  }
 },
 "nbformat": 4,
 "nbformat_minor": 5
}
