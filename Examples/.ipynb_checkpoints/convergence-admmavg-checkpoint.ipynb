{
 "cells": [
  {
   "cell_type": "markdown",
   "id": "ab96b5f9-a64e-4ca5-869d-d6223ef4ec53",
   "metadata": {},
   "source": [
    "# Data"
   ]
  },
  {
   "cell_type": "code",
   "execution_count": 1,
   "id": "81d74d6b-a16e-4b6e-98d3-d7b889399953",
   "metadata": {},
   "outputs": [
    {
     "name": "stdout",
     "output_type": "stream",
     "text": [
      "(432, 9)\n"
     ]
    },
    {
     "data": {
      "text/html": [
       "<div>\n",
       "<style scoped>\n",
       "    .dataframe tbody tr th:only-of-type {\n",
       "        vertical-align: middle;\n",
       "    }\n",
       "\n",
       "    .dataframe tbody tr th {\n",
       "        vertical-align: top;\n",
       "    }\n",
       "\n",
       "    .dataframe thead th {\n",
       "        text-align: right;\n",
       "    }\n",
       "</style>\n",
       "<table border=\"1\" class=\"dataframe\">\n",
       "  <thead>\n",
       "    <tr style=\"text-align: right;\">\n",
       "      <th></th>\n",
       "      <th>week</th>\n",
       "      <th>arrest</th>\n",
       "      <th>fin</th>\n",
       "      <th>age</th>\n",
       "      <th>race</th>\n",
       "      <th>wexp</th>\n",
       "      <th>mar</th>\n",
       "      <th>paro</th>\n",
       "      <th>prio</th>\n",
       "    </tr>\n",
       "  </thead>\n",
       "  <tbody>\n",
       "    <tr>\n",
       "      <th>0</th>\n",
       "      <td>20</td>\n",
       "      <td>1</td>\n",
       "      <td>0</td>\n",
       "      <td>27</td>\n",
       "      <td>1</td>\n",
       "      <td>0</td>\n",
       "      <td>0</td>\n",
       "      <td>1</td>\n",
       "      <td>3</td>\n",
       "    </tr>\n",
       "    <tr>\n",
       "      <th>1</th>\n",
       "      <td>17</td>\n",
       "      <td>1</td>\n",
       "      <td>0</td>\n",
       "      <td>18</td>\n",
       "      <td>1</td>\n",
       "      <td>0</td>\n",
       "      <td>0</td>\n",
       "      <td>1</td>\n",
       "      <td>8</td>\n",
       "    </tr>\n",
       "    <tr>\n",
       "      <th>2</th>\n",
       "      <td>25</td>\n",
       "      <td>1</td>\n",
       "      <td>0</td>\n",
       "      <td>19</td>\n",
       "      <td>0</td>\n",
       "      <td>1</td>\n",
       "      <td>0</td>\n",
       "      <td>1</td>\n",
       "      <td>13</td>\n",
       "    </tr>\n",
       "    <tr>\n",
       "      <th>3</th>\n",
       "      <td>52</td>\n",
       "      <td>0</td>\n",
       "      <td>1</td>\n",
       "      <td>23</td>\n",
       "      <td>1</td>\n",
       "      <td>1</td>\n",
       "      <td>1</td>\n",
       "      <td>1</td>\n",
       "      <td>1</td>\n",
       "    </tr>\n",
       "    <tr>\n",
       "      <th>4</th>\n",
       "      <td>52</td>\n",
       "      <td>0</td>\n",
       "      <td>0</td>\n",
       "      <td>19</td>\n",
       "      <td>0</td>\n",
       "      <td>1</td>\n",
       "      <td>0</td>\n",
       "      <td>1</td>\n",
       "      <td>3</td>\n",
       "    </tr>\n",
       "  </tbody>\n",
       "</table>\n",
       "</div>"
      ],
      "text/plain": [
       "   week  arrest  fin  age  race  wexp  mar  paro  prio\n",
       "0    20       1    0   27     1     0    0     1     3\n",
       "1    17       1    0   18     1     0    0     1     8\n",
       "2    25       1    0   19     0     1    0     1    13\n",
       "3    52       0    1   23     1     1    1     1     1\n",
       "4    52       0    0   19     0     1    0     1     3"
      ]
     },
     "execution_count": 1,
     "metadata": {},
     "output_type": "execute_result"
    }
   ],
   "source": [
    "import numpy as np \n",
    "import matplotlib.pyplot as plt \n",
    "\n",
    "from lifelines.datasets import load_rossi\n",
    "from sksurv.metrics import concordance_index_censored\n",
    "\n",
    "data = load_rossi()\n",
    "data.dropna(inplace=True)\n",
    "print(data.shape)\n",
    "data.head()"
   ]
  },
  {
   "cell_type": "code",
   "execution_count": 2,
   "id": "e1976584-3613-434e-8c75-821959e4dffa",
   "metadata": {},
   "outputs": [
    {
     "data": {
      "text/plain": [
       "(432, 7)"
      ]
     },
     "execution_count": 2,
     "metadata": {},
     "output_type": "execute_result"
    }
   ],
   "source": [
    "event_col = \"arrest\"\n",
    "duration_col = \"week\"\n",
    "\n",
    "X = data.drop(columns=[event_col, duration_col])\n",
    "X.shape"
   ]
  },
  {
   "cell_type": "code",
   "execution_count": 3,
   "id": "caaacf02-99ff-4633-9457-ec40ee9c1997",
   "metadata": {},
   "outputs": [],
   "source": [
    "duration = data[duration_col].to_numpy().squeeze()\n",
    "event = data[event_col].to_numpy().squeeze()"
   ]
  },
  {
   "cell_type": "code",
   "execution_count": 4,
   "id": "a7f4e36a-2980-45e7-8c04-f4faa639af74",
   "metadata": {},
   "outputs": [],
   "source": [
    "from sksurv.util import Surv\n",
    "# Create structured arrays\n",
    "y = Surv.from_arrays(event=event, time=duration)"
   ]
  },
  {
   "cell_type": "markdown",
   "id": "f22a1ff6-a62d-4472-ad4c-3877844b3c03",
   "metadata": {},
   "source": [
    "# Pre-processing "
   ]
  },
  {
   "cell_type": "code",
   "execution_count": 5,
   "id": "c0eab75b-0b3c-417c-b9ae-25110a7327e2",
   "metadata": {},
   "outputs": [],
   "source": [
    "from utils.data import feature_scaling\n",
    "# Scale features with Z-score transfrom \n",
    "X = feature_scaling(X)"
   ]
  },
  {
   "cell_type": "code",
   "execution_count": 6,
   "id": "0da62f2c-83a1-4d33-b241-cdcfb36d057d",
   "metadata": {},
   "outputs": [
    {
     "data": {
      "text/plain": [
       "(0.0, 3.9512437185814275)"
      ]
     },
     "execution_count": 6,
     "metadata": {},
     "output_type": "execute_result"
    }
   ],
   "source": [
    "from utils.data import init_knots\n",
    "# Set knot locations \n",
    "knots = init_knots(duration, event, n_knots=5)\n",
    "min(knots), max(knots)"
   ]
  },
  {
   "cell_type": "markdown",
   "id": "6396a3bd-c31d-4072-8007-abe0013fa67f",
   "metadata": {},
   "source": [
    "# Initialize clients "
   ]
  },
  {
   "cell_type": "code",
   "execution_count": 7,
   "id": "b4fe0f66-5ef7-477b-9597-c2a285e181f0",
   "metadata": {},
   "outputs": [],
   "source": [
    "N_SPLITS = 3\n",
    "DATA_SPLIT_IDX = [np.arange(data.shape[0])] * N_SPLITS  #np.array_split(np.arange(data.shape[0]), N_SPLITS)"
   ]
  },
  {
   "cell_type": "code",
   "execution_count": 8,
   "id": "a7608b04-997e-442e-b630-b008b7e52404",
   "metadata": {},
   "outputs": [
    {
     "name": "stderr",
     "output_type": "stream",
     "text": [
      "2025-05-26 08:29:05.108053: I tensorflow/core/platform/cpu_feature_guard.cc:210] This TensorFlow binary is optimized to use available CPU instructions in performance-critical operations.\n",
      "To enable the following instructions: AVX2 FMA, in other operations, rebuild TensorFlow with the appropriate compiler flags.\n"
     ]
    }
   ],
   "source": [
    "from utils.client import Client \n",
    "\n",
    "participants = [] \n",
    "\n",
    "rho = 1\n",
    "\n",
    "for idx in DATA_SPLIT_IDX:\n",
    "    # Init client objects with mutually exclusive data samples \n",
    "    client = Client(data.iloc[idx], n_knots=5, n_epochs=1, event_col=event_col, duration_col=duration_col, rho=rho)\n",
    "    # Apply data pre-processing steps \n",
    "    client.preprocess_data(train_test_split=False)\n",
    "    # Initialize model and parameters \n",
    "    client.init_model(local_knots=False, knots=knots, learning_rate=0.001)\n",
    "\n",
    "    participants.append(client)"
   ]
  },
  {
   "cell_type": "markdown",
   "id": "ba8dbe74-502c-42d0-be37-241380a7f2f9",
   "metadata": {},
   "source": [
    "# Initialize parameters"
   ]
  },
  {
   "cell_type": "code",
   "execution_count": 9,
   "id": "506967a8-14a5-4d02-a844-f02c64bbc676",
   "metadata": {},
   "outputs": [],
   "source": [
    "from utils.data import init_gamma, init_beta\n",
    "from utils.splines import bspline_design_matrix\n",
    "\n",
    "# Create one spline equation per time point \n",
    "D = bspline_design_matrix(np.log(duration), knots)\n",
    "\n",
    "# Initialize gamma coefficients\n",
    "gamma = init_gamma(D, duration)\n",
    "\n",
    "# Initialize beta coefficients\n",
    "beta = init_beta(X, y)"
   ]
  },
  {
   "cell_type": "code",
   "execution_count": 10,
   "id": "38e554e8-5319-495e-a480-2cb884d5c3fa",
   "metadata": {},
   "outputs": [],
   "source": [
    "for client in participants:\n",
    "    client.set_params({\"beta\": beta, \"gamma\": gamma})"
   ]
  },
  {
   "cell_type": "markdown",
   "id": "451c8394-8b85-42e8-82fa-bc74721272b6",
   "metadata": {},
   "source": [
    "# Client fitting"
   ]
  },
  {
   "cell_type": "code",
   "execution_count": 11,
   "id": "a559bc3b-6458-4c7c-ab0d-a615ebd3b676",
   "metadata": {},
   "outputs": [],
   "source": [
    "# For convergence\n",
    "# - Initial global parameters\n",
    "z_beta = np.zeros_like(client.beta)\n",
    "z_gamma = np.zeros_like(client.gamma)\n",
    "# - Smoothing factor \n",
    "alpha = 0.5 #0.01\n",
    "# - Exponential moving average\n",
    "z_beta_prev = z_beta.copy()\n",
    "z_gamma_prev = z_gamma.copy()"
   ]
  },
  {
   "cell_type": "code",
   "execution_count": 12,
   "id": "59983a18-ad8c-4dd6-8870-c8ddadc11813",
   "metadata": {},
   "outputs": [],
   "source": [
    "EPS = 1e-4\n",
    "N_ITER_GLOBAL = 15000"
   ]
  },
  {
   "cell_type": "code",
   "execution_count": 13,
   "id": "3f97dc53-4930-4fd2-bcd7-26830561403c",
   "metadata": {},
   "outputs": [
    {
     "name": "stdout",
     "output_type": "stream",
     "text": [
      "Iter 0: 0.05130950476849665; 0.7749305959611396\n",
      "Iter 1500: 8.198564153043501e-05; 0.002645693951979807\n",
      "Iter 3000: 0.0003867262313354674; 0.0026456699408799115\n",
      "Iter 4500: 0.0004003878411679964; 0.0026456708814182675\n",
      "Iter 6000: 0.00013418151792001697; 0.0010894282532867116\n",
      "Converged after 6293 iterations\n"
     ]
    },
    {
     "data": {
      "text/plain": [
       "[<matplotlib.lines.Line2D at 0x14ca740d0>]"
      ]
     },
     "execution_count": 13,
     "metadata": {},
     "output_type": "execute_result"
    },
    {
     "data": {
      "image/png": "[encoded data removed]",
      "text/plain": [
       "<Figure size 640x480 with 1 Axes>"
      ]
     },
     "metadata": {},
     "output_type": "display_data"
    }
   ],
   "source": [
    "def relative_change(params, params_other):\n",
    "    return np.linalg.norm(params - params_other) #/ (np.linalg.norm(params) + 1e-12)\n",
    "\n",
    "\n",
    "def has_converged(params, params_other):\n",
    "    return np.linalg.norm(params_other - params) <= EPS \n",
    "\n",
    "\n",
    "def cosine_annealing_lr(epoch, max_epochs, initial_lr=0.1, min_lr=0.0001):\n",
    "    \"\"\"\n",
    "    Cosine annealing learning rate scheduler.\n",
    "    \"\"\"\n",
    "    cos_inner = np.pi * epoch / max_epochs\n",
    "    lr = min_lr + 0.5 * (initial_lr - min_lr) * (1 + np.cos(cos_inner))\n",
    "    return lr\n",
    "    \n",
    "\n",
    "losses = []\n",
    "for i in range(N_ITER_GLOBAL):\n",
    "\n",
    "    update_beta, update_gamma, last_local_losses = [], [], []\n",
    "    for client in participants:\n",
    "\n",
    "        # Fit client \n",
    "        client.fit_model_fedadmm(z_beta, z_gamma)\n",
    "        # Gather update parameters \n",
    "        update_beta.append(client.beta + client.u_beta / rho)\n",
    "        update_gamma.append(client.gamma + client.u_gamma / rho)\n",
    "\n",
    "        # Trace training loss per client \n",
    "        last_local_losses.append(client.loss)\n",
    "\n",
    "    # Average training loss across clients \n",
    "    losses.append(np.mean(last_local_losses))\n",
    "    \n",
    "    # Global update\n",
    "    z_beta = np.mean(update_beta, axis=0)\n",
    "    z_gamma = np.mean(update_gamma, axis=0)\n",
    "\n",
    "    # NOTE TEMP \n",
    "    alpha = cosine_annealing_lr(i, N_ITER_GLOBAL)\n",
    "\n",
    "    # Update moving average convergence parameters \n",
    "    z_beta = alpha * z_beta + (1 - alpha) * z_beta_prev\n",
    "    z_gamma = alpha * z_gamma + (1 - alpha) * z_gamma_prev\n",
    "    \n",
    "    if has_converged(z_beta_prev, z_beta) and has_converged(z_gamma_prev, z_gamma):\n",
    "        print(f\"Converged after {i} iterations\")\n",
    "        break \n",
    "\n",
    "    if i % (N_ITER_GLOBAL / 10) == 0:\n",
    "        change_beta = relative_change(z_beta_prev, z_beta)  \n",
    "        change_gamma = relative_change(z_gamma_prev, z_gamma)  \n",
    "        print(f\"Iter {i}: {change_beta}; {change_gamma}\")\n",
    "\n",
    "    # Update previous parameter estimate \n",
    "    z_beta_prev = z_beta\n",
    "    z_gamma_prev = z_gamma\n",
    "\n",
    "    for client in participants:\n",
    "        # Update duals \n",
    "        client.update_duals(z_beta, z_gamma)\n",
    "\n",
    "plt.figure()\n",
    "plt.plot(losses)\n",
    "# PROBLEM: The difference between consecutive parameter estimates seem to be converging. \n",
    "# This could mean that consecutive estimates alternate between similar solutions. "
   ]
  },
  {
   "cell_type": "code",
   "execution_count": 14,
   "id": "590210ed-b456-4c1b-a3d7-d34b6c524963",
   "metadata": {},
   "outputs": [],
   "source": [
    "# Save loss data to disk \n",
    "np.save(\"../data/losses/rossi_admmavg.npy\", losses)"
   ]
  },
  {
   "cell_type": "markdown",
   "id": "0f16dc21-134f-4de2-8568-cab2893f4b79",
   "metadata": {},
   "source": [
    "# Global model "
   ]
  },
  {
   "cell_type": "code",
   "execution_count": 15,
   "id": "c88e54c7-2683-4698-8c85-4d0cd3bce699",
   "metadata": {},
   "outputs": [
    {
     "data": {
      "text/plain": [
       "array([[-0.18216035, -0.32806282,  0.09758784, -0.07530462, -0.13641084,\n",
       "        -0.03789759,  0.25612927]])"
      ]
     },
     "execution_count": 15,
     "metadata": {},
     "output_type": "execute_result"
    }
   ],
   "source": [
    "np.save(\"../data/params/rossi_admmavg_beta_global.npy\", z_beta)\n",
    "z_beta"
   ]
  },
  {
   "cell_type": "code",
   "execution_count": 16,
   "id": "8f14a959-6a0a-4ddc-822e-f9ff9e23af06",
   "metadata": {},
   "outputs": [
    {
     "data": {
      "text/plain": [
       "array([[-6.26677934, -5.00163398, -3.90597534, -2.0764219 , -1.69278005,\n",
       "        -1.39375641, -1.25621349]])"
      ]
     },
     "execution_count": 16,
     "metadata": {},
     "output_type": "execute_result"
    }
   ],
   "source": [
    "np.save(\"../data/params/rossi_admmavg_gamma_global.npy\", z_gamma)\n",
    "z_gamma"
   ]
  },
  {
   "cell_type": "markdown",
   "id": "4bf3b720-aaa1-4a1f-bae0-a478a6b19988",
   "metadata": {},
   "source": [
    "# Reference model"
   ]
  },
  {
   "cell_type": "code",
   "execution_count": 17,
   "id": "6d6bfdeb-8dfe-447f-9daf-1402c9e2d103",
   "metadata": {},
   "outputs": [
    {
     "name": "stdout",
     "output_type": "stream",
     "text": [
      "Converged after 4426 iterations\n"
     ]
    },
    {
     "data": {
      "text/plain": [
       "[<matplotlib.lines.Line2D at 0x14cb75fc0>]"
      ]
     },
     "execution_count": 17,
     "metadata": {},
     "output_type": "execute_result"
    },
    {
     "data": {
      "image/png": "[encoded data removed]",
      "text/plain": [
       "<Figure size 640x480 with 1 Axes>"
      ]
     },
     "metadata": {},
     "output_type": "display_data"
    }
   ],
   "source": [
    "from utils.model import Model\n",
    "\n",
    "ref_model = Model(epochs=N_ITER_GLOBAL, knots=knots, learning_rate=0.01, l2_lambda=1, rho=rho)\n",
    "ref_model.set_params({\"beta\": beta, \"gamma\": gamma}) \n",
    "ref_model.fit(X, y, tol=EPS)\n",
    "\n",
    "plt.figure()\n",
    "plt.plot(ref_model.losses)"
   ]
  },
  {
   "cell_type": "code",
   "execution_count": 18,
   "id": "58cd184a-c3c8-43ce-91b7-22887cda50ee",
   "metadata": {},
   "outputs": [
    {
     "data": {
      "text/plain": [
       "array([[-0.17536245, -0.30535272,  0.09445201, -0.07586177, -0.12871987,\n",
       "        -0.03621313,  0.24828063]], dtype=float32)"
      ]
     },
     "execution_count": 18,
     "metadata": {},
     "output_type": "execute_result"
    }
   ],
   "source": [
    "ref_model.beta"
   ]
  },
  {
   "cell_type": "code",
   "execution_count": 19,
   "id": "fd37a6d6-b207-4bbd-992f-282d96ca461c",
   "metadata": {},
   "outputs": [
    {
     "data": {
      "text/plain": [
       "array([[-0.18216035, -0.32806282,  0.09758784, -0.07530462, -0.13641084,\n",
       "        -0.03789759,  0.25612927]])"
      ]
     },
     "execution_count": 19,
     "metadata": {},
     "output_type": "execute_result"
    }
   ],
   "source": [
    "z_beta"
   ]
  },
  {
   "cell_type": "code",
   "execution_count": 20,
   "id": "3b88fedf-55d2-43ab-8f49-34d7e8273e8d",
   "metadata": {},
   "outputs": [
    {
     "data": {
      "text/plain": [
       "array([[-6.2007933, -4.9384947, -3.8407304, -2.0178106, -1.6342392,\n",
       "        -1.3359975, -1.1990117]], dtype=float32)"
      ]
     },
     "execution_count": 20,
     "metadata": {},
     "output_type": "execute_result"
    }
   ],
   "source": [
    "ref_model.gamma"
   ]
  },
  {
   "cell_type": "code",
   "execution_count": 21,
   "id": "9fcb6f51-ba18-4673-9854-279de17d584f",
   "metadata": {},
   "outputs": [
    {
     "data": {
      "text/plain": [
       "array([[-6.26677934, -5.00163398, -3.90597534, -2.0764219 , -1.69278005,\n",
       "        -1.39375641, -1.25621349]])"
      ]
     },
     "execution_count": 21,
     "metadata": {},
     "output_type": "execute_result"
    }
   ],
   "source": [
    "z_gamma"
   ]
  },
  {
   "cell_type": "code",
   "execution_count": 22,
   "id": "95694bac-fa88-4d4d-95eb-d073a7d823cf",
   "metadata": {},
   "outputs": [
    {
     "data": {
      "text/plain": [
       "0.026376005635351456"
      ]
     },
     "execution_count": 22,
     "metadata": {},
     "output_type": "execute_result"
    }
   ],
   "source": [
    "# Training until 5K epochs: 0.06939954423736899\n",
    "relative_change(z_beta, ref_model.beta)"
   ]
  },
  {
   "cell_type": "code",
   "execution_count": 23,
   "id": "cfa0d541-ffc8-47c2-b1e1-49fffb7e491e",
   "metadata": {},
   "outputs": [
    {
     "data": {
      "text/plain": [
       "0.16145616100893"
      ]
     },
     "execution_count": 23,
     "metadata": {},
     "output_type": "execute_result"
    }
   ],
   "source": [
    "# Training until 5K epochs: 0.11927933753618518\n",
    "relative_change(z_gamma, ref_model.gamma)"
   ]
  },
  {
   "cell_type": "markdown",
   "id": "d1c4e765-0c6b-4abe-a70e-e378b16e04a5",
   "metadata": {},
   "source": [
    "# Number of clients "
   ]
  },
  {
   "cell_type": "code",
   "execution_count": 29,
   "id": "a3fb5080-5400-42b7-823e-2facea7d5ba3",
   "metadata": {},
   "outputs": [
    {
     "name": "stdout",
     "output_type": "stream",
     "text": [
      "Iter 0: 0.05131478193028471; 0.7749305959611269\n",
      "Iter 1500: 0.00014428822941598608; 0.0026456640236625765\n",
      "Iter 3000: 8.85463095238161e-05; 0.0023512518433471347\n",
      "Iter 4500: 0.00019770288747880622; 0.002467833863191925\n",
      "Converged after 5309 iterations\n",
      "Converged after 4426 iterations\n"
     ]
    },
    {
     "data": {
      "image/png": "[encoded data removed]",
      "text/plain": [
       "<Figure size 640x480 with 1 Axes>"
      ]
     },
     "metadata": {},
     "output_type": "display_data"
    }
   ],
   "source": [
    "from utils.splines import bspline_design_matrix\n",
    "from utils.data import init_gamma, init_beta\n",
    "from utils.client import Client \n",
    "from utils.model import Model\n",
    "\n",
    "rho = 1\n",
    "beta = init_beta(X, y)\n",
    "gamma = init_gamma(bspline_design_matrix(np.log(duration), knots), duration)\n",
    "\n",
    "N_SPLITS = 6\n",
    "DATA_SPLIT_IDX = np.array_split(np.arange(data.shape[0]), N_SPLITS)\n",
    "\n",
    "participants = [] \n",
    "for idx in DATA_SPLIT_IDX:\n",
    "    client = Client(data.iloc[idx], n_knots=5, n_epochs=1, event_col=event_col, duration_col=duration_col, rho=rho)\n",
    "    client.preprocess_data(train_test_split=False)\n",
    "    client.init_model(local_knots=False, knots=knots, learning_rate=0.001)\n",
    "    client.set_params({\"beta\": beta, \"gamma\": gamma})\n",
    "\n",
    "    participants.append(client)\n",
    "\n",
    "z_beta = np.zeros_like(client.beta)\n",
    "z_gamma = np.zeros_like(client.gamma)\n",
    "z_beta_prev = z_beta.copy()\n",
    "z_gamma_prev = z_gamma.copy()\n",
    "\n",
    "alpha = 0.5 \n",
    "EPS = 1e-4\n",
    "N_ITER_GLOBAL = 15000\n",
    "    \n",
    "\n",
    "losses = []\n",
    "for i in range(N_ITER_GLOBAL):\n",
    "\n",
    "    update_beta, update_gamma, last_local_losses = [], [], []\n",
    "    for client in participants:\n",
    "\n",
    "        # Fit client \n",
    "        client.fit_model_fedadmm(z_beta, z_gamma)\n",
    "        # Gather update parameters \n",
    "        update_beta.append(client.beta + client.u_beta / rho)\n",
    "        update_gamma.append(client.gamma + client.u_gamma / rho)\n",
    "\n",
    "        # Trace training loss per client \n",
    "        last_local_losses.append(client.loss)\n",
    "\n",
    "    # Average training loss across clients \n",
    "    losses.append(np.mean(last_local_losses))\n",
    "    \n",
    "    # Global update\n",
    "    z_beta = np.mean(update_beta, axis=0)\n",
    "    z_gamma = np.mean(update_gamma, axis=0)\n",
    "\n",
    "    # NOTE TEMP \n",
    "    alpha = cosine_annealing_lr(i, N_ITER_GLOBAL)\n",
    "\n",
    "    # Update moving average convergence parameters \n",
    "    z_beta = alpha * z_beta + (1 - alpha) * z_beta_prev\n",
    "    z_gamma = alpha * z_gamma + (1 - alpha) * z_gamma_prev\n",
    "    \n",
    "    if has_converged(z_beta_prev, z_beta) and has_converged(z_gamma_prev, z_gamma):\n",
    "        print(f\"Converged after {i} iterations\")\n",
    "        break \n",
    "\n",
    "    if i % (N_ITER_GLOBAL / 10) == 0:\n",
    "        change_beta = relative_change(z_beta_prev, z_beta)  \n",
    "        change_gamma = relative_change(z_gamma_prev, z_gamma)  \n",
    "        print(f\"Iter {i}: {change_beta}; {change_gamma}\")\n",
    "\n",
    "    # Update previous parameter estimate \n",
    "    z_beta_prev = z_beta\n",
    "    z_gamma_prev = z_gamma\n",
    "\n",
    "    for client in participants:\n",
    "        # Update duals \n",
    "        client.update_duals(z_beta, z_gamma)\n",
    "\n",
    "plt.figure()\n",
    "plt.plot(losses)\n",
    "\n",
    "ref_model = Model(epochs=N_ITER_GLOBAL, knots=knots, learning_rate=0.01, l2_lambda=1, rho=rho)\n",
    "ref_model.set_params({\"beta\": beta, \"gamma\": gamma}) \n",
    "ref_model.fit(X, y, tol=EPS)\n",
    "\n",
    "version = f\"{N_SPLITS}_clients\"\n",
    "\n",
    "np.save(f\"../data/params/rossi_admmavg_beta_global_{version}.npy\", z_beta)\n",
    "np.save(f\"../data/params/rossi_admmavg_gamma_global_{version}.npy\", z_gamma)\n",
    "np.save(f\"../data/params/rossi_admmavg_beta_global_ref_{version}.npy\", ref_model.beta)\n",
    "np.save(f\"../data/params/rossi_admmavg_gamma_global_ref_{version}.npy\", ref_model.gamma)"
   ]
  },
  {
   "cell_type": "code",
   "execution_count": null,
   "id": "c4680f4c-1be7-4513-a563-134c7195935b",
   "metadata": {},
   "outputs": [],
   "source": []
  }
 ],
 "metadata": {
  "kernelspec": {
   "display_name": "Python 3 (ipykernel)",
   "language": "python",
   "name": "python3"
  },
  "language_info": {
   "codemirror_mode": {
    "name": "ipython",
    "version": 3
   },
   "file_extension": ".py",
   "mimetype": "text/x-python",
   "name": "python",
   "nbconvert_exporter": "python",
   "pygments_lexer": "ipython3",
   "version": "3.10.15"
  }
 },
 "nbformat": 4,
 "nbformat_minor": 5
}
