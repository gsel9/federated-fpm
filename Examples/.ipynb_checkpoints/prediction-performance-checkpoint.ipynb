{
 "cells": [
  {
   "cell_type": "markdown",
   "id": "ab96b5f9-a64e-4ca5-869d-d6223ef4ec53",
   "metadata": {},
   "source": [
    "# Data"
   ]
  },
  {
   "cell_type": "code",
   "execution_count": 1,
   "id": "81d74d6b-a16e-4b6e-98d3-d7b889399953",
   "metadata": {},
   "outputs": [
    {
     "name": "stderr",
     "output_type": "stream",
     "text": [
      "2025-05-20 08:39:30.643492: I tensorflow/core/platform/cpu_feature_guard.cc:210] This TensorFlow binary is optimized to use available CPU instructions in performance-critical operations.\n",
      "To enable the following instructions: AVX2 FMA, in other operations, rebuild TensorFlow with the appropriate compiler flags.\n"
     ]
    },
    {
     "name": "stdout",
     "output_type": "stream",
     "text": [
      "(432, 9)\n"
     ]
    },
    {
     "data": {
      "text/html": [
       "<div>\n",
       "<style scoped>\n",
       "    .dataframe tbody tr th:only-of-type {\n",
       "        vertical-align: middle;\n",
       "    }\n",
       "\n",
       "    .dataframe tbody tr th {\n",
       "        vertical-align: top;\n",
       "    }\n",
       "\n",
       "    .dataframe thead th {\n",
       "        text-align: right;\n",
       "    }\n",
       "</style>\n",
       "<table border=\"1\" class=\"dataframe\">\n",
       "  <thead>\n",
       "    <tr style=\"text-align: right;\">\n",
       "      <th></th>\n",
       "      <th>week</th>\n",
       "      <th>arrest</th>\n",
       "      <th>fin</th>\n",
       "      <th>age</th>\n",
       "      <th>race</th>\n",
       "      <th>wexp</th>\n",
       "      <th>mar</th>\n",
       "      <th>paro</th>\n",
       "      <th>prio</th>\n",
       "    </tr>\n",
       "  </thead>\n",
       "  <tbody>\n",
       "    <tr>\n",
       "      <th>0</th>\n",
       "      <td>20</td>\n",
       "      <td>1</td>\n",
       "      <td>0</td>\n",
       "      <td>27</td>\n",
       "      <td>1</td>\n",
       "      <td>0</td>\n",
       "      <td>0</td>\n",
       "      <td>1</td>\n",
       "      <td>3</td>\n",
       "    </tr>\n",
       "    <tr>\n",
       "      <th>1</th>\n",
       "      <td>17</td>\n",
       "      <td>1</td>\n",
       "      <td>0</td>\n",
       "      <td>18</td>\n",
       "      <td>1</td>\n",
       "      <td>0</td>\n",
       "      <td>0</td>\n",
       "      <td>1</td>\n",
       "      <td>8</td>\n",
       "    </tr>\n",
       "    <tr>\n",
       "      <th>2</th>\n",
       "      <td>25</td>\n",
       "      <td>1</td>\n",
       "      <td>0</td>\n",
       "      <td>19</td>\n",
       "      <td>0</td>\n",
       "      <td>1</td>\n",
       "      <td>0</td>\n",
       "      <td>1</td>\n",
       "      <td>13</td>\n",
       "    </tr>\n",
       "    <tr>\n",
       "      <th>3</th>\n",
       "      <td>52</td>\n",
       "      <td>0</td>\n",
       "      <td>1</td>\n",
       "      <td>23</td>\n",
       "      <td>1</td>\n",
       "      <td>1</td>\n",
       "      <td>1</td>\n",
       "      <td>1</td>\n",
       "      <td>1</td>\n",
       "    </tr>\n",
       "    <tr>\n",
       "      <th>4</th>\n",
       "      <td>52</td>\n",
       "      <td>0</td>\n",
       "      <td>0</td>\n",
       "      <td>19</td>\n",
       "      <td>0</td>\n",
       "      <td>1</td>\n",
       "      <td>0</td>\n",
       "      <td>1</td>\n",
       "      <td>3</td>\n",
       "    </tr>\n",
       "  </tbody>\n",
       "</table>\n",
       "</div>"
      ],
      "text/plain": [
       "   week  arrest  fin  age  race  wexp  mar  paro  prio\n",
       "0    20       1    0   27     1     0    0     1     3\n",
       "1    17       1    0   18     1     0    0     1     8\n",
       "2    25       1    0   19     0     1    0     1    13\n",
       "3    52       0    1   23     1     1    1     1     1\n",
       "4    52       0    0   19     0     1    0     1     3"
      ]
     },
     "execution_count": 1,
     "metadata": {},
     "output_type": "execute_result"
    }
   ],
   "source": [
    "import numpy as np \n",
    "import matplotlib.pyplot as plt \n",
    "\n",
    "from lifelines.datasets import load_rossi\n",
    "from sksurv.metrics import concordance_index_censored\n",
    "\n",
    "from utils.model import Model\n",
    "\n",
    "data = load_rossi()\n",
    "data.dropna(inplace=True)\n",
    "print(data.shape)\n",
    "data.head()"
   ]
  },
  {
   "cell_type": "code",
   "execution_count": 2,
   "id": "e1976584-3613-434e-8c75-821959e4dffa",
   "metadata": {},
   "outputs": [
    {
     "data": {
      "text/plain": [
       "(432, 7)"
      ]
     },
     "execution_count": 2,
     "metadata": {},
     "output_type": "execute_result"
    }
   ],
   "source": [
    "event_col = \"arrest\"\n",
    "duration_col = \"week\"\n",
    "\n",
    "X = data.drop(columns=[event_col, duration_col])\n",
    "X.shape"
   ]
  },
  {
   "cell_type": "code",
   "execution_count": 3,
   "id": "caaacf02-99ff-4633-9457-ec40ee9c1997",
   "metadata": {},
   "outputs": [],
   "source": [
    "duration = data[duration_col].to_numpy().squeeze()\n",
    "event = data[event_col].to_numpy().squeeze()"
   ]
  },
  {
   "cell_type": "code",
   "execution_count": 4,
   "id": "a7f4e36a-2980-45e7-8c04-f4faa639af74",
   "metadata": {},
   "outputs": [],
   "source": [
    "from sksurv.util import Surv\n",
    "# Create structured arrays\n",
    "y = Surv.from_arrays(event=event, time=duration)"
   ]
  },
  {
   "cell_type": "markdown",
   "id": "f22a1ff6-a62d-4472-ad4c-3877844b3c03",
   "metadata": {},
   "source": [
    "# Pre-processing "
   ]
  },
  {
   "cell_type": "code",
   "execution_count": 5,
   "id": "c0eab75b-0b3c-417c-b9ae-25110a7327e2",
   "metadata": {},
   "outputs": [],
   "source": [
    "#from utils.data import feature_scaling\n",
    "# Scale features with Z-score transfrom \n",
    "#X = feature_scaling(X)"
   ]
  },
  {
   "cell_type": "code",
   "execution_count": 6,
   "id": "0da62f2c-83a1-4d33-b241-cdcfb36d057d",
   "metadata": {},
   "outputs": [
    {
     "data": {
      "text/plain": [
       "(0.0, 3.9512437185814275)"
      ]
     },
     "execution_count": 6,
     "metadata": {},
     "output_type": "execute_result"
    }
   ],
   "source": [
    "from utils.data import init_knots\n",
    "# Set knot locations \n",
    "knots = init_knots(duration, event, n_knots=5)\n",
    "min(knots), max(knots)"
   ]
  },
  {
   "cell_type": "markdown",
   "id": "6396a3bd-c31d-4072-8007-abe0013fa67f",
   "metadata": {},
   "source": [
    "# Initialize clients "
   ]
  },
  {
   "cell_type": "code",
   "execution_count": 7,
   "id": "b4fe0f66-5ef7-477b-9597-c2a285e181f0",
   "metadata": {},
   "outputs": [],
   "source": [
    "N_SPLITS = 3\n",
    "DATA_SPLIT_IDX = np.array_split(np.arange(data.shape[0]), N_SPLITS)"
   ]
  },
  {
   "cell_type": "code",
   "execution_count": 8,
   "id": "a7608b04-997e-442e-b630-b008b7e52404",
   "metadata": {},
   "outputs": [],
   "source": [
    "from utils.client import Client \n",
    "\n",
    "participants = [] \n",
    "\n",
    "rho = 1\n",
    "\n",
    "for idx in DATA_SPLIT_IDX:\n",
    "    # Init client objects with mutually exclusive data samples \n",
    "    client = Client(data.iloc[idx], n_knots=5, n_epochs=1, event_col=event_col, duration_col=duration_col, rho=rho)\n",
    "    # Apply data pre-processing steps \n",
    "    client.preprocess_data(train_test_split=True)\n",
    "    # Initialize model and parameters \n",
    "    client.init_model(local_knots=False, knots=knots)\n",
    "\n",
    "    participants.append(client)"
   ]
  },
  {
   "cell_type": "markdown",
   "id": "ba8dbe74-502c-42d0-be37-241380a7f2f9",
   "metadata": {},
   "source": [
    "# Initialize parameters"
   ]
  },
  {
   "cell_type": "code",
   "execution_count": 16,
   "id": "17d2b759-a891-4032-bfc0-0866f67c6e9e",
   "metadata": {},
   "outputs": [],
   "source": [
    "X_train_local = [client.X_train for client in participants]\n",
    "X_test_local = [client.X_test for client in participants]\n",
    "\n",
    "y_train_local = [client.y_train for client in participants]\n",
    "y_test_local = [client.y_test for client in participants]\n",
    "\n",
    "X_train_global = np.vstack(X_train_local)\n",
    "X_test_global = np.vstack(X_test_local)\n",
    "\n",
    "event_train_local, event_test_local = [], [] \n",
    "duration_train_local, duration_test_local = [], [] \n",
    "\n",
    "for client in participants:\n",
    "\n",
    "    event_train, duration_train = zip(*client.y_train)\n",
    "    event_test, duration_test = zip(*client.y_test)\n",
    "\n",
    "    event_train_local.append(list(event_train))\n",
    "    event_test_local.append(list(event_test))\n",
    "\n",
    "    duration_train_local.append(duration_train)\n",
    "    duration_test_local.append(duration_test)\n",
    "    \n",
    "event_train_global = np.concatenate(event_train_local)\n",
    "event_test_global = np.concatenate(event_test_local)\n",
    "\n",
    "duration_train_global = np.concatenate(duration_train_local)\n",
    "duration_test_global = np.concatenate(duration_test_local)"
   ]
  },
  {
   "cell_type": "code",
   "execution_count": 13,
   "id": "48fe3d01-56b0-41f1-afb6-8590ceb9c72d",
   "metadata": {},
   "outputs": [],
   "source": [
    "y_train_global = np.concatenate([client.y_train for client in participants])"
   ]
  },
  {
   "cell_type": "markdown",
   "id": "451c8394-8b85-42e8-82fa-bc74721272b6",
   "metadata": {},
   "source": [
    "# Fit clients "
   ]
  },
  {
   "cell_type": "code",
   "execution_count": 9,
   "id": "e4105f81-49e6-4dad-96a3-a74049551e37",
   "metadata": {},
   "outputs": [],
   "source": [
    "# Global variables \n",
    "beta_global = np.zeros_like(client.beta)\n",
    "gamma_global = np.zeros_like(client.gamma)\n",
    "\n",
    "#z_beta_prev = z_beta.copy()\n",
    "#w_gamma_prev = z_gamma.copy()\n",
    "\n",
    "#u_beta_prev = np.zeros_like(client.beta)\n",
    "#u_gamma_prev = np.zeros_like(client.gamma)\n",
    "\n",
    "#w_beta_prev = np.zeros_like(client.beta)\n",
    "#w_gamma_prev = np.zeros_like(client.gamma)"
   ]
  },
  {
   "cell_type": "code",
   "execution_count": 10,
   "id": "3f97dc53-4930-4fd2-bcd7-26830561403c",
   "metadata": {},
   "outputs": [
    {
     "name": "stdout",
     "output_type": "stream",
     "text": [
      "Converged after 0 iterations\n"
     ]
    },
    {
     "data": {
      "text/plain": [
       "[<matplotlib.lines.Line2D at 0x156fbfc10>]"
      ]
     },
     "execution_count": 10,
     "metadata": {},
     "output_type": "execute_result"
    },
    {
     "data": {
      "image/png": "[encoded data removed]",
      "text/plain": [
       "<Figure size 640x480 with 1 Axes>"
      ]
     },
     "metadata": {},
     "output_type": "display_data"
    }
   ],
   "source": [
    "def has_converged(params, params_other, eps=0.001):\n",
    "    return np.linalg.norm(params_other - params) <= eps \n",
    "\n",
    "\n",
    "# GLobal iterations \n",
    "n_iter = 1000\n",
    "\n",
    "losses = []\n",
    "\n",
    "for i in range(n_iter):\n",
    "\n",
    "    delta_beta, delta_gamma, last_local_losses = [], [], []\n",
    "    \n",
    "    for c, client in enumerate(participants):\n",
    "\n",
    "        # Previous delta estimate \n",
    "        delta_beta_prev = client.beta + client.u_beta / rho\n",
    "        delta_gamma_prev = client.gamma + client.u_gamma / rho\n",
    "\n",
    "        # Update model params \n",
    "        client.fit_model_fedadmm(beta_global, gamma_global)\n",
    "\n",
    "        # Next delta estimate \n",
    "        delta_beta_next = client.beta + client.u_beta / rho\n",
    "        delta_gamma_next = client.gamma + client.u_gamma / rho\n",
    "\n",
    "        delta_beta.append(delta_beta_next - delta_beta_prev)\n",
    "        delta_gamma.append(delta_gamma_next - delta_gamma_prev)\n",
    "\n",
    "        # Trace training loss \n",
    "        last_local_losses.append(client.loss)\n",
    "\n",
    "    losses.append(np.mean(last_local_losses))\n",
    "\n",
    "    # Update previous parameter estimate \n",
    "    beta_global_prev = beta_global.copy()\n",
    "    gamma_global_prev = gamma_global.copy()\n",
    "  \n",
    "    # Global update\n",
    "    beta_global += 0.01 * np.mean(delta_beta, axis=0)\n",
    "    gamma_global += 0.01 * np.mean(delta_gamma, axis=0)\n",
    "    \n",
    "    if has_converged(beta_global, beta_global_prev) and has_converged(gamma_global, gamma_global_prev):\n",
    "        print(f\"Converged after {i} iterations\")\n",
    "        break \n",
    "\n",
    "    if i % (n_iter / 10) == 0:\n",
    "        change_beta = np.linalg.norm(beta_global - beta_global_prev) \n",
    "        change_gamma = np.linalg.norm(gamma_global - gamma_global_prev)\n",
    "        print(f\"Iter {i}: {change_beta}; {change_gamma}\")\n",
    "\n",
    "\n",
    "plt.figure()\n",
    "plt.plot(losses)\n",
    "# PROBLEM: The difference between consecutive parameter estimates seem to be converging. \n",
    "# This could mean that consecutive estimates alternative between similar solutions. "
   ]
  },
  {
   "cell_type": "markdown",
   "id": "99b53061-bd91-4027-8dd2-09bf4ec68772",
   "metadata": {},
   "source": [
    "# Fit reference model "
   ]
  },
  {
   "cell_type": "code",
   "execution_count": 14,
   "id": "092ac206-c3d1-4e42-a541-0a7382950c20",
   "metadata": {},
   "outputs": [],
   "source": [
    "from utils.data import init_gamma, init_beta\n",
    "from utils.splines import bspline_design_matrix\n",
    "\n",
    "# Create one spline equation per time point \n",
    "D = bspline_design_matrix(np.log(duration_train_global), knots)\n",
    "\n",
    "# Initialize gamma coefficients\n",
    "gamma = init_gamma(D, duration_train_global)\n",
    "\n",
    "# Initialize beta coefficients\n",
    "beta = init_beta(X_train_global, y_train_global)"
   ]
  },
  {
   "cell_type": "code",
   "execution_count": 15,
   "id": "bcbf51c9-4145-44dc-a540-5d009f1a0e13",
   "metadata": {},
   "outputs": [
    {
     "data": {
      "text/plain": [
       "[<matplotlib.lines.Line2D at 0x157d30f10>]"
      ]
     },
     "execution_count": 15,
     "metadata": {},
     "output_type": "execute_result"
    },
    {
     "data": {
      "image/png": "[encoded data removed]",
      "text/plain": [
       "<Figure size 640x480 with 1 Axes>"
      ]
     },
     "metadata": {},
     "output_type": "display_data"
    }
   ],
   "source": [
    "# Train reference model on pooled training data \n",
    "ref_model = Model(epochs=n_iter, knots=knots, learning_rate=0.01, l2_lambda=1)\n",
    "ref_model.set_params({\"beta\": beta, \"gamma\": gamma}) \n",
    "ref_model.fit(X_train_global, y_train_global, tol=0.0001)\n",
    "\n",
    "plt.figure()\n",
    "plt.plot(ref_model.losses)"
   ]
  },
  {
   "cell_type": "code",
   "execution_count": null,
   "id": "9d41fa13-6f2b-445f-b95f-3e0ab63f9caa",
   "metadata": {},
   "outputs": [],
   "source": []
  },
  {
   "cell_type": "code",
   "execution_count": 20,
   "id": "ed31913d-51be-429c-bebd-bd5849010048",
   "metadata": {},
   "outputs": [
    {
     "data": {
      "text/plain": [
       "array([[-0.09249164, -0.4109207 ,  0.08671832, -0.12165639, -0.04124754,\n",
       "        -0.04474949,  0.275718  ]], dtype=float32)"
      ]
     },
     "execution_count": 20,
     "metadata": {},
     "output_type": "execute_result"
    }
   ],
   "source": [
    "ref_model.beta"
   ]
  },
  {
   "cell_type": "code",
   "execution_count": 21,
   "id": "28603146-1ce9-465c-9bd7-4f0130668b60",
   "metadata": {},
   "outputs": [
    {
     "data": {
      "text/plain": [
       "array([[-0.00423781, -0.04035023,  0.00808428, -0.03569263, -0.00605306,\n",
       "        -0.00902964,  0.03950364]])"
      ]
     },
     "execution_count": 21,
     "metadata": {},
     "output_type": "execute_result"
    }
   ],
   "source": [
    "beta_global"
   ]
  },
  {
   "cell_type": "code",
   "execution_count": null,
   "id": "aa08aa44-7515-4d10-a43a-bcb8b85f2218",
   "metadata": {},
   "outputs": [],
   "source": []
  },
  {
   "cell_type": "code",
   "execution_count": 22,
   "id": "240b339e-c76d-4b9e-a75e-078277480ab3",
   "metadata": {},
   "outputs": [
    {
     "data": {
      "text/plain": [
       "array([[-6.0194054, -5.041572 , -3.6665266, -2.0158398, -1.5872545,\n",
       "        -1.322266 , -1.1505558]], dtype=float32)"
      ]
     },
     "execution_count": 22,
     "metadata": {},
     "output_type": "execute_result"
    }
   ],
   "source": [
    "ref_model.gamma"
   ]
  },
  {
   "cell_type": "code",
   "execution_count": 23,
   "id": "2410466b-992a-420a-9cb3-7fd2b03f9431",
   "metadata": {},
   "outputs": [
    {
     "data": {
      "text/plain": [
       "array([[-0.34949664, -0.26554088, -0.27273066, -0.08544047, -0.04864324,\n",
       "         0.13199654, -0.06496844]])"
      ]
     },
     "execution_count": 23,
     "metadata": {},
     "output_type": "execute_result"
    }
   ],
   "source": [
    "gamma_global"
   ]
  },
  {
   "cell_type": "code",
   "execution_count": null,
   "id": "b8ac5eb2-8624-4522-8206-cfbbbdf981bb",
   "metadata": {},
   "outputs": [],
   "source": []
  },
  {
   "cell_type": "markdown",
   "id": "0f16dc21-134f-4de2-8568-cab2893f4b79",
   "metadata": {},
   "source": [
    "# Performance global model "
   ]
  },
  {
   "cell_type": "code",
   "execution_count": null,
   "id": "57ec09e3-4d6a-426a-9382-430a0197ac2a",
   "metadata": {},
   "outputs": [],
   "source": [
    "#\n",
    "# TODO: Make cross_val_score function\n",
    "#"
   ]
  },
  {
   "cell_type": "code",
   "execution_count": 16,
   "id": "c88e54c7-2683-4698-8c85-4d0cd3bce699",
   "metadata": {},
   "outputs": [],
   "source": [
    "# Global federated model \n",
    "from utils.model import Model \n",
    "global_model = Model(epochs=0, knots=knots, learning_rate=0.01, l2_lambda=1)\n",
    "global_model.set_params({\"beta\": beta_global, \"gamma\": gamma_global}) "
   ]
  },
  {
   "cell_type": "code",
   "execution_count": 17,
   "id": "69992477-41bd-4a89-b3cf-84e3d80fb000",
   "metadata": {},
   "outputs": [
    {
     "data": {
      "text/plain": [
       "0.677371213796153"
      ]
     },
     "execution_count": 17,
     "metadata": {},
     "output_type": "execute_result"
    }
   ],
   "source": [
    "# Global federated model performance on training data \n",
    "risk = global_model.risk_score(X_train_global).squeeze()\n",
    "score, _, _, _, _ = concordance_index_censored(event_train_global.astype(bool), duration_train_global, risk)\n",
    "score"
   ]
  },
  {
   "cell_type": "code",
   "execution_count": null,
   "id": "cd57bca6-7b41-44fe-90d4-1bcb197bac93",
   "metadata": {},
   "outputs": [],
   "source": [
    "# Global reference model performance on training data \n",
    "risk = ref_model.risk_score(X_train_global).squeeze()\n",
    "score, _, _, _, _ = concordance_index_censored(event_train_global.astype(bool), duration_train_global, risk)\n",
    "score"
   ]
  },
  {
   "cell_type": "code",
   "execution_count": 18,
   "id": "59864ea1-facf-428b-8cb8-337272008dd7",
   "metadata": {},
   "outputs": [
    {
     "data": {
      "text/plain": [
       "0.5218150087260035"
      ]
     },
     "execution_count": 18,
     "metadata": {},
     "output_type": "execute_result"
    }
   ],
   "source": [
    "# Global federated model performance on test data \n",
    "risk = global_model.risk_score(X_test_global).squeeze()\n",
    "score, _, _, _, _ = concordance_index_censored(event_test_global.astype(bool), duration_test_global, risk)\n",
    "score"
   ]
  },
  {
   "cell_type": "code",
   "execution_count": null,
   "id": "76398dee-83fc-4140-a93f-9461dcd43e69",
   "metadata": {},
   "outputs": [],
   "source": [
    "# Global reference model performance on test data \n",
    "risk = ref_model.risk_score(X_test_global).squeeze()\n",
    "score, _, _, _, _ = concordance_index_censored(event_test_global.astype(bool), duration_test_global, risk)\n",
    "score"
   ]
  },
  {
   "cell_type": "markdown",
   "id": "ffb02319-59cf-4cdf-ac98-587b343a92b7",
   "metadata": {},
   "source": [
    "# Performance local models"
   ]
  },
  {
   "cell_type": "code",
   "execution_count": null,
   "id": "746d1550-13af-4363-a926-51d2f22c8fb2",
   "metadata": {},
   "outputs": [],
   "source": [
    "# Train local models until convergence on client training data \n",
    "local_models = []\n",
    "\n",
    "for X_local, y_local in zip(X_train_local, y_train_local):\n",
    "    # Init client objects with mutually exclusive data samples \n",
    "    client = Client(data.iloc[idx], n_knots=5, n_epochs=50, event_col=event_col, duration_col=duration_col, rho=rho)\n",
    "    # Apply data pre-processing steps \n",
    "    client.preprocess_data(train_test_split=True)\n",
    "    # Initialize model and parameters \n",
    "    client.init_model(local_knots=False, knots=knots)\n",
    "    # Fit model to convergence on local data \n",
    "    client.fit_model(client.beta, client.gamma)\n",
    "    # Model trained \n",
    "    local_models.append(client.model)"
   ]
  },
  {
   "cell_type": "code",
   "execution_count": 19,
   "id": "2132f986-a0d7-40d2-a41d-1fd13f59242a",
   "metadata": {},
   "outputs": [
    {
     "name": "stdout",
     "output_type": "stream",
     "text": [
      "0.6791031026604761\n",
      "0.6708858427297516\n",
      "0.6735757977743385\n"
     ]
    }
   ],
   "source": [
    "# Local federated model performance on training data \n",
    "for client in participants:\n",
    "    risk = client.risk_score(X_train_global).squeeze()\n",
    "    score, _, _, _, _ = concordance_index_censored(event_train_global.astype(bool), duration_train_global, risk)\n",
    "    print(score)"
   ]
  },
  {
   "cell_type": "code",
   "execution_count": null,
   "id": "5e897488-fdc1-4906-b5c3-6f7731e36cfa",
   "metadata": {},
   "outputs": [],
   "source": [
    "# Local specialized model performance on training data \n",
    "\n",
    "#\n",
    "# TODO\n",
    "#"
   ]
  },
  {
   "cell_type": "code",
   "execution_count": 20,
   "id": "8f14a959-6a0a-4ddc-822e-f9ff9e23af06",
   "metadata": {},
   "outputs": [
    {
     "name": "stdout",
     "output_type": "stream",
     "text": [
      "0.525305410122164\n",
      "0.5031995346131471\n",
      "0.5194880744618965\n"
     ]
    }
   ],
   "source": [
    "# Local federated model performance on test data \n",
    "for client in participants:\n",
    "    risk = client.risk_score(X_test_global).squeeze()\n",
    "    score, _, _, _, _ = concordance_index_censored(event_test_global.astype(bool), duration_test_global, risk)\n",
    "    print(score)"
   ]
  },
  {
   "cell_type": "code",
   "execution_count": null,
   "id": "9f74f06a-20d5-4abe-ad60-22d297c94b19",
   "metadata": {},
   "outputs": [],
   "source": [
    "# Local specialized model performance on test data \n",
    "\n",
    "#\n",
    "# TODO\n",
    "#"
   ]
  },
  {
   "cell_type": "markdown",
   "id": "dbfc6963-571e-4a4b-a2bc-0e7da0edefd0",
   "metadata": {},
   "source": [
    "# Local spline models "
   ]
  },
  {
   "cell_type": "code",
   "execution_count": 21,
   "id": "85304e96-e0c6-49f8-8421-d61317b65a28",
   "metadata": {},
   "outputs": [],
   "source": [
    "# TODO: Local spline models should be trained with federation, not only one client data \n",
    "\n",
    "n_iter = 50\n",
    "\n",
    "local_spline_models = []\n",
    "for X_local, y_local in zip(X_train_local, y_train_local):\n",
    "\n",
    "    # Init client objects with mutually exclusive data samples \n",
    "    client = Client(data.iloc[idx], n_knots=5, n_epochs=1, event_col=event_col, duration_col=duration_col, rho=rho)\n",
    "    \n",
    "    # Apply data pre-processing steps \n",
    "    client.preprocess_data(train_test_split=True)\n",
    "    \n",
    "    # Initialize model and parameters \n",
    "    client.init_model(local_knots=True)\n",
    "    \n",
    "    # Fit model to convergence on local data \n",
    "    client.fit_model(client.beta, client.gamma)\n",
    "    \n",
    "    # Model trained \n",
    "    local_spline_models.append(client.model)"
   ]
  },
  {
   "cell_type": "code",
   "execution_count": 28,
   "id": "83b1c9a9-5dc9-4fd2-8956-beedf5d44992",
   "metadata": {},
   "outputs": [
    {
     "name": "stdout",
     "output_type": "stream",
     "text": [
      "[0.         2.83321334 3.33220451 3.72547208 3.95124372]\n",
      "[0.         3.29387175 3.5694335  3.77844225 3.95124372]\n"
     ]
    },
    {
     "ename": "NameError",
     "evalue": "name 'af' is not defined",
     "output_type": "error",
     "traceback": [
      "\u001b[0;31m---------------------------------------------------------------------------\u001b[0m",
      "\u001b[0;31mNameError\u001b[0m                                 Traceback (most recent call last)",
      "Cell \u001b[0;32mIn[28], line 4\u001b[0m\n\u001b[1;32m      2\u001b[0m \u001b[38;5;28mprint\u001b[39m(local_model\u001b[38;5;241m.\u001b[39mknots)\n\u001b[1;32m      3\u001b[0m \u001b[38;5;28mprint\u001b[39m(spline_model\u001b[38;5;241m.\u001b[39mknots)\n\u001b[0;32m----> 4\u001b[0m \u001b[38;5;28;01massert\u001b[39;00m \u001b[43maf\u001b[49m\n",
      "\u001b[0;31mNameError\u001b[0m: name 'af' is not defined"
     ]
    }
   ],
   "source": [
    "for local_model, spline_model in zip(local_models, local_spline_models):\n",
    "    print(local_model.knots)\n",
    "    print(spline_model.knots)\n",
    "    assert af "
   ]
  },
  {
   "cell_type": "code",
   "execution_count": null,
   "id": "c0462cf1-b9f6-4309-8076-93dab1e0acff",
   "metadata": {},
   "outputs": [],
   "source": [
    "# Local federated model performance on training data \n",
    "\n",
    "#\n",
    "# TODO\n",
    "#"
   ]
  },
  {
   "cell_type": "code",
   "execution_count": null,
   "id": "dcf4e833-9b04-4564-81bc-39f28c043d40",
   "metadata": {},
   "outputs": [],
   "source": [
    "# Local specialized model performance on training data \n",
    "\n",
    "#\n",
    "# TODO\n",
    "#"
   ]
  },
  {
   "cell_type": "code",
   "execution_count": null,
   "id": "4f4382ff-5442-4b01-af65-3548d0d14cd8",
   "metadata": {},
   "outputs": [],
   "source": []
  }
 ],
 "metadata": {
  "kernelspec": {
   "display_name": "Python 3 (ipykernel)",
   "language": "python",
   "name": "python3"
  },
  "language_info": {
   "codemirror_mode": {
    "name": "ipython",
    "version": 3
   },
   "file_extension": ".py",
   "mimetype": "text/x-python",
   "name": "python",
   "nbconvert_exporter": "python",
   "pygments_lexer": "ipython3",
   "version": "3.10.15"
  }
 },
 "nbformat": 4,
 "nbformat_minor": 5
}
