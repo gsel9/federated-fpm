{
 "cells": [
  {
   "cell_type": "code",
   "execution_count": 1,
   "id": "1b6617d2-2952-4ffb-a4b0-5972899444b3",
   "metadata": {},
   "outputs": [
    {
     "name": "stderr",
     "output_type": "stream",
     "text": [
      "2025-03-06 16:04:30.513899: I tensorflow/core/platform/cpu_feature_guard.cc:182] This TensorFlow binary is optimized to use available CPU instructions in performance-critical operations.\n",
      "To enable the following instructions: AVX2 FMA, in other operations, rebuild TensorFlow with the appropriate compiler flags.\n"
     ]
    }
   ],
   "source": [
    "import tensorflow as tf "
   ]
  },
  {
   "cell_type": "markdown",
   "id": "1b9fd292-6df9-47d6-b2b6-56b4e065c01b",
   "metadata": {},
   "source": [
    "# Centralized setting "
   ]
  },
  {
   "cell_type": "code",
   "execution_count": 204,
   "id": "81bedd8e-9672-4261-8e73-a810cbda2a74",
   "metadata": {},
   "outputs": [
    {
     "data": {
      "text/plain": [
       "((148, 78), (50, 78))"
      ]
     },
     "execution_count": 204,
     "metadata": {},
     "output_type": "execute_result"
    }
   ],
   "source": [
    "import numpy as np \n",
    "from sksurv.datasets import load_breast_cancer \n",
    "from sklearn.model_selection import train_test_split\n",
    "\n",
    "# Load dataset \n",
    "X, y = load_breast_cancer()\n",
    "\n",
    "# Unpack \n",
    "event, duration = zip(*y)\n",
    "e = np.array(event)\n",
    "t = np.array(duration)\n",
    "\n",
    "# Drop columns that are not numerical \n",
    "X = X[X.columns[X.dtypes != \"category\"]]\n",
    "\n",
    "# Train-test splitting \n",
    "train_idx, test_idx = train_test_split(\n",
    "    np.arange(X.shape[0]), test_size=0.25, random_state=42, stratify=e.astype(int)\n",
    ")\n",
    "X_train, X_test = X.iloc[train_idx].to_numpy(), X.iloc[test_idx].to_numpy()\n",
    "y_train, y_test = y[train_idx], y[test_idx]\n",
    "e_train, e_test = e[train_idx], e[test_idx]\n",
    "t_train, t_test = t[train_idx], t[test_idx]\n",
    "\n",
    "X_train.shape, X_test.shape "
   ]
  },
  {
   "cell_type": "code",
   "execution_count": 205,
   "id": "0b37b6c9-165c-4727-9813-7e5f7edfd3c4",
   "metadata": {},
   "outputs": [],
   "source": [
    "from sklearn.preprocessing import StandardScaler\n",
    "scaler = StandardScaler()\n",
    "X_train = scaler.fit_transform(X_train)\n",
    "X_test = scaler.transform(X_test)"
   ]
  },
  {
   "cell_type": "code",
   "execution_count": 206,
   "id": "c6f1b0d4-c09a-46e1-a0ae-2d3435cb75ec",
   "metadata": {},
   "outputs": [
    {
     "data": {
      "text/plain": [
       "array([5.59471138, 8.1056094 , 8.54791636, 9.11690843])"
      ]
     },
     "execution_count": 206,
     "metadata": {},
     "output_type": "execute_result"
    }
   ],
   "source": [
    "x_train = np.log(t_train)\n",
    "x_test = np.log(t_test)\n",
    "\n",
    "knots = np.percentile(x_train, np.linspace(0, 1, 4) * 100)\n",
    "knots"
   ]
  },
  {
   "cell_type": "code",
   "execution_count": 207,
   "id": "61e0bb3b-b5e5-4cfc-aed7-00849f01f11a",
   "metadata": {},
   "outputs": [
    {
     "data": {
      "text/plain": [
       "(148, 5)"
      ]
     },
     "execution_count": 207,
     "metadata": {},
     "output_type": "execute_result"
    }
   ],
   "source": [
    "def spline_basis(x, knots, j):\n",
    "    k_min = min(knots)\n",
    "    k_max = max(knots)\n",
    "    phi = (k_max - knots[j]) / (k_max - k_min)\n",
    "    return np.maximum(0, x - knots[j]) ** 3 - phi * np.maximum(0, x - k_min) ** 3 - (1 - phi) * np.maximum(0, x - k_max) ** 3\n",
    "\n",
    "S1_train = spline_basis(x_train, knots, j=1) \n",
    "S2_train = spline_basis(x_train, knots, j=2) \n",
    "S3_train = spline_basis(x_train, knots, j=3) \n",
    "\n",
    "# Spline design matrix \n",
    "D_train = np.transpose(np.vstack([np.ones_like(x_train), x_train, S1_train, S2_train, S3_train]))\n",
    "D_train.shape "
   ]
  },
  {
   "cell_type": "code",
   "execution_count": 208,
   "id": "a0dc90fd-5be6-4267-8520-761764d0c606",
   "metadata": {},
   "outputs": [
    {
     "data": {
      "text/plain": [
       "(148, 5)"
      ]
     },
     "execution_count": 208,
     "metadata": {},
     "output_type": "execute_result"
    }
   ],
   "source": [
    "def spline_basis_derivative(x, knots, j):\n",
    "    k_min = min(knots)\n",
    "    k_max = max(knots)\n",
    "    phi = (k_max - knots[j]) / (k_max - k_min)\n",
    "    return 3 * np.maximum(0, x - knots[j]) ** 2 - 3 * phi * np.maximum(0, x - k_min) ** 2 - 3 * (1 - phi) * np.maximum(0, x - k_max) ** 2\n",
    "\n",
    "dS1_train = spline_basis_derivative(x_train, knots, j=1) \n",
    "dS2_train = spline_basis_derivative(x_train, knots, j=2) \n",
    "dS3_train = spline_basis_derivative(x_train, knots, j=3) \n",
    "\n",
    "# Derivative spline design matrix \n",
    "dD_train = np.transpose(np.vstack([np.zeros_like(x_train), np.ones_like(x_train), dS1_train, dS2_train, dS3_train]))\n",
    "dD_train.shape "
   ]
  },
  {
   "cell_type": "code",
   "execution_count": 221,
   "id": "0ac3f4e9-4afe-4914-8b86-00e2a8c39190",
   "metadata": {},
   "outputs": [
    {
     "name": "stdout",
     "output_type": "stream",
     "text": [
      "Epoch 0, Loss: 0.20553365349769592\n",
      "Epoch 5, Loss: 0.0849948450922966\n",
      "Epoch 10, Loss: 0.037992723286151886\n",
      "Epoch 15, Loss: 0.025498099625110626\n",
      "Epoch 20, Loss: 0.02056930400431156\n",
      "Epoch 25, Loss: 0.018129758536815643\n",
      "Epoch 30, Loss: 0.01677994802594185\n",
      "Epoch 35, Loss: 0.01595981977880001\n",
      "Epoch 40, Loss: 0.015419392846524715\n",
      "Epoch 45, Loss: 0.015038267709314823\n",
      "Epoch 50, Loss: 0.014753937721252441\n",
      "Epoch 55, Loss: 0.01453155092895031\n",
      "Epoch 60, Loss: 0.014350412413477898\n",
      "Epoch 65, Loss: 0.014197483658790588\n",
      "Epoch 70, Loss: 0.014064104296267033\n",
      "Epoch 75, Loss: 0.013944213278591633\n",
      "Epoch 80, Loss: 0.01383331511169672\n",
      "Epoch 85, Loss: 0.013727864250540733\n",
      "Epoch 90, Loss: 0.013624856248497963\n",
      "Epoch 95, Loss: 0.013521537184715271\n",
      "(0.48294556132821326, 2138, 2289, 0, 0)\n",
      "(0.6082677165354331, 309, 199, 0, 0)\n"
     ]
    }
   ],
   "source": [
    "beta = tf.Variable(tf.random.uniform(shape=[1, int(X.shape[1])], seed=42))\n",
    "gamma = tf.Variable(tf.random.uniform(shape=[1, int(D_train.shape[1])], seed=42))\n",
    "\n",
    "X_train_tf = tf.cast(X_train, dtype=tf.float32)\n",
    "D_train_tf = tf.cast(D_train, dtype=tf.float32)\n",
    "dD_train_tf = tf.cast(dD_train, dtype=tf.float32)\n",
    "\n",
    "e_train_tf = tf.cast(e_train[:, None], dtype=tf.float32)\n",
    "t_train_tf = tf.cast(t_train[:, None], dtype=tf.float32)\n",
    "\n",
    "\n",
    "def loss():    \n",
    "    eta = D_train_tf @ tf.transpose(gamma) + X_train_tf @ tf.transpose(beta)\n",
    " \n",
    "    f1 = 1 / t_train_tf * dD_train_tf @ tf.transpose(gamma) * tf.math.exp(eta - tf.math.exp(eta))\n",
    "    f2 = 1 / (1 + tf.math.exp(eta))\n",
    "\n",
    "    return e_train_tf * f1 + (1 - e_train_tf) * f2\n",
    "    \n",
    "\n",
    "optimizer = tf.keras.optimizers.SGD(learning_rate=0.001)\n",
    "for epoch in tf.range(100):\n",
    "\n",
    "    with tf.GradientTape() as tape:\n",
    "        loss_value = loss()\n",
    "    \n",
    "    # Compute gradients\n",
    "    gradients = tape.gradient(loss_value, [gamma, beta])\n",
    "    \n",
    "    # Apply gradients to update gamma and beta\n",
    "    optimizer.apply_gradients(zip(gradients, [gamma, beta]))\n",
    "\n",
    "    if epoch % 5 == 0:\n",
    "        print(f\"Epoch {epoch}, Loss: {loss_value.numpy().mean()}\")\n",
    "\n",
    "\n",
    "from sksurv.metrics import concordance_index_censored\n",
    "r_train = (X_train @ np.transpose(beta.numpy())).squeeze()\n",
    "r_test = (X_test @ np.transpose(beta.numpy())).squeeze()\n",
    "print(concordance_index_censored(e_train, t_train, r_train))\n",
    "print(concordance_index_censored(e_test, t_test, r_test))"
   ]
  },
  {
   "cell_type": "code",
   "execution_count": 222,
   "id": "b02b80c6-9e0d-4a30-821b-316bf2db854f",
   "metadata": {},
   "outputs": [
    {
     "data": {
      "text/plain": [
       "[<matplotlib.lines.Line2D at 0x17bfef700>]"
      ]
     },
     "execution_count": 222,
     "metadata": {},
     "output_type": "execute_result"
    },
    {
     "data": {
      "image/png": "[encoded data removed]",
      "text/plain": [
       "<Figure size 640x480 with 1 Axes>"
      ]
     },
     "metadata": {},
     "output_type": "display_data"
    }
   ],
   "source": [
    "import matplotlib.pyplot as plt \n",
    "#eta = D_train @ np.transpose(gamma.numpy()) + X_train @ np.transpose(beta.numpy())\n",
    "#plt.plot(np.exp(-np.exp(eta)).squeeze())\n",
    "plt.plot(X_train @ np.transpose(beta.numpy()))"
   ]
  },
  {
   "cell_type": "markdown",
   "id": "25c62f46-e073-4c88-ba97-39dc1b3d6af5",
   "metadata": {},
   "source": [
    "# De-centralized setting "
   ]
  },
  {
   "cell_type": "code",
   "execution_count": 223,
   "id": "81f6f937-f2f0-4a16-82af-3d65320c346c",
   "metadata": {},
   "outputs": [],
   "source": [
    "class Client:\n",
    "    \n",
    "    def __init__(self, p, q):\n",
    "        self.beta = np.random.uniform(size=(1, p))\n",
    "        self.gamma = np.random.uniform(size=(1, q))\n",
    "\n",
    "    def get_params(self):\n",
    "        return self.beta, self.gamma \n",
    "\n",
    "    def set_params(self, beta, gamma):\n",
    "        self.beta = beta \n",
    "        self.gamma = gamma \n",
    "\n",
    "    def fit(self, X, D, dD, t, e):\n",
    "        \n",
    "        def _loss():    \n",
    "            eta = D @ tf.transpose(gamma) + X @ tf.transpose(beta)\n",
    "            f1 = 1 / t * dD @ tf.transpose(gamma) * tf.math.exp(eta - tf.math.exp(eta))\n",
    "            f2 = 1 / (1 + tf.math.exp(eta))        \n",
    "            return e * f1 + (1 - e) * f2\n",
    "\n",
    "        beta = tf.Variable(self.beta, dtype=tf.float32, name=\"beta\")\n",
    "        gamma = tf.Variable(self.gamma, dtype=tf.float32, name=\"gamma\")\n",
    "\n",
    "        X = tf.cast(X, dtype=tf.float32)\n",
    "        D = tf.cast(D, dtype=tf.float32)\n",
    "        dD = tf.cast(dD, dtype=tf.float32)\n",
    "\n",
    "        t = tf.cast(t, dtype=tf.float32)\n",
    "        e = tf.cast(e, dtype=tf.float32)\n",
    "\n",
    "        optimizer = tf.keras.optimizers.SGD(learning_rate=0.01)\n",
    "        for epoch in tf.range(5):\n",
    "\n",
    "            with tf.GradientTape() as tape:\n",
    "                loss_value = _loss()\n",
    "\n",
    "            gradients = tape.gradient(loss_value, [gamma, beta])\n",
    "            optimizer.apply_gradients(zip(gradients, [gamma, beta]))\n",
    "    \n",
    "        self.beta = beta.numpy()\n",
    "        self.gamma = gamma.numpy()\n",
    "\n",
    "        self.loss = float(loss_value.numpy().mean())"
   ]
  },
  {
   "cell_type": "code",
   "execution_count": null,
   "id": "0a4bcc08-3ac6-4d34-af96-390c94842458",
   "metadata": {},
   "outputs": [
    {
     "name": "stdout",
     "output_type": "stream",
     "text": [
      "Epoch 0, Loss: 0.10041780769824982\n",
      "Epoch 5, Loss: 0.013440977752907202\n",
      "Epoch 10, Loss: 0.0013327107826626161\n",
      "Epoch 15, Loss: 0.000501495206663094\n",
      "Epoch 20, Loss: 0.00029313719232959556\n",
      "Epoch 25, Loss: 0.00020693078886324656\n",
      "Epoch 30, Loss: 0.0001607328829322796\n"
     ]
    }
   ],
   "source": [
    "n_participants = 4\n",
    "\n",
    "clients = [Client(X.shape[1], D_train.shape[1]) for _ in range(n_participants)]\n",
    "\n",
    "idx = np.array_split(np.arange(X_train.shape[0]), n_participants)\n",
    "\n",
    "for epoch in range(100):\n",
    "\n",
    "    losses, betas, gammas = [], [], []\n",
    "    for i, cli in enumerate(clients):\n",
    "        cli.fit(X_train[idx[i]], D_train[idx[i]], dD_train[idx[i]], t_train[[idx[i]], None], e_train[[idx[i]], None])\n",
    "\n",
    "        beta_i, gamma_i = cli.get_params()\n",
    "        betas.append(beta_i)\n",
    "        gammas.append(gamma_i)\n",
    "        \n",
    "        losses.append(cli.loss)\n",
    "\n",
    "    beta_avg = sum(betas) / len(betas)\n",
    "    gamma_avg = sum(gammas) / len(gammas)\n",
    "\n",
    "    if epoch % 5 == 0:\n",
    "        print(f\"Epoch {epoch}, Loss: {np.mean(losses)}\")\n",
    "        \n",
    "    for i, cli in enumerate(clients):\n",
    "        cli.set_params(beta_avg, gamma_avg)"
   ]
  },
  {
   "cell_type": "code",
   "execution_count": null,
   "id": "1403f4bb-48fe-42af-b5d0-f0ab67282965",
   "metadata": {},
   "outputs": [],
   "source": [
    "beta_avg, gamma_avg = 0, 0\n",
    "for i, cli in enumerate(clients):\n",
    "    beta_i, gamma_i = cli.get_params()\n",
    "    \n",
    "    beta_avg += beta_i\n",
    "    gamma_avg += gamma_i\n",
    "\n",
    "beta_avg /= n_participants\n",
    "gamma_avg /= n_participants"
   ]
  },
  {
   "cell_type": "markdown",
   "id": "6547433c-5cb7-4117-8987-664d88a57114",
   "metadata": {},
   "source": [
    "# Comparison"
   ]
  },
  {
   "cell_type": "code",
   "execution_count": null,
   "id": "b216f2c0-9df2-4a13-80bb-e906a1f24aab",
   "metadata": {},
   "outputs": [],
   "source": [
    "_, axis = plt.subplots(1, 1)\n",
    "axis.plot((X_train @ np.transpose(beta.numpy())).squeeze())\n",
    "axis.plot((X_train @ np.transpose(beta_avg)).squeeze())"
   ]
  },
  {
   "cell_type": "code",
   "execution_count": null,
   "id": "577dc38d-c799-4ebd-ae00-97ddf1f71670",
   "metadata": {},
   "outputs": [],
   "source": [
    "_, axis = plt.subplots(1, 1)\n",
    "axis.plot((D_train @ np.transpose(gamma.numpy())).squeeze())\n",
    "axis.plot((D_train @ np.transpose(gamma_avg)).squeeze())"
   ]
  },
  {
   "cell_type": "code",
   "execution_count": null,
   "id": "1f195873-664c-40db-8a84-fd9b094b9c01",
   "metadata": {},
   "outputs": [],
   "source": [
    "r_train = (X_train @ np.transpose(beta.numpy())).squeeze()\n",
    "r_test = (X_test @ np.transpose(beta.numpy())).squeeze()\n",
    "\n",
    "print(concordance_index_censored(e_train, t_train, r_train))\n",
    "print(concordance_index_censored(e_test, t_test, r_test))"
   ]
  },
  {
   "cell_type": "code",
   "execution_count": null,
   "id": "5f77518f-ad9c-4737-85bc-0d89a2cdc65a",
   "metadata": {},
   "outputs": [],
   "source": [
    "r_train = (X_train @ np.transpose(beta_avg)).squeeze()\n",
    "r_test = (X_test @ np.transpose(beta_avg)).squeeze()\n",
    "\n",
    "print(concordance_index_censored(e_train, t_train, r_train))\n",
    "print(concordance_index_censored(e_test, t_test, r_test))"
   ]
  },
  {
   "cell_type": "code",
   "execution_count": null,
   "id": "93368b2d-531f-4e1f-a3ee-23c5b7bb9612",
   "metadata": {},
   "outputs": [],
   "source": []
  }
 ],
 "metadata": {
  "kernelspec": {
   "display_name": "Python 3 (ipykernel)",
   "language": "python",
   "name": "python3"
  },
  "language_info": {
   "codemirror_mode": {
    "name": "ipython",
    "version": 3
   },
   "file_extension": ".py",
   "mimetype": "text/x-python",
   "name": "python",
   "nbconvert_exporter": "python",
   "pygments_lexer": "ipython3",
   "version": "3.10.15"
  }
 },
 "nbformat": 4,
 "nbformat_minor": 5
}
