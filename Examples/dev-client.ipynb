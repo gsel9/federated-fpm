{
 "cells": [
  {
   "cell_type": "code",
   "execution_count": 1,
   "id": "81d74d6b-a16e-4b6e-98d3-d7b889399953",
   "metadata": {},
   "outputs": [
    {
     "name": "stdout",
     "output_type": "stream",
     "text": [
      "(432, 9)\n"
     ]
    },
    {
     "data": {
      "text/html": [
       "<div>\n",
       "<style scoped>\n",
       "    .dataframe tbody tr th:only-of-type {\n",
       "        vertical-align: middle;\n",
       "    }\n",
       "\n",
       "    .dataframe tbody tr th {\n",
       "        vertical-align: top;\n",
       "    }\n",
       "\n",
       "    .dataframe thead th {\n",
       "        text-align: right;\n",
       "    }\n",
       "</style>\n",
       "<table border=\"1\" class=\"dataframe\">\n",
       "  <thead>\n",
       "    <tr style=\"text-align: right;\">\n",
       "      <th></th>\n",
       "      <th>week</th>\n",
       "      <th>arrest</th>\n",
       "      <th>fin</th>\n",
       "      <th>age</th>\n",
       "      <th>race</th>\n",
       "      <th>wexp</th>\n",
       "      <th>mar</th>\n",
       "      <th>paro</th>\n",
       "      <th>prio</th>\n",
       "    </tr>\n",
       "  </thead>\n",
       "  <tbody>\n",
       "    <tr>\n",
       "      <th>0</th>\n",
       "      <td>20</td>\n",
       "      <td>1</td>\n",
       "      <td>0</td>\n",
       "      <td>27</td>\n",
       "      <td>1</td>\n",
       "      <td>0</td>\n",
       "      <td>0</td>\n",
       "      <td>1</td>\n",
       "      <td>3</td>\n",
       "    </tr>\n",
       "    <tr>\n",
       "      <th>1</th>\n",
       "      <td>17</td>\n",
       "      <td>1</td>\n",
       "      <td>0</td>\n",
       "      <td>18</td>\n",
       "      <td>1</td>\n",
       "      <td>0</td>\n",
       "      <td>0</td>\n",
       "      <td>1</td>\n",
       "      <td>8</td>\n",
       "    </tr>\n",
       "    <tr>\n",
       "      <th>2</th>\n",
       "      <td>25</td>\n",
       "      <td>1</td>\n",
       "      <td>0</td>\n",
       "      <td>19</td>\n",
       "      <td>0</td>\n",
       "      <td>1</td>\n",
       "      <td>0</td>\n",
       "      <td>1</td>\n",
       "      <td>13</td>\n",
       "    </tr>\n",
       "    <tr>\n",
       "      <th>3</th>\n",
       "      <td>52</td>\n",
       "      <td>0</td>\n",
       "      <td>1</td>\n",
       "      <td>23</td>\n",
       "      <td>1</td>\n",
       "      <td>1</td>\n",
       "      <td>1</td>\n",
       "      <td>1</td>\n",
       "      <td>1</td>\n",
       "    </tr>\n",
       "    <tr>\n",
       "      <th>4</th>\n",
       "      <td>52</td>\n",
       "      <td>0</td>\n",
       "      <td>0</td>\n",
       "      <td>19</td>\n",
       "      <td>0</td>\n",
       "      <td>1</td>\n",
       "      <td>0</td>\n",
       "      <td>1</td>\n",
       "      <td>3</td>\n",
       "    </tr>\n",
       "  </tbody>\n",
       "</table>\n",
       "</div>"
      ],
      "text/plain": [
       "   week  arrest  fin  age  race  wexp  mar  paro  prio\n",
       "0    20       1    0   27     1     0    0     1     3\n",
       "1    17       1    0   18     1     0    0     1     8\n",
       "2    25       1    0   19     0     1    0     1    13\n",
       "3    52       0    1   23     1     1    1     1     1\n",
       "4    52       0    0   19     0     1    0     1     3"
      ]
     },
     "execution_count": 1,
     "metadata": {},
     "output_type": "execute_result"
    }
   ],
   "source": [
    "import numpy as np \n",
    "import matplotlib.pyplot as plt \n",
    "\n",
    "from sksurv.metrics import concordance_index_censored\n",
    "from lifelines.datasets import load_rossi\n",
    "\n",
    "data = load_rossi()\n",
    "data.dropna(inplace=True)\n",
    "print(data.shape)\n",
    "data.head()"
   ]
  },
  {
   "cell_type": "code",
   "execution_count": 2,
   "id": "e1976584-3613-434e-8c75-821959e4dffa",
   "metadata": {},
   "outputs": [
    {
     "data": {
      "text/plain": [
       "(432, 7)"
      ]
     },
     "execution_count": 2,
     "metadata": {},
     "output_type": "execute_result"
    }
   ],
   "source": [
    "event_col = \"arrest\"\n",
    "duration_col = \"week\"\n",
    "\n",
    "X = data.drop(columns=[event_col, duration_col])\n",
    "X.shape"
   ]
  },
  {
   "cell_type": "markdown",
   "id": "d9a1f786-4c5e-420f-b02e-5bfb952a4c7a",
   "metadata": {},
   "source": [
    "# Train-test split"
   ]
  },
  {
   "cell_type": "code",
   "execution_count": 3,
   "id": "077a6c0f-b1d5-431c-8928-6462532eee2d",
   "metadata": {},
   "outputs": [
    {
     "name": "stdout",
     "output_type": "stream",
     "text": [
      "(345, 9) (87, 9)\n"
     ]
    }
   ],
   "source": [
    "from utils.data import train_test_splitting\n",
    "\n",
    "train_idx, test_idx = train_test_splitting(\n",
    "    np.arange(data.shape[0]), test_size=0.2, stratify=data[event_col].squeeze().astype(int)\n",
    ")\n",
    "# Data splits\n",
    "data_train, data_test = data.iloc[train_idx], data.iloc[test_idx]\n",
    "print(data_train.shape, data_test.shape)"
   ]
  },
  {
   "cell_type": "code",
   "execution_count": 4,
   "id": "91ce131b-367c-4dd1-ade7-1f324c48f34a",
   "metadata": {},
   "outputs": [],
   "source": [
    "duration_train = data_train[duration_col].to_numpy().squeeze()\n",
    "duration_test = data_test[duration_col].to_numpy().squeeze()\n",
    "\n",
    "event_train = data_train[event_col].to_numpy().squeeze()\n",
    "event_test = data_test[event_col].to_numpy().squeeze()"
   ]
  },
  {
   "cell_type": "code",
   "execution_count": 5,
   "id": "198cf8c9-64b1-4ae7-a667-b77b5b441c10",
   "metadata": {},
   "outputs": [],
   "source": [
    "from sksurv.util import Surv\n",
    "# Create structured arrays\n",
    "y_train = Surv.from_arrays(event=event_train, time=duration_train)"
   ]
  },
  {
   "cell_type": "markdown",
   "id": "4d391ace-04db-4183-bd2c-ddca233208b0",
   "metadata": {},
   "source": [
    "# Pre-processing "
   ]
  },
  {
   "cell_type": "code",
   "execution_count": 6,
   "id": "7cc48270-b20a-4939-b089-a88f6ac7016f",
   "metadata": {},
   "outputs": [],
   "source": [
    "from utils.data import feature_scaling\n",
    "# Scale features with Z-score transfrom \n",
    "X_train, X_test = feature_scaling(X.iloc[train_idx].values, X.iloc[test_idx].values)"
   ]
  },
  {
   "cell_type": "code",
   "execution_count": 7,
   "id": "6d848821-4b29-4c05-986d-c2457bc3a788",
   "metadata": {},
   "outputs": [
    {
     "data": {
      "text/plain": [
       "(0.0, 3.9512437185814275)"
      ]
     },
     "execution_count": 7,
     "metadata": {},
     "output_type": "execute_result"
    }
   ],
   "source": [
    "from utils.data import init_knots\n",
    "# Set knot locations \n",
    "knots = init_knots(duration_train, event_train, n_knots=5)\n",
    "min(knots), max(knots)"
   ]
  },
  {
   "cell_type": "markdown",
   "id": "9409f9d5-ee42-4649-aa10-72b7d308071d",
   "metadata": {},
   "source": [
    "# Initialize clients"
   ]
  },
  {
   "cell_type": "code",
   "execution_count": 8,
   "id": "84ca213a-b93b-42f2-b0c9-e3ed5e0b7727",
   "metadata": {},
   "outputs": [],
   "source": [
    "N_SPLITS = 2\n",
    "DATA_SPLIT_IDX = np.array_split(np.arange(data_train.shape[0]), N_SPLITS)"
   ]
  },
  {
   "cell_type": "code",
   "execution_count": 9,
   "id": "4ed4ca64-2eae-47a1-a693-39b2b2d04961",
   "metadata": {},
   "outputs": [
    {
     "name": "stderr",
     "output_type": "stream",
     "text": [
      "2025-05-04 12:40:52.762447: I tensorflow/core/platform/cpu_feature_guard.cc:210] This TensorFlow binary is optimized to use available CPU instructions in performance-critical operations.\n",
      "To enable the following instructions: AVX2 FMA, in other operations, rebuild TensorFlow with the appropriate compiler flags.\n"
     ]
    }
   ],
   "source": [
    "from utils.client import Client \n",
    "\n",
    "participants = [] \n",
    "\n",
    "for idx in DATA_SPLIT_IDX:\n",
    "    # Init client objects with mutually exclusive data samples \n",
    "    client = Client(data_train.iloc[idx], n_knots=5, n_epochs=1, event_col=event_col, duration_col=duration_col)\n",
    "    \n",
    "    # Apply data pre-processing steps \n",
    "    client.preprocess_data(train_test_split=False)\n",
    "    \n",
    "    # Initialize model and parameters \n",
    "    client.init_model(local_knots=False, knots=knots)\n",
    "    #print(client.X_train.mean())\n",
    "    #assert asf \n",
    "    participants.append(client)"
   ]
  },
  {
   "cell_type": "markdown",
   "id": "d964fdf2-6d11-4cce-ad94-cdf2ca039771",
   "metadata": {},
   "source": [
    "# Initialize parameters"
   ]
  },
  {
   "cell_type": "code",
   "execution_count": 10,
   "id": "8b774e89-74cd-4469-bb02-93e9e2fb9034",
   "metadata": {},
   "outputs": [],
   "source": [
    "from utils.data import init_gamma, init_beta\n",
    "from utils.splines import bspline_design_matrix\n",
    "\n",
    "# Create one spline equation per time point \n",
    "D = bspline_design_matrix(np.log(duration_train), knots)\n",
    "\n",
    "# Initialize gamma coefficients\n",
    "z_gamma = init_gamma(D, duration_train)\n",
    "\n",
    "# Initialize beta coefficients\n",
    "z_beta = init_beta(X_train, y_train)"
   ]
  },
  {
   "cell_type": "code",
   "execution_count": 11,
   "id": "bfd32b3f-b48b-43ea-aed3-cb5c17cbb66a",
   "metadata": {},
   "outputs": [],
   "source": [
    "for client in participants:\n",
    "    client.set_params({\"beta\": z_beta, \"gamma\": z_gamma})"
   ]
  },
  {
   "cell_type": "markdown",
   "id": "23c671fa-2efb-4d33-bb78-09b90107b40c",
   "metadata": {},
   "source": [
    "# Client fitting"
   ]
  },
  {
   "cell_type": "code",
   "execution_count": 12,
   "id": "56fdfad4-f7b0-4119-915a-0a63f5909ca7",
   "metadata": {},
   "outputs": [
    {
     "data": {
      "text/plain": [
       "[<matplotlib.lines.Line2D at 0x146cddff0>]"
      ]
     },
     "execution_count": 12,
     "metadata": {},
     "output_type": "execute_result"
    },
    {
     "data": {
      "image/png": "[encoded data removed]",
      "text/plain": [
       "<Figure size 640x480 with 1 Axes>"
      ]
     },
     "metadata": {},
     "output_type": "display_data"
    }
   ],
   "source": [
    "def server_update(beta_locals, gamma_locals):\n",
    "    return np.mean(beta_locals, axis=0), np.mean(gamma_locals, axis=0)\n",
    "    \n",
    "\n",
    "losses = []\n",
    "for _ in range(300):\n",
    "\n",
    "    beta_locals, gamma_locals, last_local_losses = [], [], [] \n",
    "    for client in participants:\n",
    "\n",
    "        client.fit_model(z_beta, z_gamma)\n",
    "\n",
    "        # Local update \n",
    "        beta_locals.append(client.beta)\n",
    "        gamma_locals.append(client.gamma)\n",
    "\n",
    "        # Trace training loss \n",
    "        last_local_losses.append(client.loss)\n",
    "    \n",
    "    losses.append(np.mean(last_local_losses))\n",
    "    \n",
    "    # Global update\n",
    "    z_beta, z_gamma = server_update(beta_locals, gamma_locals)\n",
    "\n",
    "plt.figure()\n",
    "plt.plot(losses)"
   ]
  },
  {
   "cell_type": "markdown",
   "id": "9079a940-49fa-4345-b18c-095841e0ab9a",
   "metadata": {},
   "source": [
    "# Global model"
   ]
  },
  {
   "cell_type": "code",
   "execution_count": 13,
   "id": "1d94af86-2f15-4803-9065-31ffbdc1d06d",
   "metadata": {},
   "outputs": [],
   "source": [
    "from utils.model import Model \n",
    "\n",
    "global_beta, global_gamma = server_update(beta_locals, gamma_locals)\n",
    "\n",
    "global_model = Model(epochs=0, knots=knots, learning_rate=0.01, l2_lambda=0)\n",
    "global_model.set_params({\"beta\": global_beta, \"gamma\": global_gamma})"
   ]
  },
  {
   "cell_type": "code",
   "execution_count": 14,
   "id": "1089a02b-40df-4e52-b42c-f198ab90944d",
   "metadata": {},
   "outputs": [
    {
     "name": "stdout",
     "output_type": "stream",
     "text": [
      "(0.6501603331981866, 17624, 9476, 31, 1016)\n",
      "(0.6038885664538596, 1040, 682, 1, 0)\n"
     ]
    }
   ],
   "source": [
    "print(concordance_index_censored(event_train.astype(bool), duration_train, global_model.risk_score(X_train).squeeze()))\n",
    "print(concordance_index_censored(event_test.astype(bool), duration_test, global_model.risk_score(X_test).squeeze()))"
   ]
  },
  {
   "cell_type": "code",
   "execution_count": 15,
   "id": "be261e7e-6d14-468f-9aac-c8891c2485d7",
   "metadata": {},
   "outputs": [
    {
     "data": {
      "text/plain": [
       "[<matplotlib.lines.Line2D at 0x146de8b20>]"
      ]
     },
     "execution_count": 15,
     "metadata": {},
     "output_type": "execute_result"
    },
    {
     "data": {
      "image/png": "[encoded data removed]",
      "text/plain": [
       "<Figure size 640x480 with 1 Axes>"
      ]
     },
     "metadata": {},
     "output_type": "display_data"
    }
   ],
   "source": [
    "S0 = global_model.survival_curve(X_test[0], duration_test)\n",
    "S1 = global_model.survival_curve(X_test[1], duration_test)\n",
    "\n",
    "plt.figure()\n",
    "idx = np.argsort(duration_test)\n",
    "plt.plot(duration_test[idx], S0[idx, 0])\n",
    "plt.plot(duration_test[idx], S1[idx, 0])"
   ]
  },
  {
   "cell_type": "code",
   "execution_count": 16,
   "id": "4e27c7f6-2a40-40b0-8285-41ee3fe78e65",
   "metadata": {},
   "outputs": [
    {
     "data": {
      "text/plain": [
       "array([[-2.9999676 , -2.0365162 , -0.9257936 ,  0.32793236,  0.6815543 ,\n",
       "         0.8878994 ,  0.9512468 ]], dtype=float32)"
      ]
     },
     "execution_count": 16,
     "metadata": {},
     "output_type": "execute_result"
    }
   ],
   "source": [
    "global_model.gamma"
   ]
  },
  {
   "cell_type": "code",
   "execution_count": 17,
   "id": "d251626e-9d8f-4572-b887-56a4c88df823",
   "metadata": {},
   "outputs": [
    {
     "data": {
      "text/plain": [
       "array([[-0.0311098 , -0.03913317,  0.03522462, -0.03946244, -0.02620818,\n",
       "         0.00536317,  0.08266788]], dtype=float32)"
      ]
     },
     "execution_count": 17,
     "metadata": {},
     "output_type": "execute_result"
    }
   ],
   "source": [
    "global_model.beta"
   ]
  }
 ],
 "metadata": {
  "kernelspec": {
   "display_name": "Python 3 (ipykernel)",
   "language": "python",
   "name": "python3"
  },
  "language_info": {
   "codemirror_mode": {
    "name": "ipython",
    "version": 3
   },
   "file_extension": ".py",
   "mimetype": "text/x-python",
   "name": "python",
   "nbconvert_exporter": "python",
   "pygments_lexer": "ipython3",
   "version": "3.10.15"
  }
 },
 "nbformat": 4,
 "nbformat_minor": 5
}
