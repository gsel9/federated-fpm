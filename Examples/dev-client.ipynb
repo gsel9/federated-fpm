{
 "cells": [
  {
   "cell_type": "code",
   "execution_count": 1,
   "id": "1b6617d2-2952-4ffb-a4b0-5972899444b3",
   "metadata": {},
   "outputs": [],
   "source": [
    "#import tensorflow as tf \n",
    "# https://sci-hub.se/10.1002/sim.1203\n",
    "# https://journals.sagepub.com/doi/pdf/10.1177/1536867x0900900206"
   ]
  },
  {
   "cell_type": "markdown",
   "id": "b209ebbd-e2ec-4270-a1d0-025a51d768ef",
   "metadata": {},
   "source": [
    "# Dataset"
   ]
  },
  {
   "cell_type": "code",
   "execution_count": 2,
   "id": "81bedd8e-9672-4261-8e73-a810cbda2a74",
   "metadata": {},
   "outputs": [
    {
     "name": "stdout",
     "output_type": "stream",
     "text": [
      "(432, 9)\n"
     ]
    },
    {
     "data": {
      "text/html": [
       "<div>\n",
       "<style scoped>\n",
       "    .dataframe tbody tr th:only-of-type {\n",
       "        vertical-align: middle;\n",
       "    }\n",
       "\n",
       "    .dataframe tbody tr th {\n",
       "        vertical-align: top;\n",
       "    }\n",
       "\n",
       "    .dataframe thead th {\n",
       "        text-align: right;\n",
       "    }\n",
       "</style>\n",
       "<table border=\"1\" class=\"dataframe\">\n",
       "  <thead>\n",
       "    <tr style=\"text-align: right;\">\n",
       "      <th></th>\n",
       "      <th>week</th>\n",
       "      <th>arrest</th>\n",
       "      <th>fin</th>\n",
       "      <th>age</th>\n",
       "      <th>race</th>\n",
       "      <th>wexp</th>\n",
       "      <th>mar</th>\n",
       "      <th>paro</th>\n",
       "      <th>prio</th>\n",
       "    </tr>\n",
       "  </thead>\n",
       "  <tbody>\n",
       "    <tr>\n",
       "      <th>0</th>\n",
       "      <td>20</td>\n",
       "      <td>1</td>\n",
       "      <td>0</td>\n",
       "      <td>27</td>\n",
       "      <td>1</td>\n",
       "      <td>0</td>\n",
       "      <td>0</td>\n",
       "      <td>1</td>\n",
       "      <td>3</td>\n",
       "    </tr>\n",
       "    <tr>\n",
       "      <th>1</th>\n",
       "      <td>17</td>\n",
       "      <td>1</td>\n",
       "      <td>0</td>\n",
       "      <td>18</td>\n",
       "      <td>1</td>\n",
       "      <td>0</td>\n",
       "      <td>0</td>\n",
       "      <td>1</td>\n",
       "      <td>8</td>\n",
       "    </tr>\n",
       "    <tr>\n",
       "      <th>2</th>\n",
       "      <td>25</td>\n",
       "      <td>1</td>\n",
       "      <td>0</td>\n",
       "      <td>19</td>\n",
       "      <td>0</td>\n",
       "      <td>1</td>\n",
       "      <td>0</td>\n",
       "      <td>1</td>\n",
       "      <td>13</td>\n",
       "    </tr>\n",
       "    <tr>\n",
       "      <th>3</th>\n",
       "      <td>52</td>\n",
       "      <td>0</td>\n",
       "      <td>1</td>\n",
       "      <td>23</td>\n",
       "      <td>1</td>\n",
       "      <td>1</td>\n",
       "      <td>1</td>\n",
       "      <td>1</td>\n",
       "      <td>1</td>\n",
       "    </tr>\n",
       "    <tr>\n",
       "      <th>4</th>\n",
       "      <td>52</td>\n",
       "      <td>0</td>\n",
       "      <td>0</td>\n",
       "      <td>19</td>\n",
       "      <td>0</td>\n",
       "      <td>1</td>\n",
       "      <td>0</td>\n",
       "      <td>1</td>\n",
       "      <td>3</td>\n",
       "    </tr>\n",
       "  </tbody>\n",
       "</table>\n",
       "</div>"
      ],
      "text/plain": [
       "   week  arrest  fin  age  race  wexp  mar  paro  prio\n",
       "0    20       1    0   27     1     0    0     1     3\n",
       "1    17       1    0   18     1     0    0     1     8\n",
       "2    25       1    0   19     0     1    0     1    13\n",
       "3    52       0    1   23     1     1    1     1     1\n",
       "4    52       0    0   19     0     1    0     1     3"
      ]
     },
     "execution_count": 2,
     "metadata": {},
     "output_type": "execute_result"
    }
   ],
   "source": [
    "import numpy as np \n",
    "import matplotlib.pyplot as plt \n",
    "\n",
    "from sksurv.metrics import concordance_index_censored\n",
    "from lifelines.datasets import load_rossi\n",
    "\n",
    "data = load_rossi()\n",
    "data.dropna(inplace=True)\n",
    "print(data.shape)\n",
    "data.head()"
   ]
  },
  {
   "cell_type": "code",
   "execution_count": 3,
   "id": "43866601-fc3d-4101-b643-e91f4b164276",
   "metadata": {},
   "outputs": [],
   "source": [
    "# TODO Experiments:\n",
    "# - Performance of global model on data aggregated across clients \n",
    "# - Performance of global model on separate local datasets \n",
    "# - Performance of local models on separate local datasets "
   ]
  },
  {
   "cell_type": "code",
   "execution_count": 4,
   "id": "423b56d6-d3da-4778-9db7-858b16047b76",
   "metadata": {},
   "outputs": [],
   "source": [
    "event_col = \"arrest\"\n",
    "duration_col = \"week\""
   ]
  },
  {
   "cell_type": "code",
   "execution_count": 5,
   "id": "1ebf3f63-d93b-453a-9865-bc5653de1fed",
   "metadata": {},
   "outputs": [
    {
     "name": "stderr",
     "output_type": "stream",
     "text": [
      "2025-04-24 08:11:15.499991: I tensorflow/core/platform/cpu_feature_guard.cc:210] This TensorFlow binary is optimized to use available CPU instructions in performance-critical operations.\n",
      "To enable the following instructions: AVX2 FMA, in other operations, rebuild TensorFlow with the appropriate compiler flags.\n"
     ]
    }
   ],
   "source": [
    "from utils.client import Client \n",
    "\n",
    "client = Client(data, n_knots=5, n_epochs=5, event_col=event_col, duration_col=duration_col)\n",
    "client.preprocess_data()\n",
    "client.init_model()\n",
    "client.fit_model()"
   ]
  },
  {
   "cell_type": "code",
   "execution_count": 19,
   "id": "df4635ef-0c80-46f4-8a87-97d9cee5bd5e",
   "metadata": {},
   "outputs": [
    {
     "data": {
      "text/plain": [
       "(108, 1)"
      ]
     },
     "execution_count": 19,
     "metadata": {},
     "output_type": "execute_result"
    }
   ],
   "source": [
    "client.risk_score(client.X_train).shape"
   ]
  },
  {
   "cell_type": "code",
   "execution_count": 21,
   "id": "bc3464aa-8264-4dcf-8fe8-883fe7aa920d",
   "metadata": {},
   "outputs": [
    {
     "data": {
      "text/plain": [
       "(108, 1)"
      ]
     },
     "execution_count": 21,
     "metadata": {},
     "output_type": "execute_result"
    }
   ],
   "source": [
    "# Unpack structured array \n",
    "event_train, duration_train = zip(*client.y_train)\n",
    "\n",
    "# Cast to numpy array \n",
    "duration_train = np.array(duration_train)\n",
    "event_train = np.array(event_train)\n",
    "\n",
    "client.survival_curve(client.X_train, duration_train).shape"
   ]
  },
  {
   "cell_type": "markdown",
   "id": "70ff83f4-054e-447c-bd52-059c7fe80d4c",
   "metadata": {},
   "source": [
    "# Instantiate clients "
   ]
  },
  {
   "cell_type": "code",
   "execution_count": 6,
   "id": "5f15f7ff-20c8-4ef0-8489-7ee4882cea41",
   "metadata": {},
   "outputs": [],
   "source": [
    "from utils.client import Client \n",
    "\n",
    "N_CLIENTS = 3 \n",
    "\n",
    "data_idx = np.array_split(np.arange(data.shape[0]), N_CLIENTS)\n",
    "\n",
    "participants = [] \n",
    "for idx in data_idx:\n",
    "    # Mutually exclusive data samples \n",
    "    client = Client(data.iloc[idx], n_knots=5, n_epochs=5, event_col=event_col, duration_col=duration_col)\n",
    "    \n",
    "    # Apply data pre-processing\n",
    "    client.preprocess_data()\n",
    "    # Initialize model and parameters\n",
    "    client.init_model()\n",
    "    \n",
    "    participants.append(client)"
   ]
  },
  {
   "cell_type": "code",
   "execution_count": 7,
   "id": "bd5e58d2-5ea3-46ca-beb1-205749ef2e80",
   "metadata": {},
   "outputs": [
    {
     "data": {
      "text/plain": [
       "((324, 7), (324,), (108, 7), (108,))"
      ]
     },
     "execution_count": 7,
     "metadata": {},
     "output_type": "execute_result"
    }
   ],
   "source": [
    "X_train, y_train, X_test, y_test = [], [], [], []\n",
    "for client in participants:\n",
    "    X_train.append(client.X_train)\n",
    "    y_train.append(client.y_train)\n",
    "\n",
    "    X_test.append(client.X_test)\n",
    "    y_test.append(client.y_test)\n",
    "\n",
    "X_train = np.vstack(X_train)\n",
    "X_test = np.vstack(X_test)\n",
    "\n",
    "y_train = np.hstack(y_train)\n",
    "y_test = np.hstack(y_test)\n",
    "\n",
    "X_train.shape, y_train.shape, X_test.shape, y_test.shape"
   ]
  },
  {
   "cell_type": "code",
   "execution_count": 13,
   "id": "cfbd6756-70b8-47fd-828f-ddf5aa8b4d94",
   "metadata": {},
   "outputs": [],
   "source": [
    "# Unpack structured array \n",
    "event_train, duration_train = zip(*y_train)\n",
    "event_test, duration_test = zip(*y_test)\n",
    "\n",
    "event_train = np.array(event_train)\n",
    "event_test = np.array(event_test)\n",
    "\n",
    "duration_train = np.array(duration_train)\n",
    "duration_test = np.array(duration_test)"
   ]
  },
  {
   "cell_type": "code",
   "execution_count": 14,
   "id": "2cdd2d21-d494-4c87-b468-7d55becd5be1",
   "metadata": {},
   "outputs": [
    {
     "name": "stdout",
     "output_type": "stream",
     "text": [
      "(324, 1)\n",
      "(324, 1)\n",
      "(324, 1)\n"
     ]
    }
   ],
   "source": [
    "for client in participants:\n",
    "    print(client.risk_score(X_train).shape)"
   ]
  },
  {
   "cell_type": "code",
   "execution_count": 15,
   "id": "b93c0e50-b0a5-4ceb-85c7-730d4c026dfb",
   "metadata": {},
   "outputs": [],
   "source": [
    "# check client performance *before* fitting models\n",
    "# check client performance *after* fitting models"
   ]
  },
  {
   "cell_type": "code",
   "execution_count": 17,
   "id": "a1845a64-1fe0-470a-af1b-a92c798c8303",
   "metadata": {},
   "outputs": [
    {
     "name": "stdout",
     "output_type": "stream",
     "text": [
      "(0.64695735306343, 15559, 8488, 11, 952)\n",
      "(0.48678667177326695, 1270, 1339, 2, 0)\n"
     ]
    }
   ],
   "source": [
    "from sksurv.metrics import concordance_index_censored\n",
    "print(concordance_index_censored(event_train.astype(bool), duration_train, client.risk_score(X_train).squeeze()))\n",
    "print(concordance_index_censored(event_test.astype(bool), duration_test, client.risk_score(X_test).squeeze()))"
   ]
  },
  {
   "cell_type": "code",
   "execution_count": null,
   "id": "1407a2f6-0675-4321-a48c-c169968e14c0",
   "metadata": {},
   "outputs": [],
   "source": []
  },
  {
   "cell_type": "code",
   "execution_count": null,
   "id": "e5d3bcad-0d0a-4b07-9dfe-5891b58ba9a4",
   "metadata": {},
   "outputs": [],
   "source": []
  }
 ],
 "metadata": {
  "kernelspec": {
   "display_name": "Python 3 (ipykernel)",
   "language": "python",
   "name": "python3"
  },
  "language_info": {
   "codemirror_mode": {
    "name": "ipython",
    "version": 3
   },
   "file_extension": ".py",
   "mimetype": "text/x-python",
   "name": "python",
   "nbconvert_exporter": "python",
   "pygments_lexer": "ipython3",
   "version": "3.10.15"
  }
 },
 "nbformat": 4,
 "nbformat_minor": 5
}
