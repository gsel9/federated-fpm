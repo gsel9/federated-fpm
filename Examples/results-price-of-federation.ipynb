{
 "cells": [
  {
   "cell_type": "markdown",
   "id": "d2d3c2dc-c5e4-4050-9e7d-9e0f67441a3d",
   "metadata": {},
   "source": [
    "# Imports"
   ]
  },
  {
   "cell_type": "code",
   "execution_count": 1,
   "id": "eb026037-f6ec-41bb-9119-0d9bb7b8443f",
   "metadata": {},
   "outputs": [
    {
     "name": "stderr",
     "output_type": "stream",
     "text": [
      "2025-06-05 09:09:27.936156: I tensorflow/core/platform/cpu_feature_guard.cc:210] This TensorFlow binary is optimized to use available CPU instructions in performance-critical operations.\n",
      "To enable the following instructions: AVX2 FMA, in other operations, rebuild TensorFlow with the appropriate compiler flags.\n"
     ]
    }
   ],
   "source": [
    "import numpy as np \n",
    "import pandas as pd \n",
    "import tensorflow as tf \n",
    "import matplotlib.pyplot as plt \n",
    "\n",
    "from lifelines.datasets import load_rossi\n",
    "from sksurv.metrics import concordance_index_censored\n",
    "\n",
    "from utils.data import init_gamma, init_beta\n",
    "from utils.model import Model\n",
    "from utils.client import Client \n",
    "from utils.splines import bspline_design_matrix"
   ]
  },
  {
   "cell_type": "markdown",
   "id": "98de31f2-ab2b-4309-83d2-d66e6360e008",
   "metadata": {},
   "source": [
    "# Configs"
   ]
  },
  {
   "cell_type": "code",
   "execution_count": 2,
   "id": "f5557e91-c7b2-43a5-afae-016205dc581e",
   "metadata": {},
   "outputs": [
    {
     "name": "stdout",
     "output_type": "stream",
     "text": [
      "[7270  860 5390 5191 5734]\n"
     ]
    }
   ],
   "source": [
    "EPS = 1e-5\n",
    "N_ITER_GLOBAL = 10000\n",
    "\n",
    "N_SAMPLES = 500\n",
    "\n",
    "np.random.seed(42)\n",
    "SEEDS = np.random.choice(range(10000), size=5)\n",
    "print(SEEDS)\n",
    "\n",
    "rho = 1"
   ]
  },
  {
   "cell_type": "markdown",
   "id": "ab96b5f9-a64e-4ca5-869d-d6223ef4ec53",
   "metadata": {},
   "source": [
    "# Data"
   ]
  },
  {
   "cell_type": "code",
   "execution_count": 3,
   "id": "e1976584-3613-434e-8c75-821959e4dffa",
   "metadata": {},
   "outputs": [],
   "source": [
    "#data = load_rossi()\n",
    "#data.dropna(inplace=True)\n",
    "#print(data.shape)\n",
    "#data.head()\n",
    "\n",
    "#event_col = \"arrest\"\n",
    "#duration_col = \"week\"\n",
    "\n",
    "#X = data.drop(columns=[event_col, duration_col])\n",
    "\n",
    "#duration = data[duration_col].to_numpy().squeeze()\n",
    "#event = data[event_col].to_numpy().squeeze()"
   ]
  },
  {
   "cell_type": "code",
   "execution_count": 4,
   "id": "c53510a5-d211-4541-8cb6-b9b19d735205",
   "metadata": {},
   "outputs": [],
   "source": [
    "event_col = \"event\"\n",
    "duration_col = \"duration\""
   ]
  },
  {
   "cell_type": "code",
   "execution_count": 5,
   "id": "0593ee34-b7bc-404f-83c9-1742bc864658",
   "metadata": {},
   "outputs": [
    {
     "data": {
      "text/html": [
       "<div>\n",
       "<style scoped>\n",
       "    .dataframe tbody tr th:only-of-type {\n",
       "        vertical-align: middle;\n",
       "    }\n",
       "\n",
       "    .dataframe tbody tr th {\n",
       "        vertical-align: top;\n",
       "    }\n",
       "\n",
       "    .dataframe thead th {\n",
       "        text-align: right;\n",
       "    }\n",
       "</style>\n",
       "<table border=\"1\" class=\"dataframe\">\n",
       "  <thead>\n",
       "    <tr style=\"text-align: right;\">\n",
       "      <th></th>\n",
       "      <th>feature_0</th>\n",
       "      <th>feature_1</th>\n",
       "      <th>feature_2</th>\n",
       "      <th>feature_3</th>\n",
       "      <th>feature_4</th>\n",
       "      <th>duration</th>\n",
       "      <th>event</th>\n",
       "    </tr>\n",
       "  </thead>\n",
       "  <tbody>\n",
       "    <tr>\n",
       "      <th>0</th>\n",
       "      <td>-0.283269</td>\n",
       "      <td>-1.503986</td>\n",
       "      <td>0.584319</td>\n",
       "      <td>1.110368</td>\n",
       "      <td>0.752608</td>\n",
       "      <td>7.851225</td>\n",
       "      <td>1</td>\n",
       "    </tr>\n",
       "    <tr>\n",
       "      <th>1</th>\n",
       "      <td>0.430450</td>\n",
       "      <td>-0.982862</td>\n",
       "      <td>-0.078302</td>\n",
       "      <td>0.474867</td>\n",
       "      <td>0.481233</td>\n",
       "      <td>5.382143</td>\n",
       "      <td>0</td>\n",
       "    </tr>\n",
       "    <tr>\n",
       "      <th>2</th>\n",
       "      <td>-1.700872</td>\n",
       "      <td>-1.174093</td>\n",
       "      <td>1.562304</td>\n",
       "      <td>-3.204284</td>\n",
       "      <td>0.613009</td>\n",
       "      <td>1.009546</td>\n",
       "      <td>0</td>\n",
       "    </tr>\n",
       "    <tr>\n",
       "      <th>3</th>\n",
       "      <td>-0.451474</td>\n",
       "      <td>0.769189</td>\n",
       "      <td>0.146950</td>\n",
       "      <td>-0.108875</td>\n",
       "      <td>-0.374640</td>\n",
       "      <td>1.148273</td>\n",
       "      <td>1</td>\n",
       "    </tr>\n",
       "    <tr>\n",
       "      <th>4</th>\n",
       "      <td>0.278403</td>\n",
       "      <td>-0.567891</td>\n",
       "      <td>-0.067439</td>\n",
       "      <td>-1.028853</td>\n",
       "      <td>0.277542</td>\n",
       "      <td>4.765891</td>\n",
       "      <td>1</td>\n",
       "    </tr>\n",
       "  </tbody>\n",
       "</table>\n",
       "</div>"
      ],
      "text/plain": [
       "   feature_0  feature_1  feature_2  feature_3  feature_4  duration  event\n",
       "0  -0.283269  -1.503986   0.584319   1.110368   0.752608  7.851225      1\n",
       "1   0.430450  -0.982862  -0.078302   0.474867   0.481233  5.382143      0\n",
       "2  -1.700872  -1.174093   1.562304  -3.204284   0.613009  1.009546      0\n",
       "3  -0.451474   0.769189   0.146950  -0.108875  -0.374640  1.148273      1\n",
       "4   0.278403  -0.567891  -0.067439  -1.028853   0.277542  4.765891      1"
      ]
     },
     "execution_count": 5,
     "metadata": {},
     "output_type": "execute_result"
    }
   ],
   "source": [
    "from sklearn.datasets import make_classification\n",
    "\n",
    "\n",
    "def make_data(n_samples, seed):\n",
    "\n",
    "    # Feature matrix and event time \n",
    "    X, y = make_classification(\n",
    "        n_samples=N_SAMPLES, n_features=5, n_informative=2, n_redundant=2, n_repeated=0, \n",
    "        n_classes=2, n_clusters_per_class=2, weights=None, flip_y=0.01, class_sep=1.0, \n",
    "        hypercube=True, shift=0.0, scale=1.0, shuffle=True, random_state=seed\n",
    "    )\n",
    "\n",
    "    rnd = np.random.RandomState(seed=seed)\n",
    "    \n",
    "    # Simulate event times\n",
    "    # Class 1 -> shorter survival time, Class 0 -> longer\n",
    "    baseline_time = rnd.exponential(scale=10, size=y.shape[0])\n",
    "    survival_time = baseline_time * (0.5 + y)  # Class 1 has shorter survival times\n",
    "    \n",
    "    # Simulate random censoring\n",
    "    censoring_time = rnd.exponential(scale=15, size=y.shape[0])\n",
    "    duration = np.minimum(survival_time, censoring_time)\n",
    "    event = survival_time <= censoring_time\n",
    "    \n",
    "    # Create DataFrame for clarity\n",
    "    data = pd.DataFrame(X, columns=[f\"feature_{i}\" for i in range(X.shape[1])])\n",
    "    data[duration_col] = duration\n",
    "    data[event_col] = event.astype(int)\n",
    "\n",
    "    return data, X, event, duration\n",
    "\n",
    "\n",
    "data, X, event, duration = make_data(N_SAMPLES, SEEDS[0])\n",
    "data.head()"
   ]
  },
  {
   "cell_type": "code",
   "execution_count": 6,
   "id": "a7f4e36a-2980-45e7-8c04-f4faa639af74",
   "metadata": {},
   "outputs": [],
   "source": [
    "from sksurv.util import Surv\n",
    "# Create structured arrays\n",
    "y = Surv.from_arrays(event=event, time=duration)"
   ]
  },
  {
   "cell_type": "markdown",
   "id": "f22a1ff6-a62d-4472-ad4c-3877844b3c03",
   "metadata": {},
   "source": [
    "# Pre-processing "
   ]
  },
  {
   "cell_type": "code",
   "execution_count": 7,
   "id": "c0eab75b-0b3c-417c-b9ae-25110a7327e2",
   "metadata": {},
   "outputs": [],
   "source": [
    "from utils.data import feature_scaling\n",
    "# Scale features with Z-score transfrom \n",
    "X_sc = feature_scaling(X)"
   ]
  },
  {
   "cell_type": "code",
   "execution_count": 8,
   "id": "0da62f2c-83a1-4d33-b241-cdcfb36d057d",
   "metadata": {},
   "outputs": [
    {
     "data": {
      "text/plain": [
       "(-3.317493653263726, 3.6080090924908443)"
      ]
     },
     "execution_count": 8,
     "metadata": {},
     "output_type": "execute_result"
    }
   ],
   "source": [
    "from utils.data import init_knots\n",
    "# Set knot locations \n",
    "knots = init_knots(duration, event, n_knots=5)\n",
    "min(knots), max(knots)"
   ]
  },
  {
   "cell_type": "markdown",
   "id": "99b53061-bd91-4027-8dd2-09bf4ec68772",
   "metadata": {},
   "source": [
    "# Fit reference model "
   ]
  },
  {
   "cell_type": "code",
   "execution_count": 9,
   "id": "bcbf51c9-4145-44dc-a540-5d009f1a0e13",
   "metadata": {},
   "outputs": [
    {
     "name": "stdout",
     "output_type": "stream",
     "text": [
      "Converged after 3398 iterations\n"
     ]
    },
    {
     "data": {
      "text/plain": [
       "[<matplotlib.lines.Line2D at 0x1594c23b0>]"
      ]
     },
     "execution_count": 9,
     "metadata": {},
     "output_type": "execute_result"
    },
    {
     "data": {
      "image/png": "[encoded data removed]",
      "text/plain": [
       "<Figure size 640x480 with 1 Axes>"
      ]
     },
     "metadata": {},
     "output_type": "display_data"
    }
   ],
   "source": [
    "beta = init_beta(X_sc, y)\n",
    "#gamma = init_gamma(bspline_design_matrix(np.log(duration), knots), duration)\n",
    "gamma = np.ones((1, 7))\n",
    "\n",
    "ref_model = Model(epochs=N_ITER_GLOBAL, knots=knots, learning_rate=0.001, l2_lambda=1, rho=rho)\n",
    "ref_model.set_params({\"beta\": beta, \"gamma\": gamma}) \n",
    "ref_model.fit(X_sc, y, tol=EPS)\n",
    "\n",
    "plt.figure()\n",
    "plt.plot(ref_model.losses)"
   ]
  },
  {
   "cell_type": "code",
   "execution_count": 10,
   "id": "5280bfd9-c12b-4703-8335-f860c87bf81c",
   "metadata": {},
   "outputs": [],
   "source": [
    "np.save(\"../data/price-of-federation/rossi_gradients_loss_ref.npy\", ref_model.losses)"
   ]
  },
  {
   "cell_type": "code",
   "execution_count": 11,
   "id": "ed31913d-51be-429c-bebd-bd5849010048",
   "metadata": {},
   "outputs": [
    {
     "data": {
      "text/plain": [
       "array([[ 0.00374707, -0.0182598 , -0.00010591,  0.00619029,  0.01755206]],\n",
       "      dtype=float32)"
      ]
     },
     "execution_count": 11,
     "metadata": {},
     "output_type": "execute_result"
    }
   ],
   "source": [
    "np.save(\"../data/price-of-federation/rossi_gradients_beta_global_ref.npy\", ref_model.beta)\n",
    "ref_model.beta"
   ]
  },
  {
   "cell_type": "code",
   "execution_count": 12,
   "id": "240b339e-c76d-4b9e-a75e-078277480ab3",
   "metadata": {},
   "outputs": [
    {
     "data": {
      "text/plain": [
       "array([[0.98480004, 0.98652375, 0.98801947, 0.9970567 , 1.0073932 ,\n",
       "        1.0085052 , 1.0144321 ]], dtype=float32)"
      ]
     },
     "execution_count": 12,
     "metadata": {},
     "output_type": "execute_result"
    }
   ],
   "source": [
    "np.save(\"../data/price-of-federation/rossi_gradients_gamma_global_ref.npy\", ref_model.gamma)\n",
    "ref_model.gamma"
   ]
  },
  {
   "cell_type": "markdown",
   "id": "ccc767b7-ef02-4081-9708-848e690b1844",
   "metadata": {},
   "source": [
    "# Number of clients "
   ]
  },
  {
   "cell_type": "code",
   "execution_count": 13,
   "id": "c1abee9a-5b3e-4641-8577-fc79ae78d602",
   "metadata": {},
   "outputs": [],
   "source": [
    "def has_converged(params, params_other):\n",
    "    return np.linalg.norm(params_other - params) <= EPS "
   ]
  },
  {
   "cell_type": "code",
   "execution_count": 16,
   "id": "b1772791-f79d-48c2-82de-50d1dbdf26ef",
   "metadata": {
    "scrolled": true
   },
   "outputs": [
    {
     "name": "stdout",
     "output_type": "stream",
     "text": [
      "********************\n",
      "SEED: 7270\n",
      "********************\n",
      "Iter 0: 0.3237978031135686; 2.64537471514991\n",
      "Iter 1000: 4.8876983782975e-05; 3.511619070195593e-06\n",
      "Iter 2000: 9.305601997766644e-05; 4.572884336084826e-06\n",
      "Iter 3000: 9.841436985880136e-05; 5.874611360923154e-06\n",
      "Converged after 3398 iterations\n",
      "--------------------\n",
      "Diff beta: 5.0004633e-08\n",
      "Diff gamma: 0.0\n",
      "\n",
      "\n",
      "Iter 0: 0.3245998543727693; 2.6455625763959616\n",
      "Iter 1000: 3.127616582787596e-05; 2.730126880123862e-06\n",
      "Iter 2000: 7.033174915704876e-05; 3.4271374715899583e-06\n",
      "Iter 3000: 0.00011260167229920626; 4.3702848415705375e-06\n",
      "Converged after 3885 iterations\n",
      "--------------------\n",
      "Diff beta: 0.0022359933\n",
      "Diff gamma: 0.008855474\n",
      "\n",
      "\n",
      "Iter 0: 0.3250015803308181; 2.6456569077785215\n",
      "Iter 1000: 0.000133894631289877; 2.1366415694501484e-06\n",
      "Iter 2000: 4.136348798056133e-05; 2.669596142368391e-06\n",
      "Iter 3000: 7.364485645666718e-05; 3.2809637104946887e-06\n",
      "Iter 4000: 0.00010236188245471567; 4.0845493458618876e-06\n",
      "Converged after 4702 iterations\n",
      "--------------------\n",
      "Diff beta: 0.0018497187\n",
      "Diff gamma: 0.012627921\n",
      "\n",
      "\n",
      "Iter 0: 0.32513920188978357; 2.6456883575437744\n",
      "Iter 1000: 0.00017128654872067273; 2.107342425006209e-06\n",
      "Iter 2000: 3.206033579772338e-05; 2.53792632065597e-06\n",
      "Iter 3000: 5.426540883490816e-05; 3.0497549232677557e-06\n",
      "Iter 4000: 8.492805500281975e-05; 3.8577604755118955e-06\n",
      "Iter 5000: 4.363570405985229e-05; 4.810652626474621e-06\n",
      "Converged after 5293 iterations\n",
      "--------------------\n",
      "Diff beta: 0.0028477267\n",
      "Diff gamma: 0.011617796\n",
      "\n",
      "\n",
      "Iter 0: 0.3252053190519984; 2.6457041567702797\n",
      "Iter 1000: 0.00016280759882647544; 1.9396709376451327e-06\n",
      "Iter 2000: 6.340746040223166e-05; 2.259479970234679e-06\n",
      "Iter 3000: 3.991703124484047e-05; 2.7092262371297693e-06\n",
      "Iter 4000: 7.387106597889215e-05; 3.285291995780426e-06\n",
      "Iter 5000: 8.551611244911328e-05; 4.071045168529963e-06\n",
      "Converged after 5645 iterations\n",
      "--------------------\n",
      "Diff beta: 0.0034028317\n",
      "Diff gamma: 0.013289394\n",
      "\n",
      "\n",
      "Iter 0: 0.3252450040151225; 2.645713521308641\n",
      "Iter 1000: 0.00014629065117333084; 1.6614627611488686e-06\n",
      "Iter 2000: 8.095695375232026e-05; 1.9101405541732674e-06\n",
      "Iter 3000: 3.222842133254744e-05; 2.3428492568200454e-06\n",
      "Iter 4000: 6.232046143850312e-05; 2.824782313837204e-06\n",
      "Iter 5000: 8.686689398018643e-05; 3.5772718547377735e-06\n",
      "Iter 6000: 1.1100455594714731e-05; 4.454425379663007e-06\n",
      "Converged after 6021 iterations\n",
      "--------------------\n",
      "Diff beta: 0.0048197336\n",
      "Diff gamma: 0.01395019\n",
      "\n",
      "\n",
      "********************\n",
      "SEED: 860\n",
      "********************\n",
      "Iter 0: 0.3237978031135686; 2.64537471514991\n",
      "Iter 1000: 4.8876980144996196e-05; 3.511619070195593e-06\n",
      "Iter 2000: 9.305601997766644e-05; 4.572884336084826e-06\n",
      "Iter 3000: 9.841498831519857e-05; 5.874611360923154e-06\n",
      "Converged after 3398 iterations\n",
      "--------------------\n",
      "Diff beta: 2.1471656e-08\n",
      "Diff gamma: 0.0\n",
      "\n",
      "\n",
      "Iter 0: 0.3245998543727693; 2.6455625763959616\n",
      "Iter 1000: 3.071906394325197e-05; 2.9694840577576542e-06\n",
      "Iter 2000: 6.964070053072646e-05; 3.891229425789788e-06\n",
      "Iter 3000: 0.00011307439126539975; 4.90390857521561e-06\n",
      "Converged after 3895 iterations\n",
      "--------------------\n",
      "Diff beta: 0.002116349\n",
      "Diff gamma: 0.0071038757\n",
      "\n",
      "\n",
      "Iter 0: 0.3250015803308181; 2.6456569077785215\n",
      "Iter 1000: 0.00013292633229866624; 2.5154290597129147e-06\n",
      "Iter 2000: 4.3874992115888745e-05; 3.0146047720336355e-06\n",
      "Iter 3000: 7.788878428982571e-05; 3.700291699715308e-06\n",
      "Iter 4000: 0.00010092408047057688; 4.640749011741718e-06\n",
      "Converged after 4624 iterations\n",
      "--------------------\n",
      "Diff beta: 0.0021124932\n",
      "Diff gamma: 0.0112064155\n",
      "\n",
      "\n",
      "Iter 0: 0.3251355849236779; 2.6456883575437744\n",
      "Iter 1000: 0.0001712474913801998; 2.698714979487704e-06\n",
      "Iter 2000: 3.319319512229413e-05; 2.69410361397604e-06\n",
      "Iter 3000: 6.0542944993358105e-05; 3.1171575756161474e-06\n",
      "Iter 4000: 9.303459955845028e-05; 3.923506938008359e-06\n",
      "Iter 5000: 2.06376953428844e-05; 4.898109182249755e-06\n",
      "Converged after 5137 iterations\n",
      "--------------------\n",
      "Diff beta: 0.0027374146\n",
      "Diff gamma: 0.01173202\n",
      "\n",
      "\n",
      "Iter 0: 0.32520260688001146; 2.6457041567702797\n",
      "Iter 1000: 0.0001630173355806619; 1.791117142602161e-06\n",
      "Iter 2000: 6.263972318265587e-05; 2.0870138541795313e-06\n",
      "Iter 3000: 4.162084951531142e-05; 2.53792632065597e-06\n",
      "Iter 4000: 7.631065091118217e-05; 3.117727374046808e-06\n",
      "Iter 5000: 8.290714322356507e-05; 3.923959866369842e-06\n",
      "Converged after 5620 iterations\n",
      "--------------------\n",
      "Diff beta: 0.0026216914\n",
      "Diff gamma: 0.01375056\n",
      "\n",
      "\n",
      "Iter 0: 0.3252428345445194; 2.645713521308641\n",
      "Iter 1000: 0.00014666833158116788; 1.8914498696176452e-06\n",
      "Iter 2000: 8.120417624013498e-05; 2.074207486657542e-06\n",
      "Iter 3000: 3.184326851624064e-05; 2.553278136474546e-06\n",
      "Iter 4000: 6.168847903609276e-05; 3.079893758695107e-06\n",
      "Iter 5000: 8.711712871445343e-05; 3.8002342535037315e-06\n",
      "Iter 6000: 1.2467148735595401e-05; 4.736600658361567e-06\n",
      "Converged after 6044 iterations\n",
      "--------------------\n",
      "Diff beta: 0.004441067\n",
      "Diff gamma: 0.013438951\n",
      "\n",
      "\n",
      "********************\n",
      "SEED: 5390\n",
      "********************\n",
      "Iter 0: 0.3237978031135686; 2.64537471514991\n",
      "Iter 1000: 4.8876983782975e-05; 3.511619070195593e-06\n",
      "Iter 2000: 9.305601997766644e-05; 4.572884336084826e-06\n",
      "Iter 3000: 9.841509017860517e-05; 5.874611360923154e-06\n",
      "Converged after 3398 iterations\n",
      "--------------------\n",
      "Diff beta: 3.9975177e-08\n",
      "Diff gamma: 0.0\n",
      "\n",
      "\n",
      "Iter 0: 0.3245998543727693; 2.6455625763959616\n",
      "Iter 1000: 2.7925862013944425e-05; 2.7688906811818015e-06\n",
      "Iter 2000: 6.389739428414032e-05; 3.416235358599806e-06\n",
      "Iter 3000: 0.00010494456364540383; 4.353179974714294e-06\n",
      "Iter 4000: 1.0000893780670594e-05; 5.614871497527929e-06\n",
      "Converged after 4001 iterations\n",
      "--------------------\n",
      "Diff beta: 0.0007857433\n",
      "Diff gamma: 0.008416454\n",
      "\n",
      "\n",
      "Iter 0: 0.3250015803331665; 2.6456569077785215\n",
      "Iter 1000: 0.00013267270696815103; 2.3413324470311636e-06\n",
      "Iter 2000: 4.6213688619900495e-05; 2.8851357001258293e-06\n",
      "Iter 3000: 8.107102621579543e-05; 3.540335228535696e-06\n",
      "Iter 4000: 9.362886339658871e-05; 4.466372956812847e-06\n",
      "Converged after 4546 iterations\n",
      "--------------------\n",
      "Diff beta: 0.0027291384\n",
      "Diff gamma: 0.01295789\n",
      "\n",
      "\n",
      "Iter 0: 0.32513558492849204; 2.6456883575437744\n",
      "Iter 1000: 0.00017009374278131872; 1.8630623799253954e-06\n",
      "Iter 2000: 3.356765955686569e-05; 2.2166198050399544e-06\n",
      "Iter 3000: 6.305774149950594e-05; 2.7733779006666737e-06\n",
      "Iter 4000: 9.570750262355432e-05; 3.4333518215134973e-06\n",
      "Iter 5000: 1.2835137567890342e-05; 4.267459644324845e-06\n",
      "Converged after 5048 iterations\n",
      "--------------------\n",
      "Diff beta: 0.003605595\n",
      "Diff gamma: 0.014784284\n",
      "\n",
      "\n",
      "Iter 0: 0.32520260688001146; 2.6457041567702797\n",
      "Iter 1000: 0.00016249646432697773; 1.84196676400461e-06\n",
      "Iter 2000: 6.261057569645345e-05; 2.158149072783999e-06\n",
      "Iter 3000: 4.147141589783132e-05; 2.640156026245677e-06\n",
      "Iter 4000: 7.559738151030615e-05; 3.1926063002174487e-06\n",
      "Iter 5000: 8.13105798442848e-05; 3.972997092205333e-06\n",
      "Converged after 5613 iterations\n",
      "--------------------\n",
      "Diff beta: 0.0027418702\n",
      "Diff gamma: 0.013977666\n",
      "\n",
      "\n",
      "Iter 0: 0.3252450040125253; 2.6457891267467066\n",
      "Iter 1000: 0.00014575938985217363; 1.7930994999915129e-06\n",
      "Iter 2000: 8.044337300816551e-05; 2.141624008800136e-06\n",
      "Iter 3000: 3.204894528607838e-05; 2.5414235551579623e-06\n",
      "Iter 4000: 6.236319313757122e-05; 3.079893758695107e-06\n",
      "Iter 5000: 8.655263081891462e-05; 3.841610578092514e-06\n",
      "Iter 6000: 1.0559787369857077e-05; 4.8095444071805105e-06\n",
      "Converged after 6012 iterations\n",
      "--------------------\n",
      "Diff beta: 0.0032194727\n",
      "Diff gamma: 0.013324787\n",
      "\n",
      "\n",
      "********************\n",
      "SEED: 5191\n",
      "********************\n",
      "Iter 0: 0.3237978031135686; 2.64537471514991\n",
      "Iter 1000: 4.8876983782975e-05; 3.511619070195593e-06\n",
      "Iter 2000: 9.305602725362405e-05; 4.572884336084826e-06\n",
      "Iter 3000: 9.84144426183775e-05; 5.874611360923154e-06\n",
      "Converged after 3398 iterations\n",
      "--------------------\n",
      "Diff beta: 4.2732054e-08\n",
      "Diff gamma: 0.0\n",
      "\n",
      "\n",
      "Iter 0: 0.32459985437494127; 2.6455625763959616\n",
      "Iter 1000: 2.9900525987613946e-05; 2.7611815767158987e-06\n",
      "Iter 2000: 6.813205254729837e-05; 3.563839527487289e-06\n",
      "Iter 3000: 0.0001113116813939996; 4.599609837896423e-06\n",
      "Converged after 3920 iterations\n",
      "--------------------\n",
      "Diff beta: 0.001811285\n",
      "Diff gamma: 0.009106392\n",
      "\n",
      "\n",
      "Iter 0: 0.3250015803355149; 2.6456569077785215\n",
      "Iter 1000: 0.00013475668674800545; 2.3466373022529297e-06\n",
      "Iter 2000: 4.0516973967896774e-05; 2.939421619885252e-06\n",
      "Iter 3000: 7.270284550031647e-05; 3.608912265917752e-06\n",
      "Iter 4000: 0.0001032751752063632; 4.516994067671476e-06\n",
      "Converged after 4721 iterations\n",
      "--------------------\n",
      "Diff beta: 0.002068092\n",
      "Diff gamma: 0.011273149\n",
      "\n",
      "\n",
      "Iter 0: 0.325135585137911; 2.6456883575437744\n",
      "Iter 1000: 0.00017196621047332883; 1.9974227143393364e-06\n",
      "Iter 2000: 3.227010165574029e-05; 2.4328626295755384e-06\n",
      "Iter 3000: 5.720279295928776e-05; 2.930342816398479e-06\n",
      "Iter 4000: 8.69740906637162e-05; 3.6612004805647302e-06\n",
      "Iter 5000: 3.978259701398201e-05; 4.522888957581017e-06\n",
      "Converged after 5278 iterations\n",
      "--------------------\n",
      "Diff beta: 0.002551283\n",
      "Diff gamma: 0.013173195\n",
      "\n",
      "\n",
      "Iter 0: 0.32520260688001146; 2.6457041567702797\n",
      "Iter 1000: 0.00016290425264742225; 1.9497188077366445e-06\n",
      "Iter 2000: 6.341749394778162e-05; 2.2579069991479628e-06\n",
      "Iter 3000: 3.906592246494256e-05; 2.663600753294304e-06\n",
      "Iter 4000: 7.286901382030919e-05; 3.342646323289955e-06\n",
      "Iter 5000: 8.709589019417763e-05; 4.124365659663454e-06\n",
      "Converged after 5682 iterations\n",
      "--------------------\n",
      "Diff beta: 0.0029111835\n",
      "Diff gamma: 0.013445977\n",
      "\n",
      "\n",
      "Iter 0: 0.32524283456415176; 2.645713521308641\n",
      "Iter 1000: 0.0001465926761738956; 1.6837652765389066e-06\n",
      "Iter 2000: 8.145904575940222e-05; 1.971463689187658e-06\n",
      "Iter 3000: 3.051964085898362e-05; 2.3451227662008023e-06\n",
      "Iter 4000: 5.7559660490369424e-05; 2.915757931987173e-06\n",
      "Iter 5000: 8.39009226183407e-05; 3.5393316011322895e-06\n",
      "Iter 6000: 2.439464151393622e-05; 4.468361112230923e-06\n",
      "Converged after 6159 iterations\n",
      "--------------------\n",
      "Diff beta: 0.0039650095\n",
      "Diff gamma: 0.013488165\n",
      "\n",
      "\n",
      "********************\n",
      "SEED: 5734\n",
      "********************\n",
      "Iter 0: 0.3237978031135686; 2.64537471514991\n",
      "Iter 1000: 4.8876980144996196e-05; 3.511619070195593e-06\n",
      "Iter 2000: 9.305601997766644e-05; 4.572884336084826e-06\n",
      "Iter 3000: 9.841436985880136e-05; 5.874611360923154e-06\n",
      "Converged after 3398 iterations\n",
      "--------------------\n",
      "Diff beta: 3.6972644e-08\n",
      "Diff gamma: 0.0\n",
      "\n",
      "\n",
      "Iter 0: 0.32459985437494127; 2.6455625763959616\n",
      "Iter 1000: 2.89965119009139e-05; 3.079893758695107e-06\n",
      "Iter 2000: 6.572373968083411e-05; 3.893054781656247e-06\n",
      "Iter 3000: 0.00010685099550755695; 4.862803962168982e-06\n",
      "Converged after 3986 iterations\n",
      "--------------------\n",
      "Diff beta: 0.0011122276\n",
      "Diff gamma: 0.0069895624\n",
      "\n",
      "\n",
      "Iter 0: 0.32500158033786325; 2.6456569077785215\n",
      "Iter 1000: 0.00013258690887596458; 2.2531817194249015e-06\n",
      "Iter 2000: 4.0904214984038845e-05; 2.7553853669815e-06\n",
      "Iter 3000: 7.240437844302505e-05; 3.4374882034171605e-06\n",
      "Iter 4000: 0.00010042567737400532; 4.314239959057886e-06\n",
      "Converged after 4740 iterations\n",
      "--------------------\n",
      "Diff beta: 0.0015936546\n",
      "Diff gamma: 0.01159876\n",
      "\n",
      "\n",
      "Iter 0: 0.32513920188978357; 2.6456883575437744\n",
      "Iter 1000: 0.00017085504077840596; 2.373732058913447e-06\n",
      "Iter 2000: 3.2416141038993374e-05; 2.806486463668989e-06\n",
      "Iter 3000: 5.769380004494451e-05; 3.2695741083443863e-06\n",
      "Iter 4000: 8.885416900739074e-05; 4.024527697765734e-06\n",
      "Iter 5000: 2.8565555112436414e-05; 5.0776020543708e-06\n",
      "Converged after 5206 iterations\n",
      "--------------------\n",
      "Diff beta: 0.0021685623\n",
      "Diff gamma: 0.0121518755\n",
      "\n",
      "\n",
      "Iter 0: 0.3252026068824479; 2.6457041567702797\n",
      "Iter 1000: 0.00016303153824992478; 1.946983729794738e-06\n",
      "Iter 2000: 6.299512460827827e-05; 2.2563331185665447e-06\n",
      "Iter 3000: 3.863784877466969e-05; 2.781692046482931e-06\n",
      "Iter 4000: 7.185561116784811e-05; 3.3712210552039323e-06\n",
      "Iter 5000: 8.712840644875541e-05; 4.2357060010544956e-06\n",
      "Converged after 5719 iterations\n",
      "--------------------\n",
      "Diff beta: 0.003128181\n",
      "Diff gamma: 0.012916166\n",
      "\n",
      "\n",
      "Iter 0: 0.3252450040125253; 2.645713521308641\n",
      "Iter 1000: 0.00014593401283491403; 1.7233886637768592e-06\n",
      "Iter 2000: 8.015539060579613e-05; 2.018653731283848e-06\n",
      "Iter 3000: 3.189427297911607e-05; 2.41527550315368e-06\n",
      "Iter 4000: 6.178736657602713e-05; 2.879589146687067e-06\n",
      "Iter 5000: 8.508945029461756e-05; 3.593127075873781e-06\n",
      "Iter 6000: 1.2564602911879774e-05; 4.563552010949934e-06\n",
      "Converged after 6048 iterations\n",
      "--------------------\n",
      "Diff beta: 0.0035548361\n",
      "Diff gamma: 0.01383456\n",
      "\n",
      "\n"
     ]
    }
   ],
   "source": [
    "# - Made synthetic data generator \n",
    "# - Critical to have IID data per client to study optimization process \n",
    "# - However, IID data will give only small variance to gradients. Using ADAM, a consequence is \n",
    "#   effectively a larger learning rate. Must scale the learning rate to account for this effect \n",
    "for seed in SEEDS:\n",
    "    print(\"*\" * 20)\n",
    "    print(\"SEED:\", seed)\n",
    "    print(\"*\" * 20)\n",
    "    for N_SPLITS in [1, 2, 4, 6, 8, 10]:\n",
    "        \n",
    "        data_idx = np.arange(data.shape[0])\n",
    "\n",
    "        np.random.seed(seed)\n",
    "        np.random.shuffle(data_idx)\n",
    "        \n",
    "        DATA_SPLIT_IDX = np.array_split(data_idx, N_SPLITS)\n",
    "        \n",
    "        participants = []\n",
    "        for idx in range(N_SPLITS):\n",
    "            client = Client(data.iloc[DATA_SPLIT_IDX[idx]], n_knots=5, n_epochs=None, event_col=event_col, duration_col=duration_col, rho=rho)\n",
    "            client.preprocess_data(train_test_split=False)\n",
    "            client.init_model(local_knots=False, knots=knots, learning_rate=0.001)\n",
    "        \n",
    "            participants.append(client)\n",
    "        \n",
    "        \n",
    "        beta_global = beta.copy()\n",
    "        gamma_global = gamma.copy()\n",
    "        beta_global_prev = np.zeros_like(beta_global)\n",
    "        gamma_global_prev = np.zeros_like(gamma_global)\n",
    "        \n",
    "        beta_global_tf = tf.Variable(beta_global, dtype=tf.float32)\n",
    "        gamma_global_tf = tf.Variable(gamma_global, dtype=tf.float32)\n",
    "\n",
    "        # Note: Not the same as simply averaging the gradients \n",
    "        optimiser = tf.keras.optimizers.Adam(learning_rate=0.001 / N_SPLITS)\n",
    "\n",
    "        losses = []\n",
    "        for i in range(N_ITER_GLOBAL):\n",
    "            losses_i = []\n",
    "            gradients_beta, gradients_gamma = 0, 0 \n",
    "            for client in participants:\n",
    "                grad_beta, grad_gamma = client.gradients(beta_global_tf, gamma_global_tf)\n",
    "                losses_i.append(client.model_loss())\n",
    "                gradients_beta += grad_beta \n",
    "                gradients_gamma += grad_gamma \n",
    "                \n",
    "            losses.append(np.mean(losses_i))\n",
    "            optimiser.apply_gradients(zip([gradients_beta, gradients_gamma], [beta_global_tf, gamma_global_tf]))\n",
    "            \n",
    "            beta_global = beta_global_tf.numpy()\n",
    "            gamma_global = gamma_global_tf.numpy()\n",
    "            \n",
    "            if has_converged(beta_global, beta_global_prev) and has_converged(gamma_global, gamma_global_prev):\n",
    "                print(f\"Converged after {i} iterations\")\n",
    "                break \n",
    "        \n",
    "            if i % (N_ITER_GLOBAL / 10) == 0:\n",
    "                change_beta = np.linalg.norm(beta_global - beta_global_prev) \n",
    "                change_gamma = np.linalg.norm(gamma_global - gamma_global_prev)\n",
    "                print(f\"Iter {i}: {change_beta}; {change_gamma}\")\n",
    "        \n",
    "            beta_global_prev = beta_global\n",
    "            gamma_global_prev = gamma_global\n",
    "        \n",
    "        \n",
    "        #plt.figure()\n",
    "        #plt.plot(losses)\n",
    "        \n",
    "        print(\"-\" * 20)\n",
    "        print(\"Diff beta:\", np.linalg.norm(beta_global - ref_model.beta))\n",
    "        print(\"Diff gamma:\", np.linalg.norm(gamma_global - ref_model.gamma))\n",
    "        print()\n",
    "        print()\n",
    "        \n",
    "        version = f\"seed_{seed}_clients_{N_SPLITS}\"\n",
    "        \n",
    "        np.save(f\"../data/price-of-federation/rossi_gradients_loss_{version}.npy\", losses)\n",
    "        np.save(f\"../data/price-of-federation/rossi_gradients_beta_global_{version}.npy\", beta_global)\n",
    "        np.save(f\"../data/price-of-federation/rossi_gradients_gamma_global_{version}.npy\", gamma_global)"
   ]
  },
  {
   "cell_type": "code",
   "execution_count": 35,
   "id": "21f8856a-4328-4a0d-af2e-c0826a007a05",
   "metadata": {},
   "outputs": [],
   "source": [
    "from collections import defaultdict\n",
    "\n",
    "results = defaultdict(list)\n",
    "for N_SPLITS in [1, 2, 4, 6, 8, 10]:\n",
    "    loss, beta, gamma = [], [], [] \n",
    "    for seed in SEEDS: \n",
    "        version = f\"seed_{seed}_clients_{N_SPLITS}\"\n",
    "\n",
    "        loss_i = np.load(f\"../data/price-of-federation/rossi_gradients_loss_{version}.npy\")\n",
    "        beta_i = np.load(f\"../data/price-of-federation/rossi_gradients_beta_global_{version}.npy\")\n",
    "        gamma_i = np.load(f\"../data/price-of-federation/rossi_gradients_gamma_global_{version}.npy\")\n",
    "        \n",
    "        loss.append(len(loss_i))\n",
    "        beta.append(np.linalg.norm(beta_i - ref_model.beta))\n",
    "        gamma.append(np.linalg.norm(gamma_i - ref_model.gamma))\n",
    "\n",
    "    results[\"clients\"].append(N_SPLITS)\n",
    "    results[\"loss_avg\"].append(np.mean(loss, axis=0))\n",
    "    results[\"loss_std\"].append(np.std(loss, axis=0))\n",
    "    results[\"beta_avg\"].append(np.mean(beta, axis=0))\n",
    "    results[\"beta_std\"].append(np.std(beta, axis=0))\n",
    "    results[\"gamma_avg\"].append(np.mean(gamma, axis=0))\n",
    "    results[\"gamma_std\"].append(np.std(gamma, axis=0))"
   ]
  },
  {
   "cell_type": "code",
   "execution_count": 50,
   "id": "587ed1a5-504c-4501-aeab-bdeb41cfc1f9",
   "metadata": {},
   "outputs": [
    {
     "data": {
      "image/png": "[encoded data removed]",
      "text/plain": [
       "<Figure size 600x400 with 1 Axes>"
      ]
     },
     "metadata": {},
     "output_type": "display_data"
    }
   ],
   "source": [
    "y_coords = results[\"loss_avg\"]\n",
    "x_coords = results[\"clients\"]\n",
    "\n",
    "plt.figure(figsize=(6, 4))\n",
    "plt.errorbar(x_coords, y_coords, yerr=results[\"loss_std\"], marker=\"o\", linestyle=\"\", capsize=3)\n",
    "plt.ylabel(\"Server iterations until convergence\");\n",
    "plt.xlabel(\"Number of clients\");\n",
    "plt.xticks(x_coords, x_coords);"
   ]
  },
  {
   "cell_type": "code",
   "execution_count": 69,
   "id": "a0d4c328-573c-4f0d-8b4d-c2f5508ba5e7",
   "metadata": {},
   "outputs": [
    {
     "data": {
      "image/png": "[encoded data removed]",
      "text/plain": [
       "<Figure size 600x400 with 1 Axes>"
      ]
     },
     "metadata": {},
     "output_type": "display_data"
    }
   ],
   "source": [
    "x_coords, y_coords, y_err = [], [], []\n",
    "for N_SPLITS in [1, 2, 4, 6, 8, 10]:\n",
    "    \n",
    "    data_idx = np.arange(data.shape[0])\n",
    "    np.random.seed(SEEDS[2])\n",
    "    np.random.shuffle(data_idx)\n",
    "    DATA_SPLIT_IDX = np.array_split(data_idx, N_SPLITS)\n",
    "\n",
    "    durations = []\n",
    "    for idx in range(N_SPLITS):\n",
    "        data_c = data.iloc[DATA_SPLIT_IDX[idx]]\n",
    "        durations.append(np.mean(data_c[\"duration\"]))\n",
    "\n",
    "    x_coords.append(N_SPLITS)\n",
    "    y_coords.append(np.mean(durations))\n",
    "    y_err.append(np.std(durations))\n",
    "\n",
    "# Larger variation in local data distributions as the number of clients increase \n",
    "plt.figure(figsize=(6, 4))\n",
    "#plt.errorbar(x_coords, y_coords, yerr=y_err, marker=\"o\", linestyle=\"-\", capsize=3)\n",
    "#plt.ylabel(\"Event time distribution\");\n",
    "plt.plot(x_coords, y_err, marker=\"o\", linestyle=\"\")\n",
    "plt.ylabel(\"Standard deviation of event times\");\n",
    "plt.xlabel(\"Number of clients\");\n",
    "plt.xticks(x_coords, x_coords);"
   ]
  },
  {
   "cell_type": "code",
   "execution_count": 51,
   "id": "b1cb55a0-0bce-48a5-9e30-74f3aa15dcda",
   "metadata": {},
   "outputs": [
    {
     "data": {
      "image/png": "[encoded data removed]",
      "text/plain": [
       "<Figure size 600x400 with 1 Axes>"
      ]
     },
     "metadata": {},
     "output_type": "display_data"
    }
   ],
   "source": [
    "y_coords = results[\"beta_avg\"]\n",
    "x_coords = results[\"clients\"]\n",
    "\n",
    "plt.figure(figsize=(6, 4))\n",
    "plt.errorbar(x_coords, y_coords, yerr=results[\"beta_std\"], marker=\"o\", linestyle=\"\", capsize=3)\n",
    "plt.ylabel(\"Error beta\");\n",
    "plt.xlabel(\"Number of clients\");\n",
    "plt.xticks(x_coords, x_coords);"
   ]
  },
  {
   "cell_type": "code",
   "execution_count": 52,
   "id": "61099e75-3f43-4b2f-affa-b2bb2a1006dd",
   "metadata": {},
   "outputs": [
    {
     "data": {
      "image/png": "[encoded data removed]",
      "text/plain": [
       "<Figure size 600x400 with 1 Axes>"
      ]
     },
     "metadata": {},
     "output_type": "display_data"
    }
   ],
   "source": [
    "y_coords = results[\"gamma_avg\"]\n",
    "x_coords = results[\"clients\"]\n",
    "\n",
    "plt.figure(figsize=(6, 4))\n",
    "plt.errorbar(x_coords, y_coords, yerr=results[\"gamma_std\"], marker=\"o\", linestyle=\"\", capsize=3)\n",
    "plt.ylabel(\"Error gamma\");\n",
    "plt.xlabel(\"Number of clients\");\n",
    "plt.xticks(x_coords, x_coords);"
   ]
  },
  {
   "cell_type": "code",
   "execution_count": null,
   "id": "43c9a355-f2fd-4cc0-9485-de3a60892c8c",
   "metadata": {},
   "outputs": [],
   "source": []
  }
 ],
 "metadata": {
  "kernelspec": {
   "display_name": "Python 3 (ipykernel)",
   "language": "python",
   "name": "python3"
  },
  "language_info": {
   "codemirror_mode": {
    "name": "ipython",
    "version": 3
   },
   "file_extension": ".py",
   "mimetype": "text/x-python",
   "name": "python",
   "nbconvert_exporter": "python",
   "pygments_lexer": "ipython3",
   "version": "3.10.15"
  }
 },
 "nbformat": 4,
 "nbformat_minor": 5
}
