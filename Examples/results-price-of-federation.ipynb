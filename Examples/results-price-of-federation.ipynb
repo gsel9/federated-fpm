{
 "cells": [
  {
   "cell_type": "markdown",
   "id": "d2d3c2dc-c5e4-4050-9e7d-9e0f67441a3d",
   "metadata": {},
   "source": [
    "# Imports"
   ]
  },
  {
   "cell_type": "code",
   "execution_count": 1,
   "id": "eb026037-f6ec-41bb-9119-0d9bb7b8443f",
   "metadata": {},
   "outputs": [
    {
     "name": "stderr",
     "output_type": "stream",
     "text": [
      "2025-06-04 07:59:14.575194: I tensorflow/core/platform/cpu_feature_guard.cc:210] This TensorFlow binary is optimized to use available CPU instructions in performance-critical operations.\n",
      "To enable the following instructions: AVX2 FMA, in other operations, rebuild TensorFlow with the appropriate compiler flags.\n"
     ]
    }
   ],
   "source": [
    "import numpy as np \n",
    "import pandas as pd \n",
    "import tensorflow as tf \n",
    "import matplotlib.pyplot as plt \n",
    "\n",
    "from lifelines.datasets import load_rossi\n",
    "from sksurv.metrics import concordance_index_censored\n",
    "\n",
    "from utils.data import init_gamma, init_beta\n",
    "from utils.model import Model\n",
    "from utils.client import Client \n",
    "from utils.splines import bspline_design_matrix"
   ]
  },
  {
   "cell_type": "markdown",
   "id": "98de31f2-ab2b-4309-83d2-d66e6360e008",
   "metadata": {},
   "source": [
    "# Configs"
   ]
  },
  {
   "cell_type": "code",
   "execution_count": 2,
   "id": "f5557e91-c7b2-43a5-afae-016205dc581e",
   "metadata": {},
   "outputs": [
    {
     "name": "stdout",
     "output_type": "stream",
     "text": [
      "[7270  860 5390 5191 5734 6265  466 4426 5578 8322 1685  769 6949 2433\n",
      " 5311 5051 6420 1184 4555 3385]\n"
     ]
    }
   ],
   "source": [
    "EPS = 1e-6\n",
    "N_ITER_GLOBAL = 35000\n",
    "\n",
    "N_SAMPLES = 1000\n",
    "\n",
    "np.random.seed(42)\n",
    "SEEDS = np.random.choice(range(10000), size=20)\n",
    "print(SEEDS)\n",
    "\n",
    "rho = 1"
   ]
  },
  {
   "cell_type": "markdown",
   "id": "ab96b5f9-a64e-4ca5-869d-d6223ef4ec53",
   "metadata": {},
   "source": [
    "# Data"
   ]
  },
  {
   "cell_type": "code",
   "execution_count": 3,
   "id": "e1976584-3613-434e-8c75-821959e4dffa",
   "metadata": {},
   "outputs": [],
   "source": [
    "#data = load_rossi()\n",
    "#data.dropna(inplace=True)\n",
    "#print(data.shape)\n",
    "#data.head()\n",
    "\n",
    "#event_col = \"arrest\"\n",
    "#duration_col = \"week\"\n",
    "\n",
    "#X = data.drop(columns=[event_col, duration_col])\n",
    "\n",
    "#duration = data[duration_col].to_numpy().squeeze()\n",
    "#event = data[event_col].to_numpy().squeeze()"
   ]
  },
  {
   "cell_type": "code",
   "execution_count": 4,
   "id": "c53510a5-d211-4541-8cb6-b9b19d735205",
   "metadata": {},
   "outputs": [],
   "source": [
    "event_col = \"event\"\n",
    "duration_col = \"duration\""
   ]
  },
  {
   "cell_type": "code",
   "execution_count": 5,
   "id": "0593ee34-b7bc-404f-83c9-1742bc864658",
   "metadata": {},
   "outputs": [
    {
     "data": {
      "text/html": [
       "<div>\n",
       "<style scoped>\n",
       "    .dataframe tbody tr th:only-of-type {\n",
       "        vertical-align: middle;\n",
       "    }\n",
       "\n",
       "    .dataframe tbody tr th {\n",
       "        vertical-align: top;\n",
       "    }\n",
       "\n",
       "    .dataframe thead th {\n",
       "        text-align: right;\n",
       "    }\n",
       "</style>\n",
       "<table border=\"1\" class=\"dataframe\">\n",
       "  <thead>\n",
       "    <tr style=\"text-align: right;\">\n",
       "      <th></th>\n",
       "      <th>feature_0</th>\n",
       "      <th>feature_1</th>\n",
       "      <th>feature_2</th>\n",
       "      <th>feature_3</th>\n",
       "      <th>feature_4</th>\n",
       "      <th>duration</th>\n",
       "      <th>event</th>\n",
       "    </tr>\n",
       "  </thead>\n",
       "  <tbody>\n",
       "    <tr>\n",
       "      <th>0</th>\n",
       "      <td>0.207303</td>\n",
       "      <td>2.179316</td>\n",
       "      <td>1.459598</td>\n",
       "      <td>-0.167280</td>\n",
       "      <td>2.145665</td>\n",
       "      <td>23.553674</td>\n",
       "      <td>1</td>\n",
       "    </tr>\n",
       "    <tr>\n",
       "      <th>1</th>\n",
       "      <td>0.107455</td>\n",
       "      <td>1.097455</td>\n",
       "      <td>1.541841</td>\n",
       "      <td>-0.956547</td>\n",
       "      <td>0.980179</td>\n",
       "      <td>10.780757</td>\n",
       "      <td>1</td>\n",
       "    </tr>\n",
       "    <tr>\n",
       "      <th>2</th>\n",
       "      <td>0.126325</td>\n",
       "      <td>-1.558871</td>\n",
       "      <td>0.053301</td>\n",
       "      <td>-1.066771</td>\n",
       "      <td>-1.671260</td>\n",
       "      <td>0.079208</td>\n",
       "      <td>0</td>\n",
       "    </tr>\n",
       "    <tr>\n",
       "      <th>3</th>\n",
       "      <td>0.382688</td>\n",
       "      <td>0.075759</td>\n",
       "      <td>1.420345</td>\n",
       "      <td>-1.486590</td>\n",
       "      <td>-0.095725</td>\n",
       "      <td>0.382758</td>\n",
       "      <td>1</td>\n",
       "    </tr>\n",
       "    <tr>\n",
       "      <th>4</th>\n",
       "      <td>-0.862198</td>\n",
       "      <td>-1.009326</td>\n",
       "      <td>1.286573</td>\n",
       "      <td>-2.044396</td>\n",
       "      <td>-1.237792</td>\n",
       "      <td>2.308150</td>\n",
       "      <td>0</td>\n",
       "    </tr>\n",
       "  </tbody>\n",
       "</table>\n",
       "</div>"
      ],
      "text/plain": [
       "   feature_0  feature_1  feature_2  feature_3  feature_4   duration  event\n",
       "0   0.207303   2.179316   1.459598  -0.167280   2.145665  23.553674      1\n",
       "1   0.107455   1.097455   1.541841  -0.956547   0.980179  10.780757      1\n",
       "2   0.126325  -1.558871   0.053301  -1.066771  -1.671260   0.079208      0\n",
       "3   0.382688   0.075759   1.420345  -1.486590  -0.095725   0.382758      1\n",
       "4  -0.862198  -1.009326   1.286573  -2.044396  -1.237792   2.308150      0"
      ]
     },
     "execution_count": 5,
     "metadata": {},
     "output_type": "execute_result"
    }
   ],
   "source": [
    "from sklearn.datasets import make_classification\n",
    "\n",
    "\n",
    "def make_data(n_samples, seed):\n",
    "\n",
    "    # Feature matrix and event time \n",
    "    X, y = make_classification(\n",
    "        n_samples=N_SAMPLES, n_features=5, n_informative=2, n_redundant=2, n_repeated=0, \n",
    "        n_classes=2, n_clusters_per_class=2, weights=None, flip_y=0.01, class_sep=1.0, \n",
    "        hypercube=True, shift=0.0, scale=1.0, shuffle=True, random_state=seed\n",
    "    )\n",
    "\n",
    "    # Simulate event times\n",
    "    # Class 1 -> shorter survival time, Class 0 -> longer\n",
    "    np.random.seed(seed)\n",
    "    baseline_time = np.random.exponential(scale=10, size=y.shape[0])\n",
    "    survival_time = baseline_time * (0.5 + y)  # Class 1 has shorter survival times\n",
    "    \n",
    "    # Simulate random censoring\n",
    "    censoring_time = np.random.exponential(scale=15, size=y.shape[0])\n",
    "    duration = np.minimum(survival_time, censoring_time)\n",
    "    event = survival_time <= censoring_time\n",
    "    \n",
    "    # Create DataFrame for clarity\n",
    "    data = pd.DataFrame(X, columns=[f\"feature_{i}\" for i in range(X.shape[1])])\n",
    "    data[duration_col] = duration\n",
    "    data[event_col] = event.astype(int)\n",
    "\n",
    "    return data, X, event, duration\n",
    "\n",
    "\n",
    "data, X, event, duration = make_data(N_SAMPLES, SEEDS[0])\n",
    "data.head()"
   ]
  },
  {
   "cell_type": "code",
   "execution_count": 6,
   "id": "a7f4e36a-2980-45e7-8c04-f4faa639af74",
   "metadata": {},
   "outputs": [],
   "source": [
    "from sksurv.util import Surv\n",
    "# Create structured arrays\n",
    "y = Surv.from_arrays(event=event, time=duration)"
   ]
  },
  {
   "cell_type": "markdown",
   "id": "f22a1ff6-a62d-4472-ad4c-3877844b3c03",
   "metadata": {},
   "source": [
    "# Pre-processing "
   ]
  },
  {
   "cell_type": "code",
   "execution_count": 7,
   "id": "c0eab75b-0b3c-417c-b9ae-25110a7327e2",
   "metadata": {},
   "outputs": [],
   "source": [
    "from utils.data import feature_scaling\n",
    "# Scale features with Z-score transfrom \n",
    "X_sc = feature_scaling(X)"
   ]
  },
  {
   "cell_type": "code",
   "execution_count": 8,
   "id": "0da62f2c-83a1-4d33-b241-cdcfb36d057d",
   "metadata": {},
   "outputs": [
    {
     "data": {
      "text/plain": [
       "(-3.860628241075716, 3.5582000010666364)"
      ]
     },
     "execution_count": 8,
     "metadata": {},
     "output_type": "execute_result"
    }
   ],
   "source": [
    "from utils.data import init_knots\n",
    "# Set knot locations \n",
    "knots = init_knots(duration, event, n_knots=5)\n",
    "min(knots), max(knots)"
   ]
  },
  {
   "cell_type": "markdown",
   "id": "99b53061-bd91-4027-8dd2-09bf4ec68772",
   "metadata": {},
   "source": [
    "# Fit reference model "
   ]
  },
  {
   "cell_type": "code",
   "execution_count": 9,
   "id": "bcbf51c9-4145-44dc-a540-5d009f1a0e13",
   "metadata": {},
   "outputs": [
    {
     "name": "stdout",
     "output_type": "stream",
     "text": [
      "Converged after 8532 iterations\n"
     ]
    },
    {
     "data": {
      "text/plain": [
       "[<matplotlib.lines.Line2D at 0x1548ba350>]"
      ]
     },
     "execution_count": 9,
     "metadata": {},
     "output_type": "execute_result"
    },
    {
     "data": {
      "image/png": "[encoded data removed]",
      "text/plain": [
       "<Figure size 640x480 with 1 Axes>"
      ]
     },
     "metadata": {},
     "output_type": "display_data"
    }
   ],
   "source": [
    "beta = init_beta(X_sc, y)\n",
    "gamma = init_gamma(bspline_design_matrix(np.log(duration), knots), duration)\n",
    "\n",
    "ref_model = Model(epochs=N_ITER_GLOBAL, knots=knots, learning_rate=0.001, l2_lambda=1, rho=rho)\n",
    "ref_model.set_params({\"beta\": beta, \"gamma\": gamma}) \n",
    "ref_model.fit(X_sc, y, tol=EPS)\n",
    "\n",
    "plt.figure()\n",
    "plt.plot(ref_model.losses)"
   ]
  },
  {
   "cell_type": "code",
   "execution_count": 14,
   "id": "5280bfd9-c12b-4703-8335-f860c87bf81c",
   "metadata": {},
   "outputs": [],
   "source": [
    "np.save(\"../data/price-of-federation/rossi_gradients_loss_ref.npy\", ref_model.losses)"
   ]
  },
  {
   "cell_type": "code",
   "execution_count": 15,
   "id": "ed31913d-51be-429c-bebd-bd5849010048",
   "metadata": {},
   "outputs": [
    {
     "data": {
      "text/plain": [
       "array([[-0.06101908, -0.01362274,  0.20439103, -0.2493572 , -0.03842615]],\n",
       "      dtype=float32)"
      ]
     },
     "execution_count": 15,
     "metadata": {},
     "output_type": "execute_result"
    }
   ],
   "source": [
    "np.save(\"../data/price-of-federation/rossi_gradients_beta_global_ref.npy\", ref_model.beta)\n",
    "ref_model.beta"
   ]
  },
  {
   "cell_type": "code",
   "execution_count": 16,
   "id": "240b339e-c76d-4b9e-a75e-078277480ab3",
   "metadata": {},
   "outputs": [
    {
     "data": {
      "text/plain": [
       "array([[-8.158426  , -4.4682536 , -3.4239252 , -0.98356414,  0.07004154,\n",
       "         0.86530954,  1.3409454 ]], dtype=float32)"
      ]
     },
     "execution_count": 16,
     "metadata": {},
     "output_type": "execute_result"
    }
   ],
   "source": [
    "np.save(\"../data/price-of-federation/rossi_gradients_gamma_global_ref.npy\", ref_model.gamma)\n",
    "ref_model.gamma"
   ]
  },
  {
   "cell_type": "markdown",
   "id": "ccc767b7-ef02-4081-9708-848e690b1844",
   "metadata": {},
   "source": [
    "# Number of clients "
   ]
  },
  {
   "cell_type": "code",
   "execution_count": 17,
   "id": "c1abee9a-5b3e-4641-8577-fc79ae78d602",
   "metadata": {},
   "outputs": [],
   "source": [
    "def has_converged(params, params_other):\n",
    "    return np.linalg.norm(params_other - params) <= EPS "
   ]
  },
  {
   "cell_type": "code",
   "execution_count": 18,
   "id": "b1772791-f79d-48c2-82de-50d1dbdf26ef",
   "metadata": {},
   "outputs": [
    {
     "name": "stdout",
     "output_type": "stream",
     "text": [
      "Iter 0: 0.33240251385429986; 8.18241960590391\n",
      "Iter 3500: 2.119877353834454e-05; 0.0007861425983719528\n",
      "Iter 7000: 1.9254967753568053e-07; 2.030317045864649e-05\n",
      "Converged after 8532 iterations\n"
     ]
    },
    {
     "data": {
      "image/png": "[encoded data removed]",
      "text/plain": [
       "<Figure size 640x480 with 1 Axes>"
      ]
     },
     "metadata": {},
     "output_type": "display_data"
    }
   ],
   "source": [
    "N_SPLITS = 2\n",
    "\n",
    "\n",
    "participants = []\n",
    "for idx in range(N_SPLITS):\n",
    "    data, X, event, duration = make_data(N_SAMPLES // N_SPLITS, SEEDS[idx])\n",
    "\n",
    "    client = Client(data, n_knots=5, n_epochs=1, event_col=event_col, duration_col=duration_col, rho=rho)\n",
    "    client.preprocess_data(train_test_split=False)\n",
    "    client.init_model(local_knots=False, knots=knots, learning_rate=0.001)\n",
    "\n",
    "    participants.append(client)\n",
    "\n",
    "\n",
    "beta_global = beta.copy()\n",
    "gamma_global = gamma.copy()\n",
    "beta_global_tf = tf.Variable(beta_global, dtype=tf.float32)\n",
    "gamma_global_tf = tf.Variable(gamma_global, dtype=tf.float32)\n",
    "beta_global_prev = np.zeros_like(beta_global)\n",
    "gamma_global_prev = np.zeros_like(gamma_global)\n",
    "\n",
    "optimiser = tf.keras.optimizers.Adam(learning_rate=0.001)\n",
    "\n",
    "\n",
    "losses = []\n",
    "for i in range(N_ITER_GLOBAL):\n",
    "    losses_i = []\n",
    "    gradients_beta, gradients_gamma = 0, 0 \n",
    "    for client in participants:\n",
    "        grad_beta, grad_gamma = client.gradients(beta_global_tf, gamma_global_tf)\n",
    "        losses_i.append(client.model_loss())\n",
    "        gradients_beta += grad_beta \n",
    "        gradients_gamma += grad_gamma\n",
    "\n",
    "    losses.append(np.mean(losses_i))\n",
    "    optimiser.apply_gradients(zip([gradients_beta, gradients_gamma], [beta_global_tf, gamma_global_tf]))\n",
    "    \n",
    "    beta_global = beta_global_tf.numpy()\n",
    "    gamma_global = gamma_global_tf.numpy()\n",
    "    \n",
    "    if has_converged(beta_global, beta_global_prev) and has_converged(gamma_global, gamma_global_prev):\n",
    "        print(f\"Converged after {i} iterations\")\n",
    "        break \n",
    "\n",
    "    if i % (N_ITER_GLOBAL / 10) == 0:\n",
    "        change_beta = np.linalg.norm(beta_global - beta_global_prev) \n",
    "        change_gamma = np.linalg.norm(gamma_global - gamma_global_prev)\n",
    "        print(f\"Iter {i}: {change_beta}; {change_gamma}\")\n",
    "\n",
    "    beta_global_prev = beta_global\n",
    "    gamma_global_prev = gamma_global\n",
    "\n",
    "\n",
    "plt.figure()\n",
    "plt.plot(losses)\n",
    "\n",
    "\n",
    "version = f\"n_clients_{N_SPLITS}\"\n",
    "\n",
    "np.save(f\"../data/price-of-federation/rossi_gradients_loss_{version}.npy\", losses)\n",
    "np.save(f\"../data/price-of-federation/rossi_gradients_beta_global_{version}.npy\", beta_global)\n",
    "np.save(f\"../data/price-of-federation/rossi_gradients_gamma_global_{version}.npy\", gamma_global)"
   ]
  },
  {
   "cell_type": "code",
   "execution_count": 22,
   "id": "504c11cf-2001-4038-9e43-898852c269a4",
   "metadata": {},
   "outputs": [
    {
     "data": {
      "text/plain": [
       "array([[0., 0., 0., 0., 0.]], dtype=float32)"
      ]
     },
     "execution_count": 22,
     "metadata": {},
     "output_type": "execute_result"
    }
   ],
   "source": [
    "beta_global - ref_model.beta"
   ]
  },
  {
   "cell_type": "code",
   "execution_count": 21,
   "id": "e9d6c498-6da0-4554-aeb1-c6f5b733627c",
   "metadata": {},
   "outputs": [
    {
     "data": {
      "text/plain": [
       "array([[0., 0., 0., 0., 0., 0., 0.]], dtype=float32)"
      ]
     },
     "execution_count": 21,
     "metadata": {},
     "output_type": "execute_result"
    }
   ],
   "source": [
    "gamma_global - ref_model.gamma"
   ]
  },
  {
   "cell_type": "code",
   "execution_count": null,
   "id": "6835d080-7db5-4900-a4af-95302484f4f0",
   "metadata": {},
   "outputs": [],
   "source": [
    "# 2 clients \n",
    "\n",
    "print(np.linalg.norm(beta_global - ref_model.beta))\n",
    "print(np.linalg.norm(gamma_global - ref_model.gamma))"
   ]
  },
  {
   "cell_type": "code",
   "execution_count": 23,
   "id": "c903ad24-13d5-44af-8a16-d0c70cabdaa0",
   "metadata": {},
   "outputs": [
    {
     "name": "stdout",
     "output_type": "stream",
     "text": [
      "0.0\n",
      "0.0\n"
     ]
    }
   ],
   "source": [
    "1 client \n",
    "\n",
    "Iter 0: 0.33240251385429986; 8.18241960590391\n",
    "Iter 3500: 2.119877353834454e-05; 0.0007861425983719528\n",
    "Iter 7000: 1.9254967753568053e-07; 2.030317045864649e-05\n",
    "Converged after 8532 iterations\n",
    "\n",
    "print(np.linalg.norm(beta_global - ref_model.beta))\n",
    "print(np.linalg.norm(gamma_global - ref_model.gamma))"
   ]
  },
  {
   "cell_type": "code",
   "execution_count": null,
   "id": "03f501a6-cf5a-4e5b-ac81-b633bad3aa53",
   "metadata": {},
   "outputs": [],
   "source": []
  }
 ],
 "metadata": {
  "kernelspec": {
   "display_name": "Python 3 (ipykernel)",
   "language": "python",
   "name": "python3"
  },
  "language_info": {
   "codemirror_mode": {
    "name": "ipython",
    "version": 3
   },
   "file_extension": ".py",
   "mimetype": "text/x-python",
   "name": "python",
   "nbconvert_exporter": "python",
   "pygments_lexer": "ipython3",
   "version": "3.10.15"
  }
 },
 "nbformat": 4,
 "nbformat_minor": 5
}
