{
 "cells": [
  {
   "cell_type": "markdown",
   "id": "b209ebbd-e2ec-4270-a1d0-025a51d768ef",
   "metadata": {},
   "source": [
    "# Dataset"
   ]
  },
  {
   "cell_type": "code",
   "execution_count": 1,
   "id": "81bedd8e-9672-4261-8e73-a810cbda2a74",
   "metadata": {},
   "outputs": [
    {
     "name": "stderr",
     "output_type": "stream",
     "text": [
      "2025-04-24 21:00:00.751551: I tensorflow/core/platform/cpu_feature_guard.cc:210] This TensorFlow binary is optimized to use available CPU instructions in performance-critical operations.\n",
      "To enable the following instructions: AVX2 FMA, in other operations, rebuild TensorFlow with the appropriate compiler flags.\n"
     ]
    },
    {
     "name": "stdout",
     "output_type": "stream",
     "text": [
      "(432, 9)\n"
     ]
    },
    {
     "data": {
      "text/html": [
       "<div>\n",
       "<style scoped>\n",
       "    .dataframe tbody tr th:only-of-type {\n",
       "        vertical-align: middle;\n",
       "    }\n",
       "\n",
       "    .dataframe tbody tr th {\n",
       "        vertical-align: top;\n",
       "    }\n",
       "\n",
       "    .dataframe thead th {\n",
       "        text-align: right;\n",
       "    }\n",
       "</style>\n",
       "<table border=\"1\" class=\"dataframe\">\n",
       "  <thead>\n",
       "    <tr style=\"text-align: right;\">\n",
       "      <th></th>\n",
       "      <th>week</th>\n",
       "      <th>arrest</th>\n",
       "      <th>fin</th>\n",
       "      <th>age</th>\n",
       "      <th>race</th>\n",
       "      <th>wexp</th>\n",
       "      <th>mar</th>\n",
       "      <th>paro</th>\n",
       "      <th>prio</th>\n",
       "    </tr>\n",
       "  </thead>\n",
       "  <tbody>\n",
       "    <tr>\n",
       "      <th>0</th>\n",
       "      <td>20</td>\n",
       "      <td>1</td>\n",
       "      <td>0</td>\n",
       "      <td>27</td>\n",
       "      <td>1</td>\n",
       "      <td>0</td>\n",
       "      <td>0</td>\n",
       "      <td>1</td>\n",
       "      <td>3</td>\n",
       "    </tr>\n",
       "    <tr>\n",
       "      <th>1</th>\n",
       "      <td>17</td>\n",
       "      <td>1</td>\n",
       "      <td>0</td>\n",
       "      <td>18</td>\n",
       "      <td>1</td>\n",
       "      <td>0</td>\n",
       "      <td>0</td>\n",
       "      <td>1</td>\n",
       "      <td>8</td>\n",
       "    </tr>\n",
       "    <tr>\n",
       "      <th>2</th>\n",
       "      <td>25</td>\n",
       "      <td>1</td>\n",
       "      <td>0</td>\n",
       "      <td>19</td>\n",
       "      <td>0</td>\n",
       "      <td>1</td>\n",
       "      <td>0</td>\n",
       "      <td>1</td>\n",
       "      <td>13</td>\n",
       "    </tr>\n",
       "    <tr>\n",
       "      <th>3</th>\n",
       "      <td>52</td>\n",
       "      <td>0</td>\n",
       "      <td>1</td>\n",
       "      <td>23</td>\n",
       "      <td>1</td>\n",
       "      <td>1</td>\n",
       "      <td>1</td>\n",
       "      <td>1</td>\n",
       "      <td>1</td>\n",
       "    </tr>\n",
       "    <tr>\n",
       "      <th>4</th>\n",
       "      <td>52</td>\n",
       "      <td>0</td>\n",
       "      <td>0</td>\n",
       "      <td>19</td>\n",
       "      <td>0</td>\n",
       "      <td>1</td>\n",
       "      <td>0</td>\n",
       "      <td>1</td>\n",
       "      <td>3</td>\n",
       "    </tr>\n",
       "  </tbody>\n",
       "</table>\n",
       "</div>"
      ],
      "text/plain": [
       "   week  arrest  fin  age  race  wexp  mar  paro  prio\n",
       "0    20       1    0   27     1     0    0     1     3\n",
       "1    17       1    0   18     1     0    0     1     8\n",
       "2    25       1    0   19     0     1    0     1    13\n",
       "3    52       0    1   23     1     1    1     1     1\n",
       "4    52       0    0   19     0     1    0     1     3"
      ]
     },
     "execution_count": 1,
     "metadata": {},
     "output_type": "execute_result"
    }
   ],
   "source": [
    "import numpy as np \n",
    "import matplotlib.pyplot as plt \n",
    "\n",
    "from lifelines.datasets import load_rossi\n",
    "from sksurv.metrics import concordance_index_censored\n",
    "\n",
    "from utils.model import Model \n",
    "\n",
    "data = load_rossi()\n",
    "data.dropna(inplace=True)\n",
    "print(data.shape)\n",
    "data.head()"
   ]
  },
  {
   "cell_type": "code",
   "execution_count": 2,
   "id": "423b56d6-d3da-4778-9db7-858b16047b76",
   "metadata": {},
   "outputs": [
    {
     "data": {
      "text/plain": [
       "(432, 7)"
      ]
     },
     "execution_count": 2,
     "metadata": {},
     "output_type": "execute_result"
    }
   ],
   "source": [
    "event_col = \"arrest\"\n",
    "duration_col = \"week\"\n",
    "\n",
    "X = data.drop(columns=[event_col, duration_col])\n",
    "X.shape"
   ]
  },
  {
   "cell_type": "markdown",
   "id": "22215651-16d3-452b-b559-c7280faa6750",
   "metadata": {},
   "source": [
    "# Train-test split "
   ]
  },
  {
   "cell_type": "code",
   "execution_count": 3,
   "id": "6089c88e-a035-4325-bef6-1941e5aca7a3",
   "metadata": {},
   "outputs": [
    {
     "name": "stdout",
     "output_type": "stream",
     "text": [
      "(345, 9) (87, 9)\n"
     ]
    }
   ],
   "source": [
    "from utils.data import train_test_splitting\n",
    "\n",
    "train_idx, test_idx = train_test_splitting(\n",
    "    np.arange(data.shape[0]), test_size=0.2, stratify=data[event_col].squeeze().astype(int)\n",
    ")\n",
    "# Data splits\n",
    "data_train, data_test = data.iloc[train_idx], data.iloc[test_idx]\n",
    "print(data_train.shape, data_test.shape)"
   ]
  },
  {
   "cell_type": "code",
   "execution_count": 4,
   "id": "5cc7a54e-6098-416d-8090-43cea9e3c4bd",
   "metadata": {},
   "outputs": [],
   "source": [
    "N_SPLITS = 2\n",
    "DATA_SPLIT_IDX = np.array_split(np.arange(data_train.shape[0]), N_SPLITS)"
   ]
  },
  {
   "cell_type": "code",
   "execution_count": 5,
   "id": "c6d27951-03ca-4030-b25c-66e510fb4d46",
   "metadata": {},
   "outputs": [],
   "source": [
    "duration_train = data_train[duration_col].to_numpy().squeeze()\n",
    "duration_test = data_test[duration_col].to_numpy().squeeze()\n",
    "\n",
    "event_train = data_train[event_col].to_numpy().squeeze()\n",
    "event_test = data_test[event_col].to_numpy().squeeze()"
   ]
  },
  {
   "cell_type": "code",
   "execution_count": 6,
   "id": "b52b1065-c1d0-4f4d-b0a0-6599a69cd79c",
   "metadata": {},
   "outputs": [
    {
     "name": "stdout",
     "output_type": "stream",
     "text": [
      "(345,) (87,)\n"
     ]
    }
   ],
   "source": [
    "from sksurv.util import Surv\n",
    "# Create structured arrays\n",
    "y_train = Surv.from_arrays(event=event_train, time=duration_train)\n",
    "y_test = Surv.from_arrays(event=event_test, time=duration_test)\n",
    "print(y_train.shape, y_test.shape)"
   ]
  },
  {
   "cell_type": "markdown",
   "id": "4f3f2a80-512a-457c-b09c-e63bf315b00c",
   "metadata": {},
   "source": [
    "# Pre-processing"
   ]
  },
  {
   "cell_type": "code",
   "execution_count": 7,
   "id": "aed103f3-98c3-4edd-a45e-4a425ca0d407",
   "metadata": {},
   "outputs": [],
   "source": [
    "from utils.data import feature_scaling\n",
    "# Scale features with Z-score transfrom \n",
    "X_train, X_test = feature_scaling(X.iloc[train_idx].values, X.iloc[test_idx].values)"
   ]
  },
  {
   "cell_type": "code",
   "execution_count": 8,
   "id": "b340ff7c-1d25-4932-af6f-0bea0e699067",
   "metadata": {},
   "outputs": [
    {
     "data": {
      "text/plain": [
       "(0.0, 3.9512437185814275)"
      ]
     },
     "execution_count": 8,
     "metadata": {},
     "output_type": "execute_result"
    }
   ],
   "source": [
    "from utils.data import init_knots\n",
    "# Set knot locations \n",
    "knots = init_knots(duration_train, event_train, n_knots=5)\n",
    "min(knots), max(knots)"
   ]
  },
  {
   "cell_type": "markdown",
   "id": "d48cb4fa-5f07-45e9-97e4-81e77c24de47",
   "metadata": {},
   "source": [
    "# Initialize parameters"
   ]
  },
  {
   "cell_type": "code",
   "execution_count": 34,
   "id": "de477f92-d6c5-4d4b-98ad-19f355281ec4",
   "metadata": {},
   "outputs": [],
   "source": [
    "from utils.data import init_gamma, init_beta\n",
    "from utils.splines import bspline_design_matrix\n",
    "\n",
    "# Create one spline equation per time point \n",
    "D = bspline_design_matrix(np.log(duration_train), knots)\n",
    "\n",
    "# Initialize gamma coefficients\n",
    "gamma = init_gamma(D, duration_train)\n",
    "\n",
    "# Initialize beta coefficients\n",
    "beta = init_beta(X_train, y_train)"
   ]
  },
  {
   "cell_type": "code",
   "execution_count": 35,
   "id": "e1ef460f-1dea-4b53-ac0d-092f54911309",
   "metadata": {},
   "outputs": [],
   "source": [
    "# Initialize global params\n",
    "z_beta = np.zeros_like(beta)\n",
    "z_gamma = np.zeros_like(gamma)\n",
    "u_betas = [np.zeros_like(beta) for _ in range(N_SPLITS)]\n",
    "u_gammas = [np.zeros_like(gamma) for _ in range(N_SPLITS)]"
   ]
  },
  {
   "cell_type": "markdown",
   "id": "63211386-170a-4571-a5a4-83899c10f957",
   "metadata": {},
   "source": [
    "# Model fitting "
   ]
  },
  {
   "cell_type": "code",
   "execution_count": 42,
   "id": "5061bb8d-d156-4003-b282-fb02d4fd5a55",
   "metadata": {},
   "outputs": [],
   "source": [
    "models = []\n",
    "for _ in range(N_SPLITS):\n",
    "    model_i = Model(epochs=5, knots=knots, learning_rate=0.01, l2_lambda=0)\n",
    "    model_i.set_params({\"beta\": beta, \"gamma\": gamma})\n",
    "\n",
    "    models.append(model_i)"
   ]
  },
  {
   "cell_type": "code",
   "execution_count": 43,
   "id": "60aedf4c-1394-4f14-a6f5-17dda087fda2",
   "metadata": {},
   "outputs": [
    {
     "data": {
      "text/plain": [
       "[<matplotlib.lines.Line2D at 0x15d3ed5d0>]"
      ]
     },
     "execution_count": 43,
     "metadata": {},
     "output_type": "execute_result"
    },
    {
     "data": {
      "image/png": "[encoded data removed]",
      "text/plain": [
       "<Figure size 640x480 with 1 Axes>"
      ]
     },
     "metadata": {},
     "output_type": "display_data"
    }
   ],
   "source": [
    "def server_admm_update(all_betas, all_gammas, u_betas, u_gammas):\n",
    "    # Average to get new z (global parameters)\n",
    "    z_beta = np.mean(all_betas, axis=0)\n",
    "    z_gamma = np.mean(all_gammas, axis=0)\n",
    "\n",
    "    # Update duals\n",
    "    new_u_betas = [u + (b - z_beta) for b, u in zip(all_betas, u_betas)]\n",
    "    new_u_gammas = [u + (g - z_gamma) for g, u in zip(all_gammas, u_gammas)]\n",
    "\n",
    "    return z_beta, z_gamma, new_u_betas, new_u_gammas\n",
    "\n",
    "\n",
    "losses = []\n",
    "for _ in range(100):\n",
    "    \n",
    "    local_betas, local_gammas, last_local_losses = [], [], []\n",
    "    for i in range(N_SPLITS):\n",
    "\n",
    "        X_train_i = X_train[DATA_SPLIT_IDX[i]]\n",
    "        y_train_i = y_train[DATA_SPLIT_IDX[i]]\n",
    "        \n",
    "        models[i].fit_fedadmm(\n",
    "            X_train_i, y_train_i, z_beta, z_gamma, u_betas[i], u_gammas[i]\n",
    "        )\n",
    "        local_betas.append(models[i].beta)\n",
    "        local_gammas.append(models[i].gamma)\n",
    "        last_local_losses.append(models[i].losses[-1])\n",
    "    \n",
    "    losses.append(np.mean(last_local_losses))\n",
    "    \n",
    "    z_beta, z_gamma, u_betas, u_gammas = server_admm_update(local_betas, local_gammas, u_betas, u_gammas)\n",
    "\n",
    "plt.figure()\n",
    "plt.plot(losses)"
   ]
  },
  {
   "cell_type": "markdown",
   "id": "9e9c54f3-5477-4ae9-ae29-f2b2ea249d38",
   "metadata": {},
   "source": [
    "# Global model"
   ]
  },
  {
   "cell_type": "code",
   "execution_count": 44,
   "id": "fb30f6ea-c95a-4010-a4c9-b8ea74ce739e",
   "metadata": {},
   "outputs": [],
   "source": [
    "global_model = Model(epochs=0, knots=knots, learning_rate=0.01, l2_lambda=0)\n",
    "global_model.set_params({\"beta\": z_beta, \"gamma\": z_gamma})"
   ]
  },
  {
   "cell_type": "code",
   "execution_count": 45,
   "id": "c325bb0a-f020-41ff-bbfb-28ebb67ac4e1",
   "metadata": {},
   "outputs": [
    {
     "name": "stdout",
     "output_type": "stream",
     "text": [
      "(0.6454424827687885, 17496, 9604, 31, 1016)\n",
      "(0.602147417295415, 1037, 685, 1, 0)\n"
     ]
    }
   ],
   "source": [
    "print(concordance_index_censored(event_train.astype(bool), duration_train, global_model.risk_score(X_train).squeeze()))\n",
    "print(concordance_index_censored(event_test.astype(bool), duration_test, global_model.risk_score(X_test).squeeze()))"
   ]
  },
  {
   "cell_type": "code",
   "execution_count": 46,
   "id": "eedeb176-751c-4d3f-a486-b4590c237475",
   "metadata": {},
   "outputs": [
    {
     "data": {
      "text/plain": [
       "[<matplotlib.lines.Line2D at 0x15d463700>]"
      ]
     },
     "execution_count": 46,
     "metadata": {},
     "output_type": "execute_result"
    },
    {
     "data": {
      "image/png": "[encoded data removed]",
      "text/plain": [
       "<Figure size 640x480 with 1 Axes>"
      ]
     },
     "metadata": {},
     "output_type": "display_data"
    }
   ],
   "source": [
    "S0 = global_model.survival_curve(X_test[0], duration_test)\n",
    "S1 = global_model.survival_curve(X_test[1], duration_test)\n",
    "\n",
    "plt.figure()\n",
    "idx = np.argsort(duration_test)\n",
    "plt.plot(duration_test[idx], S0[idx, 0])\n",
    "plt.plot(duration_test[idx], S1[idx, 0])"
   ]
  },
  {
   "cell_type": "code",
   "execution_count": null,
   "id": "e3270f6b-ea56-43ff-b695-74462adc5909",
   "metadata": {},
   "outputs": [],
   "source": []
  }
 ],
 "metadata": {
  "kernelspec": {
   "display_name": "Python 3 (ipykernel)",
   "language": "python",
   "name": "python3"
  },
  "language_info": {
   "codemirror_mode": {
    "name": "ipython",
    "version": 3
   },
   "file_extension": ".py",
   "mimetype": "text/x-python",
   "name": "python",
   "nbconvert_exporter": "python",
   "pygments_lexer": "ipython3",
   "version": "3.10.15"
  }
 },
 "nbformat": 4,
 "nbformat_minor": 5
}
