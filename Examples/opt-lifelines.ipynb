{
 "cells": [
  {
   "cell_type": "code",
   "execution_count": 1,
   "id": "1b6617d2-2952-4ffb-a4b0-5972899444b3",
   "metadata": {},
   "outputs": [],
   "source": [
    "# https://sci-hub.se/10.1002/sim.1203\n",
    "# https://journals.sagepub.com/doi/pdf/10.1177/1536867x0900900206"
   ]
  },
  {
   "cell_type": "markdown",
   "id": "0de7d576-a457-41f3-8e9d-af92aeb5b046",
   "metadata": {},
   "source": [
    "# Dataset"
   ]
  },
  {
   "cell_type": "code",
   "execution_count": 2,
   "id": "7fcba781-3d4f-4fc5-ba2e-5e19c5504cd7",
   "metadata": {},
   "outputs": [
    {
     "name": "stdout",
     "output_type": "stream",
     "text": [
      "(432, 9)\n"
     ]
    },
    {
     "data": {
      "text/html": [
       "<div>\n",
       "<style scoped>\n",
       "    .dataframe tbody tr th:only-of-type {\n",
       "        vertical-align: middle;\n",
       "    }\n",
       "\n",
       "    .dataframe tbody tr th {\n",
       "        vertical-align: top;\n",
       "    }\n",
       "\n",
       "    .dataframe thead th {\n",
       "        text-align: right;\n",
       "    }\n",
       "</style>\n",
       "<table border=\"1\" class=\"dataframe\">\n",
       "  <thead>\n",
       "    <tr style=\"text-align: right;\">\n",
       "      <th></th>\n",
       "      <th>week</th>\n",
       "      <th>arrest</th>\n",
       "      <th>fin</th>\n",
       "      <th>age</th>\n",
       "      <th>race</th>\n",
       "      <th>wexp</th>\n",
       "      <th>mar</th>\n",
       "      <th>paro</th>\n",
       "      <th>prio</th>\n",
       "    </tr>\n",
       "  </thead>\n",
       "  <tbody>\n",
       "    <tr>\n",
       "      <th>0</th>\n",
       "      <td>20</td>\n",
       "      <td>1</td>\n",
       "      <td>0</td>\n",
       "      <td>27</td>\n",
       "      <td>1</td>\n",
       "      <td>0</td>\n",
       "      <td>0</td>\n",
       "      <td>1</td>\n",
       "      <td>3</td>\n",
       "    </tr>\n",
       "    <tr>\n",
       "      <th>1</th>\n",
       "      <td>17</td>\n",
       "      <td>1</td>\n",
       "      <td>0</td>\n",
       "      <td>18</td>\n",
       "      <td>1</td>\n",
       "      <td>0</td>\n",
       "      <td>0</td>\n",
       "      <td>1</td>\n",
       "      <td>8</td>\n",
       "    </tr>\n",
       "    <tr>\n",
       "      <th>2</th>\n",
       "      <td>25</td>\n",
       "      <td>1</td>\n",
       "      <td>0</td>\n",
       "      <td>19</td>\n",
       "      <td>0</td>\n",
       "      <td>1</td>\n",
       "      <td>0</td>\n",
       "      <td>1</td>\n",
       "      <td>13</td>\n",
       "    </tr>\n",
       "    <tr>\n",
       "      <th>3</th>\n",
       "      <td>52</td>\n",
       "      <td>0</td>\n",
       "      <td>1</td>\n",
       "      <td>23</td>\n",
       "      <td>1</td>\n",
       "      <td>1</td>\n",
       "      <td>1</td>\n",
       "      <td>1</td>\n",
       "      <td>1</td>\n",
       "    </tr>\n",
       "    <tr>\n",
       "      <th>4</th>\n",
       "      <td>52</td>\n",
       "      <td>0</td>\n",
       "      <td>0</td>\n",
       "      <td>19</td>\n",
       "      <td>0</td>\n",
       "      <td>1</td>\n",
       "      <td>0</td>\n",
       "      <td>1</td>\n",
       "      <td>3</td>\n",
       "    </tr>\n",
       "  </tbody>\n",
       "</table>\n",
       "</div>"
      ],
      "text/plain": [
       "   week  arrest  fin  age  race  wexp  mar  paro  prio\n",
       "0    20       1    0   27     1     0    0     1     3\n",
       "1    17       1    0   18     1     0    0     1     8\n",
       "2    25       1    0   19     0     1    0     1    13\n",
       "3    52       0    1   23     1     1    1     1     1\n",
       "4    52       0    0   19     0     1    0     1     3"
      ]
     },
     "execution_count": 2,
     "metadata": {},
     "output_type": "execute_result"
    }
   ],
   "source": [
    "from lifelines.datasets import load_rossi\n",
    "\n",
    "data = load_rossi()\n",
    "data.dropna(inplace=True)\n",
    "print(data.shape)\n",
    "data.head()"
   ]
  },
  {
   "cell_type": "code",
   "execution_count": 3,
   "id": "9b1a3c55-c713-4ccf-9ef9-e03eb195d5ea",
   "metadata": {},
   "outputs": [
    {
     "data": {
      "text/plain": [
       "(432, 7)"
      ]
     },
     "execution_count": 3,
     "metadata": {},
     "output_type": "execute_result"
    }
   ],
   "source": [
    "event_col = \"arrest\"\n",
    "duration_col = \"week\"\n",
    "\n",
    "X = data.drop(columns=[event_col, duration_col])\n",
    "X.shape"
   ]
  },
  {
   "cell_type": "code",
   "execution_count": 4,
   "id": "910ed720-a4ff-4b8e-848f-a800e3cc46c7",
   "metadata": {},
   "outputs": [
    {
     "data": {
      "text/plain": [
       "((367, 9), (65, 9))"
      ]
     },
     "execution_count": 4,
     "metadata": {},
     "output_type": "execute_result"
    }
   ],
   "source": [
    "from sklearn.model_selection import train_test_split\n",
    "\n",
    "train_idx, test_idx = train_test_split(\n",
    "    range(data.shape[0]), test_size=0.15, random_state=42, stratify=data[event_col]\n",
    ")\n",
    "data_train, data_test = data.iloc[train_idx], data.iloc[test_idx]\n",
    "X_train, X_test = X.iloc[train_idx], X.iloc[test_idx]\n",
    "data_train.shape, data_test.shape"
   ]
  },
  {
   "cell_type": "markdown",
   "id": "91b30488-f9b0-445e-9850-3f16a94ba8ea",
   "metadata": {},
   "source": [
    "# Parameter initialization "
   ]
  },
  {
   "cell_type": "code",
   "execution_count": 5,
   "id": "66f2bbfe-ddf5-4ee2-a489-485d8b75c3eb",
   "metadata": {},
   "outputs": [],
   "source": [
    "import numpy as np \n",
    "\n",
    "penalizer = 0.1\n",
    "n_baseline_knots = 3\n",
    "\n",
    "initial_point = np.random.random((data.shape[1] + n_baseline_knots - 1))"
   ]
  },
  {
   "cell_type": "markdown",
   "id": "cb86dcf6-633d-454f-81b2-559c98163b2f",
   "metadata": {},
   "source": [
    "# Fitting centralized model"
   ]
  },
  {
   "cell_type": "code",
   "execution_count": 6,
   "id": "0ba4bfb8-6933-4946-b8e2-8fb9d8c436ef",
   "metadata": {},
   "outputs": [
    {
     "name": "stdout",
     "output_type": "stream",
     "text": [
      "0.5\n",
      "0.5\n"
     ]
    },
    {
     "name": "stderr",
     "output_type": "stream",
     "text": [
      "/opt/anaconda3/lib/python3.10/site-packages/lifelines/fitters/__init__.py:2371: ApproximationWarning: Approximating using `predict_survival_function`. To increase accuracy, try using or increasing the resolution of the timeline kwarg in `.fit(..., timeline=timeline)`.\n",
      "\n",
      "  warnings.warn(\n",
      "/opt/anaconda3/lib/python3.10/site-packages/lifelines/fitters/__init__.py:2371: ApproximationWarning: Approximating using `predict_survival_function`. To increase accuracy, try using or increasing the resolution of the timeline kwarg in `.fit(..., timeline=timeline)`.\n",
      "\n",
      "  warnings.warn(\n"
     ]
    }
   ],
   "source": [
    "from lifelines import CoxPHFitter\n",
    "\n",
    "fit_options = {\"maxiter\": 5000}\n",
    "\n",
    "model = CoxPHFitter(baseline_estimation_method=\"spline\", penalizer=penalizer, n_baseline_knots=n_baseline_knots)\n",
    "model.fit(\n",
    "    data, \n",
    "    duration_col=duration_col, \n",
    "    event_col=event_col, \n",
    "    fit_options=fit_options, \n",
    "    initial_point=initial_point\n",
    ")\n",
    "\n",
    "print(model.score(data_train, scoring_method=\"concordance_index\"))\n",
    "print(model.score(data_test, scoring_method=\"concordance_index\"))"
   ]
  },
  {
   "cell_type": "code",
   "execution_count": 7,
   "id": "be93312f-28f4-4b0d-ac0d-b59d0f4481dd",
   "metadata": {},
   "outputs": [
    {
     "name": "stdout",
     "output_type": "stream",
     "text": [
      "(0.4325325878490394, 13285, 17436, 42, 1080)\n",
      "(0.29915878023133546, 284, 666, 1, 0)\n"
     ]
    }
   ],
   "source": [
    "def predict(X, model):\n",
    "    intercept = model.params_.beta_.values[-1]\n",
    "    weights = model.params_.beta_.values[:-1]\n",
    "    return intercept + X @ weights\n",
    "\n",
    "\n",
    "from sksurv.metrics import concordance_index_censored\n",
    "\n",
    "y_hat_train = predict(X_train, model)\n",
    "y_hat_test = predict(X_test, model)\n",
    "\n",
    "print(concordance_index_censored(data_train[event_col].astype(bool), data_train[duration_col], y_hat_train))\n",
    "print(concordance_index_censored(data_test[event_col].astype(bool), data_test[duration_col], y_hat_test))"
   ]
  },
  {
   "cell_type": "markdown",
   "id": "daab2628-cb68-4683-92b1-0e121156e8ce",
   "metadata": {},
   "source": [
    "# Fitting de-centralized model"
   ]
  },
  {
   "cell_type": "code",
   "execution_count": 8,
   "id": "24528302-c37e-44b7-918e-6025b258a3a6",
   "metadata": {},
   "outputs": [],
   "source": [
    "N_CLIENTS = 3\n",
    "CLIENT_DATA_IDX = np.array_split(np.arange(data_train.shape[0]), N_CLIENTS)\n",
    "\n",
    "models = []\n",
    "for i, idx in enumerate(CLIENT_DATA_IDX):\n",
    "    models.append(CoxPHFitter(\n",
    "        baseline_estimation_method=\"spline\", \n",
    "        penalizer=penalizer, \n",
    "        n_baseline_knots=n_baseline_knots\n",
    "    ))"
   ]
  },
  {
   "cell_type": "code",
   "execution_count": 9,
   "id": "15200e90-32a5-4707-87d3-f427c5cd095e",
   "metadata": {},
   "outputs": [
    {
     "name": "stdout",
     "output_type": "stream",
     "text": [
      "Convergence: 2\n"
     ]
    }
   ],
   "source": [
    "import pandas as pd \n",
    "\n",
    "global_params = initial_point.copy()\n",
    "\n",
    "for epoch in range(10):\n",
    "\n",
    "    for i, idx in enumerate(CLIENT_DATA_IDX):\n",
    "        models[i].fit(\n",
    "            data.iloc[idx], \n",
    "            duration_col=duration_col, \n",
    "            event_col=event_col, \n",
    "            fit_options=fit_options, \n",
    "            initial_point=global_params\n",
    "        )\n",
    "\n",
    "    # Aggregate parameters \n",
    "    agg_params = pd.concat([model.params_ for model in models], axis=1).mean(axis=1)\n",
    "\n",
    "    # Check for convergence \n",
    "    if np.linalg.norm(agg_params - global_params) / np.linalg.norm(global_params) < 1e-4:\n",
    "        print(f\"Convergence: {epoch}\")\n",
    "        break \n",
    "    \n",
    "    # Update global params \n",
    "    global_params = agg_params.values"
   ]
  },
  {
   "cell_type": "code",
   "execution_count": 10,
   "id": "e74a8cce-bb41-431c-8684-eb67d9f46479",
   "metadata": {},
   "outputs": [],
   "source": [
    "for i, idx in enumerate(CLIENT_DATA_IDX):\n",
    "    # Share final model params \n",
    "    models[i].params_ = agg_params"
   ]
  },
  {
   "cell_type": "code",
   "execution_count": 11,
   "id": "0debeb1d-3617-4b8e-b7f8-26cea21fa681",
   "metadata": {},
   "outputs": [
    {
     "name": "stdout",
     "output_type": "stream",
     "text": [
      "0.5\n",
      "0.5\n"
     ]
    },
    {
     "name": "stderr",
     "output_type": "stream",
     "text": [
      "/opt/anaconda3/lib/python3.10/site-packages/lifelines/fitters/__init__.py:2371: ApproximationWarning: Approximating using `predict_survival_function`. To increase accuracy, try using or increasing the resolution of the timeline kwarg in `.fit(..., timeline=timeline)`.\n",
      "\n",
      "  warnings.warn(\n",
      "/opt/anaconda3/lib/python3.10/site-packages/lifelines/fitters/__init__.py:2371: ApproximationWarning: Approximating using `predict_survival_function`. To increase accuracy, try using or increasing the resolution of the timeline kwarg in `.fit(..., timeline=timeline)`.\n",
      "\n",
      "  warnings.warn(\n"
     ]
    }
   ],
   "source": [
    "print(models[i].score(data_train, scoring_method=\"concordance_index\"))\n",
    "print(models[i].score(data_test, scoring_method=\"concordance_index\"))"
   ]
  },
  {
   "cell_type": "code",
   "execution_count": 12,
   "id": "6460db89-ee82-4299-8ed2-eb90396e2a68",
   "metadata": {},
   "outputs": [
    {
     "name": "stdout",
     "output_type": "stream",
     "text": [
      "(0.5, 0, 0, 30763, 1080)\n",
      "(0.5, 0, 0, 951, 0)\n"
     ]
    }
   ],
   "source": [
    "from sksurv.metrics import concordance_index_censored\n",
    "\n",
    "y_hat_train = predict(X_train, models[i])\n",
    "y_hat_test = predict(X_test, models[i])\n",
    "\n",
    "print(concordance_index_censored(data_train[event_col].astype(bool), data_train[duration_col], y_hat_train))\n",
    "print(concordance_index_censored(data_test[event_col].astype(bool), data_test[duration_col], y_hat_test))"
   ]
  },
  {
   "cell_type": "code",
   "execution_count": null,
   "id": "0402b3e3-3858-4773-af2d-97dad25778ed",
   "metadata": {},
   "outputs": [],
   "source": []
  }
 ],
 "metadata": {
  "kernelspec": {
   "display_name": "Python 3 (ipykernel)",
   "language": "python",
   "name": "python3"
  },
  "language_info": {
   "codemirror_mode": {
    "name": "ipython",
    "version": 3
   },
   "file_extension": ".py",
   "mimetype": "text/x-python",
   "name": "python",
   "nbconvert_exporter": "python",
   "pygments_lexer": "ipython3",
   "version": "3.10.15"
  }
 },
 "nbformat": 4,
 "nbformat_minor": 5
}
