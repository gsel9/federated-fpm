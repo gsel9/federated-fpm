{
 "cells": [
  {
   "cell_type": "markdown",
   "id": "ab96b5f9-a64e-4ca5-869d-d6223ef4ec53",
   "metadata": {},
   "source": [
    "# Data"
   ]
  },
  {
   "cell_type": "code",
   "execution_count": 1,
   "id": "81d74d6b-a16e-4b6e-98d3-d7b889399953",
   "metadata": {},
   "outputs": [
    {
     "name": "stdout",
     "output_type": "stream",
     "text": [
      "(432, 9)\n"
     ]
    },
    {
     "data": {
      "text/html": [
       "<div>\n",
       "<style scoped>\n",
       "    .dataframe tbody tr th:only-of-type {\n",
       "        vertical-align: middle;\n",
       "    }\n",
       "\n",
       "    .dataframe tbody tr th {\n",
       "        vertical-align: top;\n",
       "    }\n",
       "\n",
       "    .dataframe thead th {\n",
       "        text-align: right;\n",
       "    }\n",
       "</style>\n",
       "<table border=\"1\" class=\"dataframe\">\n",
       "  <thead>\n",
       "    <tr style=\"text-align: right;\">\n",
       "      <th></th>\n",
       "      <th>week</th>\n",
       "      <th>arrest</th>\n",
       "      <th>fin</th>\n",
       "      <th>age</th>\n",
       "      <th>race</th>\n",
       "      <th>wexp</th>\n",
       "      <th>mar</th>\n",
       "      <th>paro</th>\n",
       "      <th>prio</th>\n",
       "    </tr>\n",
       "  </thead>\n",
       "  <tbody>\n",
       "    <tr>\n",
       "      <th>0</th>\n",
       "      <td>20</td>\n",
       "      <td>1</td>\n",
       "      <td>0</td>\n",
       "      <td>27</td>\n",
       "      <td>1</td>\n",
       "      <td>0</td>\n",
       "      <td>0</td>\n",
       "      <td>1</td>\n",
       "      <td>3</td>\n",
       "    </tr>\n",
       "    <tr>\n",
       "      <th>1</th>\n",
       "      <td>17</td>\n",
       "      <td>1</td>\n",
       "      <td>0</td>\n",
       "      <td>18</td>\n",
       "      <td>1</td>\n",
       "      <td>0</td>\n",
       "      <td>0</td>\n",
       "      <td>1</td>\n",
       "      <td>8</td>\n",
       "    </tr>\n",
       "    <tr>\n",
       "      <th>2</th>\n",
       "      <td>25</td>\n",
       "      <td>1</td>\n",
       "      <td>0</td>\n",
       "      <td>19</td>\n",
       "      <td>0</td>\n",
       "      <td>1</td>\n",
       "      <td>0</td>\n",
       "      <td>1</td>\n",
       "      <td>13</td>\n",
       "    </tr>\n",
       "    <tr>\n",
       "      <th>3</th>\n",
       "      <td>52</td>\n",
       "      <td>0</td>\n",
       "      <td>1</td>\n",
       "      <td>23</td>\n",
       "      <td>1</td>\n",
       "      <td>1</td>\n",
       "      <td>1</td>\n",
       "      <td>1</td>\n",
       "      <td>1</td>\n",
       "    </tr>\n",
       "    <tr>\n",
       "      <th>4</th>\n",
       "      <td>52</td>\n",
       "      <td>0</td>\n",
       "      <td>0</td>\n",
       "      <td>19</td>\n",
       "      <td>0</td>\n",
       "      <td>1</td>\n",
       "      <td>0</td>\n",
       "      <td>1</td>\n",
       "      <td>3</td>\n",
       "    </tr>\n",
       "  </tbody>\n",
       "</table>\n",
       "</div>"
      ],
      "text/plain": [
       "   week  arrest  fin  age  race  wexp  mar  paro  prio\n",
       "0    20       1    0   27     1     0    0     1     3\n",
       "1    17       1    0   18     1     0    0     1     8\n",
       "2    25       1    0   19     0     1    0     1    13\n",
       "3    52       0    1   23     1     1    1     1     1\n",
       "4    52       0    0   19     0     1    0     1     3"
      ]
     },
     "execution_count": 1,
     "metadata": {},
     "output_type": "execute_result"
    }
   ],
   "source": [
    "import numpy as np \n",
    "import matplotlib.pyplot as plt \n",
    "\n",
    "from lifelines.datasets import load_rossi\n",
    "from sksurv.metrics import concordance_index_censored\n",
    "\n",
    "data = load_rossi()\n",
    "data.dropna(inplace=True)\n",
    "print(data.shape)\n",
    "data.head()"
   ]
  },
  {
   "cell_type": "code",
   "execution_count": 2,
   "id": "e1976584-3613-434e-8c75-821959e4dffa",
   "metadata": {},
   "outputs": [
    {
     "data": {
      "text/plain": [
       "(432, 7)"
      ]
     },
     "execution_count": 2,
     "metadata": {},
     "output_type": "execute_result"
    }
   ],
   "source": [
    "event_col = \"arrest\"\n",
    "duration_col = \"week\"\n",
    "\n",
    "X = data.drop(columns=[event_col, duration_col])\n",
    "X.shape"
   ]
  },
  {
   "cell_type": "code",
   "execution_count": 3,
   "id": "caaacf02-99ff-4633-9457-ec40ee9c1997",
   "metadata": {},
   "outputs": [],
   "source": [
    "duration = data[duration_col].to_numpy().squeeze()\n",
    "event = data[event_col].to_numpy().squeeze()"
   ]
  },
  {
   "cell_type": "code",
   "execution_count": 4,
   "id": "a7f4e36a-2980-45e7-8c04-f4faa639af74",
   "metadata": {},
   "outputs": [],
   "source": [
    "from sksurv.util import Surv\n",
    "# Create structured arrays\n",
    "y = Surv.from_arrays(event=event, time=duration)"
   ]
  },
  {
   "cell_type": "markdown",
   "id": "f22a1ff6-a62d-4472-ad4c-3877844b3c03",
   "metadata": {},
   "source": [
    "# Pre-processing "
   ]
  },
  {
   "cell_type": "code",
   "execution_count": 5,
   "id": "c0eab75b-0b3c-417c-b9ae-25110a7327e2",
   "metadata": {},
   "outputs": [],
   "source": [
    "from utils.data import feature_scaling\n",
    "# Scale features with Z-score transfrom \n",
    "X = feature_scaling(X)"
   ]
  },
  {
   "cell_type": "code",
   "execution_count": 6,
   "id": "0da62f2c-83a1-4d33-b241-cdcfb36d057d",
   "metadata": {},
   "outputs": [
    {
     "data": {
      "text/plain": [
       "(0.0, 3.9512437185814275)"
      ]
     },
     "execution_count": 6,
     "metadata": {},
     "output_type": "execute_result"
    }
   ],
   "source": [
    "from utils.data import init_knots\n",
    "# Set knot locations \n",
    "knots = init_knots(duration, event, n_knots=5)\n",
    "min(knots), max(knots)"
   ]
  },
  {
   "cell_type": "markdown",
   "id": "6396a3bd-c31d-4072-8007-abe0013fa67f",
   "metadata": {},
   "source": [
    "# Initialize clients "
   ]
  },
  {
   "cell_type": "code",
   "execution_count": 77,
   "id": "b4fe0f66-5ef7-477b-9597-c2a285e181f0",
   "metadata": {},
   "outputs": [],
   "source": [
    "N_SPLITS = 3\n",
    "DATA_SPLIT_IDX = [np.arange(data.shape[0])] * N_SPLITS  #np.array_split(np.arange(data.shape[0]), N_SPLITS)"
   ]
  },
  {
   "cell_type": "code",
   "execution_count": 78,
   "id": "a7608b04-997e-442e-b630-b008b7e52404",
   "metadata": {},
   "outputs": [],
   "source": [
    "from utils.client import Client \n",
    "\n",
    "participants = [] \n",
    "\n",
    "rho = 1\n",
    "\n",
    "for idx in DATA_SPLIT_IDX:\n",
    "    # Init client objects with mutually exclusive data samples \n",
    "    client = Client(data.iloc[idx], n_knots=5, n_epochs=1, event_col=event_col, duration_col=duration_col, rho=rho)\n",
    "    # Apply data pre-processing steps \n",
    "    client.preprocess_data(train_test_split=False)\n",
    "    # Initialize model and parameters \n",
    "    client.init_model(local_knots=False, knots=knots, learning_rate=0.001)\n",
    "\n",
    "    participants.append(client)"
   ]
  },
  {
   "cell_type": "markdown",
   "id": "ba8dbe74-502c-42d0-be37-241380a7f2f9",
   "metadata": {},
   "source": [
    "# Initialize parameters"
   ]
  },
  {
   "cell_type": "code",
   "execution_count": 79,
   "id": "17d2b759-a891-4032-bfc0-0866f67c6e9e",
   "metadata": {},
   "outputs": [],
   "source": [
    "from utils.data import init_gamma, init_beta\n",
    "from utils.splines import bspline_design_matrix\n",
    "\n",
    "# Create one spline equation per time point \n",
    "D = bspline_design_matrix(np.log(duration), knots)\n",
    "\n",
    "# Initialize gamma coefficients\n",
    "gamma = init_gamma(D, duration)\n",
    "\n",
    "# Initialize beta coefficients\n",
    "beta = init_beta(X, y)"
   ]
  },
  {
   "cell_type": "code",
   "execution_count": 80,
   "id": "48fe3d01-56b0-41f1-afb6-8590ceb9c72d",
   "metadata": {},
   "outputs": [],
   "source": [
    "for client in participants:\n",
    "    client.set_params({\"beta\": beta, \"gamma\": gamma})"
   ]
  },
  {
   "cell_type": "markdown",
   "id": "451c8394-8b85-42e8-82fa-bc74721272b6",
   "metadata": {},
   "source": [
    "# Fit clients "
   ]
  },
  {
   "cell_type": "code",
   "execution_count": 81,
   "id": "e4105f81-49e6-4dad-96a3-a74049551e37",
   "metadata": {},
   "outputs": [],
   "source": [
    "# Global variables \n",
    "beta_global = np.zeros_like(client.beta)\n",
    "gamma_global = np.zeros_like(client.gamma)"
   ]
  },
  {
   "cell_type": "code",
   "execution_count": 82,
   "id": "4f434e86-f478-4805-86f0-3ad6a2d23380",
   "metadata": {},
   "outputs": [],
   "source": [
    "EPS = 1e-4\n",
    "N_ITER_GLOBAL = 15000"
   ]
  },
  {
   "cell_type": "code",
   "execution_count": 83,
   "id": "3f97dc53-4930-4fd2-bcd7-26830561403c",
   "metadata": {},
   "outputs": [
    {
     "name": "stdout",
     "output_type": "stream",
     "text": [
      "Iter 0: 0.25542135953236633; 3.8735054734475223\n",
      "Iter 1500: 0.0026457227042128604; 0.0026456947228891085\n",
      "Iter 3000: 0.002645714256023638; 0.0026454920091524043\n",
      "Iter 4500: 0.0026454441461384423; 0.0026427974488537303\n",
      "Iter 6000: 0.0026455694103996886; 0.0026447487178944333\n",
      "Iter 7500: 0.0026456031993159837; 0.002645064008553704\n",
      "Iter 9000: 0.002645603198707494; 0.0026451541054186875\n",
      "Iter 10500: 0.0026456088305922185; 0.002645064008553704\n",
      "Iter 12000: 0.0026456116465615586; 0.002645244199214977\n",
      "Iter 13500: 0.0026456172785122296; 0.002645244199214977\n"
     ]
    },
    {
     "data": {
      "text/plain": [
       "[<matplotlib.lines.Line2D at 0x158ae5840>]"
      ]
     },
     "execution_count": 83,
     "metadata": {},
     "output_type": "execute_result"
    },
    {
     "data": {
      "image/png": "[encoded data removed]",
      "text/plain": [
       "<Figure size 640x480 with 1 Axes>"
      ]
     },
     "metadata": {},
     "output_type": "display_data"
    }
   ],
   "source": [
    "def has_converged(params, params_other):\n",
    "    return np.linalg.norm(params_other - params) <= EPS \n",
    "\n",
    "\n",
    "def cosine_annealing_lr(epoch, max_epochs, initial_lr=0.1, min_lr=0.001):\n",
    "    \"\"\"\n",
    "    Cosine annealing learning rate scheduler.\n",
    "    \"\"\"\n",
    "    cos_inner = np.pi * epoch / max_epochs\n",
    "    lr = min_lr + 0.5 * (initial_lr - min_lr) * (1 + np.cos(cos_inner))\n",
    "    return lr\n",
    "\n",
    "\n",
    "losses = []\n",
    "\n",
    "for i in range(N_ITER_GLOBAL):\n",
    "\n",
    "    delta_beta, delta_gamma, last_local_losses = [], [], []\n",
    "    \n",
    "    for c, client in enumerate(participants):\n",
    "\n",
    "        # Previous delta estimate \n",
    "        delta_beta_prev = client.beta + (client.u_beta / rho)\n",
    "        delta_gamma_prev = client.gamma + (client.u_gamma / rho)\n",
    "\n",
    "        # Update model params \n",
    "        client.fit_model_fedadmm(beta_global, gamma_global)\n",
    "\n",
    "        # Update duals \n",
    "        client.update_duals(beta_global, gamma_global)\n",
    "\n",
    "        # Next delta estimate \n",
    "        delta_beta_next = client.beta + (client.u_beta / rho)\n",
    "        delta_gamma_next = client.gamma + (client.u_gamma / rho)\n",
    "\n",
    "        delta_beta.append(delta_beta_next - delta_beta_prev)\n",
    "        delta_gamma.append(delta_gamma_next - delta_gamma_prev)\n",
    "\n",
    "        # Trace training loss \n",
    "        last_local_losses.append(client.loss)\n",
    "\n",
    "    losses.append(np.mean(last_local_losses))\n",
    "\n",
    "    # Update previous parameter estimate \n",
    "    beta_global_prev = beta_global.copy()\n",
    "    gamma_global_prev = gamma_global.copy()\n",
    "\n",
    "    # Global update\n",
    "    lrate = 0.5 #cosine_annealing_lr(i, N_ITER_GLOBAL)    \n",
    "    beta_global += lrate * np.mean(delta_beta, axis=0)\n",
    "    gamma_global += lrate * np.mean(delta_gamma, axis=0)\n",
    "    \n",
    "    if has_converged(beta_global, beta_global_prev) and has_converged(gamma_global, gamma_global_prev):\n",
    "        print(f\"Converged after {i} iterations\")\n",
    "        break \n",
    "\n",
    "    if i % (N_ITER_GLOBAL / 10) == 0:\n",
    "        change_beta = np.linalg.norm(beta_global - beta_global_prev) \n",
    "        change_gamma = np.linalg.norm(gamma_global - gamma_global_prev)\n",
    "        print(f\"Iter {i}: {change_beta}; {change_gamma}\")\n",
    "\n",
    "\n",
    "plt.figure()\n",
    "plt.plot(losses)\n",
    "# PROBLEM: The difference between consecutive parameter estimates seem to be converging. \n",
    "# This could mean that consecutive estimates alternative between similar solutions. "
   ]
  },
  {
   "cell_type": "code",
   "execution_count": 61,
   "id": "cd451371-c1b0-4c6b-bfb7-cefba027e810",
   "metadata": {},
   "outputs": [],
   "source": [
    "# Save loss data to disk \n",
    "np.save(\"../data/losses/rossi_admm.npy\", losses)"
   ]
  },
  {
   "cell_type": "markdown",
   "id": "99b53061-bd91-4027-8dd2-09bf4ec68772",
   "metadata": {},
   "source": [
    "# Fit reference model "
   ]
  },
  {
   "cell_type": "code",
   "execution_count": 15,
   "id": "bcbf51c9-4145-44dc-a540-5d009f1a0e13",
   "metadata": {},
   "outputs": [
    {
     "name": "stdout",
     "output_type": "stream",
     "text": [
      "Converged after 4426 iterations\n"
     ]
    },
    {
     "data": {
      "text/plain": [
       "[<matplotlib.lines.Line2D at 0x14af76140>]"
      ]
     },
     "execution_count": 15,
     "metadata": {},
     "output_type": "execute_result"
    },
    {
     "data": {
      "image/png": "[encoded data removed]",
      "text/plain": [
       "<Figure size 640x480 with 1 Axes>"
      ]
     },
     "metadata": {},
     "output_type": "display_data"
    }
   ],
   "source": [
    "from utils.model import Model\n",
    "\n",
    "ref_model = Model(epochs=N_ITER_GLOBAL, knots=knots, learning_rate=0.01, l2_lambda=1, rho=rho)\n",
    "ref_model.set_params({\"beta\": beta, \"gamma\": gamma}) \n",
    "ref_model.fit(X, y, tol=EPS)\n",
    "\n",
    "plt.figure()\n",
    "plt.plot(ref_model.losses)"
   ]
  },
  {
   "cell_type": "code",
   "execution_count": 16,
   "id": "ed31913d-51be-429c-bebd-bd5849010048",
   "metadata": {},
   "outputs": [
    {
     "data": {
      "text/plain": [
       "array([[-0.17536245, -0.30535272,  0.09445201, -0.07586177, -0.12871987,\n",
       "        -0.03621313,  0.24828063]], dtype=float32)"
      ]
     },
     "execution_count": 16,
     "metadata": {},
     "output_type": "execute_result"
    }
   ],
   "source": [
    "ref_model.beta"
   ]
  },
  {
   "cell_type": "code",
   "execution_count": 84,
   "id": "28603146-1ce9-465c-9bd7-4f0130668b60",
   "metadata": {},
   "outputs": [
    {
     "data": {
      "text/plain": [
       "array([[-0.1753625 , -0.31563169,  0.09304662, -0.0786709 , -0.1317191 ,\n",
       "        -0.03726067,  0.24566056]])"
      ]
     },
     "execution_count": 84,
     "metadata": {},
     "output_type": "execute_result"
    }
   ],
   "source": [
    "np.save(\"../data/params/rossi_admm_beta_global.npy\", beta_global)\n",
    "beta_global"
   ]
  },
  {
   "cell_type": "code",
   "execution_count": 18,
   "id": "aa08aa44-7515-4d10-a43a-bcb8b85f2218",
   "metadata": {},
   "outputs": [
    {
     "data": {
      "text/plain": [
       "0.42938035542176545"
      ]
     },
     "execution_count": 18,
     "metadata": {},
     "output_type": "execute_result"
    }
   ],
   "source": [
    "np.linalg.norm(ref_model.beta - beta_global)"
   ]
  },
  {
   "cell_type": "code",
   "execution_count": 19,
   "id": "240b339e-c76d-4b9e-a75e-078277480ab3",
   "metadata": {},
   "outputs": [
    {
     "data": {
      "text/plain": [
       "array([[-6.2007933, -4.9384947, -3.8407304, -2.0178106, -1.6342392,\n",
       "        -1.3359975, -1.1990117]], dtype=float32)"
      ]
     },
     "execution_count": 19,
     "metadata": {},
     "output_type": "execute_result"
    }
   ],
   "source": [
    "ref_model.gamma"
   ]
  },
  {
   "cell_type": "code",
   "execution_count": 85,
   "id": "2410466b-992a-420a-9cb3-7fd2b03f9431",
   "metadata": {},
   "outputs": [
    {
     "data": {
      "text/plain": [
       "array([[-4.21137047, -3.7048173 , -3.62750816, -2.01786518, -1.68083441,\n",
       "        -1.39058375, -1.25523043]])"
      ]
     },
     "execution_count": 85,
     "metadata": {},
     "output_type": "execute_result"
    }
   ],
   "source": [
    "np.save(\"../data/params/rossi_admm_gamma_global.npy\", gamma_global)\n",
    "gamma_global"
   ]
  },
  {
   "cell_type": "code",
   "execution_count": 21,
   "id": "b8ac5eb2-8624-4522-8206-cfbbbdf981bb",
   "metadata": {},
   "outputs": [
    {
     "data": {
      "text/plain": [
       "9.08414698765255"
      ]
     },
     "execution_count": 21,
     "metadata": {},
     "output_type": "execute_result"
    }
   ],
   "source": [
    "np.linalg.norm(ref_model.gamma - gamma_global)"
   ]
  },
  {
   "cell_type": "code",
   "execution_count": null,
   "id": "a3ea47cd-f848-4756-a340-8d6e7f9f8e27",
   "metadata": {},
   "outputs": [],
   "source": []
  }
 ],
 "metadata": {
  "kernelspec": {
   "display_name": "Python 3 (ipykernel)",
   "language": "python",
   "name": "python3"
  },
  "language_info": {
   "codemirror_mode": {
    "name": "ipython",
    "version": 3
   },
   "file_extension": ".py",
   "mimetype": "text/x-python",
   "name": "python",
   "nbconvert_exporter": "python",
   "pygments_lexer": "ipython3",
   "version": "3.10.15"
  }
 },
 "nbformat": 4,
 "nbformat_minor": 5
}
